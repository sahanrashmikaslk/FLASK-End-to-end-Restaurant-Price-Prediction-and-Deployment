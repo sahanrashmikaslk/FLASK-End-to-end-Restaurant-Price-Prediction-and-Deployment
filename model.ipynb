{
  "cells": [
    {
      "cell_type": "markdown",
      "metadata": {
        "colab_type": "text",
        "id": "m1Hfe7Ko5xDi"
      },
      "source": [
        "# **End-To-End Deployment of Restaurant Ratings**"
      ]
    },
    {
      "cell_type": "markdown",
      "metadata": {
        "colab_type": "text",
        "id": "Rwn0NW5DaETj"
      },
      "source": [
        "# **ABSTRACT**\n",
        "\n",
        "Zomato is one of the best online food delivery apps which gives the users the ratings and the reviews on restaurants all over india.These ratings and the Reviews are considered as one of the most important deciding factors which determine how good a restaurant is. \n",
        "\n",
        "We will therefore use the real time Data set with variuos features a user would look into regarding a restaurant. We will be considering Banglore City in this analysis.\n",
        "\n",
        "Content\n",
        "The basic idea of analyzing the Zomato dataset is to get a fair idea about the factors affecting the establishment\n",
        "of different types of restaurant at different places in Bengaluru, aggregate rating of each restaurant, Bengaluru\n",
        "being one such city has more than 12,000 restaurants with restaurants serving dishes from all over the world.\n",
        "\n",
        "With each day new restaurants opening the industry has’nt been saturated yet and the demand is increasing\n",
        "day by day. Inspite of increasing demand it however has become difficult for new restaurants to compete with\n",
        "established restaurants. Most of them serving the same food. Bengaluru being an IT capital of India. Most of the people here are dependent mainly on the restaurant food as they don’t have time to cook for themselves.\n",
        "\n",
        "With such an overwhelming demand of restaurants it has therefore become important to study the demography\n",
        "of a location. What kind of a food is more popular in a locality. Do the entire locality loves vegetarian food.\n",
        "If yes then is that locality populated by a particular sect of people for eg. Jain, Marwaris, Gujaratis who are\n",
        "mostly vegetarian. These kind of analysis can be done using the data, by studying the factors such as\n",
        "\n",
        "    • Location of the restaurant\n",
        "    • Approx Price of food\n",
        "    • Theme based restaurant or not\n",
        "    • Which locality of that city serves that cuisines with maximum number of restaurants\n",
        "    • The needs of people who are striving to get the best cuisine of the neighborhood\n",
        "    • Is a particular neighborhood famous for its own kind of food.\n",
        "\n",
        "“Just so that you have a good meal the next time you step out”\n",
        "\n",
        "The data is accurate to that available on the zomato website until 15 March 2019.\n",
        "The data was scraped from Zomato in two phase. After going through the structure of the website I found that for each neighborhood there are 6-7 category of restaurants viz. Buffet, Cafes, Delivery, Desserts, Dine-out, Drinks & nightlife, Pubs and bars.\n",
        "\n",
        "Phase I,\n",
        "\n",
        "In Phase I of extraction only the URL, name and address of the restaurant were extracted which were visible on the front page. The URl's for each of the restaurants on the zomato were recorded in the csv file so that later the data can be extracted individually for each restaurant. This made the extraction process easier and reduced the extra load on my machine. The data for each neighborhood and each category can be found here\n",
        "\n",
        "Phase II,\n",
        "\n",
        "In Phase II the recorded data for each restaurant and each category was read and data for each restaurant was scraped individually. 15 variables were scraped in this phase. For each of the neighborhood and for each category their onlineorder, booktable, rate, votes, phone, location, resttype, dishliked, cuisines, approxcost(for two people), reviewslist, menu_item was extracted. See section 5 for more details about the variables.\n",
        "\n",
        "Acknowledgements\n",
        "The data scraped was entirely for educational purposes only. Note that I don’t claim any copyright for the data. All copyrights for the data is owned by Zomato Media Pvt. Ltd..\n",
        "\n",
        "            Source: Kaggle"
      ]
    },
    {
      "cell_type": "markdown",
      "metadata": {
        "colab_type": "text",
        "id": "Jb6kZcM3aU9g"
      },
      "source": [
        "**Main Objective:**\n",
        "\n",
        "The main agenda of this project is:\n",
        "\n",
        ">> Perform extensive **Exploratory Data Analysis(EDA)** on the Zomato Dataset.\n",
        "\n",
        ">>Build an appropriate **Machine Learning Model** that will help various Zomato Restaurants to predict their respective Ratings based on certain features\n",
        "\n",
        ">>**DEPLOY** the Machine learning model via **Flask** that can be used to make live predictions of restaurants ratings\n",
        "\n",
        "A step by step guide is attached to this documnet as well as a video explanation of each concpet."
      ]
    },
    {
      "cell_type": "code",
      "execution_count": 11,
      "metadata": {
        "colab": {},
        "colab_type": "code",
        "id": "MJWIK6_YnS59"
      },
      "outputs": [],
      "source": [
        "\n",
        "#IMPORT THE NECESSARY LIBRARIES\n",
        "\n",
        "import pandas as pd\n",
        "import numpy as np\n",
        "import matplotlib.pyplot as plt\n",
        "import plotly.graph_objs as go\n",
        "import plotly.offline as py\n",
        "import seaborn as sns\n",
        "\n",
        "import matplotlib.ticker as mtick\n",
        "plt.style.use('fivethirtyeight')\n",
        "from sklearn.linear_model import LogisticRegression\n",
        "from sklearn.linear_model import LinearRegression\n",
        "from sklearn.ensemble import  ExtraTreesRegressor\n",
        "from sklearn.model_selection import train_test_split\n",
        "\n",
        "import warnings\n",
        "warnings.filterwarnings('ignore')\n",
        "%matplotlib inline"
      ]
    },
    {
      "cell_type": "markdown",
      "metadata": {
        "colab_type": "text",
        "id": "FX9eqg0TFkQG"
      },
      "source": [
        "**MOUNT DRIVE**"
      ]
    },
    {
      "cell_type": "code",
      "execution_count": 12,
      "metadata": {
        "colab": {
          "base_uri": "https://localhost:8080/",
          "height": 122
        },
        "colab_type": "code",
        "id": "MzYuvMndnaSz",
        "outputId": "f2f3eb6f-d20a-45bb-e647-82a94dfcc3e3"
      },
      "outputs": [],
      "source": [
        "\n",
        "# from google.colab import drive\n",
        "# drive.mount('/content/drive')"
      ]
    },
    {
      "cell_type": "code",
      "execution_count": 13,
      "metadata": {
        "colab": {},
        "colab_type": "code",
        "id": "8YhladiJjh3Z"
      },
      "outputs": [],
      "source": [
        "#!ls /content/"
      ]
    },
    {
      "cell_type": "markdown",
      "metadata": {
        "colab_type": "text",
        "id": "JRxEmhgdFv_P"
      },
      "source": [
        "**LOAD DATASET**"
      ]
    },
    {
      "cell_type": "code",
      "execution_count": 14,
      "metadata": {
        "colab": {},
        "colab_type": "code",
        "id": "IGKUYQKdtZWX"
      },
      "outputs": [],
      "source": [
        "\n",
        "data = pd.read_csv('Zomato_df.csv')"
      ]
    },
    {
      "cell_type": "code",
      "execution_count": 15,
      "metadata": {
        "colab": {
          "base_uri": "https://localhost:8080/",
          "height": 564
        },
        "colab_type": "code",
        "id": "saGxPAi-08OD",
        "outputId": "f95310a9-b55b-4970-f4fb-8e895a036c5d"
      },
      "outputs": [
        {
          "data": {
            "text/html": [
              "<div>\n",
              "<style scoped>\n",
              "    .dataframe tbody tr th:only-of-type {\n",
              "        vertical-align: middle;\n",
              "    }\n",
              "\n",
              "    .dataframe tbody tr th {\n",
              "        vertical-align: top;\n",
              "    }\n",
              "\n",
              "    .dataframe thead th {\n",
              "        text-align: right;\n",
              "    }\n",
              "</style>\n",
              "<table border=\"1\" class=\"dataframe\">\n",
              "  <thead>\n",
              "    <tr style=\"text-align: right;\">\n",
              "      <th></th>\n",
              "      <th>Unnamed: 0</th>\n",
              "      <th>online_order</th>\n",
              "      <th>book_table</th>\n",
              "      <th>rate</th>\n",
              "      <th>votes</th>\n",
              "      <th>location</th>\n",
              "      <th>rest_type</th>\n",
              "      <th>cuisines</th>\n",
              "      <th>cost</th>\n",
              "      <th>menu_item</th>\n",
              "    </tr>\n",
              "  </thead>\n",
              "  <tbody>\n",
              "    <tr>\n",
              "      <th>0</th>\n",
              "      <td>0</td>\n",
              "      <td>1</td>\n",
              "      <td>1</td>\n",
              "      <td>4.1</td>\n",
              "      <td>775</td>\n",
              "      <td>1</td>\n",
              "      <td>20</td>\n",
              "      <td>1386</td>\n",
              "      <td>800.0</td>\n",
              "      <td>5047</td>\n",
              "    </tr>\n",
              "    <tr>\n",
              "      <th>1</th>\n",
              "      <td>1</td>\n",
              "      <td>1</td>\n",
              "      <td>0</td>\n",
              "      <td>4.1</td>\n",
              "      <td>787</td>\n",
              "      <td>1</td>\n",
              "      <td>20</td>\n",
              "      <td>594</td>\n",
              "      <td>800.0</td>\n",
              "      <td>5047</td>\n",
              "    </tr>\n",
              "    <tr>\n",
              "      <th>2</th>\n",
              "      <td>2</td>\n",
              "      <td>1</td>\n",
              "      <td>0</td>\n",
              "      <td>3.8</td>\n",
              "      <td>918</td>\n",
              "      <td>1</td>\n",
              "      <td>16</td>\n",
              "      <td>484</td>\n",
              "      <td>800.0</td>\n",
              "      <td>5047</td>\n",
              "    </tr>\n",
              "    <tr>\n",
              "      <th>3</th>\n",
              "      <td>3</td>\n",
              "      <td>0</td>\n",
              "      <td>0</td>\n",
              "      <td>3.7</td>\n",
              "      <td>88</td>\n",
              "      <td>1</td>\n",
              "      <td>62</td>\n",
              "      <td>1587</td>\n",
              "      <td>300.0</td>\n",
              "      <td>5047</td>\n",
              "    </tr>\n",
              "    <tr>\n",
              "      <th>4</th>\n",
              "      <td>4</td>\n",
              "      <td>0</td>\n",
              "      <td>0</td>\n",
              "      <td>3.8</td>\n",
              "      <td>166</td>\n",
              "      <td>4</td>\n",
              "      <td>20</td>\n",
              "      <td>1406</td>\n",
              "      <td>600.0</td>\n",
              "      <td>5047</td>\n",
              "    </tr>\n",
              "  </tbody>\n",
              "</table>\n",
              "</div>"
            ],
            "text/plain": [
              "   Unnamed: 0  online_order  book_table  rate  votes  location  rest_type  \\\n",
              "0           0             1           1   4.1    775         1         20   \n",
              "1           1             1           0   4.1    787         1         20   \n",
              "2           2             1           0   3.8    918         1         16   \n",
              "3           3             0           0   3.7     88         1         62   \n",
              "4           4             0           0   3.8    166         4         20   \n",
              "\n",
              "   cuisines   cost  menu_item  \n",
              "0      1386  800.0       5047  \n",
              "1       594  800.0       5047  \n",
              "2       484  800.0       5047  \n",
              "3      1587  300.0       5047  \n",
              "4      1406  600.0       5047  "
            ]
          },
          "execution_count": 15,
          "metadata": {},
          "output_type": "execute_result"
        }
      ],
      "source": [
        "data.head()"
      ]
    },
    {
      "cell_type": "markdown",
      "metadata": {
        "colab_type": "text",
        "id": "iGIO3YtM3NLD"
      },
      "source": [
        "## Columns description\n",
        "\n",
        "1. <b>url </B> contains the url of the restaurant in the zomato website\n",
        "\n",
        "2. **address** contains the address of the restaurant in Bengaluru\n",
        "\n",
        "3. **name** contains the name of the restaurant\n",
        "\n",
        "4. **online_order** whether online ordering is available in the restaurant or not\n",
        "\n",
        "5. **book_table** table book option available or not\n",
        "\n",
        "6. **rate** contains the overall rating of the restaurant out of 5\n",
        "\n",
        "7. **votes** contains total number of rating for the restaurant as of the above mentioned date\n",
        "\n",
        "8. **phone** contains the phone number of the restaurant\n",
        "\n",
        "9. **location** contains the neighborhood in which the restaurant is located\n",
        "\n",
        "10. **rest_type** restaurant type\n",
        "\n",
        "11. **dish_liked** dishes people liked in the restaurant\n",
        "\n",
        "12. **cuisines** food styles, separated by comma\n",
        "\n",
        "13. **approx_cost**(for two people) contains the approximate cost of meal for two people\n",
        "\n",
        "14. **reviews_list** list of tuples containing reviews for the restaurant, each tuple\n",
        "\n",
        "15. **menu_item** contains list of menus available in the restaurant\n",
        "\n",
        "16. **listed_in**(type) type of meal\n",
        "\n",
        "17. **listed_in**(**city**) contains the neighborhood in which the restaurant is listed"
      ]
    },
    {
      "cell_type": "code",
      "execution_count": 16,
      "metadata": {
        "colab": {
          "base_uri": "https://localhost:8080/",
          "height": 34
        },
        "colab_type": "code",
        "id": "xzBjZU7308Cd",
        "outputId": "e74f256e-ce38-47fb-e778-629ceb98576e"
      },
      "outputs": [
        {
          "data": {
            "text/plain": [
              "(23248, 10)"
            ]
          },
          "execution_count": 16,
          "metadata": {},
          "output_type": "execute_result"
        }
      ],
      "source": [
        "data.shape"
      ]
    },
    {
      "cell_type": "code",
      "execution_count": 17,
      "metadata": {
        "colab": {
          "base_uri": "https://localhost:8080/",
          "height": 323
        },
        "colab_type": "code",
        "id": "Lm7MSMLn7O7Z",
        "outputId": "e59ac6da-81c6-43e2-9826-e31b76d0a96e"
      },
      "outputs": [
        {
          "data": {
            "text/plain": [
              "Unnamed: 0        int64\n",
              "online_order      int64\n",
              "book_table        int64\n",
              "rate            float64\n",
              "votes             int64\n",
              "location          int64\n",
              "rest_type         int64\n",
              "cuisines          int64\n",
              "cost            float64\n",
              "menu_item         int64\n",
              "dtype: object"
            ]
          },
          "execution_count": 17,
          "metadata": {},
          "output_type": "execute_result"
        }
      ],
      "source": [
        "data.dtypes #checking the data types"
      ]
    },
    {
      "cell_type": "code",
      "execution_count": 18,
      "metadata": {
        "colab": {
          "base_uri": "https://localhost:8080/",
          "height": 323
        },
        "colab_type": "code",
        "id": "b2Jc2rcR7Rcg",
        "outputId": "a59e692b-d189-4ff6-fa9b-43727dfbee49"
      },
      "outputs": [
        {
          "data": {
            "text/plain": [
              "Unnamed: 0      0\n",
              "online_order    0\n",
              "book_table      0\n",
              "rate            0\n",
              "votes           0\n",
              "location        0\n",
              "rest_type       0\n",
              "cuisines        0\n",
              "cost            0\n",
              "menu_item       0\n",
              "dtype: int64"
            ]
          },
          "execution_count": 18,
          "metadata": {},
          "output_type": "execute_result"
        }
      ],
      "source": [
        "data.isna().sum() #Checking null values"
      ]
    },
    {
      "cell_type": "code",
      "execution_count": 19,
      "metadata": {
        "colab": {},
        "colab_type": "code",
        "id": "Y8HDwHFnm8P7"
      },
      "outputs": [],
      "source": [
        "#You can use pandas profiling to get an over all overview of the dataset\n",
        "# import pandas_profiling as pf\n",
        "\n",
        "# pf.ProfileReport(df)"
      ]
    },
    {
      "cell_type": "code",
      "execution_count": 20,
      "metadata": {
        "colab": {},
        "colab_type": "code",
        "id": "ZsyWruUv8FGD"
      },
      "outputs": [
        {
          "ename": "KeyError",
          "evalue": "\"['url', 'phone'] not found in axis\"",
          "output_type": "error",
          "traceback": [
            "\u001b[1;31m---------------------------------------------------------------------------\u001b[0m",
            "\u001b[1;31mKeyError\u001b[0m                                  Traceback (most recent call last)",
            "Cell \u001b[1;32mIn[20], line 2\u001b[0m\n\u001b[0;32m      1\u001b[0m \u001b[38;5;66;03m#Deleting Unnnecessary Columns\u001b[39;00m\n\u001b[1;32m----> 2\u001b[0m df\u001b[38;5;241m=\u001b[39m\u001b[43mdata\u001b[49m\u001b[38;5;241;43m.\u001b[39;49m\u001b[43mdrop\u001b[49m\u001b[43m(\u001b[49m\u001b[43m[\u001b[49m\u001b[38;5;124;43m'\u001b[39;49m\u001b[38;5;124;43murl\u001b[39;49m\u001b[38;5;124;43m'\u001b[39;49m\u001b[43m,\u001b[49m\u001b[38;5;124;43m'\u001b[39;49m\u001b[38;5;124;43mphone\u001b[39;49m\u001b[38;5;124;43m'\u001b[39;49m\u001b[43m]\u001b[49m\u001b[43m,\u001b[49m\u001b[43maxis\u001b[49m\u001b[38;5;241;43m=\u001b[39;49m\u001b[38;5;241;43m1\u001b[39;49m\u001b[43m)\u001b[49m \u001b[38;5;66;03m#Dropping the column like \"phone\" and \"url\" and saving the new dataset as \"df\"\u001b[39;00m\n",
            "File \u001b[1;32mc:\\Users\\sahan\\AppData\\Local\\Programs\\Python\\Python312\\Lib\\site-packages\\pandas\\core\\frame.py:5344\u001b[0m, in \u001b[0;36mDataFrame.drop\u001b[1;34m(self, labels, axis, index, columns, level, inplace, errors)\u001b[0m\n\u001b[0;32m   5196\u001b[0m \u001b[38;5;28;01mdef\u001b[39;00m \u001b[38;5;21mdrop\u001b[39m(\n\u001b[0;32m   5197\u001b[0m     \u001b[38;5;28mself\u001b[39m,\n\u001b[0;32m   5198\u001b[0m     labels: IndexLabel \u001b[38;5;241m|\u001b[39m \u001b[38;5;28;01mNone\u001b[39;00m \u001b[38;5;241m=\u001b[39m \u001b[38;5;28;01mNone\u001b[39;00m,\n\u001b[1;32m   (...)\u001b[0m\n\u001b[0;32m   5205\u001b[0m     errors: IgnoreRaise \u001b[38;5;241m=\u001b[39m \u001b[38;5;124m\"\u001b[39m\u001b[38;5;124mraise\u001b[39m\u001b[38;5;124m\"\u001b[39m,\n\u001b[0;32m   5206\u001b[0m ) \u001b[38;5;241m-\u001b[39m\u001b[38;5;241m>\u001b[39m DataFrame \u001b[38;5;241m|\u001b[39m \u001b[38;5;28;01mNone\u001b[39;00m:\n\u001b[0;32m   5207\u001b[0m \u001b[38;5;250m    \u001b[39m\u001b[38;5;124;03m\"\"\"\u001b[39;00m\n\u001b[0;32m   5208\u001b[0m \u001b[38;5;124;03m    Drop specified labels from rows or columns.\u001b[39;00m\n\u001b[0;32m   5209\u001b[0m \n\u001b[1;32m   (...)\u001b[0m\n\u001b[0;32m   5342\u001b[0m \u001b[38;5;124;03m            weight  1.0     0.8\u001b[39;00m\n\u001b[0;32m   5343\u001b[0m \u001b[38;5;124;03m    \"\"\"\u001b[39;00m\n\u001b[1;32m-> 5344\u001b[0m     \u001b[38;5;28;01mreturn\u001b[39;00m \u001b[38;5;28;43msuper\u001b[39;49m\u001b[43m(\u001b[49m\u001b[43m)\u001b[49m\u001b[38;5;241;43m.\u001b[39;49m\u001b[43mdrop\u001b[49m\u001b[43m(\u001b[49m\n\u001b[0;32m   5345\u001b[0m \u001b[43m        \u001b[49m\u001b[43mlabels\u001b[49m\u001b[38;5;241;43m=\u001b[39;49m\u001b[43mlabels\u001b[49m\u001b[43m,\u001b[49m\n\u001b[0;32m   5346\u001b[0m \u001b[43m        \u001b[49m\u001b[43maxis\u001b[49m\u001b[38;5;241;43m=\u001b[39;49m\u001b[43maxis\u001b[49m\u001b[43m,\u001b[49m\n\u001b[0;32m   5347\u001b[0m \u001b[43m        \u001b[49m\u001b[43mindex\u001b[49m\u001b[38;5;241;43m=\u001b[39;49m\u001b[43mindex\u001b[49m\u001b[43m,\u001b[49m\n\u001b[0;32m   5348\u001b[0m \u001b[43m        \u001b[49m\u001b[43mcolumns\u001b[49m\u001b[38;5;241;43m=\u001b[39;49m\u001b[43mcolumns\u001b[49m\u001b[43m,\u001b[49m\n\u001b[0;32m   5349\u001b[0m \u001b[43m        \u001b[49m\u001b[43mlevel\u001b[49m\u001b[38;5;241;43m=\u001b[39;49m\u001b[43mlevel\u001b[49m\u001b[43m,\u001b[49m\n\u001b[0;32m   5350\u001b[0m \u001b[43m        \u001b[49m\u001b[43minplace\u001b[49m\u001b[38;5;241;43m=\u001b[39;49m\u001b[43minplace\u001b[49m\u001b[43m,\u001b[49m\n\u001b[0;32m   5351\u001b[0m \u001b[43m        \u001b[49m\u001b[43merrors\u001b[49m\u001b[38;5;241;43m=\u001b[39;49m\u001b[43merrors\u001b[49m\u001b[43m,\u001b[49m\n\u001b[0;32m   5352\u001b[0m \u001b[43m    \u001b[49m\u001b[43m)\u001b[49m\n",
            "File \u001b[1;32mc:\\Users\\sahan\\AppData\\Local\\Programs\\Python\\Python312\\Lib\\site-packages\\pandas\\core\\generic.py:4711\u001b[0m, in \u001b[0;36mNDFrame.drop\u001b[1;34m(self, labels, axis, index, columns, level, inplace, errors)\u001b[0m\n\u001b[0;32m   4709\u001b[0m \u001b[38;5;28;01mfor\u001b[39;00m axis, labels \u001b[38;5;129;01min\u001b[39;00m axes\u001b[38;5;241m.\u001b[39mitems():\n\u001b[0;32m   4710\u001b[0m     \u001b[38;5;28;01mif\u001b[39;00m labels \u001b[38;5;129;01mis\u001b[39;00m \u001b[38;5;129;01mnot\u001b[39;00m \u001b[38;5;28;01mNone\u001b[39;00m:\n\u001b[1;32m-> 4711\u001b[0m         obj \u001b[38;5;241m=\u001b[39m \u001b[43mobj\u001b[49m\u001b[38;5;241;43m.\u001b[39;49m\u001b[43m_drop_axis\u001b[49m\u001b[43m(\u001b[49m\u001b[43mlabels\u001b[49m\u001b[43m,\u001b[49m\u001b[43m \u001b[49m\u001b[43maxis\u001b[49m\u001b[43m,\u001b[49m\u001b[43m \u001b[49m\u001b[43mlevel\u001b[49m\u001b[38;5;241;43m=\u001b[39;49m\u001b[43mlevel\u001b[49m\u001b[43m,\u001b[49m\u001b[43m \u001b[49m\u001b[43merrors\u001b[49m\u001b[38;5;241;43m=\u001b[39;49m\u001b[43merrors\u001b[49m\u001b[43m)\u001b[49m\n\u001b[0;32m   4713\u001b[0m \u001b[38;5;28;01mif\u001b[39;00m inplace:\n\u001b[0;32m   4714\u001b[0m     \u001b[38;5;28mself\u001b[39m\u001b[38;5;241m.\u001b[39m_update_inplace(obj)\n",
            "File \u001b[1;32mc:\\Users\\sahan\\AppData\\Local\\Programs\\Python\\Python312\\Lib\\site-packages\\pandas\\core\\generic.py:4753\u001b[0m, in \u001b[0;36mNDFrame._drop_axis\u001b[1;34m(self, labels, axis, level, errors, only_slice)\u001b[0m\n\u001b[0;32m   4751\u001b[0m         new_axis \u001b[38;5;241m=\u001b[39m axis\u001b[38;5;241m.\u001b[39mdrop(labels, level\u001b[38;5;241m=\u001b[39mlevel, errors\u001b[38;5;241m=\u001b[39merrors)\n\u001b[0;32m   4752\u001b[0m     \u001b[38;5;28;01melse\u001b[39;00m:\n\u001b[1;32m-> 4753\u001b[0m         new_axis \u001b[38;5;241m=\u001b[39m \u001b[43maxis\u001b[49m\u001b[38;5;241;43m.\u001b[39;49m\u001b[43mdrop\u001b[49m\u001b[43m(\u001b[49m\u001b[43mlabels\u001b[49m\u001b[43m,\u001b[49m\u001b[43m \u001b[49m\u001b[43merrors\u001b[49m\u001b[38;5;241;43m=\u001b[39;49m\u001b[43merrors\u001b[49m\u001b[43m)\u001b[49m\n\u001b[0;32m   4754\u001b[0m     indexer \u001b[38;5;241m=\u001b[39m axis\u001b[38;5;241m.\u001b[39mget_indexer(new_axis)\n\u001b[0;32m   4756\u001b[0m \u001b[38;5;66;03m# Case for non-unique axis\u001b[39;00m\n\u001b[0;32m   4757\u001b[0m \u001b[38;5;28;01melse\u001b[39;00m:\n",
            "File \u001b[1;32mc:\\Users\\sahan\\AppData\\Local\\Programs\\Python\\Python312\\Lib\\site-packages\\pandas\\core\\indexes\\base.py:7000\u001b[0m, in \u001b[0;36mIndex.drop\u001b[1;34m(self, labels, errors)\u001b[0m\n\u001b[0;32m   6998\u001b[0m \u001b[38;5;28;01mif\u001b[39;00m mask\u001b[38;5;241m.\u001b[39many():\n\u001b[0;32m   6999\u001b[0m     \u001b[38;5;28;01mif\u001b[39;00m errors \u001b[38;5;241m!=\u001b[39m \u001b[38;5;124m\"\u001b[39m\u001b[38;5;124mignore\u001b[39m\u001b[38;5;124m\"\u001b[39m:\n\u001b[1;32m-> 7000\u001b[0m         \u001b[38;5;28;01mraise\u001b[39;00m \u001b[38;5;167;01mKeyError\u001b[39;00m(\u001b[38;5;124mf\u001b[39m\u001b[38;5;124m\"\u001b[39m\u001b[38;5;132;01m{\u001b[39;00mlabels[mask]\u001b[38;5;241m.\u001b[39mtolist()\u001b[38;5;132;01m}\u001b[39;00m\u001b[38;5;124m not found in axis\u001b[39m\u001b[38;5;124m\"\u001b[39m)\n\u001b[0;32m   7001\u001b[0m     indexer \u001b[38;5;241m=\u001b[39m indexer[\u001b[38;5;241m~\u001b[39mmask]\n\u001b[0;32m   7002\u001b[0m \u001b[38;5;28;01mreturn\u001b[39;00m \u001b[38;5;28mself\u001b[39m\u001b[38;5;241m.\u001b[39mdelete(indexer)\n",
            "\u001b[1;31mKeyError\u001b[0m: \"['url', 'phone'] not found in axis\""
          ]
        }
      ],
      "source": [
        "#Deleting Unnnecessary Columns\n",
        "df=data.drop(['url','phone'],axis=1) #Dropping the column like \"phone\" and \"url\" and saving the new dataset as \"df\""
      ]
    },
    {
      "cell_type": "markdown",
      "metadata": {
        "colab_type": "text",
        "id": "91UsP-tQGOE-"
      },
      "source": [
        "**Checking for duplicate values**"
      ]
    },
    {
      "cell_type": "code",
      "execution_count": null,
      "metadata": {
        "colab": {
          "base_uri": "https://localhost:8080/",
          "height": 34
        },
        "colab_type": "code",
        "id": "z4AeFCkr8MDS",
        "outputId": "bb0c90c5-bc98-4301-87c5-2713d90d0034"
      },
      "outputs": [
        {
          "data": {
            "text/plain": [
              "43"
            ]
          },
          "execution_count": 13,
          "metadata": {
            "tags": []
          },
          "output_type": "execute_result"
        }
      ],
      "source": [
        "df.duplicated().sum() "
      ]
    },
    {
      "cell_type": "code",
      "execution_count": null,
      "metadata": {
        "colab": {},
        "colab_type": "code",
        "id": "ElXzhXcL8MAF"
      },
      "outputs": [],
      "source": [
        "df.drop_duplicates(inplace=True)"
      ]
    },
    {
      "cell_type": "code",
      "execution_count": null,
      "metadata": {
        "colab": {
          "base_uri": "https://localhost:8080/",
          "height": 34
        },
        "colab_type": "code",
        "id": "JIa8-EYo8LhN",
        "outputId": "3f8be547-531c-4417-ee04-8f0bfaaa2b7a"
      },
      "outputs": [
        {
          "data": {
            "text/plain": [
              "0"
            ]
          },
          "execution_count": 15,
          "metadata": {
            "tags": []
          },
          "output_type": "execute_result"
        }
      ],
      "source": [
        "df.duplicated().sum()"
      ]
    },
    {
      "cell_type": "markdown",
      "metadata": {
        "colab_type": "text",
        "id": "koofDKxVGXEk"
      },
      "source": [
        "**Drop null values**"
      ]
    },
    {
      "cell_type": "code",
      "execution_count": null,
      "metadata": {
        "colab": {
          "base_uri": "https://localhost:8080/",
          "height": 289
        },
        "colab_type": "code",
        "id": "jLfCpb9Q7UEm",
        "outputId": "61684b1c-bfd9-4b93-eab7-9731220398b2"
      },
      "outputs": [
        {
          "data": {
            "text/plain": [
              "address                        0\n",
              "name                           0\n",
              "online_order                   0\n",
              "book_table                     0\n",
              "rate                           0\n",
              "votes                          0\n",
              "location                       0\n",
              "rest_type                      0\n",
              "dish_liked                     0\n",
              "cuisines                       0\n",
              "approx_cost(for two people)    0\n",
              "reviews_list                   0\n",
              "menu_item                      0\n",
              "listed_in(type)                0\n",
              "listed_in(city)                0\n",
              "dtype: int64"
            ]
          },
          "execution_count": 16,
          "metadata": {
            "tags": []
          },
          "output_type": "execute_result"
        }
      ],
      "source": [
        "#Remove the NaN values from the dataset\n",
        "df.dropna(how='any',inplace=True)\n",
        "df.isnull().sum()"
      ]
    },
    {
      "cell_type": "markdown",
      "metadata": {
        "colab_type": "text",
        "id": "QBXoRubQGjHu"
      },
      "source": [
        "**Renaming columes appropriately**"
      ]
    },
    {
      "cell_type": "code",
      "execution_count": null,
      "metadata": {
        "colab": {
          "base_uri": "https://localhost:8080/",
          "height": 102
        },
        "colab_type": "code",
        "id": "y2k3t1cI7gvz",
        "outputId": "b2858209-ffae-47de-efb0-a360b496464f"
      },
      "outputs": [
        {
          "data": {
            "text/plain": [
              "Index(['address', 'name', 'online_order', 'book_table', 'rate', 'votes',\n",
              "       'location', 'rest_type', 'dish_liked', 'cuisines',\n",
              "       'approx_cost(for two people)', 'reviews_list', 'menu_item',\n",
              "       'listed_in(type)', 'listed_in(city)'],\n",
              "      dtype='object')"
            ]
          },
          "execution_count": 17,
          "metadata": {
            "tags": []
          },
          "output_type": "execute_result"
        }
      ],
      "source": [
        "df.columns"
      ]
    },
    {
      "cell_type": "code",
      "execution_count": null,
      "metadata": {
        "colab": {
          "base_uri": "https://localhost:8080/",
          "height": 85
        },
        "colab_type": "code",
        "id": "m7Vcucfr9yqP",
        "outputId": "150363fc-b3ca-492d-be7d-a3cfaf2534d2"
      },
      "outputs": [
        {
          "data": {
            "text/plain": [
              "Index(['address', 'name', 'online_order', 'book_table', 'rate', 'votes',\n",
              "       'location', 'rest_type', 'dish_liked', 'cuisines', 'cost',\n",
              "       'reviews_list', 'menu_item', 'type', 'city'],\n",
              "      dtype='object')"
            ]
          },
          "execution_count": 18,
          "metadata": {
            "tags": []
          },
          "output_type": "execute_result"
        }
      ],
      "source": [
        "df = df.rename(columns={'approx_cost(for two people)':'cost','listed_in(type)':'type',\n",
        "                                  'listed_in(city)':'city'})\n",
        "df.columns"
      ]
    },
    {
      "cell_type": "code",
      "execution_count": null,
      "metadata": {
        "colab": {
          "base_uri": "https://localhost:8080/",
          "height": 547
        },
        "colab_type": "code",
        "id": "Eq1fmTjQ90Yq",
        "outputId": "8540f3b5-7b11-48a0-b76c-6af2b2bd7414"
      },
      "outputs": [
        {
          "data": {
            "text/html": [
              "<div>\n",
              "<style scoped>\n",
              "    .dataframe tbody tr th:only-of-type {\n",
              "        vertical-align: middle;\n",
              "    }\n",
              "\n",
              "    .dataframe tbody tr th {\n",
              "        vertical-align: top;\n",
              "    }\n",
              "\n",
              "    .dataframe thead th {\n",
              "        text-align: right;\n",
              "    }\n",
              "</style>\n",
              "<table border=\"1\" class=\"dataframe\">\n",
              "  <thead>\n",
              "    <tr style=\"text-align: right;\">\n",
              "      <th></th>\n",
              "      <th>address</th>\n",
              "      <th>name</th>\n",
              "      <th>online_order</th>\n",
              "      <th>book_table</th>\n",
              "      <th>rate</th>\n",
              "      <th>votes</th>\n",
              "      <th>location</th>\n",
              "      <th>rest_type</th>\n",
              "      <th>dish_liked</th>\n",
              "      <th>cuisines</th>\n",
              "      <th>cost</th>\n",
              "      <th>reviews_list</th>\n",
              "      <th>menu_item</th>\n",
              "      <th>type</th>\n",
              "      <th>city</th>\n",
              "    </tr>\n",
              "  </thead>\n",
              "  <tbody>\n",
              "    <tr>\n",
              "      <th>0</th>\n",
              "      <td>942, 21st Main Road, 2nd Stage, Banashankari, ...</td>\n",
              "      <td>Jalsa</td>\n",
              "      <td>Yes</td>\n",
              "      <td>Yes</td>\n",
              "      <td>4.1/5</td>\n",
              "      <td>775</td>\n",
              "      <td>Banashankari</td>\n",
              "      <td>Casual Dining</td>\n",
              "      <td>Pasta, Lunch Buffet, Masala Papad, Paneer Laja...</td>\n",
              "      <td>North Indian, Mughlai, Chinese</td>\n",
              "      <td>800</td>\n",
              "      <td>[('Rated 4.0', 'RATED\\n  A beautiful place to ...</td>\n",
              "      <td>[]</td>\n",
              "      <td>Buffet</td>\n",
              "      <td>Banashankari</td>\n",
              "    </tr>\n",
              "    <tr>\n",
              "      <th>1</th>\n",
              "      <td>2nd Floor, 80 Feet Road, Near Big Bazaar, 6th ...</td>\n",
              "      <td>Spice Elephant</td>\n",
              "      <td>Yes</td>\n",
              "      <td>No</td>\n",
              "      <td>4.1/5</td>\n",
              "      <td>787</td>\n",
              "      <td>Banashankari</td>\n",
              "      <td>Casual Dining</td>\n",
              "      <td>Momos, Lunch Buffet, Chocolate Nirvana, Thai G...</td>\n",
              "      <td>Chinese, North Indian, Thai</td>\n",
              "      <td>800</td>\n",
              "      <td>[('Rated 4.0', 'RATED\\n  Had been here for din...</td>\n",
              "      <td>[]</td>\n",
              "      <td>Buffet</td>\n",
              "      <td>Banashankari</td>\n",
              "    </tr>\n",
              "    <tr>\n",
              "      <th>2</th>\n",
              "      <td>1112, Next to KIMS Medical College, 17th Cross...</td>\n",
              "      <td>San Churro Cafe</td>\n",
              "      <td>Yes</td>\n",
              "      <td>No</td>\n",
              "      <td>3.8/5</td>\n",
              "      <td>918</td>\n",
              "      <td>Banashankari</td>\n",
              "      <td>Cafe, Casual Dining</td>\n",
              "      <td>Churros, Cannelloni, Minestrone Soup, Hot Choc...</td>\n",
              "      <td>Cafe, Mexican, Italian</td>\n",
              "      <td>800</td>\n",
              "      <td>[('Rated 3.0', \"RATED\\n  Ambience is not that ...</td>\n",
              "      <td>[]</td>\n",
              "      <td>Buffet</td>\n",
              "      <td>Banashankari</td>\n",
              "    </tr>\n",
              "    <tr>\n",
              "      <th>3</th>\n",
              "      <td>1st Floor, Annakuteera, 3rd Stage, Banashankar...</td>\n",
              "      <td>Addhuri Udupi Bhojana</td>\n",
              "      <td>No</td>\n",
              "      <td>No</td>\n",
              "      <td>3.7/5</td>\n",
              "      <td>88</td>\n",
              "      <td>Banashankari</td>\n",
              "      <td>Quick Bites</td>\n",
              "      <td>Masala Dosa</td>\n",
              "      <td>South Indian, North Indian</td>\n",
              "      <td>300</td>\n",
              "      <td>[('Rated 4.0', \"RATED\\n  Great food and proper...</td>\n",
              "      <td>[]</td>\n",
              "      <td>Buffet</td>\n",
              "      <td>Banashankari</td>\n",
              "    </tr>\n",
              "    <tr>\n",
              "      <th>4</th>\n",
              "      <td>10, 3rd Floor, Lakshmi Associates, Gandhi Baza...</td>\n",
              "      <td>Grand Village</td>\n",
              "      <td>No</td>\n",
              "      <td>No</td>\n",
              "      <td>3.8/5</td>\n",
              "      <td>166</td>\n",
              "      <td>Basavanagudi</td>\n",
              "      <td>Casual Dining</td>\n",
              "      <td>Panipuri, Gol Gappe</td>\n",
              "      <td>North Indian, Rajasthani</td>\n",
              "      <td>600</td>\n",
              "      <td>[('Rated 4.0', 'RATED\\n  Very good restaurant ...</td>\n",
              "      <td>[]</td>\n",
              "      <td>Buffet</td>\n",
              "      <td>Banashankari</td>\n",
              "    </tr>\n",
              "  </tbody>\n",
              "</table>\n",
              "</div>"
            ],
            "text/plain": [
              "                                             address  ...          city\n",
              "0  942, 21st Main Road, 2nd Stage, Banashankari, ...  ...  Banashankari\n",
              "1  2nd Floor, 80 Feet Road, Near Big Bazaar, 6th ...  ...  Banashankari\n",
              "2  1112, Next to KIMS Medical College, 17th Cross...  ...  Banashankari\n",
              "3  1st Floor, Annakuteera, 3rd Stage, Banashankar...  ...  Banashankari\n",
              "4  10, 3rd Floor, Lakshmi Associates, Gandhi Baza...  ...  Banashankari\n",
              "\n",
              "[5 rows x 15 columns]"
            ]
          },
          "execution_count": 19,
          "metadata": {
            "tags": []
          },
          "output_type": "execute_result"
        }
      ],
      "source": [
        "df.head()"
      ]
    },
    {
      "cell_type": "markdown",
      "metadata": {
        "colab_type": "text",
        "id": "eMLZMTujGu-Y"
      },
      "source": [
        "**Cleaning the dataset**"
      ]
    },
    {
      "cell_type": "code",
      "execution_count": null,
      "metadata": {
        "colab": {
          "base_uri": "https://localhost:8080/",
          "height": 153
        },
        "colab_type": "code",
        "id": "SA7rcyph93Vr",
        "outputId": "7458e4e1-f382-46fc-a126-351fd09150f0"
      },
      "outputs": [
        {
          "data": {
            "text/plain": [
              "array(['800', '300', '600', '700', '550', '500', '450', '650', '400',\n",
              "       '750', '200', '850', '1,200', '150', '350', '250', '1,500',\n",
              "       '1,300', '1,000', '100', '900', '1,100', '1,600', '950', '230',\n",
              "       '1,700', '1,400', '1,350', '2,200', '2,000', '1,800', '1,900',\n",
              "       '180', '330', '2,500', '2,100', '3,000', '2,800', '3,400', '40',\n",
              "       '1,250', '3,500', '4,000', '2,400', '1,450', '3,200', '6,000',\n",
              "       '1,050', '4,100', '2,300', '120', '2,600', '5,000', '3,700',\n",
              "       '1,650', '2,700', '4,500'], dtype=object)"
            ]
          },
          "execution_count": 20,
          "metadata": {
            "tags": []
          },
          "output_type": "execute_result"
        }
      ],
      "source": [
        "df['cost'].unique()"
      ]
    },
    {
      "cell_type": "markdown",
      "metadata": {
        "colab_type": "text",
        "id": "FtRvCpoUHaqr"
      },
      "source": [
        "**replacing the \",\" with nothing and converting the results to float**"
      ]
    },
    {
      "cell_type": "code",
      "execution_count": null,
      "metadata": {
        "colab": {},
        "colab_type": "code",
        "id": "spH8O4KI96JO"
      },
      "outputs": [],
      "source": [
        "#zomato['cost'] = zomato['cost'].astype(str) #Changing the cost to string\n",
        "df['cost'] = df['cost'].apply(lambda x: x.replace(',','')) #Using lambda function to replace ',' from cost\n",
        "df['cost'] = df['cost'].astype(float)"
      ]
    },
    {
      "cell_type": "code",
      "execution_count": null,
      "metadata": {
        "colab": {
          "base_uri": "https://localhost:8080/",
          "height": 391
        },
        "colab_type": "code",
        "id": "eWHX4KfE98NW",
        "outputId": "395bc95c-5558-4afd-a8ea-cf6e988b34b4"
      },
      "outputs": [
        {
          "name": "stdout",
          "output_type": "stream",
          "text": [
            "[ 800.  300.  600.  700.  550.  500.  450.  650.  400.  750.  200.  850.\n",
            " 1200.  150.  350.  250. 1500. 1300. 1000.  100.  900. 1100. 1600.  950.\n",
            "  230. 1700. 1400. 1350. 2200. 2000. 1800. 1900.  180.  330. 2500. 2100.\n",
            " 3000. 2800. 3400.   40. 1250. 3500. 4000. 2400. 1450. 3200. 6000. 1050.\n",
            " 4100. 2300.  120. 2600. 5000. 3700. 1650. 2700. 4500.]\n",
            "------------------------------\n"
          ]
        },
        {
          "data": {
            "text/plain": [
              "address          object\n",
              "name             object\n",
              "online_order     object\n",
              "book_table       object\n",
              "rate             object\n",
              "votes             int64\n",
              "location         object\n",
              "rest_type        object\n",
              "dish_liked       object\n",
              "cuisines         object\n",
              "cost            float64\n",
              "reviews_list     object\n",
              "menu_item        object\n",
              "type             object\n",
              "city             object\n",
              "dtype: object"
            ]
          },
          "execution_count": 22,
          "metadata": {
            "tags": []
          },
          "output_type": "execute_result"
        }
      ],
      "source": [
        "print(df['cost'].unique())\n",
        "\n",
        "print('---'*10)\n",
        "\n",
        "df.dtypes"
      ]
    },
    {
      "cell_type": "code",
      "execution_count": null,
      "metadata": {
        "colab": {
          "base_uri": "https://localhost:8080/",
          "height": 187
        },
        "colab_type": "code",
        "id": "eMl98lIQ-CxV",
        "outputId": "195fcb83-29ef-4509-8a03-27196b578479"
      },
      "outputs": [
        {
          "data": {
            "text/plain": [
              "array(['4.1/5', '3.8/5', '3.7/5', '4.6/5', '4.0/5', '4.2/5', '3.9/5',\n",
              "       '3.0/5', '3.6/5', '2.8/5', '4.4/5', '3.1/5', '4.3/5', '2.6/5',\n",
              "       '3.3/5', '3.5/5', '3.8 /5', '3.2/5', '4.5/5', '2.5/5', '2.9/5',\n",
              "       '3.4/5', '2.7/5', '4.7/5', 'NEW', '2.4/5', '2.2/5', '2.3/5',\n",
              "       '4.8/5', '3.9 /5', '4.2 /5', '4.0 /5', '4.1 /5', '2.9 /5',\n",
              "       '2.7 /5', '2.5 /5', '2.6 /5', '4.5 /5', '4.3 /5', '3.7 /5',\n",
              "       '4.4 /5', '4.9/5', '2.1/5', '2.0/5', '1.8/5', '3.4 /5', '3.6 /5',\n",
              "       '3.3 /5', '4.6 /5', '4.9 /5', '3.2 /5', '3.0 /5', '2.8 /5',\n",
              "       '3.5 /5', '3.1 /5', '4.8 /5', '2.3 /5', '4.7 /5', '2.4 /5',\n",
              "       '2.1 /5', '2.2 /5', '2.0 /5', '1.8 /5'], dtype=object)"
            ]
          },
          "execution_count": 23,
          "metadata": {
            "tags": []
          },
          "output_type": "execute_result"
        }
      ],
      "source": [
        "#Reading uninque values from the Rate column\n",
        "df['rate'].unique()"
      ]
    },
    {
      "cell_type": "code",
      "execution_count": null,
      "metadata": {
        "colab": {},
        "colab_type": "code",
        "id": "Uj25hzkj-Fio"
      },
      "outputs": [],
      "source": [
        "df = df.loc[df.rate !='NEW'] #getting rid of \"NEW\""
      ]
    },
    {
      "cell_type": "code",
      "execution_count": null,
      "metadata": {
        "colab": {
          "base_uri": "https://localhost:8080/",
          "height": 187
        },
        "colab_type": "code",
        "id": "MP-iu9RR-K3d",
        "outputId": "e603f078-0a78-410d-c7dd-de8e5d40a24a"
      },
      "outputs": [
        {
          "data": {
            "text/plain": [
              "array(['4.1/5', '3.8/5', '3.7/5', '4.6/5', '4.0/5', '4.2/5', '3.9/5',\n",
              "       '3.0/5', '3.6/5', '2.8/5', '4.4/5', '3.1/5', '4.3/5', '2.6/5',\n",
              "       '3.3/5', '3.5/5', '3.8 /5', '3.2/5', '4.5/5', '2.5/5', '2.9/5',\n",
              "       '3.4/5', '2.7/5', '4.7/5', '2.4/5', '2.2/5', '2.3/5', '4.8/5',\n",
              "       '3.9 /5', '4.2 /5', '4.0 /5', '4.1 /5', '2.9 /5', '2.7 /5',\n",
              "       '2.5 /5', '2.6 /5', '4.5 /5', '4.3 /5', '3.7 /5', '4.4 /5',\n",
              "       '4.9/5', '2.1/5', '2.0/5', '1.8/5', '3.4 /5', '3.6 /5', '3.3 /5',\n",
              "       '4.6 /5', '4.9 /5', '3.2 /5', '3.0 /5', '2.8 /5', '3.5 /5',\n",
              "       '3.1 /5', '4.8 /5', '2.3 /5', '4.7 /5', '2.4 /5', '2.1 /5',\n",
              "       '2.2 /5', '2.0 /5', '1.8 /5'], dtype=object)"
            ]
          },
          "execution_count": 25,
          "metadata": {
            "tags": []
          },
          "output_type": "execute_result"
        }
      ],
      "source": [
        "df['rate'].unique()"
      ]
    },
    {
      "cell_type": "code",
      "execution_count": null,
      "metadata": {
        "colab": {},
        "colab_type": "code",
        "id": "IYrpzL_I-87r"
      },
      "outputs": [],
      "source": [
        "#Removing '/5' from Rates\n",
        "\n",
        "df['rate'] = df['rate'].apply(lambda x: x.replace('/5',''))\n",
        "\n"
      ]
    },
    {
      "cell_type": "markdown",
      "metadata": {
        "colab_type": "text",
        "id": "LY94MGcN_HVz"
      },
      "source": [
        "<br>\n",
        "\n",
        "# Visualisations"
      ]
    },
    {
      "cell_type": "markdown",
      "metadata": {
        "colab_type": "text",
        "id": "dvDnlKmFIA9J"
      },
      "source": [
        "Most famous restaurants chains in Bangaluru"
      ]
    },
    {
      "cell_type": "code",
      "execution_count": null,
      "metadata": {
        "colab": {
          "base_uri": "https://localhost:8080/",
          "height": 550
        },
        "colab_type": "code",
        "id": "P7BpfKCe_Apk",
        "outputId": "6ce82a8a-f888-4089-eec6-5d529d06eb6f"
      },
      "outputs": [
        {
          "data": {
            "image/png": "[encoded data removed]",
            "text/plain": [
              "<Figure size 1224x720 with 1 Axes>"
            ]
          },
          "metadata": {
            "needs_background": "light",
            "tags": []
          },
          "output_type": "display_data"
        }
      ],
      "source": [
        "plt.figure(figsize=(17,10))\n",
        "chains=df['name'].value_counts()[:20]\n",
        "sns.barplot(x=chains,y=chains.index,palette='deep')\n",
        "plt.title(\"Most famous restaurants chains in Bangaluru\")\n",
        "plt.xlabel(\"Number of outlets\")\n",
        "plt.show()"
      ]
    },
    {
      "cell_type": "markdown",
      "metadata": {
        "colab_type": "text",
        "id": "gES28ir2If3I"
      },
      "source": [
        "<br>\n",
        "\n",
        "Whether restaurant offer Table booking or not"
      ]
    },
    {
      "cell_type": "code",
      "execution_count": null,
      "metadata": {
        "colab": {
          "base_uri": "https://localhost:8080/",
          "height": 617
        },
        "colab_type": "code",
        "id": "QsnPTEKZAf2g",
        "outputId": "f9dd609f-bc09-4683-a28b-c0bc1a6754be"
      },
      "outputs": [
        {
          "data": {
            "text/html": [
              "<html>\n",
              "<head><meta charset=\"utf-8\" /></head>\n",
              "<body>\n",
              "    <div>\n",
              "            <script src=\"https://cdnjs.cloudflare.com/ajax/libs/mathjax/2.7.5/MathJax.js?config=TeX-AMS-MML_SVG\"></script><script type=\"text/javascript\">if (window.MathJax) {MathJax.Hub.Config({SVG: {font: \"STIX-Web\"}});}</script>\n",
              "                <script type=\"text/javascript\">window.PlotlyConfig = {MathJaxConfig: 'local'};</script>\n",
              "        <script src=\"https://cdn.plot.ly/plotly-latest.min.js\"></script>    \n",
              "            <div id=\"d19e4379-5617-4469-8695-6f82afd10ed9\" class=\"plotly-graph-div\" style=\"height:600px; width:600px;\"></div>\n",
              "            <script type=\"text/javascript\">\n",
              "                \n",
              "                    window.PLOTLYENV=window.PLOTLYENV || {};\n",
              "                    \n",
              "                if (document.getElementById(\"d19e4379-5617-4469-8695-6f82afd10ed9\")) {\n",
              "                    Plotly.newPlot(\n",
              "                        'd19e4379-5617-4469-8695-6f82afd10ed9',\n",
              "                        [{\"labels\": [\"No\", \"Yes\"], \"marker\": {\"colors\": [\"#800080\", \"#0000A0\"], \"line\": {\"color\": \"#001000\", \"width\": 2}}, \"textinfo\": \"value\", \"type\": \"pie\", \"values\": [17191, 6057]}],\n",
              "                        {\"height\": 600, \"template\": {\"data\": {\"bar\": [{\"error_x\": {\"color\": \"#2a3f5f\"}, \"error_y\": {\"color\": \"#2a3f5f\"}, \"marker\": {\"line\": {\"color\": \"#E5ECF6\", \"width\": 0.5}}, \"type\": \"bar\"}], \"barpolar\": [{\"marker\": {\"line\": {\"color\": \"#E5ECF6\", \"width\": 0.5}}, \"type\": \"barpolar\"}], \"carpet\": [{\"aaxis\": {\"endlinecolor\": \"#2a3f5f\", \"gridcolor\": \"white\", \"linecolor\": \"white\", \"minorgridcolor\": \"white\", \"startlinecolor\": \"#2a3f5f\"}, \"baxis\": {\"endlinecolor\": \"#2a3f5f\", \"gridcolor\": \"white\", \"linecolor\": \"white\", \"minorgridcolor\": \"white\", \"startlinecolor\": \"#2a3f5f\"}, \"type\": \"carpet\"}], \"choropleth\": [{\"colorbar\": {\"outlinewidth\": 0, \"ticks\": \"\"}, \"type\": \"choropleth\"}], \"contour\": [{\"colorbar\": {\"outlinewidth\": 0, \"ticks\": \"\"}, \"colorscale\": [[0.0, \"#0d0887\"], [0.1111111111111111, \"#46039f\"], [0.2222222222222222, \"#7201a8\"], [0.3333333333333333, \"#9c179e\"], [0.4444444444444444, \"#bd3786\"], [0.5555555555555556, \"#d8576b\"], [0.6666666666666666, \"#ed7953\"], [0.7777777777777778, \"#fb9f3a\"], [0.8888888888888888, \"#fdca26\"], [1.0, \"#f0f921\"]], \"type\": \"contour\"}], \"contourcarpet\": [{\"colorbar\": {\"outlinewidth\": 0, \"ticks\": \"\"}, \"type\": \"contourcarpet\"}], \"heatmap\": [{\"colorbar\": {\"outlinewidth\": 0, \"ticks\": \"\"}, \"colorscale\": [[0.0, \"#0d0887\"], [0.1111111111111111, \"#46039f\"], [0.2222222222222222, \"#7201a8\"], [0.3333333333333333, \"#9c179e\"], [0.4444444444444444, \"#bd3786\"], [0.5555555555555556, \"#d8576b\"], [0.6666666666666666, \"#ed7953\"], [0.7777777777777778, \"#fb9f3a\"], [0.8888888888888888, \"#fdca26\"], [1.0, \"#f0f921\"]], \"type\": \"heatmap\"}], \"heatmapgl\": [{\"colorbar\": {\"outlinewidth\": 0, \"ticks\": \"\"}, \"colorscale\": [[0.0, \"#0d0887\"], [0.1111111111111111, \"#46039f\"], [0.2222222222222222, \"#7201a8\"], [0.3333333333333333, \"#9c179e\"], [0.4444444444444444, \"#bd3786\"], [0.5555555555555556, \"#d8576b\"], [0.6666666666666666, \"#ed7953\"], [0.7777777777777778, \"#fb9f3a\"], [0.8888888888888888, \"#fdca26\"], [1.0, \"#f0f921\"]], \"type\": \"heatmapgl\"}], \"histogram\": [{\"marker\": {\"colorbar\": {\"outlinewidth\": 0, \"ticks\": \"\"}}, \"type\": \"histogram\"}], \"histogram2d\": [{\"colorbar\": {\"outlinewidth\": 0, \"ticks\": \"\"}, \"colorscale\": [[0.0, \"#0d0887\"], [0.1111111111111111, \"#46039f\"], [0.2222222222222222, \"#7201a8\"], [0.3333333333333333, \"#9c179e\"], [0.4444444444444444, \"#bd3786\"], [0.5555555555555556, \"#d8576b\"], [0.6666666666666666, \"#ed7953\"], [0.7777777777777778, \"#fb9f3a\"], [0.8888888888888888, \"#fdca26\"], [1.0, \"#f0f921\"]], \"type\": \"histogram2d\"}], \"histogram2dcontour\": [{\"colorbar\": {\"outlinewidth\": 0, \"ticks\": \"\"}, \"colorscale\": [[0.0, \"#0d0887\"], [0.1111111111111111, \"#46039f\"], [0.2222222222222222, \"#7201a8\"], [0.3333333333333333, \"#9c179e\"], [0.4444444444444444, \"#bd3786\"], [0.5555555555555556, \"#d8576b\"], [0.6666666666666666, \"#ed7953\"], [0.7777777777777778, \"#fb9f3a\"], [0.8888888888888888, \"#fdca26\"], [1.0, \"#f0f921\"]], \"type\": \"histogram2dcontour\"}], \"mesh3d\": [{\"colorbar\": {\"outlinewidth\": 0, \"ticks\": \"\"}, \"type\": \"mesh3d\"}], \"parcoords\": [{\"line\": {\"colorbar\": {\"outlinewidth\": 0, \"ticks\": \"\"}}, \"type\": \"parcoords\"}], \"pie\": [{\"automargin\": true, \"type\": \"pie\"}], \"scatter\": [{\"marker\": {\"colorbar\": {\"outlinewidth\": 0, \"ticks\": \"\"}}, \"type\": \"scatter\"}], \"scatter3d\": [{\"line\": {\"colorbar\": {\"outlinewidth\": 0, \"ticks\": \"\"}}, \"marker\": {\"colorbar\": {\"outlinewidth\": 0, \"ticks\": \"\"}}, \"type\": \"scatter3d\"}], \"scattercarpet\": [{\"marker\": {\"colorbar\": {\"outlinewidth\": 0, \"ticks\": \"\"}}, \"type\": \"scattercarpet\"}], \"scattergeo\": [{\"marker\": {\"colorbar\": {\"outlinewidth\": 0, \"ticks\": \"\"}}, \"type\": \"scattergeo\"}], \"scattergl\": [{\"marker\": {\"colorbar\": {\"outlinewidth\": 0, \"ticks\": \"\"}}, \"type\": \"scattergl\"}], \"scattermapbox\": [{\"marker\": {\"colorbar\": {\"outlinewidth\": 0, \"ticks\": \"\"}}, \"type\": \"scattermapbox\"}], \"scatterpolar\": [{\"marker\": {\"colorbar\": {\"outlinewidth\": 0, \"ticks\": \"\"}}, \"type\": \"scatterpolar\"}], \"scatterpolargl\": [{\"marker\": {\"colorbar\": {\"outlinewidth\": 0, \"ticks\": \"\"}}, \"type\": \"scatterpolargl\"}], \"scatterternary\": [{\"marker\": {\"colorbar\": {\"outlinewidth\": 0, \"ticks\": \"\"}}, \"type\": \"scatterternary\"}], \"surface\": [{\"colorbar\": {\"outlinewidth\": 0, \"ticks\": \"\"}, \"colorscale\": [[0.0, \"#0d0887\"], [0.1111111111111111, \"#46039f\"], [0.2222222222222222, \"#7201a8\"], [0.3333333333333333, \"#9c179e\"], [0.4444444444444444, \"#bd3786\"], [0.5555555555555556, \"#d8576b\"], [0.6666666666666666, \"#ed7953\"], [0.7777777777777778, \"#fb9f3a\"], [0.8888888888888888, \"#fdca26\"], [1.0, \"#f0f921\"]], \"type\": \"surface\"}], \"table\": [{\"cells\": {\"fill\": {\"color\": \"#EBF0F8\"}, \"line\": {\"color\": \"white\"}}, \"header\": {\"fill\": {\"color\": \"#C8D4E3\"}, \"line\": {\"color\": \"white\"}}, \"type\": \"table\"}]}, \"layout\": {\"annotationdefaults\": {\"arrowcolor\": \"#2a3f5f\", \"arrowhead\": 0, \"arrowwidth\": 1}, \"coloraxis\": {\"colorbar\": {\"outlinewidth\": 0, \"ticks\": \"\"}}, \"colorscale\": {\"diverging\": [[0, \"#8e0152\"], [0.1, \"#c51b7d\"], [0.2, \"#de77ae\"], [0.3, \"#f1b6da\"], [0.4, \"#fde0ef\"], [0.5, \"#f7f7f7\"], [0.6, \"#e6f5d0\"], [0.7, \"#b8e186\"], [0.8, \"#7fbc41\"], [0.9, \"#4d9221\"], [1, \"#276419\"]], \"sequential\": [[0.0, \"#0d0887\"], [0.1111111111111111, \"#46039f\"], [0.2222222222222222, \"#7201a8\"], [0.3333333333333333, \"#9c179e\"], [0.4444444444444444, \"#bd3786\"], [0.5555555555555556, \"#d8576b\"], [0.6666666666666666, \"#ed7953\"], [0.7777777777777778, \"#fb9f3a\"], [0.8888888888888888, \"#fdca26\"], [1.0, \"#f0f921\"]], \"sequentialminus\": [[0.0, \"#0d0887\"], [0.1111111111111111, \"#46039f\"], [0.2222222222222222, \"#7201a8\"], [0.3333333333333333, \"#9c179e\"], [0.4444444444444444, \"#bd3786\"], [0.5555555555555556, \"#d8576b\"], [0.6666666666666666, \"#ed7953\"], [0.7777777777777778, \"#fb9f3a\"], [0.8888888888888888, \"#fdca26\"], [1.0, \"#f0f921\"]]}, \"colorway\": [\"#636efa\", \"#EF553B\", \"#00cc96\", \"#ab63fa\", \"#FFA15A\", \"#19d3f3\", \"#FF6692\", \"#B6E880\", \"#FF97FF\", \"#FECB52\"], \"font\": {\"color\": \"#2a3f5f\"}, \"geo\": {\"bgcolor\": \"white\", \"lakecolor\": \"white\", \"landcolor\": \"#E5ECF6\", \"showlakes\": true, \"showland\": true, \"subunitcolor\": \"white\"}, \"hoverlabel\": {\"align\": \"left\"}, \"hovermode\": \"closest\", \"mapbox\": {\"style\": \"light\"}, \"paper_bgcolor\": \"white\", \"plot_bgcolor\": \"#E5ECF6\", \"polar\": {\"angularaxis\": {\"gridcolor\": \"white\", \"linecolor\": \"white\", \"ticks\": \"\"}, \"bgcolor\": \"#E5ECF6\", \"radialaxis\": {\"gridcolor\": \"white\", \"linecolor\": \"white\", \"ticks\": \"\"}}, \"scene\": {\"xaxis\": {\"backgroundcolor\": \"#E5ECF6\", \"gridcolor\": \"white\", \"gridwidth\": 2, \"linecolor\": \"white\", \"showbackground\": true, \"ticks\": \"\", \"zerolinecolor\": \"white\"}, \"yaxis\": {\"backgroundcolor\": \"#E5ECF6\", \"gridcolor\": \"white\", \"gridwidth\": 2, \"linecolor\": \"white\", \"showbackground\": true, \"ticks\": \"\", \"zerolinecolor\": \"white\"}, \"zaxis\": {\"backgroundcolor\": \"#E5ECF6\", \"gridcolor\": \"white\", \"gridwidth\": 2, \"linecolor\": \"white\", \"showbackground\": true, \"ticks\": \"\", \"zerolinecolor\": \"white\"}}, \"shapedefaults\": {\"line\": {\"color\": \"#2a3f5f\"}}, \"ternary\": {\"aaxis\": {\"gridcolor\": \"white\", \"linecolor\": \"white\", \"ticks\": \"\"}, \"baxis\": {\"gridcolor\": \"white\", \"linecolor\": \"white\", \"ticks\": \"\"}, \"bgcolor\": \"#E5ECF6\", \"caxis\": {\"gridcolor\": \"white\", \"linecolor\": \"white\", \"ticks\": \"\"}}, \"title\": {\"x\": 0.05}, \"xaxis\": {\"automargin\": true, \"gridcolor\": \"white\", \"linecolor\": \"white\", \"ticks\": \"\", \"title\": {\"standoff\": 15}, \"zerolinecolor\": \"white\", \"zerolinewidth\": 2}, \"yaxis\": {\"automargin\": true, \"gridcolor\": \"white\", \"linecolor\": \"white\", \"ticks\": \"\", \"title\": {\"standoff\": 15}, \"zerolinecolor\": \"white\", \"zerolinewidth\": 2}}}, \"title\": {\"text\": \"Table booking\"}, \"width\": 600},\n",
              "                        {\"responsive\": true}\n",
              "                    ).then(function(){\n",
              "                            \n",
              "var gd = document.getElementById('d19e4379-5617-4469-8695-6f82afd10ed9');\n",
              "var x = new MutationObserver(function (mutations, observer) {{\n",
              "        var display = window.getComputedStyle(gd).display;\n",
              "        if (!display || display === 'none') {{\n",
              "            console.log([gd, 'removed!']);\n",
              "            Plotly.purge(gd);\n",
              "            observer.disconnect();\n",
              "        }}\n",
              "}});\n",
              "\n",
              "// Listen for the removal of the full notebook cells\n",
              "var notebookContainer = gd.closest('#notebook-container');\n",
              "if (notebookContainer) {{\n",
              "    x.observe(notebookContainer, {childList: true});\n",
              "}}\n",
              "\n",
              "// Listen for the clearing of the current output cell\n",
              "var outputEl = gd.closest('.output');\n",
              "if (outputEl) {{\n",
              "    x.observe(outputEl, {childList: true});\n",
              "}}\n",
              "\n",
              "                        })\n",
              "                };\n",
              "                \n",
              "            </script>\n",
              "        </div>\n",
              "</body>\n",
              "</html>"
            ]
          },
          "metadata": {
            "tags": []
          },
          "output_type": "display_data"
        }
      ],
      "source": [
        "x=df['book_table'].value_counts()\n",
        "colors = ['#800080', '#0000A0']\n",
        "\n",
        "trace=go.Pie(labels=x.index,values=x,textinfo=\"value\",\n",
        "            marker=dict(colors=colors, \n",
        "                           line=dict(color='#001000', width=2)))\n",
        "layout=go.Layout(title=\"Table booking\",width=600,height=600)\n",
        "fig=go.Figure(data=[trace],layout=layout)\n",
        "py.iplot(fig, filename='pie_chart_subplots')"
      ]
    },
    {
      "cell_type": "markdown",
      "metadata": {
        "colab_type": "text",
        "id": "XRWv05H5DSwv"
      },
      "source": [
        "**Insight**\n",
        "\n",
        "Most of the Restaurants do not offer table booking"
      ]
    },
    {
      "cell_type": "markdown",
      "metadata": {
        "colab_type": "text",
        "id": "DLzdOr1RIcBU"
      },
      "source": [
        "<br>\n",
        "<br>\n",
        "\n",
        "Whether Restaurants deliver online or Not"
      ]
    },
    {
      "cell_type": "code",
      "execution_count": null,
      "metadata": {
        "colab": {
          "base_uri": "https://localhost:8080/",
          "height": 622
        },
        "colab_type": "code",
        "id": "pHlO3ZYWA0a2",
        "outputId": "29f8de6a-c806-4880-fa82-77a9eead5977"
      },
      "outputs": [
        {
          "data": {
            "image/png": "[encoded data removed]",
            "text/plain": [
              "<Figure size 720x720 with 1 Axes>"
            ]
          },
          "metadata": {
            "needs_background": "light",
            "tags": []
          },
          "output_type": "display_data"
        }
      ],
      "source": [
        "#Restaurants delivering Online or not\n",
        "sns.countplot(df['online_order'])\n",
        "fig = plt.gcf()\n",
        "fig.set_size_inches(10,10)\n",
        "plt.title('Whether Restaurants deliver online or Not')\n",
        "plt.show()"
      ]
    },
    {
      "cell_type": "markdown",
      "metadata": {
        "colab_type": "text",
        "id": "otl47PIGCpa7"
      },
      "source": [
        "**Insight:**\n",
        "\n",
        "Most Restaurants offer option for online order and delivery\n"
      ]
    },
    {
      "cell_type": "markdown",
      "metadata": {
        "colab_type": "text",
        "id": "irSk9nGNElR9"
      },
      "source": [
        "<br>\n",
        "\n",
        "<br>"
      ]
    },
    {
      "cell_type": "markdown",
      "metadata": {
        "colab_type": "text",
        "id": "4RTihUbQGbtD"
      },
      "source": [
        "## **Rating Distributions**"
      ]
    },
    {
      "cell_type": "code",
      "execution_count": null,
      "metadata": {
        "colab": {
          "base_uri": "https://localhost:8080/",
          "height": 459
        },
        "colab_type": "code",
        "id": "0tATFlDCCqMP",
        "outputId": "11158e40-320d-46a9-a807-c787a3eaf16f"
      },
      "outputs": [
        {
          "data": {
            "text/plain": [
              "<matplotlib.axes._subplots.AxesSubplot at 0x7f714ef32828>"
            ]
          },
          "execution_count": 30,
          "metadata": {
            "tags": []
          },
          "output_type": "execute_result"
        },
        {
          "data": {
            "image/png": "[encoded data removed]",
            "text/plain": [
              "<Figure size 648x504 with 1 Axes>"
            ]
          },
          "metadata": {
            "needs_background": "light",
            "tags": []
          },
          "output_type": "display_data"
        }
      ],
      "source": [
        "#How ratings are distributed\n",
        "plt.figure(figsize=(9,7))\n",
        "\n",
        "sns.distplot(df['rate'],bins=20)"
      ]
    },
    {
      "cell_type": "markdown",
      "metadata": {
        "colab_type": "text",
        "id": "_ucgyP7xC3Te"
      },
      "source": [
        "\n",
        "\n",
        "*  **Insight**\n",
        "\n",
        "  We can infer from above that most of the ratings are within 3.5 and 4.5\n",
        "\n"
      ]
    },
    {
      "cell_type": "code",
      "execution_count": null,
      "metadata": {
        "colab": {},
        "colab_type": "code",
        "id": "UlR7V3e-FC9n"
      },
      "outputs": [],
      "source": [
        "# #Distribution of the cost Vs ratings in parallel with online order\n",
        "# plt.figure(figsize=(10,7))\n",
        "# sns.scatterplot(x=\"rate\",y='cost',hue='online_order',data=df)\n",
        "# plt.show()"
      ]
    },
    {
      "cell_type": "markdown",
      "metadata": {
        "colab_type": "text",
        "id": "zBbI9hYjKH96"
      },
      "source": [
        "**Count of ratings as between \"1 and 2\", \"2 and 3\", \"3 and 4\", and \"4 and 5\"** "
      ]
    },
    {
      "cell_type": "code",
      "execution_count": null,
      "metadata": {
        "colab": {
          "base_uri": "https://localhost:8080/",
          "height": 153
        },
        "colab_type": "code",
        "id": "f4Ep9S4AIxzg",
        "outputId": "9102aeea-2426-4710-b63b-a7d2c9eb441e"
      },
      "outputs": [
        {
          "data": {
            "text/plain": [
              "array(['4.1', '3.8', '3.7', '4.6', '4.0', '4.2', '3.9', '3.0', '3.6',\n",
              "       '2.8', '4.4', '3.1', '4.3', '2.6', '3.3', '3.5', '3.8 ', '3.2',\n",
              "       '4.5', '2.5', '2.9', '3.4', '2.7', '4.7', '2.4', '2.2', '2.3',\n",
              "       '4.8', '3.9 ', '4.2 ', '4.0 ', '4.1 ', '2.9 ', '2.7 ', '2.5 ',\n",
              "       '2.6 ', '4.5 ', '4.3 ', '3.7 ', '4.4 ', '4.9', '2.1', '2.0', '1.8',\n",
              "       '3.4 ', '3.6 ', '3.3 ', '4.6 ', '4.9 ', '3.2 ', '3.0 ', '2.8 ',\n",
              "       '3.5 ', '3.1 ', '4.8 ', '2.3 ', '4.7 ', '2.4 ', '2.1 ', '2.2 ',\n",
              "       '2.0 ', '1.8 '], dtype=object)"
            ]
          },
          "execution_count": 32,
          "metadata": {
            "tags": []
          },
          "output_type": "execute_result"
        }
      ],
      "source": [
        "df['rate'].unique()"
      ]
    },
    {
      "cell_type": "code",
      "execution_count": null,
      "metadata": {
        "colab": {
          "base_uri": "https://localhost:8080/",
          "height": 35
        },
        "colab_type": "code",
        "id": "EcVA7_qDI4PB",
        "outputId": "31d89ef6-2575-469c-c013-e377e59315bc"
      },
      "outputs": [
        {
          "data": {
            "application/vnd.google.colaboratory.intrinsic": "{\"type\":\"string\"}",
            "text/plain": [
              "'1.8'"
            ]
          },
          "execution_count": 33,
          "metadata": {
            "tags": []
          },
          "output_type": "execute_result"
        }
      ],
      "source": [
        "df['rate'].min()"
      ]
    },
    {
      "cell_type": "code",
      "execution_count": null,
      "metadata": {
        "colab": {
          "base_uri": "https://localhost:8080/",
          "height": 35
        },
        "colab_type": "code",
        "id": "1Ym4IkBmKUTi",
        "outputId": "8e0d39fe-70bf-4148-ddd7-c8479aa78feb"
      },
      "outputs": [
        {
          "data": {
            "application/vnd.google.colaboratory.intrinsic": "{\"type\":\"string\"}",
            "text/plain": [
              "'4.9 '"
            ]
          },
          "execution_count": 34,
          "metadata": {
            "tags": []
          },
          "output_type": "execute_result"
        }
      ],
      "source": [
        "df['rate'].max()"
      ]
    },
    {
      "cell_type": "code",
      "execution_count": null,
      "metadata": {
        "colab": {},
        "colab_type": "code",
        "id": "94rfzI0KKXpQ"
      },
      "outputs": [],
      "source": [
        "df['rate']=df['rate'].astype(float)"
      ]
    },
    {
      "cell_type": "code",
      "execution_count": null,
      "metadata": {
        "colab": {
          "base_uri": "https://localhost:8080/",
          "height": 34
        },
        "colab_type": "code",
        "id": "_WPZsXG3Noee",
        "outputId": "4cb82853-a10f-4e48-c23a-77fb1c7538d3"
      },
      "outputs": [
        {
          "data": {
            "text/plain": [
              "5"
            ]
          },
          "execution_count": 36,
          "metadata": {
            "tags": []
          },
          "output_type": "execute_result"
        }
      ],
      "source": [
        "((df['rate']>=1) & (df['rate']<2)).sum()"
      ]
    },
    {
      "cell_type": "code",
      "execution_count": null,
      "metadata": {
        "colab": {
          "base_uri": "https://localhost:8080/",
          "height": 34
        },
        "colab_type": "code",
        "id": "hkhwCHIdKc7f",
        "outputId": "fdbf286a-57fc-4529-c29c-fe0d335b7091"
      },
      "outputs": [
        {
          "data": {
            "text/plain": [
              "1179"
            ]
          },
          "execution_count": 37,
          "metadata": {
            "tags": []
          },
          "output_type": "execute_result"
        }
      ],
      "source": [
        "((df['rate']>=2) & (df['rate']<3)).sum()"
      ]
    },
    {
      "cell_type": "code",
      "execution_count": null,
      "metadata": {
        "colab": {
          "base_uri": "https://localhost:8080/",
          "height": 34
        },
        "colab_type": "code",
        "id": "VoD65fBeMHfM",
        "outputId": "20cc8d3f-4d4c-4cf0-8163-8ae7adb4bb5c"
      },
      "outputs": [
        {
          "data": {
            "text/plain": [
              "10153"
            ]
          },
          "execution_count": 38,
          "metadata": {
            "tags": []
          },
          "output_type": "execute_result"
        }
      ],
      "source": [
        "((df['rate']>=3) & (df['rate']<4)).sum()"
      ]
    },
    {
      "cell_type": "code",
      "execution_count": null,
      "metadata": {
        "colab": {
          "base_uri": "https://localhost:8080/",
          "height": 34
        },
        "colab_type": "code",
        "id": "X_MF1kQINZlf",
        "outputId": "3c7a8142-ec8a-4ac9-84c2-a3ee51852839"
      },
      "outputs": [
        {
          "data": {
            "text/plain": [
              "11911"
            ]
          },
          "execution_count": 39,
          "metadata": {
            "tags": []
          },
          "output_type": "execute_result"
        }
      ],
      "source": [
        "(df['rate']>=4).sum()"
      ]
    },
    {
      "cell_type": "markdown",
      "metadata": {
        "colab_type": "text",
        "id": "GhzrP_vaK7VX"
      },
      "source": [
        "<br>\n",
        "\n",
        "**Plotting the counts with the help of pie chart**"
      ]
    },
    {
      "cell_type": "code",
      "execution_count": null,
      "metadata": {
        "colab": {
          "base_uri": "https://localhost:8080/",
          "height": 592
        },
        "colab_type": "code",
        "id": "t0IXasKVPfJc",
        "outputId": "da365adf-478f-4a7e-fab0-569bea2d4d68"
      },
      "outputs": [
        {
          "data": {
            "image/png": "[encoded data removed]",
            "text/plain": [
              "<Figure size 720x720 with 1 Axes>"
            ]
          },
          "metadata": {
            "tags": []
          },
          "output_type": "display_data"
        }
      ],
      "source": [
        "slices=[((df['rate']>=1) & (df['rate']<2)).sum(),\n",
        "        ((df['rate']>=2) & (df['rate']<3)).sum(),\n",
        "        ((df['rate']>=3) & (df['rate']<4)).sum(),\n",
        "        (df['rate']>=4).sum()\n",
        "        ]\n",
        "\n",
        "labels=['1<rate<2','2<rate<3','3<rate<4','>4']\n",
        "colors = ['#ff3333','#c2c2d6','#6699ff']\n",
        "plt.pie(slices,colors=colors, labels=labels, autopct='%1.0f%%', pctdistance=.5, labeldistance=1.2,shadow=True)\n",
        "fig = plt.gcf()\n",
        "plt.title(\"Percentage of Restaurants according to their ratings\")\n",
        "\n",
        "fig.set_size_inches(10,10)\n",
        "plt.show()"
      ]
    },
    {
      "cell_type": "markdown",
      "metadata": {
        "colab_type": "text",
        "id": "1I22UbW0PbCU"
      },
      "source": [
        "<br>\n",
        "<br>"
      ]
    },
    {
      "cell_type": "code",
      "execution_count": null,
      "metadata": {
        "colab": {},
        "colab_type": "code",
        "id": "TKmZ6ut6qvVr"
      },
      "outputs": [],
      "source": []
    },
    {
      "cell_type": "markdown",
      "metadata": {
        "colab_type": "text",
        "id": "DWgbKtTQEcNS"
      },
      "source": [
        "## **Services Types**"
      ]
    },
    {
      "cell_type": "code",
      "execution_count": null,
      "metadata": {
        "colab": {
          "base_uri": "https://localhost:8080/",
          "height": 825
        },
        "colab_type": "code",
        "id": "3WQyTwIXCxQM",
        "outputId": "36ed67bf-ef44-4735-fa21-331bce9a4592"
      },
      "outputs": [
        {
          "data": {
            "text/plain": [
              "Text(0.5, 1.0, 'Type of Service')"
            ]
          },
          "execution_count": 41,
          "metadata": {
            "tags": []
          },
          "output_type": "execute_result"
        },
        {
          "data": {
            "image/png": "[encoded data removed]",
            "text/plain": [
              "<Figure size 864x864 with 1 Axes>"
            ]
          },
          "metadata": {
            "needs_background": "light",
            "tags": []
          },
          "output_type": "display_data"
        }
      ],
      "source": [
        "#Types of Services\n",
        "\n",
        "sns.countplot(df['type']).set_xticklabels(sns.countplot(df['type']).get_xticklabels(), rotation=90, ha=\"right\")\n",
        "fig = plt.gcf()\n",
        "fig.set_size_inches(12,12)\n",
        "plt.title('Type of Service')"
      ]
    },
    {
      "cell_type": "markdown",
      "metadata": {
        "colab_type": "text",
        "id": "weBwkJyDU0ty"
      },
      "source": [
        "Here the two main service types are **Delivery** and **Dine-out**"
      ]
    },
    {
      "cell_type": "markdown",
      "metadata": {
        "colab_type": "text",
        "id": "wGMNCnXsVAaH"
      },
      "source": [
        "<br>\n",
        "<br>"
      ]
    },
    {
      "cell_type": "markdown",
      "metadata": {
        "colab_type": "text",
        "id": "xu2m-CDmOXDY"
      },
      "source": [
        "## **Distribution of Cost of Food for two People**"
      ]
    },
    {
      "cell_type": "code",
      "execution_count": null,
      "metadata": {
        "colab": {},
        "colab_type": "code",
        "id": "XyvG6ysuc9AE"
      },
      "outputs": [],
      "source": [
        "from plotly.offline import iplot"
      ]
    },
    {
      "cell_type": "code",
      "execution_count": null,
      "metadata": {
        "colab": {
          "base_uri": "https://localhost:8080/",
          "height": 817
        },
        "colab_type": "code",
        "id": "y5xNZxDidNs7",
        "outputId": "377f4b17-9d81-477d-f4da-b06763302733"
      },
      "outputs": [
        {
          "data": {
            "text/html": [
              "<html>\n",
              "<head><meta charset=\"utf-8\" /></head>\n",
              "<body>\n",
              "    <div>\n",
              "            <script src=\"https://cdnjs.cloudflare.com/ajax/libs/mathjax/2.7.5/MathJax.js?config=TeX-AMS-MML_SVG\"></script><script type=\"text/javascript\">if (window.MathJax) {MathJax.Hub.Config({SVG: {font: \"STIX-Web\"}});}</script>\n",
              "                <script type=\"text/javascript\">window.PlotlyConfig = {MathJaxConfig: 'local'};</script>\n",
              "        <script src=\"https://cdn.plot.ly/plotly-latest.min.js\"></script>    \n",
              "            <div id=\"d1256214-3c7e-4d5e-8146-99c0ce66b1bf\" class=\"plotly-graph-div\" style=\"height:800px; width:800px;\"></div>\n",
              "            <script type=\"text/javascript\">\n",
              "                \n",
              "                    window.PLOTLYENV=window.PLOTLYENV || {};\n",
              "                    \n",
              "                if (document.getElementById(\"d1256214-3c7e-4d5e-8146-99c0ce66b1bf\")) {\n",
              "                    Plotly.newPlot(\n",
              "                        'd1256214-3c7e-4d5e-8146-99c0ce66b1bf',\n",
              "                        [{\"marker\": {\"color\": \"rgb(113, 10, 100)\"}, \"name\": \"accepting online orders\", \"type\": \"box\", \"y\": [800.0, 800.0, 800.0, 300.0, 600.0, 600.0, 600.0, 700.0, 550.0, 500.0, 600.0, 500.0, 450.0, 800.0, 650.0, 800.0, 700.0, 300.0, 400.0, 500.0, 600.0, 550.0, 600.0, 500.0, 750.0, 500.0, 650.0, 600.0, 750.0, 200.0, 500.0, 800.0, 600.0, 400.0, 300.0, 450.0, 850.0, 300.0, 400.0, 750.0, 450.0, 450.0, 800.0, 800.0, 800.0, 850.0, 400.0, 1200.0, 300.0, 300.0, 150.0, 350.0, 400.0, 600.0, 600.0, 800.0, 300.0, 400.0, 300.0, 200.0, 400.0, 300.0, 450.0, 800.0, 500.0, 650.0, 400.0, 500.0, 450.0, 500.0, 750.0, 350.0, 800.0, 400.0, 1200.0, 150.0, 300.0, 500.0, 450.0, 200.0, 250.0, 650.0, 300.0, 700.0, 150.0, 400.0, 200.0, 300.0, 350.0, 500.0, 750.0, 550.0, 200.0, 400.0, 750.0, 650.0, 500.0, 250.0, 150.0, 500.0, 1500.0, 300.0, 800.0, 700.0, 700.0, 550.0, 1300.0, 500.0, 700.0, 1000.0, 750.0, 250.0, 200.0, 600.0, 650.0, 550.0, 450.0, 450.0, 150.0, 700.0, 600.0, 200.0, 400.0, 300.0, 600.0, 700.0, 750.0, 200.0, 600.0, 200.0, 600.0, 550.0, 200.0, 650.0, 500.0, 1200.0, 650.0, 600.0, 100.0, 850.0, 400.0, 450.0, 300.0, 500.0, 100.0, 400.0, 900.0, 550.0, 800.0, 250.0, 1200.0, 400.0, 500.0, 700.0, 400.0, 400.0, 800.0, 800.0, 200.0, 600.0, 900.0, 800.0, 400.0, 400.0, 300.0, 650.0, 600.0, 650.0, 100.0, 700.0, 700.0, 350.0, 300.0, 600.0, 400.0, 600.0, 400.0, 800.0, 400.0, 650.0, 150.0, 1200.0, 250.0, 400.0, 700.0, 1200.0, 200.0, 800.0, 500.0, 200.0, 800.0, 600.0, 900.0, 400.0, 250.0, 300.0, 400.0, 350.0, 600.0, 100.0, 450.0, 400.0, 100.0, 150.0, 400.0, 250.0, 100.0, 600.0, 200.0, 750.0, 800.0, 1000.0, 600.0, 750.0, 800.0, 800.0, 800.0, 450.0, 1000.0, 700.0, 800.0, 600.0, 1500.0, 300.0, 300.0, 200.0, 400.0, 700.0, 300.0, 550.0, 750.0, 500.0, 500.0, 500.0, 400.0, 150.0, 150.0, 400.0, 800.0, 700.0, 500.0, 400.0, 400.0, 400.0, 600.0, 300.0, 400.0, 750.0, 1200.0, 350.0, 600.0, 800.0, 800.0, 800.0, 1300.0, 1200.0, 700.0, 800.0, 550.0, 500.0, 600.0, 500.0, 800.0, 450.0, 600.0, 850.0, 450.0, 800.0, 800.0, 650.0, 900.0, 700.0, 800.0, 700.0, 300.0, 300.0, 500.0, 400.0, 700.0, 600.0, 800.0, 600.0, 750.0, 600.0, 150.0, 800.0, 850.0, 800.0, 400.0, 750.0, 650.0, 100.0, 200.0, 450.0, 450.0, 200.0, 500.0, 100.0, 500.0, 100.0, 200.0, 300.0, 500.0, 300.0, 300.0, 600.0, 250.0, 300.0, 350.0, 800.0, 250.0, 350.0, 600.0, 500.0, 300.0, 100.0, 300.0, 300.0, 450.0, 200.0, 200.0, 250.0, 400.0, 250.0, 300.0, 400.0, 350.0, 500.0, 600.0, 150.0, 350.0, 750.0, 550.0, 600.0, 500.0, 150.0, 150.0, 550.0, 1100.0, 450.0, 300.0, 100.0, 650.0, 600.0, 250.0, 600.0, 400.0, 800.0, 750.0, 600.0, 800.0, 200.0, 300.0, 100.0, 150.0, 100.0, 200.0, 300.0, 700.0, 300.0, 300.0, 450.0, 700.0, 200.0, 250.0, 200.0, 150.0, 300.0, 1300.0, 1200.0, 800.0, 800.0, 1100.0, 900.0, 1000.0, 750.0, 550.0, 1600.0, 1200.0, 800.0, 1000.0, 1000.0, 1000.0, 1000.0, 950.0, 600.0, 700.0, 450.0, 300.0, 400.0, 400.0, 500.0, 600.0, 700.0, 350.0, 650.0, 600.0, 600.0, 800.0, 550.0, 650.0, 600.0, 400.0, 450.0, 550.0, 700.0, 500.0, 500.0, 800.0, 800.0, 300.0, 400.0, 250.0, 400.0, 300.0, 300.0, 500.0, 400.0, 150.0, 500.0, 300.0, 700.0, 400.0, 400.0, 450.0, 300.0, 250.0, 600.0, 250.0, 400.0, 200.0, 350.0, 300.0, 450.0, 400.0, 350.0, 300.0, 400.0, 1000.0, 650.0, 550.0, 600.0, 300.0, 750.0, 600.0, 400.0, 300.0, 400.0, 600.0, 800.0, 500.0, 800.0, 800.0, 300.0, 700.0, 400.0, 700.0, 600.0, 300.0, 400.0, 600.0, 300.0, 400.0, 750.0, 650.0, 700.0, 300.0, 500.0, 250.0, 200.0, 550.0, 1000.0, 900.0, 700.0, 650.0, 500.0, 900.0, 600.0, 1000.0, 800.0, 250.0, 500.0, 400.0, 450.0, 250.0, 400.0, 300.0, 400.0, 400.0, 400.0, 600.0, 1200.0, 400.0, 1000.0, 800.0, 600.0, 700.0, 650.0, 500.0, 300.0, 600.0, 800.0, 600.0, 400.0, 700.0, 300.0, 500.0, 200.0, 400.0, 500.0, 500.0, 600.0, 250.0, 200.0, 300.0, 400.0, 300.0, 600.0, 500.0, 450.0, 1500.0, 750.0, 600.0, 1200.0, 300.0, 600.0, 1000.0, 1600.0, 400.0, 600.0, 500.0, 500.0, 400.0, 400.0, 600.0, 700.0, 400.0, 500.0, 600.0, 800.0, 600.0, 750.0, 500.0, 300.0, 800.0, 350.0, 1000.0, 250.0, 400.0, 500.0, 250.0, 400.0, 650.0, 600.0, 800.0, 450.0, 450.0, 600.0, 600.0, 750.0, 350.0, 1100.0, 600.0, 550.0, 230.0, 250.0, 400.0, 1000.0, 600.0, 500.0, 1200.0, 500.0, 300.0, 500.0, 450.0, 800.0, 250.0, 750.0, 300.0, 500.0, 500.0, 100.0, 600.0, 700.0, 500.0, 600.0, 1200.0, 400.0, 400.0, 500.0, 400.0, 800.0, 300.0, 1000.0, 350.0, 150.0, 250.0, 500.0, 200.0, 400.0, 400.0, 300.0, 1300.0, 400.0, 800.0, 600.0, 250.0, 400.0, 150.0, 700.0, 1100.0, 400.0, 800.0, 600.0, 500.0, 600.0, 400.0, 350.0, 1300.0, 300.0, 400.0, 400.0, 400.0, 1100.0, 650.0, 300.0, 250.0, 500.0, 750.0, 650.0, 400.0, 650.0, 700.0, 800.0, 500.0, 600.0, 550.0, 1000.0, 550.0, 500.0, 700.0, 1100.0, 500.0, 350.0, 500.0, 450.0, 650.0, 650.0, 1000.0, 450.0, 800.0, 450.0, 250.0, 800.0, 250.0, 500.0, 300.0, 750.0, 500.0, 500.0, 800.0, 450.0, 250.0, 250.0, 1700.0, 200.0, 600.0, 400.0, 150.0, 150.0, 900.0, 600.0, 1200.0, 1200.0, 1200.0, 550.0, 400.0, 600.0, 500.0, 700.0, 350.0, 400.0, 250.0, 500.0, 1000.0, 200.0, 500.0, 600.0, 500.0, 750.0, 500.0, 400.0, 800.0, 800.0, 500.0, 400.0, 200.0, 500.0, 400.0, 150.0, 400.0, 400.0, 250.0, 450.0, 350.0, 400.0, 300.0, 500.0, 400.0, 400.0, 800.0, 700.0, 500.0, 200.0, 700.0, 600.0, 300.0, 500.0, 500.0, 550.0, 500.0, 400.0, 600.0, 800.0, 500.0, 550.0, 1000.0, 800.0, 700.0, 800.0, 700.0, 650.0, 1000.0, 700.0, 700.0, 800.0, 400.0, 450.0, 800.0, 300.0, 400.0, 900.0, 500.0, 500.0, 600.0, 550.0, 400.0, 500.0, 500.0, 850.0, 450.0, 700.0, 400.0, 400.0, 600.0, 500.0, 450.0, 1000.0, 600.0, 650.0, 600.0, 800.0, 500.0, 800.0, 750.0, 500.0, 400.0, 250.0, 300.0, 1000.0, 250.0, 800.0, 400.0, 400.0, 500.0, 400.0, 400.0, 600.0, 500.0, 600.0, 800.0, 400.0, 400.0, 600.0, 400.0, 150.0, 300.0, 400.0, 250.0, 400.0, 350.0, 400.0, 600.0, 600.0, 400.0, 500.0, 300.0, 500.0, 200.0, 250.0, 750.0, 600.0, 200.0, 650.0, 250.0, 1100.0, 350.0, 400.0, 250.0, 250.0, 300.0, 400.0, 600.0, 300.0, 800.0, 250.0, 1200.0, 1600.0, 1200.0, 1600.0, 1500.0, 1300.0, 1200.0, 800.0, 1300.0, 1000.0, 400.0, 1200.0, 750.0, 1100.0, 700.0, 1200.0, 550.0, 1300.0, 1000.0, 1100.0, 1200.0, 1300.0, 600.0, 1000.0, 750.0, 1000.0, 500.0, 600.0, 700.0, 750.0, 700.0, 300.0, 500.0, 350.0, 400.0, 950.0, 400.0, 450.0, 800.0, 450.0, 550.0, 600.0, 600.0, 500.0, 400.0, 1000.0, 1100.0, 400.0, 1000.0, 500.0, 450.0, 950.0, 600.0, 600.0, 550.0, 450.0, 750.0, 750.0, 800.0, 800.0, 650.0, 700.0, 400.0, 300.0, 200.0, 600.0, 350.0, 800.0, 300.0, 1500.0, 500.0, 600.0, 500.0, 400.0, 600.0, 550.0, 300.0, 250.0, 400.0, 300.0, 500.0, 400.0, 500.0, 400.0, 300.0, 650.0, 250.0, 900.0, 1200.0, 1700.0, 800.0, 1200.0, 1600.0, 1300.0, 1200.0, 1200.0, 1300.0, 1100.0, 1100.0, 1500.0, 1000.0, 600.0, 600.0, 950.0, 1500.0, 750.0, 800.0, 800.0, 1000.0, 550.0, 1350.0, 1200.0, 800.0, 800.0, 600.0, 700.0, 550.0, 600.0, 500.0, 600.0, 400.0, 800.0, 500.0, 400.0, 800.0, 800.0, 850.0, 700.0, 600.0, 800.0, 700.0, 400.0, 550.0, 650.0, 700.0, 800.0, 650.0, 700.0, 400.0, 150.0, 650.0, 550.0, 650.0, 450.0, 400.0, 500.0, 450.0, 500.0, 400.0, 750.0, 450.0, 500.0, 200.0, 450.0, 300.0, 800.0, 250.0, 650.0, 600.0, 200.0, 500.0, 200.0, 800.0, 400.0, 300.0, 550.0, 400.0, 150.0, 300.0, 300.0, 100.0, 300.0, 800.0, 750.0, 500.0, 300.0, 500.0, 600.0, 400.0, 400.0, 650.0, 100.0, 200.0, 500.0, 400.0, 800.0, 750.0, 600.0, 750.0, 650.0, 200.0, 250.0, 500.0, 350.0, 500.0, 650.0, 600.0, 1200.0, 100.0, 250.0, 200.0, 400.0, 400.0, 550.0, 400.0, 400.0, 400.0, 600.0, 800.0, 200.0, 350.0, 250.0, 1200.0, 800.0, 200.0, 900.0, 400.0, 900.0, 800.0, 150.0, 200.0, 150.0, 300.0, 1600.0, 500.0, 650.0, 800.0, 500.0, 300.0, 500.0, 350.0, 300.0, 250.0, 500.0, 500.0, 200.0, 500.0, 800.0, 1200.0, 800.0, 500.0, 500.0, 400.0, 400.0, 600.0, 350.0, 250.0, 200.0, 200.0, 1000.0, 800.0, 500.0, 800.0, 400.0, 800.0, 450.0, 700.0, 700.0, 800.0, 300.0, 300.0, 250.0, 150.0, 650.0, 600.0, 700.0, 700.0, 400.0, 600.0, 450.0, 400.0, 300.0, 1000.0, 300.0, 600.0, 600.0, 400.0, 600.0, 150.0, 300.0, 1300.0, 200.0, 800.0, 600.0, 1200.0, 600.0, 700.0, 800.0, 100.0, 200.0, 900.0, 100.0, 700.0, 300.0, 350.0, 450.0, 400.0, 800.0, 400.0, 700.0, 300.0, 1500.0, 800.0, 600.0, 1000.0, 700.0, 450.0, 400.0, 400.0, 600.0, 400.0, 300.0, 900.0, 800.0, 650.0, 650.0, 1200.0, 300.0, 200.0, 200.0, 750.0, 400.0, 650.0, 500.0, 400.0, 100.0, 400.0, 450.0, 900.0, 400.0, 1100.0, 400.0, 350.0, 400.0, 500.0, 400.0, 700.0, 750.0, 550.0, 650.0, 200.0, 300.0, 550.0, 300.0, 1000.0, 700.0, 900.0, 600.0, 1000.0, 500.0, 250.0, 750.0, 400.0, 700.0, 800.0, 300.0, 750.0, 600.0, 500.0, 200.0, 600.0, 1200.0, 600.0, 1200.0, 800.0, 1000.0, 150.0, 800.0, 800.0, 500.0, 450.0, 1700.0, 400.0, 400.0, 300.0, 450.0, 100.0, 400.0, 150.0, 700.0, 800.0, 800.0, 1200.0, 750.0, 100.0, 400.0, 900.0, 700.0, 150.0, 1500.0, 1200.0, 400.0, 300.0, 800.0, 900.0, 200.0, 1000.0, 600.0, 1000.0, 300.0, 1000.0, 100.0, 800.0, 700.0, 800.0, 650.0, 1350.0, 550.0, 600.0, 950.0, 650.0, 600.0, 400.0, 1350.0, 300.0, 850.0, 1200.0, 1000.0, 550.0, 200.0, 600.0, 600.0, 650.0, 1200.0, 1000.0, 800.0, 300.0, 200.0, 600.0, 1200.0, 800.0, 400.0, 800.0, 800.0, 450.0, 200.0, 800.0, 300.0, 350.0, 150.0, 550.0, 400.0, 300.0, 400.0, 400.0, 500.0, 400.0, 750.0, 500.0, 150.0, 400.0, 400.0, 400.0, 400.0, 300.0, 600.0, 400.0, 500.0, 400.0, 400.0, 800.0, 400.0, 200.0, 200.0, 150.0, 800.0, 250.0, 150.0, 400.0, 200.0, 400.0, 500.0, 350.0, 500.0, 700.0, 500.0, 400.0, 400.0, 800.0, 300.0, 400.0, 150.0, 700.0, 300.0, 200.0, 400.0, 400.0, 300.0, 500.0, 1000.0, 750.0, 600.0, 350.0, 600.0, 1000.0, 750.0, 700.0, 500.0, 550.0, 1100.0, 550.0, 600.0, 450.0, 650.0, 800.0, 600.0, 2200.0, 500.0, 600.0, 600.0, 400.0, 800.0, 650.0, 400.0, 450.0, 600.0, 700.0, 600.0, 300.0, 250.0, 150.0, 100.0, 150.0, 400.0, 150.0, 500.0, 100.0, 400.0, 300.0, 500.0, 250.0, 100.0, 200.0, 100.0, 600.0, 200.0, 300.0, 300.0, 400.0, 150.0, 250.0, 200.0, 500.0, 300.0, 100.0, 750.0, 400.0, 300.0, 500.0, 150.0, 150.0, 200.0, 600.0, 200.0, 200.0, 300.0, 150.0, 600.0, 600.0, 1000.0, 600.0, 1200.0, 950.0, 800.0, 1500.0, 1000.0, 800.0, 700.0, 1300.0, 350.0, 800.0, 700.0, 500.0, 1000.0, 1500.0, 400.0, 350.0, 750.0, 800.0, 900.0, 600.0, 750.0, 800.0, 1200.0, 800.0, 800.0, 1200.0, 600.0, 650.0, 800.0, 800.0, 400.0, 1200.0, 250.0, 800.0, 450.0, 700.0, 1200.0, 850.0, 700.0, 1300.0, 600.0, 800.0, 650.0, 700.0, 400.0, 550.0, 1000.0, 600.0, 650.0, 900.0, 400.0, 800.0, 800.0, 200.0, 700.0, 350.0, 900.0, 800.0, 800.0, 750.0, 1200.0, 800.0, 700.0, 450.0, 150.0, 650.0, 500.0, 550.0, 1350.0, 450.0, 800.0, 600.0, 400.0, 200.0, 100.0, 400.0, 700.0, 750.0, 1000.0, 400.0, 900.0, 500.0, 100.0, 400.0, 400.0, 1000.0, 550.0, 550.0, 500.0, 300.0, 700.0, 500.0, 100.0, 1000.0, 400.0, 1350.0, 650.0, 250.0, 250.0, 250.0, 300.0, 400.0, 350.0, 250.0, 1200.0, 650.0, 450.0, 150.0, 450.0, 700.0, 800.0, 300.0, 250.0, 400.0, 200.0, 350.0, 500.0, 150.0, 600.0, 350.0, 100.0, 300.0, 650.0, 800.0, 850.0, 250.0, 300.0, 300.0, 800.0, 300.0, 400.0, 850.0, 1000.0, 1100.0, 2200.0, 1500.0, 1200.0, 1200.0, 1300.0, 1350.0, 1000.0, 800.0, 1500.0, 1400.0, 2000.0, 1000.0, 1400.0, 1800.0, 1200.0, 1500.0, 1500.0, 1100.0, 1500.0, 1000.0, 700.0, 800.0, 2000.0, 1500.0, 1400.0, 1300.0, 1600.0, 1300.0, 1000.0, 1500.0, 1100.0, 1500.0, 1300.0, 500.0, 700.0, 1900.0, 400.0, 600.0, 900.0, 600.0, 500.0, 550.0, 1000.0, 500.0, 600.0, 800.0, 700.0, 500.0, 400.0, 650.0, 500.0, 450.0, 200.0, 450.0, 400.0, 400.0, 400.0, 300.0, 300.0, 400.0, 500.0, 300.0, 400.0, 200.0, 600.0, 700.0, 600.0, 500.0, 800.0, 900.0, 750.0, 550.0, 400.0, 400.0, 800.0, 400.0, 400.0, 300.0, 300.0, 550.0, 600.0, 250.0, 600.0, 300.0, 400.0, 300.0, 600.0, 750.0, 650.0, 750.0, 450.0, 450.0, 600.0, 400.0, 950.0, 400.0, 650.0, 400.0, 500.0, 200.0, 450.0, 400.0, 500.0, 600.0, 800.0, 500.0, 450.0, 300.0, 800.0, 600.0, 600.0, 1200.0, 800.0, 500.0, 150.0, 500.0, 1500.0, 1400.0, 300.0, 600.0, 600.0, 1200.0, 500.0, 800.0, 400.0, 800.0, 1300.0, 1600.0, 700.0, 1800.0, 500.0, 300.0, 400.0, 400.0, 800.0, 1100.0, 400.0, 600.0, 600.0, 1500.0, 800.0, 750.0, 600.0, 350.0, 300.0, 550.0, 900.0, 300.0, 400.0, 250.0, 100.0, 1500.0, 800.0, 600.0, 500.0, 1800.0, 1000.0, 500.0, 250.0, 400.0, 850.0, 500.0, 1800.0, 500.0, 450.0, 1200.0, 600.0, 700.0, 1000.0, 200.0, 600.0, 400.0, 1100.0, 500.0, 900.0, 150.0, 250.0, 1500.0, 200.0, 450.0, 1000.0, 450.0, 1000.0, 500.0, 250.0, 500.0, 450.0, 750.0, 800.0, 750.0, 500.0, 1400.0, 600.0, 600.0, 300.0, 500.0, 200.0, 500.0, 400.0, 250.0, 900.0, 1000.0, 200.0, 700.0, 500.0, 1200.0, 600.0, 200.0, 400.0, 1100.0, 350.0, 400.0, 350.0, 1200.0, 450.0, 600.0, 600.0, 1500.0, 1700.0, 400.0, 250.0, 400.0, 600.0, 1200.0, 800.0, 1400.0, 650.0, 180.0, 400.0, 650.0, 300.0, 300.0, 400.0, 1400.0, 200.0, 300.0, 800.0, 800.0, 150.0, 1700.0, 500.0, 500.0, 1000.0, 300.0, 500.0, 1300.0, 1300.0, 750.0, 600.0, 200.0, 400.0, 750.0, 600.0, 750.0, 400.0, 400.0, 700.0, 600.0, 800.0, 1500.0, 500.0, 330.0, 250.0, 550.0, 600.0, 1400.0, 800.0, 600.0, 800.0, 550.0, 200.0, 500.0, 700.0, 700.0, 300.0, 500.0, 500.0, 500.0, 450.0, 400.0, 800.0, 500.0, 800.0, 400.0, 550.0, 550.0, 150.0, 450.0, 500.0, 650.0, 300.0, 750.0, 1500.0, 600.0, 300.0, 300.0, 100.0, 150.0, 400.0, 1000.0, 600.0, 700.0, 250.0, 800.0, 300.0, 600.0, 500.0, 300.0, 400.0, 500.0, 200.0, 500.0, 400.0, 250.0, 600.0, 500.0, 600.0, 600.0, 900.0, 300.0, 600.0, 500.0, 400.0, 750.0, 150.0, 700.0, 300.0, 300.0, 350.0, 500.0, 2000.0, 1500.0, 1100.0, 1000.0, 1800.0, 1700.0, 1800.0, 1400.0, 750.0, 1200.0, 800.0, 1800.0, 1200.0, 950.0, 600.0, 400.0, 700.0, 600.0, 750.0, 1500.0, 500.0, 1500.0, 1200.0, 400.0, 600.0, 900.0, 400.0, 800.0, 500.0, 650.0, 500.0, 1500.0, 800.0, 1600.0, 1400.0, 600.0, 500.0, 800.0, 550.0, 500.0, 1000.0, 400.0, 600.0, 800.0, 900.0, 700.0, 400.0, 500.0, 450.0, 800.0, 550.0, 550.0, 750.0, 2000.0, 400.0, 550.0, 1000.0, 800.0, 450.0, 300.0, 500.0, 300.0, 400.0, 250.0, 500.0, 600.0, 300.0, 400.0, 200.0, 500.0, 450.0, 250.0, 350.0, 200.0, 330.0, 200.0, 400.0, 600.0, 250.0, 200.0, 500.0, 400.0, 800.0, 400.0, 450.0, 400.0, 1500.0, 1600.0, 1400.0, 1400.0, 1500.0, 1900.0, 1300.0, 1500.0, 1500.0, 1600.0, 1400.0, 1300.0, 1000.0, 1500.0, 1400.0, 1100.0, 1500.0, 1300.0, 2000.0, 2000.0, 2500.0, 600.0, 700.0, 700.0, 800.0, 500.0, 500.0, 850.0, 800.0, 1200.0, 900.0, 800.0, 1000.0, 550.0, 800.0, 300.0, 750.0, 600.0, 600.0, 150.0, 700.0, 400.0, 500.0, 700.0, 150.0, 600.0, 600.0, 250.0, 2500.0, 500.0, 250.0, 300.0, 200.0, 1900.0, 400.0, 550.0, 250.0, 600.0, 400.0, 400.0, 400.0, 500.0, 300.0, 800.0, 300.0, 1300.0, 1600.0, 1400.0, 1000.0, 1700.0, 1500.0, 1500.0, 1400.0, 2000.0, 1600.0, 1400.0, 1500.0, 1900.0, 1500.0, 1900.0, 1500.0, 1200.0, 2500.0, 1600.0, 1400.0, 1400.0, 1700.0, 1800.0, 1500.0, 1100.0, 1500.0, 1400.0, 1400.0, 1500.0, 1900.0, 1500.0, 1500.0, 1500.0, 1200.0, 1500.0, 1200.0, 1500.0, 800.0, 650.0, 1000.0, 1800.0, 2200.0, 2100.0, 3000.0, 1200.0, 2800.0, 1700.0, 1400.0, 1600.0, 2500.0, 750.0, 3000.0, 1500.0, 500.0, 1000.0, 1500.0, 3400.0, 2000.0, 1200.0, 1700.0, 1200.0, 1600.0, 2000.0, 1300.0, 2200.0, 1300.0, 1600.0, 3000.0, 1000.0, 1200.0, 1000.0, 1400.0, 1900.0, 800.0, 1000.0, 500.0, 1200.0, 650.0, 1300.0, 1700.0, 1800.0, 1600.0, 1100.0, 750.0, 1200.0, 500.0, 650.0, 800.0, 350.0, 1100.0, 800.0, 900.0, 1700.0, 1000.0, 600.0, 600.0, 2500.0, 650.0, 1400.0, 750.0, 400.0, 900.0, 700.0, 700.0, 500.0, 700.0, 800.0, 800.0, 750.0, 650.0, 750.0, 500.0, 1000.0, 1000.0, 400.0, 1200.0, 500.0, 500.0, 600.0, 800.0, 1000.0, 500.0, 600.0, 700.0, 900.0, 1300.0, 750.0, 1000.0, 750.0, 300.0, 300.0, 300.0, 500.0, 450.0, 150.0, 600.0, 800.0, 550.0, 350.0, 250.0, 500.0, 500.0, 350.0, 500.0, 650.0, 500.0, 600.0, 650.0, 400.0, 250.0, 750.0, 200.0, 750.0, 400.0, 1200.0, 400.0, 200.0, 750.0, 400.0, 450.0, 400.0, 800.0, 250.0, 800.0, 500.0, 750.0, 400.0, 650.0, 400.0, 750.0, 650.0, 1300.0, 1600.0, 1200.0, 1200.0, 500.0, 300.0, 600.0, 450.0, 750.0, 1300.0, 600.0, 350.0, 600.0, 500.0, 500.0, 700.0, 1500.0, 400.0, 400.0, 800.0, 900.0, 400.0, 400.0, 1600.0, 800.0, 300.0, 400.0, 1300.0, 350.0, 400.0, 500.0, 900.0, 1600.0, 250.0, 1100.0, 400.0, 700.0, 700.0, 650.0, 700.0, 700.0, 500.0, 300.0, 400.0, 300.0, 400.0, 100.0, 400.0, 250.0, 350.0, 800.0, 400.0, 600.0, 3000.0, 700.0, 500.0, 700.0, 1500.0, 450.0, 700.0, 300.0, 400.0, 500.0, 500.0, 800.0, 40.0, 180.0, 300.0, 150.0, 750.0, 400.0, 500.0, 200.0, 750.0, 150.0, 1300.0, 1300.0, 600.0, 150.0, 850.0, 500.0, 1000.0, 1000.0, 700.0, 700.0, 1000.0, 300.0, 800.0, 950.0, 300.0, 900.0, 800.0, 500.0, 1000.0, 500.0, 300.0, 1400.0, 1300.0, 1500.0, 500.0, 550.0, 600.0, 750.0, 550.0, 2000.0, 550.0, 1000.0, 700.0, 600.0, 250.0, 1400.0, 1500.0, 200.0, 700.0, 400.0, 400.0, 600.0, 400.0, 200.0, 450.0, 450.0, 500.0, 500.0, 500.0, 1000.0, 700.0, 300.0, 700.0, 350.0, 450.0, 250.0, 200.0, 400.0, 400.0, 2000.0, 400.0, 400.0, 700.0, 600.0, 750.0, 700.0, 300.0, 700.0, 1200.0, 400.0, 800.0, 200.0, 600.0, 1000.0, 500.0, 700.0, 1500.0, 600.0, 550.0, 300.0, 500.0, 650.0, 800.0, 650.0, 500.0, 500.0, 650.0, 2000.0, 300.0, 600.0, 750.0, 650.0, 1000.0, 700.0, 200.0, 800.0, 800.0, 300.0, 700.0, 600.0, 550.0, 1000.0, 1500.0, 150.0, 400.0, 500.0, 1200.0, 700.0, 750.0, 1200.0, 800.0, 900.0, 650.0, 800.0, 1700.0, 1700.0, 800.0, 1900.0, 1300.0, 300.0, 2100.0, 600.0, 1000.0, 1700.0, 2100.0, 1500.0, 500.0, 1700.0, 1100.0, 1400.0, 650.0, 800.0, 450.0, 1000.0, 600.0, 600.0, 700.0, 1000.0, 2000.0, 750.0, 1000.0, 1400.0, 1500.0, 1200.0, 850.0, 1500.0, 850.0, 1000.0, 600.0, 1200.0, 300.0, 1000.0, 1400.0, 1400.0, 1800.0, 400.0, 1400.0, 350.0, 800.0, 300.0, 1800.0, 500.0, 1300.0, 800.0, 2100.0, 400.0, 550.0, 800.0, 1000.0, 300.0, 800.0, 550.0, 600.0, 1000.0, 500.0, 1300.0, 1000.0, 1200.0, 1300.0, 300.0, 550.0, 250.0, 500.0, 700.0, 1200.0, 1000.0, 1200.0, 1000.0, 1500.0, 550.0, 800.0, 900.0, 1700.0, 1400.0, 550.0, 400.0, 750.0, 400.0, 900.0, 500.0, 800.0, 500.0, 800.0, 400.0, 800.0, 150.0, 750.0, 600.0, 1200.0, 500.0, 400.0, 500.0, 800.0, 1100.0, 500.0, 150.0, 300.0, 350.0, 100.0, 300.0, 250.0, 300.0, 550.0, 500.0, 600.0, 1600.0, 1800.0, 1600.0, 550.0, 400.0, 450.0, 250.0, 450.0, 180.0, 400.0, 200.0, 300.0, 800.0, 800.0, 2000.0, 1000.0, 600.0, 400.0, 1250.0, 1400.0, 300.0, 150.0, 700.0, 700.0, 500.0, 300.0, 400.0, 400.0, 2000.0, 700.0, 1000.0, 500.0, 400.0, 300.0, 350.0, 400.0, 300.0, 800.0, 400.0, 400.0, 300.0, 150.0, 900.0, 150.0, 250.0, 400.0, 400.0, 150.0, 300.0, 300.0, 500.0, 350.0, 600.0, 900.0, 1300.0, 200.0, 750.0, 300.0, 700.0, 1300.0, 1100.0, 2000.0, 1500.0, 1500.0, 2000.0, 750.0, 1500.0, 1500.0, 1600.0, 1500.0, 1200.0, 800.0, 1100.0, 1100.0, 2000.0, 500.0, 750.0, 1500.0, 800.0, 700.0, 650.0, 650.0, 350.0, 400.0, 650.0, 700.0, 500.0, 1300.0, 1000.0, 600.0, 500.0, 500.0, 800.0, 800.0, 550.0, 450.0, 250.0, 300.0, 400.0, 600.0, 500.0, 300.0, 450.0, 600.0, 1700.0, 1500.0, 1800.0, 1500.0, 1500.0, 2500.0, 3000.0, 2200.0, 3000.0, 800.0, 2800.0, 550.0, 1100.0, 2100.0, 1500.0, 3000.0, 2500.0, 3500.0, 1700.0, 1700.0, 1500.0, 1200.0, 1200.0, 1300.0, 1500.0, 1300.0, 2800.0, 2100.0, 1200.0, 800.0, 1600.0, 1700.0, 1600.0, 3000.0, 1000.0, 1500.0, 800.0, 2000.0, 1500.0, 700.0, 1500.0, 2500.0, 1000.0, 2100.0, 1900.0, 1700.0, 2000.0, 2200.0, 1400.0, 1500.0, 600.0, 800.0, 900.0, 1200.0, 1700.0, 2500.0, 1600.0, 1300.0, 1400.0, 1000.0, 1000.0, 600.0, 2500.0, 1400.0, 200.0, 1500.0, 4000.0, 550.0, 3000.0, 1500.0, 3000.0, 500.0, 1000.0, 1100.0, 650.0, 1200.0, 2500.0, 1500.0, 2000.0, 1500.0, 1000.0, 1400.0, 1500.0, 1100.0, 600.0, 1300.0, 1000.0, 1300.0, 650.0, 850.0, 750.0, 1800.0, 500.0, 1800.0, 1000.0, 1000.0, 1200.0, 3400.0, 750.0, 1800.0, 2000.0, 3000.0, 1000.0, 1400.0, 3500.0, 400.0, 900.0, 1200.0, 800.0, 1500.0, 1200.0, 4000.0, 500.0, 700.0, 1300.0, 4000.0, 1200.0, 1000.0, 1200.0, 1000.0, 700.0, 1700.0, 2000.0, 1200.0, 1600.0, 800.0, 2000.0, 3000.0, 2000.0, 2000.0, 3500.0, 1200.0, 1000.0, 700.0, 1300.0, 800.0, 1000.0, 500.0, 750.0, 800.0, 1800.0, 800.0, 2800.0, 800.0, 1000.0, 500.0, 3000.0, 750.0, 800.0, 2000.0, 2200.0, 650.0, 1800.0, 950.0, 750.0, 3000.0, 1000.0, 1500.0, 500.0, 400.0, 550.0, 1000.0, 600.0, 700.0, 2000.0, 550.0, 1200.0, 1000.0, 300.0, 1300.0, 500.0, 1000.0, 500.0, 1600.0, 500.0, 3000.0, 1000.0, 450.0, 1000.0, 400.0, 650.0, 550.0, 1200.0, 1200.0, 1000.0, 1000.0, 2000.0, 1500.0, 400.0, 300.0, 1200.0, 3000.0, 500.0, 500.0, 1800.0, 2500.0, 800.0, 2500.0, 700.0, 1400.0, 600.0, 600.0, 800.0, 550.0, 850.0, 2400.0, 500.0, 1400.0, 1900.0, 800.0, 1000.0, 1200.0, 1500.0, 250.0, 600.0, 700.0, 500.0, 3000.0, 500.0, 800.0, 600.0, 800.0, 1200.0, 550.0, 800.0, 800.0, 1200.0, 800.0, 600.0, 350.0, 2000.0, 700.0, 600.0, 2500.0, 900.0, 600.0, 1000.0, 600.0, 400.0, 250.0, 700.0, 400.0, 300.0, 500.0, 200.0, 150.0, 150.0, 150.0, 500.0, 300.0, 500.0, 300.0, 300.0, 150.0, 300.0, 250.0, 500.0, 150.0, 300.0, 400.0, 250.0, 350.0, 800.0, 200.0, 400.0, 350.0, 400.0, 500.0, 500.0, 200.0, 400.0, 500.0, 350.0, 250.0, 400.0, 500.0, 250.0, 300.0, 300.0, 300.0, 300.0, 100.0, 500.0, 1300.0, 1100.0, 1300.0, 750.0, 1300.0, 1700.0, 600.0, 1000.0, 750.0, 550.0, 850.0, 200.0, 700.0, 700.0, 750.0, 1800.0, 1600.0, 400.0, 300.0, 150.0, 400.0, 400.0, 1100.0, 600.0, 300.0, 1300.0, 2000.0, 1200.0, 2000.0, 1500.0, 1500.0, 1500.0, 1600.0, 1100.0, 1100.0, 2000.0, 1500.0, 1700.0, 1500.0, 2500.0, 3000.0, 3000.0, 1500.0, 2500.0, 1700.0, 1700.0, 1200.0, 1300.0, 1300.0, 1700.0, 1500.0, 2000.0, 1500.0, 2500.0, 1900.0, 1300.0, 1000.0, 3000.0, 1100.0, 1200.0, 1000.0, 1400.0, 1100.0, 1000.0, 1000.0, 1200.0, 1200.0, 1500.0, 1000.0, 2000.0, 1200.0, 2800.0, 3000.0, 1500.0, 600.0, 1000.0, 1000.0, 1000.0, 2000.0, 1500.0, 3000.0, 1200.0, 2500.0, 2400.0, 1400.0, 1200.0, 1500.0, 1300.0, 1300.0, 800.0, 700.0, 350.0, 150.0, 200.0, 200.0, 400.0, 500.0, 250.0, 1200.0, 1300.0, 2100.0, 1700.0, 1500.0, 2500.0, 1900.0, 1700.0, 1000.0, 1000.0, 1100.0, 1200.0, 1000.0, 1400.0, 1100.0, 1300.0, 1000.0, 1000.0, 1000.0, 1200.0, 1500.0, 4000.0, 1200.0, 1000.0, 1700.0, 2000.0, 2000.0, 3500.0, 1200.0, 1300.0, 1800.0, 1000.0, 1800.0, 1500.0, 600.0, 1000.0, 1000.0, 1200.0, 1000.0, 3000.0, 1200.0, 1800.0, 1400.0, 1200.0, 1500.0, 800.0, 1300.0, 600.0, 700.0, 750.0, 1600.0, 1400.0, 1100.0, 1000.0, 1800.0, 1700.0, 1500.0, 1200.0, 2500.0, 1000.0, 1500.0, 2000.0, 800.0, 1500.0, 2000.0, 1900.0, 1200.0, 1200.0, 1200.0, 600.0, 1100.0, 400.0, 600.0, 300.0, 600.0, 500.0, 500.0, 650.0, 900.0, 600.0, 900.0, 1400.0, 2000.0, 1000.0, 700.0, 600.0, 300.0, 400.0, 700.0, 400.0, 700.0, 600.0, 450.0, 450.0, 250.0, 500.0, 400.0, 400.0, 700.0, 300.0, 850.0, 500.0, 500.0, 650.0, 600.0, 400.0, 400.0, 500.0, 400.0, 600.0, 800.0, 400.0, 300.0, 450.0, 1000.0, 800.0, 800.0, 500.0, 500.0, 300.0, 350.0, 500.0, 400.0, 400.0, 300.0, 300.0, 700.0, 150.0, 600.0, 500.0, 250.0, 650.0, 250.0, 750.0, 800.0, 500.0, 350.0, 500.0, 500.0, 400.0, 500.0, 350.0, 400.0, 1400.0, 700.0, 300.0, 600.0, 450.0, 600.0, 600.0, 300.0, 300.0, 550.0, 750.0, 300.0, 800.0, 400.0, 200.0, 300.0, 500.0, 450.0, 450.0, 400.0, 200.0, 400.0, 800.0, 600.0, 400.0, 300.0, 400.0, 650.0, 450.0, 400.0, 400.0, 750.0, 650.0, 150.0, 800.0, 200.0, 300.0, 450.0, 600.0, 350.0, 400.0, 300.0, 550.0, 1400.0, 300.0, 300.0, 1300.0, 250.0, 500.0, 800.0, 600.0, 400.0, 600.0, 750.0, 1000.0, 600.0, 1000.0, 300.0, 300.0, 400.0, 400.0, 700.0, 700.0, 700.0, 400.0, 650.0, 1400.0, 900.0, 350.0, 750.0, 900.0, 400.0, 750.0, 900.0, 500.0, 600.0, 500.0, 750.0, 800.0, 600.0, 300.0, 1500.0, 450.0, 800.0, 550.0, 500.0, 400.0, 550.0, 700.0, 1000.0, 450.0, 250.0, 500.0, 2000.0, 1000.0, 1200.0, 300.0, 600.0, 600.0, 400.0, 800.0, 700.0, 900.0, 1000.0, 350.0, 800.0, 300.0, 2000.0, 450.0, 350.0, 200.0, 250.0, 400.0, 550.0, 1100.0, 250.0, 400.0, 1500.0, 800.0, 400.0, 600.0, 1500.0, 500.0, 800.0, 1500.0, 200.0, 400.0, 300.0, 600.0, 600.0, 200.0, 1100.0, 500.0, 600.0, 300.0, 800.0, 900.0, 1500.0, 800.0, 600.0, 1100.0, 200.0, 200.0, 350.0, 500.0, 400.0, 450.0, 1200.0, 1000.0, 700.0, 700.0, 650.0, 500.0, 300.0, 600.0, 400.0, 400.0, 350.0, 1100.0, 400.0, 250.0, 800.0, 750.0, 400.0, 450.0, 300.0, 300.0, 600.0, 650.0, 600.0, 800.0, 700.0, 250.0, 500.0, 1000.0, 350.0, 700.0, 200.0, 400.0, 350.0, 500.0, 800.0, 2000.0, 350.0, 600.0, 700.0, 800.0, 300.0, 550.0, 400.0, 550.0, 400.0, 750.0, 150.0, 700.0, 300.0, 600.0, 600.0, 500.0, 1000.0, 250.0, 1000.0, 1100.0, 300.0, 1200.0, 500.0, 600.0, 450.0, 300.0, 400.0, 800.0, 400.0, 800.0, 500.0, 300.0, 300.0, 800.0, 200.0, 800.0, 900.0, 600.0, 1600.0, 800.0, 650.0, 750.0, 500.0, 750.0, 750.0, 500.0, 500.0, 350.0, 1000.0, 1200.0, 550.0, 200.0, 750.0, 900.0, 400.0, 700.0, 550.0, 500.0, 500.0, 700.0, 200.0, 200.0, 250.0, 800.0, 1000.0, 600.0, 1500.0, 150.0, 750.0, 150.0, 500.0, 450.0, 400.0, 300.0, 900.0, 1000.0, 500.0, 850.0, 800.0, 500.0, 250.0, 400.0, 1000.0, 1000.0, 1100.0, 700.0, 1700.0, 400.0, 300.0, 600.0, 500.0, 400.0, 400.0, 450.0, 400.0, 550.0, 900.0, 400.0, 500.0, 300.0, 1000.0, 200.0, 600.0, 400.0, 350.0, 250.0, 400.0, 450.0, 1200.0, 800.0, 1000.0, 600.0, 700.0, 600.0, 300.0, 750.0, 1500.0, 600.0, 600.0, 800.0, 800.0, 800.0, 700.0, 750.0, 750.0, 550.0, 400.0, 250.0, 500.0, 500.0, 850.0, 500.0, 600.0, 400.0, 650.0, 750.0, 550.0, 350.0, 500.0, 800.0, 450.0, 500.0, 900.0, 750.0, 800.0, 600.0, 500.0, 400.0, 300.0, 450.0, 600.0, 500.0, 200.0, 900.0, 200.0, 450.0, 450.0, 200.0, 450.0, 250.0, 500.0, 400.0, 350.0, 450.0, 300.0, 550.0, 350.0, 800.0, 650.0, 150.0, 150.0, 500.0, 250.0, 300.0, 300.0, 2400.0, 2500.0, 1600.0, 1400.0, 1700.0, 1100.0, 1000.0, 1800.0, 1300.0, 1700.0, 800.0, 800.0, 800.0, 1500.0, 800.0, 900.0, 700.0, 1200.0, 2500.0, 500.0, 850.0, 900.0, 700.0, 1000.0, 850.0, 700.0, 1500.0, 1000.0, 1400.0, 1450.0, 1400.0, 800.0, 3000.0, 700.0, 2000.0, 1000.0, 1000.0, 450.0, 1000.0, 900.0, 900.0, 1500.0, 800.0, 2000.0, 750.0, 400.0, 800.0, 250.0, 200.0, 800.0, 600.0, 1000.0, 1000.0, 600.0, 700.0, 1100.0, 800.0, 150.0, 700.0, 300.0, 200.0, 1000.0, 800.0, 350.0, 250.0, 500.0, 400.0, 300.0, 500.0, 1500.0, 300.0, 2000.0, 1000.0, 750.0, 300.0, 350.0, 600.0, 400.0, 600.0, 600.0, 300.0, 250.0, 1900.0, 600.0, 3000.0, 1200.0, 350.0, 450.0, 500.0, 350.0, 800.0, 400.0, 750.0, 700.0, 200.0, 400.0, 500.0, 300.0, 1200.0, 1000.0, 1000.0, 700.0, 700.0, 650.0, 1200.0, 400.0, 300.0, 400.0, 500.0, 400.0, 300.0, 600.0, 600.0, 700.0, 350.0, 400.0, 500.0, 300.0, 200.0, 450.0, 400.0, 300.0, 650.0, 500.0, 250.0, 700.0, 350.0, 600.0, 700.0, 400.0, 700.0, 250.0, 300.0, 1100.0, 300.0, 600.0, 1000.0, 500.0, 1200.0, 1500.0, 2400.0, 2500.0, 1000.0, 1450.0, 2000.0, 1200.0, 1600.0, 1300.0, 1600.0, 1100.0, 800.0, 600.0, 1100.0, 1400.0, 2000.0, 1500.0, 1200.0, 900.0, 1600.0, 1300.0, 1500.0, 1300.0, 1000.0, 1500.0, 1500.0, 1500.0, 1500.0, 600.0, 1100.0, 750.0, 700.0, 1400.0, 800.0, 1000.0, 900.0, 2000.0, 900.0, 1000.0, 400.0, 950.0, 1000.0, 900.0, 500.0, 700.0, 500.0, 200.0, 600.0, 650.0, 600.0, 400.0, 500.0, 650.0, 700.0, 500.0, 200.0, 600.0, 900.0, 800.0, 1300.0, 600.0, 600.0, 800.0, 900.0, 500.0, 800.0, 900.0, 800.0, 550.0, 800.0, 900.0, 600.0, 1000.0, 900.0, 500.0, 700.0, 600.0, 800.0, 1200.0, 600.0, 1200.0, 650.0, 1000.0, 600.0, 900.0, 600.0, 450.0, 750.0, 650.0, 600.0, 400.0, 600.0, 500.0, 700.0, 400.0, 350.0, 700.0, 700.0, 300.0, 400.0, 800.0, 600.0, 400.0, 400.0, 500.0, 500.0, 500.0, 450.0, 450.0, 300.0, 400.0, 400.0, 200.0, 400.0, 400.0, 250.0, 300.0, 200.0, 250.0, 600.0, 600.0, 100.0, 250.0, 400.0, 500.0, 150.0, 500.0, 400.0, 450.0, 550.0, 400.0, 400.0, 650.0, 600.0, 250.0, 150.0, 600.0, 400.0, 600.0, 250.0, 250.0, 400.0, 600.0, 600.0, 200.0, 200.0, 300.0, 250.0, 400.0, 300.0, 400.0, 300.0, 250.0, 300.0, 600.0, 350.0, 300.0, 400.0, 400.0, 800.0, 300.0, 500.0, 500.0, 350.0, 400.0, 300.0, 500.0, 600.0, 400.0, 500.0, 350.0, 300.0, 400.0, 500.0, 800.0, 800.0, 700.0, 500.0, 650.0, 300.0, 300.0, 450.0, 600.0, 600.0, 250.0, 750.0, 650.0, 550.0, 500.0, 400.0, 100.0, 400.0, 800.0, 500.0, 600.0, 200.0, 400.0, 600.0, 1000.0, 200.0, 200.0, 250.0, 700.0, 400.0, 450.0, 800.0, 300.0, 500.0, 100.0, 450.0, 300.0, 450.0, 500.0, 400.0, 400.0, 550.0, 700.0, 400.0, 400.0, 600.0, 550.0, 200.0, 300.0, 400.0, 300.0, 200.0, 650.0, 200.0, 500.0, 500.0, 300.0, 400.0, 800.0, 200.0, 400.0, 800.0, 400.0, 800.0, 450.0, 400.0, 200.0, 600.0, 750.0, 300.0, 400.0, 600.0, 600.0, 300.0, 250.0, 300.0, 800.0, 250.0, 500.0, 200.0, 1200.0, 300.0, 100.0, 400.0, 400.0, 350.0, 400.0, 700.0, 350.0, 1200.0, 1000.0, 300.0, 1500.0, 300.0, 600.0, 500.0, 400.0, 600.0, 600.0, 300.0, 150.0, 800.0, 350.0, 200.0, 700.0, 150.0, 600.0, 600.0, 600.0, 400.0, 700.0, 500.0, 700.0, 500.0, 100.0, 600.0, 500.0, 800.0, 700.0, 500.0, 400.0, 800.0, 400.0, 400.0, 800.0, 750.0, 600.0, 500.0, 250.0, 900.0, 200.0, 850.0, 400.0, 400.0, 400.0, 300.0, 850.0, 150.0, 800.0, 700.0, 250.0, 750.0, 600.0, 1000.0, 300.0, 600.0, 500.0, 400.0, 600.0, 500.0, 500.0, 500.0, 700.0, 200.0, 200.0, 600.0, 400.0, 500.0, 800.0, 200.0, 250.0, 150.0, 300.0, 500.0, 900.0, 1000.0, 700.0, 300.0, 450.0, 800.0, 500.0, 1000.0, 1200.0, 450.0, 230.0, 500.0, 500.0, 300.0, 700.0, 500.0, 400.0, 400.0, 500.0, 400.0, 400.0, 300.0, 650.0, 300.0, 300.0, 250.0, 500.0, 400.0, 600.0, 600.0, 300.0, 150.0, 300.0, 500.0, 300.0, 250.0, 400.0, 600.0, 700.0, 550.0, 400.0, 800.0, 900.0, 300.0, 700.0, 950.0, 500.0, 200.0, 1200.0, 900.0, 150.0, 800.0, 300.0, 750.0, 400.0, 350.0, 200.0, 400.0, 800.0, 600.0, 450.0, 500.0, 500.0, 500.0, 400.0, 300.0, 1500.0, 500.0, 550.0, 900.0, 500.0, 900.0, 400.0, 550.0, 400.0, 1300.0, 300.0, 400.0, 300.0, 400.0, 400.0, 700.0, 1000.0, 600.0, 800.0, 400.0, 300.0, 600.0, 600.0, 150.0, 750.0, 550.0, 250.0, 300.0, 750.0, 650.0, 500.0, 400.0, 450.0, 400.0, 400.0, 600.0, 500.0, 650.0, 800.0, 800.0, 600.0, 650.0, 700.0, 400.0, 600.0, 450.0, 250.0, 1200.0, 1000.0, 150.0, 700.0, 400.0, 800.0, 500.0, 800.0, 1100.0, 1300.0, 700.0, 600.0, 500.0, 600.0, 1200.0, 500.0, 400.0, 600.0, 1500.0, 600.0, 300.0, 550.0, 500.0, 1000.0, 600.0, 500.0, 1100.0, 1000.0, 300.0, 500.0, 1000.0, 400.0, 650.0, 300.0, 400.0, 500.0, 1200.0, 300.0, 500.0, 800.0, 250.0, 500.0, 800.0, 450.0, 600.0, 400.0, 500.0, 350.0, 250.0, 600.0, 200.0, 550.0, 600.0, 450.0, 400.0, 750.0, 750.0, 400.0, 600.0, 700.0, 500.0, 450.0, 400.0, 550.0, 300.0, 750.0, 1600.0, 600.0, 600.0, 1000.0, 800.0, 1600.0, 500.0, 1000.0, 800.0, 700.0, 800.0, 650.0, 300.0, 600.0, 400.0, 1000.0, 800.0, 300.0, 600.0, 1300.0, 200.0, 400.0, 1000.0, 600.0, 600.0, 700.0, 600.0, 600.0, 1500.0, 400.0, 1200.0, 1200.0, 600.0, 500.0, 1300.0, 300.0, 1100.0, 800.0, 500.0, 1200.0, 400.0, 800.0, 250.0, 500.0, 450.0, 900.0, 500.0, 350.0, 600.0, 1000.0, 300.0, 1300.0, 1000.0, 800.0, 1000.0, 600.0, 1200.0, 350.0, 1000.0, 1000.0, 2500.0, 800.0, 300.0, 450.0, 450.0, 700.0, 900.0, 600.0, 650.0, 700.0, 1500.0, 500.0, 900.0, 350.0, 1500.0, 550.0, 1100.0, 700.0, 500.0, 600.0, 700.0, 1200.0, 500.0, 500.0, 550.0, 1200.0, 750.0, 650.0, 300.0, 400.0, 300.0, 300.0, 800.0, 1000.0, 900.0, 650.0, 1400.0, 700.0, 1200.0, 600.0, 1500.0, 1600.0, 550.0, 250.0, 300.0, 1400.0, 500.0, 1000.0, 800.0, 250.0, 1200.0, 700.0, 600.0, 1500.0, 700.0, 400.0, 400.0, 250.0, 750.0, 1500.0, 1000.0, 400.0, 750.0, 600.0, 1500.0, 450.0, 1100.0, 1000.0, 200.0, 400.0, 700.0, 350.0, 1500.0, 650.0, 400.0, 250.0, 600.0, 1000.0, 1200.0, 900.0, 750.0, 900.0, 300.0, 400.0, 600.0, 500.0, 800.0, 1000.0, 900.0, 400.0, 300.0, 300.0, 1100.0, 400.0, 700.0, 300.0, 700.0, 400.0, 550.0, 500.0, 400.0, 200.0, 500.0, 500.0, 550.0, 300.0, 1700.0, 1200.0, 500.0, 550.0, 400.0, 400.0, 600.0, 600.0, 650.0, 1000.0, 400.0, 400.0, 600.0, 500.0, 200.0, 650.0, 600.0, 250.0, 350.0, 750.0, 400.0, 1100.0, 700.0, 600.0, 900.0, 1100.0, 500.0, 500.0, 200.0, 450.0, 800.0, 500.0, 800.0, 650.0, 350.0, 200.0, 600.0, 600.0, 600.0, 600.0, 450.0, 1000.0, 800.0, 400.0, 500.0, 600.0, 500.0, 400.0, 200.0, 500.0, 450.0, 150.0, 650.0, 600.0, 400.0, 300.0, 400.0, 150.0, 600.0, 500.0, 1300.0, 500.0, 300.0, 100.0, 400.0, 600.0, 1000.0, 500.0, 300.0, 550.0, 1200.0, 900.0, 400.0, 400.0, 800.0, 1300.0, 1200.0, 450.0, 1400.0, 800.0, 650.0, 1100.0, 350.0, 1200.0, 400.0, 700.0, 900.0, 500.0, 500.0, 300.0, 450.0, 500.0, 750.0, 800.0, 300.0, 800.0, 200.0, 350.0, 500.0, 450.0, 900.0, 400.0, 450.0, 700.0, 200.0, 600.0, 300.0, 800.0, 1000.0, 350.0, 1000.0, 1400.0, 700.0, 600.0, 400.0, 400.0, 500.0, 550.0, 800.0, 600.0, 900.0, 650.0, 800.0, 650.0, 150.0, 500.0, 650.0, 350.0, 200.0, 400.0, 800.0, 150.0, 200.0, 800.0, 700.0, 150.0, 500.0, 600.0, 200.0, 400.0, 900.0, 700.0, 600.0, 800.0, 150.0, 400.0, 1500.0, 500.0, 400.0, 900.0, 400.0, 300.0, 400.0, 300.0, 500.0, 300.0, 200.0, 200.0, 200.0, 150.0, 300.0, 500.0, 250.0, 400.0, 800.0, 400.0, 500.0, 500.0, 200.0, 200.0, 400.0, 100.0, 600.0, 1100.0, 400.0, 1300.0, 600.0, 700.0, 500.0, 800.0, 550.0, 400.0, 450.0, 500.0, 600.0, 300.0, 400.0, 1200.0, 400.0, 650.0, 500.0, 900.0, 350.0, 600.0, 400.0, 400.0, 400.0, 400.0, 250.0, 300.0, 200.0, 450.0, 500.0, 300.0, 500.0, 200.0, 500.0, 500.0, 350.0, 400.0, 400.0, 400.0, 400.0, 800.0, 700.0, 350.0, 150.0, 400.0, 200.0, 800.0, 700.0, 400.0, 150.0, 400.0, 500.0, 600.0, 400.0, 250.0, 200.0, 500.0, 400.0, 400.0, 200.0, 1600.0, 1300.0, 1600.0, 1100.0, 800.0, 900.0, 800.0, 1500.0, 900.0, 500.0, 850.0, 550.0, 550.0, 300.0, 800.0, 800.0, 300.0, 800.0, 600.0, 1100.0, 500.0, 550.0, 500.0, 400.0, 500.0, 700.0, 600.0, 400.0, 600.0, 700.0, 900.0, 1000.0, 600.0, 500.0, 600.0, 400.0, 350.0, 700.0, 350.0, 600.0, 600.0, 500.0, 200.0, 600.0, 600.0, 650.0, 600.0, 400.0, 800.0, 500.0, 600.0, 600.0, 500.0, 550.0, 600.0, 1000.0, 600.0, 500.0, 650.0, 450.0, 500.0, 650.0, 700.0, 500.0, 250.0, 500.0, 300.0, 1000.0, 300.0, 500.0, 250.0, 400.0, 300.0, 200.0, 300.0, 400.0, 250.0, 300.0, 400.0, 400.0, 500.0, 300.0, 300.0, 400.0, 500.0, 400.0, 150.0, 250.0, 500.0, 150.0, 200.0, 250.0, 300.0, 200.0, 300.0, 700.0, 500.0, 300.0, 200.0, 300.0, 300.0, 400.0, 600.0, 500.0, 400.0, 500.0, 300.0, 500.0, 300.0, 200.0, 400.0, 400.0, 250.0, 300.0, 300.0, 400.0, 350.0, 450.0, 250.0, 450.0, 400.0, 300.0, 550.0, 600.0, 400.0, 400.0, 500.0, 400.0, 650.0, 250.0, 400.0, 350.0, 400.0, 300.0, 300.0, 250.0, 1100.0, 200.0, 600.0, 900.0, 1400.0, 1500.0, 2000.0, 1000.0, 1100.0, 1500.0, 1200.0, 900.0, 1600.0, 1300.0, 1300.0, 1400.0, 800.0, 1600.0, 1600.0, 700.0, 1500.0, 1600.0, 750.0, 1300.0, 1500.0, 1000.0, 1000.0, 1300.0, 1500.0, 1500.0, 1400.0, 1800.0, 600.0, 1400.0, 1300.0, 600.0, 1200.0, 1500.0, 1400.0, 1200.0, 1300.0, 1500.0, 1500.0, 1000.0, 1000.0, 1000.0, 600.0, 650.0, 1400.0, 800.0, 1200.0, 800.0, 1000.0, 1100.0, 1500.0, 1200.0, 1400.0, 650.0, 550.0, 600.0, 1100.0, 700.0, 1000.0, 800.0, 600.0, 900.0, 750.0, 500.0, 1500.0, 800.0, 1200.0, 550.0, 900.0, 800.0, 550.0, 1200.0, 800.0, 600.0, 900.0, 600.0, 800.0, 750.0, 650.0, 1200.0, 800.0, 550.0, 1200.0, 1000.0, 1000.0, 900.0, 500.0, 1200.0, 750.0, 900.0, 500.0, 800.0, 700.0, 800.0, 1200.0, 600.0, 800.0, 650.0, 600.0, 800.0, 750.0, 500.0, 1200.0, 600.0, 1500.0, 700.0, 1200.0, 700.0, 750.0, 1400.0, 1000.0, 700.0, 650.0, 750.0, 1300.0, 1300.0, 500.0, 1000.0, 1000.0, 800.0, 650.0, 600.0, 1100.0, 800.0, 600.0, 450.0, 500.0, 1000.0, 800.0, 1300.0, 550.0, 300.0, 650.0, 700.0, 400.0, 500.0, 800.0, 1400.0, 600.0, 350.0, 750.0, 650.0, 700.0, 750.0, 700.0, 400.0, 1300.0, 650.0, 600.0, 500.0, 400.0, 300.0, 300.0, 600.0, 800.0, 450.0, 350.0, 700.0, 500.0, 800.0, 300.0, 200.0, 600.0, 1000.0, 400.0, 600.0, 900.0, 450.0, 250.0, 600.0, 700.0, 2000.0, 500.0, 550.0, 150.0, 450.0, 600.0, 600.0, 1500.0, 200.0, 700.0, 400.0, 350.0, 900.0, 350.0, 800.0, 600.0, 1000.0, 400.0, 500.0, 900.0, 400.0, 400.0, 500.0, 650.0, 650.0, 800.0, 1100.0, 700.0, 900.0, 200.0, 600.0, 500.0, 400.0, 250.0, 200.0, 400.0, 300.0, 600.0, 450.0, 200.0, 700.0, 1000.0, 800.0, 200.0, 600.0, 600.0, 300.0, 400.0, 700.0, 600.0, 300.0, 400.0, 250.0, 400.0, 400.0, 200.0, 300.0, 400.0, 1300.0, 200.0, 400.0, 200.0, 950.0, 400.0, 400.0, 750.0, 500.0, 400.0, 700.0, 650.0, 200.0, 300.0, 200.0, 100.0, 800.0, 600.0, 1000.0, 400.0, 400.0, 600.0, 700.0, 400.0, 450.0, 600.0, 500.0, 500.0, 650.0, 900.0, 350.0, 400.0, 200.0, 400.0, 400.0, 350.0, 300.0, 200.0, 400.0, 450.0, 300.0, 300.0, 300.0, 450.0, 500.0, 600.0, 300.0, 800.0, 300.0, 300.0, 600.0, 550.0, 200.0, 750.0, 300.0, 400.0, 200.0, 500.0, 400.0, 900.0, 250.0, 400.0, 550.0, 350.0, 800.0, 450.0, 500.0, 1000.0, 1100.0, 1500.0, 1100.0, 1500.0, 2000.0, 1100.0, 900.0, 1600.0, 1600.0, 1600.0, 1000.0, 1500.0, 1400.0, 1800.0, 1400.0, 1200.0, 1300.0, 1000.0, 1200.0, 1400.0, 1200.0, 1200.0, 1200.0, 1200.0, 1500.0, 1400.0, 1000.0, 1300.0, 1300.0, 1400.0, 1500.0, 1100.0, 1300.0, 1100.0, 1600.0, 1500.0, 1100.0, 1400.0, 1000.0, 1100.0, 1500.0, 900.0, 1400.0, 1600.0, 1500.0, 1000.0, 1500.0, 1800.0, 1500.0, 1200.0, 1300.0, 1000.0, 1200.0, 1400.0, 1000.0, 1500.0, 1200.0, 800.0, 1200.0, 1200.0, 1200.0, 1200.0, 1400.0, 1000.0, 1300.0, 1000.0, 1300.0, 1300.0, 1500.0, 1100.0, 1300.0, 1200.0, 1500.0, 1200.0, 1700.0, 750.0, 1800.0, 1500.0, 2200.0, 3000.0, 2100.0, 2800.0, 1400.0, 1600.0, 2500.0, 3000.0, 500.0, 1500.0, 1000.0, 3400.0, 2000.0, 1500.0, 1300.0, 1700.0, 1200.0, 1600.0, 800.0, 2200.0, 2000.0, 1200.0, 1000.0, 1900.0, 650.0, 1400.0, 1000.0, 800.0, 1000.0, 1300.0, 1600.0, 3000.0, 500.0, 1000.0, 1200.0, 650.0, 2500.0, 1300.0, 1200.0, 1700.0, 1800.0, 1600.0, 1100.0, 750.0, 1200.0, 500.0, 1100.0, 1000.0, 600.0, 650.0, 900.0, 700.0, 500.0, 700.0, 800.0, 1700.0, 900.0, 600.0, 2500.0, 1400.0, 400.0, 750.0, 700.0, 700.0, 500.0, 1100.0, 800.0, 750.0, 500.0, 650.0, 500.0, 1000.0, 650.0, 1200.0, 800.0, 800.0, 400.0, 800.0, 600.0, 400.0, 1000.0, 500.0, 600.0, 1000.0, 800.0, 900.0, 700.0, 350.0, 1300.0, 750.0, 300.0, 1000.0, 750.0, 750.0, 1100.0, 500.0, 650.0, 400.0, 750.0, 750.0, 500.0, 750.0, 600.0, 750.0, 300.0, 600.0, 400.0, 650.0, 400.0, 500.0, 550.0, 150.0, 500.0, 1500.0, 800.0, 400.0, 400.0, 200.0, 600.0, 800.0, 300.0, 850.0, 400.0, 400.0, 300.0, 450.0, 650.0, 250.0, 450.0, 600.0, 1600.0, 400.0, 1300.0, 1200.0, 1200.0, 450.0, 600.0, 700.0, 500.0, 400.0, 700.0, 350.0, 200.0, 400.0, 500.0, 400.0, 550.0, 500.0, 400.0, 900.0, 800.0, 400.0, 200.0, 1300.0, 1200.0, 600.0, 550.0, 1100.0, 500.0, 600.0, 400.0, 800.0, 1300.0, 200.0, 1700.0, 150.0, 2100.0, 1700.0, 1500.0, 750.0, 500.0, 300.0, 150.0, 2000.0, 250.0, 750.0, 400.0, 600.0, 650.0, 500.0, 800.0, 1400.0, 2100.0, 1500.0, 1200.0, 450.0, 1000.0, 400.0, 1500.0, 600.0, 1400.0, 200.0, 2000.0, 1000.0, 500.0, 300.0, 250.0, 300.0, 400.0, 800.0, 700.0, 700.0, 900.0, 200.0, 1700.0, 500.0, 1200.0, 650.0, 500.0, 300.0, 1500.0, 950.0, 1600.0, 1500.0, 1000.0, 300.0, 300.0, 500.0, 900.0, 700.0, 1000.0, 1200.0, 700.0, 1000.0, 800.0, 1500.0, 1400.0, 900.0, 700.0, 250.0, 700.0, 1000.0, 750.0, 600.0, 1300.0, 400.0, 250.0, 350.0, 800.0, 300.0, 1400.0, 500.0, 180.0, 500.0, 800.0, 750.0, 250.0, 500.0, 700.0, 200.0, 600.0, 800.0, 550.0, 2100.0, 900.0, 1100.0, 550.0, 1400.0, 600.0, 400.0, 400.0, 400.0, 750.0, 800.0, 500.0, 150.0, 600.0, 750.0, 600.0, 1200.0, 500.0, 600.0, 500.0, 550.0, 400.0, 400.0, 200.0, 800.0, 800.0, 500.0, 800.0, 1000.0, 500.0, 300.0, 500.0, 500.0, 500.0, 550.0, 300.0, 450.0, 350.0, 150.0, 100.0, 300.0, 600.0, 800.0, 350.0, 1600.0, 650.0, 750.0, 300.0, 400.0, 450.0, 500.0, 200.0, 700.0, 500.0, 1000.0, 200.0, 300.0, 850.0, 800.0, 1000.0, 1000.0, 850.0, 800.0, 800.0, 800.0, 700.0, 1000.0, 600.0, 300.0, 600.0, 300.0, 250.0, 400.0, 600.0, 700.0, 450.0, 500.0, 700.0, 800.0, 1000.0, 600.0, 400.0, 500.0, 900.0, 700.0, 650.0, 500.0, 800.0, 500.0, 350.0, 1800.0, 1300.0, 500.0, 300.0, 550.0, 200.0, 1200.0, 1200.0, 1300.0, 1600.0, 600.0, 1400.0, 550.0, 1200.0, 1000.0, 600.0, 400.0, 1000.0, 500.0, 1200.0, 600.0, 40.0, 250.0, 250.0, 500.0, 600.0, 400.0, 700.0, 350.0, 600.0, 1700.0, 550.0, 600.0, 1100.0, 1000.0, 150.0, 250.0, 700.0, 400.0, 300.0, 400.0, 400.0, 700.0, 700.0, 1800.0, 750.0, 1900.0, 1300.0, 1000.0, 500.0, 1600.0, 700.0, 300.0, 800.0, 300.0, 1000.0, 600.0, 650.0, 750.0, 500.0, 1300.0, 800.0, 1400.0, 650.0, 1000.0, 2000.0, 150.0, 2000.0, 750.0, 700.0, 1500.0, 1700.0, 1100.0, 1800.0, 1000.0, 150.0, 400.0, 250.0, 400.0, 2000.0, 800.0, 400.0, 600.0, 550.0, 400.0, 1400.0, 700.0, 300.0, 1250.0, 700.0, 500.0, 400.0, 450.0, 2000.0, 1000.0, 700.0, 500.0, 400.0, 300.0, 300.0, 350.0, 400.0, 800.0, 400.0, 250.0, 900.0, 400.0, 300.0, 400.0, 150.0, 300.0, 180.0, 150.0, 450.0, 400.0, 400.0, 900.0, 300.0, 150.0, 300.0, 600.0, 300.0, 500.0, 350.0, 1300.0, 800.0, 200.0, 750.0, 300.0, 500.0, 1500.0, 300.0, 1100.0, 1500.0, 1200.0, 1000.0, 1000.0, 1700.0, 1000.0, 600.0, 650.0, 1300.0, 1100.0, 1100.0, 750.0, 750.0, 1400.0, 650.0, 1300.0, 1200.0, 900.0, 600.0, 800.0, 700.0, 1000.0, 800.0, 1500.0, 950.0, 500.0, 800.0, 1200.0, 600.0, 600.0, 500.0, 200.0, 150.0, 500.0, 250.0, 400.0, 250.0, 350.0, 1700.0, 2500.0, 1500.0, 1800.0, 1500.0, 2000.0, 3000.0, 2200.0, 3000.0, 800.0, 550.0, 2800.0, 2500.0, 1500.0, 2000.0, 1500.0, 1500.0, 3000.0, 2100.0, 3500.0, 1700.0, 1700.0, 1300.0, 1600.0, 2800.0, 1700.0, 1500.0, 1200.0, 1500.0, 1600.0, 1300.0, 1200.0, 2000.0, 3000.0, 800.0, 700.0, 2100.0, 1500.0, 2500.0, 1900.0, 2200.0, 1500.0, 1400.0, 2000.0, 1200.0, 1400.0, 1500.0, 600.0, 1300.0, 2100.0, 1700.0, 900.0, 1100.0, 1600.0, 2500.0, 1500.0, 2500.0, 550.0, 1000.0, 3000.0, 1200.0, 1300.0, 1400.0, 4000.0, 500.0, 1800.0, 1300.0, 1500.0, 200.0, 1000.0, 2000.0, 1500.0, 1000.0, 1800.0, 1000.0, 500.0, 1000.0, 1500.0, 1200.0, 2500.0, 400.0, 3400.0, 3000.0, 2000.0, 850.0, 2000.0, 750.0, 700.0, 3500.0, 600.0, 1800.0, 1500.0, 3000.0, 1300.0, 1500.0, 700.0, 1600.0, 1200.0, 1300.0, 1500.0, 1200.0, 1100.0, 1700.0, 2000.0, 500.0, 800.0, 4000.0, 3000.0, 1100.0, 1000.0, 1500.0, 700.0, 2800.0, 1000.0, 1200.0, 1000.0, 1200.0, 4000.0, 2000.0, 3500.0, 1200.0, 550.0, 1000.0, 1600.0, 500.0, 300.0, 2000.0, 650.0, 1800.0, 3000.0, 800.0, 2200.0, 1100.0, 800.0, 2000.0, 500.0, 800.0, 750.0, 1500.0, 1000.0, 800.0, 1000.0, 650.0, 750.0, 500.0, 1800.0, 1000.0, 400.0, 550.0, 600.0, 700.0, 700.0, 2000.0, 1000.0, 1000.0, 3000.0, 2000.0, 800.0, 550.0, 400.0, 650.0, 800.0, 450.0, 650.0, 550.0, 1200.0, 1800.0, 800.0, 800.0, 1200.0, 1000.0, 1000.0, 700.0, 2000.0, 500.0, 1500.0, 300.0, 350.0, 600.0, 3000.0, 400.0, 1900.0, 500.0, 2500.0, 650.0, 800.0, 2500.0, 1400.0, 800.0, 1200.0, 800.0, 600.0, 3000.0, 1000.0, 550.0, 400.0, 800.0, 800.0, 400.0, 850.0, 800.0, 1000.0, 500.0, 1300.0, 1600.0, 3000.0, 600.0, 1000.0, 1400.0, 700.0, 3000.0, 500.0, 1000.0, 2400.0, 600.0, 1500.0, 500.0, 1000.0, 500.0, 800.0, 1300.0, 800.0, 1200.0, 800.0, 250.0, 600.0, 350.0, 500.0, 500.0, 900.0, 2000.0, 700.0, 2500.0, 600.0, 400.0, 600.0, 550.0, 400.0, 300.0, 250.0, 150.0, 700.0, 150.0, 500.0, 150.0, 300.0, 500.0, 250.0, 300.0, 450.0, 400.0, 400.0, 500.0, 150.0, 300.0, 400.0, 300.0, 200.0, 350.0, 500.0, 400.0, 400.0, 250.0, 350.0, 300.0, 500.0, 200.0, 600.0, 600.0, 500.0, 300.0, 300.0, 500.0, 300.0, 450.0, 300.0, 100.0, 300.0, 500.0, 1300.0, 800.0, 1100.0, 1100.0, 1400.0, 1300.0, 600.0, 3200.0, 750.0, 2500.0, 1500.0, 1300.0, 1200.0, 300.0, 4000.0, 1700.0, 1000.0, 2500.0, 750.0, 600.0, 850.0, 550.0, 600.0, 400.0, 700.0, 1000.0, 200.0, 700.0, 750.0, 500.0, 700.0, 750.0, 1800.0, 1200.0, 900.0, 1600.0, 700.0, 400.0, 150.0, 550.0, 700.0, 300.0, 500.0, 600.0, 400.0, 400.0, 1100.0, 500.0, 400.0, 500.0, 250.0, 250.0, 550.0, 500.0, 1100.0, 600.0, 300.0, 1200.0, 1500.0, 2000.0, 1300.0, 1100.0, 1100.0, 1200.0, 1000.0, 1500.0, 1700.0, 2500.0, 1500.0, 2000.0, 3000.0, 3000.0, 2500.0, 1500.0, 1500.0, 1700.0, 1700.0, 1300.0, 1700.0, 1500.0, 1300.0, 1200.0, 2000.0, 1500.0, 2500.0, 1900.0, 1300.0, 1500.0, 1000.0, 1200.0, 1400.0, 1300.0, 1000.0, 3000.0, 1600.0, 1500.0, 1100.0, 1100.0, 1000.0, 2800.0, 1000.0, 2000.0, 1200.0, 2000.0, 3000.0, 1500.0, 600.0, 1000.0, 1000.0, 1000.0, 2000.0, 1500.0, 2500.0, 3000.0, 1400.0, 2400.0, 1500.0, 1300.0, 1300.0, 1200.0, 2500.0, 1200.0, 1200.0, 1200.0, 1100.0, 1100.0, 1200.0, 1000.0, 1500.0, 2000.0, 2500.0, 1500.0, 1700.0, 1300.0, 1700.0, 1500.0, 1200.0, 2100.0, 2500.0, 1900.0, 1300.0, 1500.0, 1000.0, 1200.0, 1300.0, 1400.0, 1300.0, 1000.0, 1000.0, 1000.0, 1600.0, 1200.0, 1300.0, 1500.0, 1100.0, 1700.0, 2000.0, 1100.0, 1000.0, 1000.0, 1000.0, 1200.0, 4000.0, 2000.0, 3500.0, 1200.0, 2000.0, 1800.0, 1800.0, 600.0, 1000.0, 1000.0, 1800.0, 1200.0, 1000.0, 3000.0, 800.0, 1400.0, 1500.0, 1300.0, 1300.0, 1200.0, 1200.0, 1500.0, 1200.0, 1600.0, 600.0, 1100.0, 3000.0, 2200.0, 1200.0, 1400.0, 800.0, 2000.0, 900.0, 850.0, 800.0, 1500.0, 600.0, 700.0, 650.0, 500.0, 400.0, 600.0, 600.0, 700.0, 400.0, 400.0, 700.0, 200.0, 450.0, 200.0, 250.0, 300.0, 400.0, 500.0, 500.0, 500.0, 500.0, 200.0, 700.0, 600.0, 600.0, 300.0, 500.0, 800.0, 800.0, 300.0, 250.0, 500.0, 700.0, 300.0, 650.0, 400.0, 450.0, 500.0, 400.0, 600.0, 200.0, 400.0, 500.0, 400.0, 400.0, 400.0, 750.0, 500.0, 400.0, 450.0, 400.0, 150.0, 400.0, 450.0, 400.0, 650.0, 800.0, 250.0, 450.0, 600.0, 550.0, 250.0, 250.0, 900.0, 750.0, 700.0, 400.0, 500.0, 300.0, 500.0, 150.0, 800.0, 500.0, 700.0, 800.0, 750.0, 350.0, 400.0, 900.0, 300.0, 400.0, 700.0, 900.0, 350.0, 400.0, 700.0, 500.0, 400.0, 300.0, 600.0, 600.0, 450.0, 750.0, 400.0, 600.0, 250.0, 650.0, 600.0, 500.0, 450.0, 400.0, 600.0, 600.0, 1500.0, 1200.0, 400.0, 400.0, 500.0, 400.0, 400.0, 650.0, 400.0, 500.0, 1000.0, 1200.0, 700.0, 900.0, 200.0, 500.0, 1100.0, 1000.0, 700.0, 600.0, 1500.0, 400.0, 500.0, 700.0, 500.0, 350.0, 450.0, 400.0, 400.0, 500.0, 500.0, 600.0, 2000.0, 600.0, 200.0, 250.0, 400.0, 450.0, 400.0, 500.0, 600.0, 400.0, 250.0, 400.0, 400.0, 700.0, 500.0, 500.0, 1500.0, 1200.0, 1200.0, 1200.0, 1600.0, 600.0, 1100.0, 1500.0, 900.0, 800.0, 1400.0, 600.0, 650.0, 700.0, 800.0, 3000.0, 1500.0, 1300.0, 2200.0, 450.0, 500.0, 500.0, 800.0, 600.0, 1200.0, 1400.0, 400.0, 700.0, 800.0, 400.0, 450.0, 2000.0, 400.0, 600.0, 1200.0, 700.0, 600.0, 400.0, 500.0, 600.0, 900.0, 750.0, 700.0, 2500.0, 2200.0, 700.0, 900.0, 1500.0, 650.0, 750.0, 400.0, 1000.0, 700.0, 850.0, 1200.0, 450.0, 2500.0, 850.0, 500.0, 500.0, 1000.0, 700.0, 400.0, 600.0, 1500.0, 800.0, 700.0, 600.0, 550.0, 1500.0, 400.0, 800.0, 500.0, 700.0, 500.0, 500.0, 500.0, 300.0, 450.0, 500.0, 550.0, 400.0, 500.0, 400.0, 400.0, 350.0, 400.0, 650.0, 400.0, 250.0, 300.0, 400.0, 250.0, 400.0, 250.0, 400.0, 500.0, 450.0, 400.0, 500.0, 300.0, 200.0, 350.0, 400.0, 400.0, 300.0, 450.0, 150.0, 600.0, 400.0, 400.0, 300.0, 400.0, 300.0, 600.0, 400.0, 600.0, 750.0, 400.0, 500.0, 500.0, 250.0, 350.0, 400.0, 500.0, 400.0, 350.0, 500.0, 250.0, 300.0, 1200.0, 1200.0, 1200.0, 1500.0, 1400.0, 1300.0, 1200.0, 2500.0, 900.0, 1500.0, 1500.0, 1200.0, 1200.0, 1200.0, 1500.0, 1400.0, 1300.0, 1200.0, 1200.0, 900.0, 1500.0, 1500.0, 750.0, 1300.0, 2800.0, 1300.0, 1700.0, 2200.0, 1800.0, 1600.0, 1100.0, 1100.0, 700.0, 700.0, 350.0, 600.0, 1300.0, 1200.0, 750.0, 750.0, 700.0, 300.0, 1000.0, 750.0, 800.0, 650.0, 800.0, 650.0, 750.0, 800.0, 700.0, 1000.0, 500.0, 500.0, 800.0, 400.0, 1100.0, 600.0, 450.0, 500.0, 450.0, 500.0, 600.0, 750.0, 300.0, 300.0, 600.0, 300.0, 600.0, 650.0, 600.0, 200.0, 400.0, 350.0, 400.0, 800.0, 750.0, 250.0, 500.0, 750.0, 800.0, 1000.0, 500.0, 750.0, 400.0, 550.0, 400.0, 950.0, 400.0, 600.0, 400.0, 300.0, 800.0, 150.0, 200.0, 750.0, 250.0, 300.0, 750.0, 400.0, 500.0, 400.0, 700.0, 600.0, 800.0, 550.0, 650.0, 400.0, 500.0, 1200.0, 900.0, 1500.0, 800.0, 1100.0, 500.0, 1400.0, 650.0, 450.0, 400.0, 1300.0, 800.0, 700.0, 750.0, 1500.0, 600.0, 600.0, 400.0, 1600.0, 500.0, 500.0, 600.0, 650.0, 300.0, 800.0, 600.0, 1700.0, 1200.0, 1300.0, 500.0, 400.0, 700.0, 400.0, 600.0, 1600.0, 650.0, 700.0, 400.0, 400.0, 500.0, 300.0, 1000.0, 1500.0, 650.0, 1300.0, 600.0, 1200.0, 550.0, 300.0, 600.0, 1100.0, 500.0, 800.0, 400.0, 700.0, 900.0, 400.0, 450.0, 500.0, 900.0, 450.0, 400.0, 450.0, 40.0, 550.0, 300.0, 3000.0, 350.0, 700.0, 250.0, 650.0, 700.0, 200.0, 800.0, 300.0, 550.0, 750.0, 600.0, 450.0, 100.0, 500.0, 350.0, 600.0, 1300.0, 1700.0, 180.0, 1700.0, 600.0, 2100.0, 600.0, 700.0, 300.0, 500.0, 1000.0, 550.0, 2000.0, 500.0, 1500.0, 450.0, 1500.0, 700.0, 400.0, 750.0, 1300.0, 1000.0, 400.0, 1000.0, 700.0, 500.0, 800.0, 1300.0, 500.0, 750.0, 500.0, 1300.0, 700.0, 500.0, 700.0, 750.0, 800.0, 1000.0, 2100.0, 1000.0, 500.0, 1900.0, 450.0, 150.0, 150.0, 700.0, 300.0, 2000.0, 400.0, 1000.0, 650.0, 950.0, 150.0, 500.0, 300.0, 1400.0, 800.0, 1200.0, 1000.0, 1000.0, 150.0, 700.0, 750.0, 1500.0, 300.0, 200.0, 700.0, 800.0, 250.0, 1800.0, 500.0, 350.0, 1500.0, 800.0, 1000.0, 200.0, 550.0, 400.0, 500.0, 400.0, 250.0, 1000.0, 1400.0, 400.0, 800.0, 700.0, 600.0, 550.0, 600.0, 350.0, 1500.0, 1500.0, 500.0, 200.0, 550.0, 300.0, 1100.0, 850.0, 400.0, 150.0, 850.0, 700.0, 300.0, 1800.0, 800.0, 1800.0, 600.0, 1000.0, 800.0, 2000.0, 400.0, 300.0, 600.0, 1500.0, 750.0, 1000.0, 1500.0, 700.0, 400.0, 700.0, 300.0, 600.0, 300.0, 900.0, 400.0, 450.0, 650.0, 500.0, 800.0, 800.0, 2000.0, 750.0, 1700.0, 700.0, 850.0, 1000.0, 650.0, 500.0, 600.0, 500.0, 250.0, 200.0, 250.0, 500.0, 200.0, 350.0, 100.0, 1200.0, 550.0, 600.0, 500.0, 300.0, 700.0, 300.0, 300.0, 800.0, 700.0, 300.0, 800.0, 1200.0, 400.0, 600.0, 300.0, 1700.0, 550.0, 1300.0, 250.0, 1100.0, 750.0, 800.0, 750.0, 700.0, 400.0, 200.0, 1100.0, 300.0, 300.0, 300.0, 400.0, 500.0, 600.0, 1600.0, 600.0, 200.0, 150.0, 400.0, 150.0, 700.0, 500.0, 100.0, 500.0, 300.0, 250.0, 250.0, 350.0, 500.0, 500.0, 300.0, 300.0, 350.0, 300.0, 400.0, 150.0, 1300.0, 400.0, 750.0, 700.0, 700.0, 400.0, 500.0, 400.0, 300.0, 300.0, 300.0, 700.0, 600.0, 750.0, 800.0, 700.0, 700.0, 700.0, 600.0, 1100.0, 550.0, 600.0, 1100.0, 1500.0, 800.0, 850.0, 700.0, 600.0, 750.0, 500.0, 1000.0, 500.0, 500.0, 700.0, 700.0, 600.0, 700.0, 1000.0, 300.0, 500.0, 1000.0, 750.0, 600.0, 1000.0, 200.0, 300.0, 500.0, 300.0, 600.0, 400.0, 400.0, 150.0, 700.0, 400.0, 400.0, 200.0, 250.0, 500.0, 300.0, 600.0, 500.0, 500.0, 1300.0, 800.0, 550.0, 550.0, 450.0, 800.0, 650.0, 700.0, 300.0, 600.0, 800.0, 300.0, 150.0, 600.0, 350.0, 400.0, 500.0, 300.0, 300.0, 1300.0, 2800.0, 1200.0, 1600.0, 1000.0, 2500.0, 2500.0, 1100.0, 1100.0, 1300.0, 1300.0, 600.0, 1000.0, 1300.0, 750.0, 1800.0, 750.0, 700.0, 1800.0, 3000.0, 1300.0, 1700.0, 300.0, 600.0, 1200.0, 1000.0, 750.0, 650.0, 2000.0, 3000.0, 2000.0, 750.0, 800.0, 650.0, 800.0, 2200.0, 650.0, 850.0, 800.0, 700.0, 700.0, 1000.0, 1000.0, 700.0, 750.0, 1800.0, 500.0, 400.0, 500.0, 1600.0, 500.0, 150.0, 500.0, 400.0, 1500.0, 400.0, 250.0, 500.0, 550.0, 800.0, 800.0, 400.0, 300.0, 400.0, 1100.0, 600.0, 200.0, 450.0, 1100.0, 250.0, 300.0, 800.0, 400.0, 400.0, 1500.0, 1300.0, 2500.0, 1300.0, 1300.0, 1000.0, 1500.0, 1500.0, 1000.0, 1300.0, 1300.0, 2500.0, 1300.0, 1000.0, 1200.0, 2000.0, 1000.0, 1400.0, 1500.0, 1800.0, 600.0, 1200.0, 1000.0, 850.0, 750.0, 600.0, 800.0, 400.0, 1000.0, 1600.0, 1500.0, 1500.0, 900.0, 1200.0, 1500.0, 1900.0, 700.0, 800.0, 600.0, 750.0, 500.0, 700.0, 800.0, 1200.0, 800.0, 950.0, 650.0, 750.0, 300.0, 600.0, 700.0, 700.0, 600.0, 300.0, 700.0, 600.0, 500.0, 450.0, 650.0, 1300.0, 350.0, 550.0, 600.0, 1000.0, 250.0, 500.0, 600.0, 1000.0, 400.0, 700.0, 500.0, 600.0, 500.0, 600.0, 400.0, 500.0, 500.0, 600.0, 500.0, 500.0, 450.0, 350.0, 500.0, 400.0, 250.0, 250.0, 400.0, 750.0, 800.0, 650.0, 450.0, 400.0, 600.0, 450.0, 450.0, 300.0, 500.0, 500.0, 500.0, 400.0, 800.0, 250.0, 600.0, 300.0, 500.0, 600.0, 750.0, 400.0, 400.0, 300.0, 650.0, 400.0, 400.0, 400.0, 900.0, 200.0, 400.0, 450.0, 600.0, 750.0, 400.0, 800.0, 800.0, 800.0, 750.0, 400.0, 150.0, 500.0, 600.0, 500.0, 200.0, 750.0, 600.0, 600.0, 500.0, 550.0, 400.0, 400.0, 300.0, 900.0, 400.0, 250.0, 600.0, 650.0, 300.0, 800.0, 600.0, 450.0, 700.0, 200.0, 400.0, 650.0, 300.0, 500.0, 350.0, 550.0, 300.0, 150.0, 400.0, 500.0, 100.0, 300.0, 500.0, 400.0, 500.0, 600.0, 200.0, 350.0, 450.0, 500.0, 600.0, 600.0, 650.0, 200.0, 400.0, 400.0, 400.0, 300.0, 750.0, 800.0, 200.0, 300.0, 800.0, 500.0, 1500.0, 1400.0, 300.0, 500.0, 400.0, 550.0, 300.0, 550.0, 1400.0, 200.0, 600.0, 450.0, 800.0, 600.0, 400.0, 700.0, 400.0, 400.0, 1700.0, 1900.0, 500.0, 350.0, 180.0, 200.0, 1000.0, 900.0, 400.0, 400.0, 400.0, 550.0, 300.0, 800.0, 150.0, 600.0, 400.0, 700.0, 1400.0, 250.0, 200.0, 400.0, 350.0, 250.0, 1200.0, 700.0, 1000.0, 400.0, 650.0, 500.0, 500.0, 1000.0, 450.0, 600.0, 400.0, 1000.0, 800.0, 600.0, 1000.0, 600.0, 150.0, 200.0, 600.0, 550.0, 350.0, 400.0, 350.0, 550.0, 250.0, 200.0, 400.0, 550.0, 500.0, 450.0, 1000.0, 600.0, 400.0, 700.0, 1000.0, 300.0, 600.0, 700.0, 550.0, 300.0, 300.0, 800.0, 300.0, 900.0, 500.0, 1200.0, 500.0, 750.0, 350.0, 1400.0, 1700.0, 400.0, 300.0, 800.0, 400.0, 950.0, 450.0, 300.0, 1200.0, 1500.0, 300.0, 250.0, 200.0, 700.0, 600.0, 200.0, 600.0, 800.0, 300.0, 700.0, 300.0, 900.0, 850.0, 500.0, 750.0, 650.0, 350.0, 500.0, 500.0, 300.0, 800.0, 400.0, 600.0, 400.0, 650.0, 100.0, 500.0, 800.0, 200.0, 1800.0, 500.0, 250.0, 1500.0, 300.0, 400.0, 150.0, 250.0, 400.0, 450.0, 450.0, 800.0, 450.0, 700.0, 600.0, 650.0, 400.0, 400.0, 300.0, 350.0, 800.0, 500.0, 250.0, 600.0, 400.0, 900.0, 400.0, 100.0, 250.0, 400.0, 150.0, 1300.0, 700.0, 800.0, 300.0, 450.0, 500.0, 500.0, 400.0, 700.0, 350.0, 500.0, 400.0, 600.0, 450.0, 400.0, 300.0, 400.0, 600.0, 800.0, 500.0, 700.0, 800.0, 250.0, 600.0, 500.0, 1100.0, 900.0, 200.0, 1400.0, 400.0, 400.0, 200.0, 500.0, 250.0, 550.0, 800.0, 500.0, 300.0, 550.0, 500.0, 400.0, 400.0, 500.0, 300.0, 800.0, 500.0, 500.0, 550.0, 400.0, 550.0, 600.0, 400.0, 1300.0, 400.0, 1200.0, 1200.0, 300.0, 400.0, 250.0, 600.0, 300.0, 800.0, 1000.0, 500.0, 1100.0, 250.0, 1200.0, 300.0, 1300.0, 600.0, 1000.0, 400.0, 450.0, 1200.0, 200.0, 600.0, 400.0, 700.0, 750.0, 800.0, 700.0, 600.0, 600.0, 400.0, 850.0, 300.0, 700.0, 1000.0, 400.0, 700.0, 400.0, 500.0, 600.0, 800.0, 600.0, 950.0, 1300.0, 700.0, 1200.0, 150.0, 600.0, 1000.0, 1500.0, 1500.0, 550.0, 1100.0, 500.0, 800.0, 600.0, 500.0, 500.0, 400.0, 800.0, 400.0, 950.0, 200.0, 350.0, 400.0, 400.0, 300.0, 300.0, 400.0, 500.0, 600.0, 400.0, 300.0, 400.0, 450.0, 200.0, 100.0, 300.0, 600.0, 350.0, 180.0, 500.0, 500.0, 400.0, 500.0, 350.0, 500.0, 100.0, 150.0, 400.0, 450.0, 350.0, 300.0, 1000.0, 500.0, 150.0, 500.0, 300.0, 400.0, 600.0, 650.0, 500.0, 500.0, 1200.0, 500.0, 800.0, 1000.0, 700.0, 1500.0, 1500.0, 1000.0, 1800.0, 600.0, 1200.0, 850.0, 1400.0, 1200.0, 1000.0, 550.0, 750.0, 1100.0, 800.0, 1200.0, 700.0, 900.0, 1000.0, 600.0, 750.0, 1200.0, 800.0, 800.0, 850.0, 700.0, 1200.0, 600.0, 800.0, 850.0, 200.0, 800.0, 750.0, 800.0, 950.0, 700.0, 1200.0, 600.0, 800.0, 900.0, 600.0, 650.0, 1000.0, 1000.0, 400.0, 550.0, 750.0, 400.0, 800.0, 500.0, 500.0, 800.0, 800.0, 600.0, 800.0, 1400.0, 700.0, 800.0, 900.0, 700.0, 750.0, 450.0, 300.0, 700.0, 650.0, 1300.0, 600.0, 500.0, 800.0, 500.0, 600.0, 700.0, 400.0, 500.0, 500.0, 550.0, 800.0, 1000.0, 450.0, 400.0, 250.0, 650.0, 550.0, 700.0, 800.0, 550.0, 800.0, 400.0, 400.0, 500.0, 700.0, 650.0, 1300.0, 550.0, 550.0, 750.0, 600.0, 700.0, 500.0, 750.0, 900.0, 1000.0, 250.0, 600.0, 300.0, 600.0, 450.0, 600.0, 450.0, 900.0, 500.0, 1000.0, 600.0, 500.0, 600.0, 400.0, 400.0, 450.0, 500.0, 400.0, 300.0, 250.0, 400.0, 500.0, 150.0, 400.0, 300.0, 400.0, 400.0, 500.0, 300.0, 400.0, 300.0, 350.0, 350.0, 400.0, 500.0, 400.0, 300.0, 150.0, 400.0, 600.0, 400.0, 500.0, 600.0, 400.0, 200.0, 400.0, 400.0, 300.0, 200.0, 500.0, 450.0, 500.0, 400.0, 450.0, 400.0, 400.0, 250.0, 250.0, 600.0, 300.0, 500.0, 400.0, 600.0, 200.0, 250.0, 300.0, 400.0, 400.0, 400.0, 400.0, 300.0, 300.0, 750.0, 300.0, 300.0, 700.0, 200.0, 400.0, 800.0, 200.0, 150.0, 350.0, 250.0, 500.0, 500.0, 300.0, 500.0, 400.0, 200.0, 400.0, 250.0, 1400.0, 1900.0, 1000.0, 1600.0, 1500.0, 600.0, 1500.0, 1000.0, 2000.0, 700.0, 750.0, 1200.0, 800.0, 550.0, 550.0, 900.0, 250.0, 550.0, 1200.0, 400.0, 1500.0, 450.0, 300.0, 500.0, 1900.0, 350.0, 300.0, 250.0, 600.0, 300.0, 350.0, 100.0, 450.0, 1000.0, 1000.0, 1500.0, 1500.0, 850.0, 1400.0, 1100.0, 900.0, 1900.0, 1000.0, 1200.0, 1500.0, 1000.0, 850.0, 1000.0, 1500.0, 1400.0, 1100.0, 900.0, 1200.0, 1200.0, 1400.0, 1300.0, 1400.0, 1900.0, 1500.0, 1200.0, 1500.0, 1000.0, 1200.0, 1800.0, 1600.0, 2100.0, 1200.0, 1700.0, 1400.0, 1100.0, 1300.0, 800.0, 1000.0, 1300.0, 750.0, 1600.0, 900.0, 1700.0, 1100.0, 1200.0, 1200.0, 400.0, 850.0, 1200.0, 1500.0, 1700.0, 1000.0, 1100.0, 3500.0, 3000.0, 2100.0, 2800.0, 2200.0, 3000.0, 1400.0, 1500.0, 3000.0, 1000.0, 900.0, 800.0, 600.0, 800.0, 900.0, 600.0, 1000.0, 600.0, 1300.0, 600.0, 200.0, 500.0, 550.0, 700.0, 800.0, 600.0, 900.0, 1000.0, 700.0, 400.0, 600.0, 800.0, 400.0, 700.0, 650.0, 500.0, 700.0, 450.0, 800.0, 500.0, 650.0, 800.0, 850.0, 800.0, 750.0, 500.0, 450.0, 500.0, 500.0, 700.0, 500.0, 1100.0, 900.0, 200.0, 500.0, 700.0, 600.0, 500.0, 600.0, 500.0, 1600.0, 500.0, 1700.0, 2500.0, 700.0, 700.0, 700.0, 500.0, 300.0, 300.0, 300.0, 200.0, 800.0, 500.0, 600.0, 300.0, 600.0, 400.0, 400.0, 450.0, 150.0, 400.0, 350.0, 350.0, 400.0, 500.0, 200.0, 400.0, 650.0, 500.0, 400.0, 300.0, 1000.0, 350.0, 150.0, 200.0, 800.0, 650.0, 800.0, 400.0, 800.0, 400.0, 850.0, 600.0, 300.0, 500.0, 500.0, 550.0, 250.0, 550.0, 750.0, 400.0, 800.0, 600.0, 250.0, 300.0, 150.0, 1000.0, 950.0, 250.0, 200.0, 600.0, 1200.0, 800.0, 650.0, 600.0, 800.0, 700.0, 500.0, 900.0, 700.0, 600.0, 500.0, 500.0, 450.0, 600.0, 1200.0, 300.0, 400.0, 750.0, 700.0, 600.0, 400.0, 1600.0, 600.0, 400.0, 1200.0, 650.0, 400.0, 500.0, 600.0, 300.0, 800.0, 150.0, 300.0, 1200.0, 800.0, 600.0, 900.0, 40.0, 300.0, 750.0, 400.0, 250.0, 500.0, 700.0, 650.0, 500.0, 350.0, 600.0, 750.0, 200.0, 600.0, 400.0, 1500.0, 450.0, 650.0, 100.0, 500.0, 500.0, 350.0, 800.0, 250.0, 500.0, 500.0, 1300.0, 850.0, 1400.0, 700.0, 800.0, 550.0, 600.0, 1000.0, 1100.0, 1200.0, 1500.0, 600.0, 500.0, 1000.0, 1200.0, 900.0, 1600.0, 500.0, 300.0, 300.0, 300.0, 500.0, 1800.0, 900.0, 250.0, 450.0, 700.0, 800.0, 850.0, 800.0, 450.0, 700.0, 550.0, 500.0, 600.0, 800.0, 200.0, 300.0, 1100.0, 450.0, 400.0, 350.0, 800.0, 500.0, 400.0, 750.0, 500.0, 900.0, 650.0, 400.0, 1100.0, 1600.0, 600.0, 900.0, 350.0, 800.0, 1300.0, 800.0, 300.0, 400.0, 400.0, 500.0, 800.0, 400.0, 550.0, 1500.0, 250.0, 150.0, 400.0, 600.0, 650.0, 750.0, 800.0, 1000.0, 1500.0, 450.0, 350.0, 700.0, 300.0, 500.0, 300.0, 2100.0, 1300.0, 180.0, 400.0, 200.0, 450.0, 300.0, 500.0, 400.0, 750.0, 700.0, 700.0, 800.0, 700.0, 1000.0, 200.0, 500.0, 300.0, 2000.0, 1000.0, 700.0, 1000.0, 700.0, 250.0, 200.0, 600.0, 950.0, 1000.0, 550.0, 400.0, 500.0, 650.0, 800.0, 1200.0, 2000.0, 250.0, 550.0, 250.0, 1400.0, 200.0, 900.0, 850.0, 1500.0, 700.0, 400.0, 700.0, 200.0, 1000.0, 1600.0, 1500.0, 2100.0, 350.0, 450.0, 1000.0, 300.0, 300.0, 1200.0, 300.0, 400.0, 550.0, 900.0, 150.0, 700.0, 800.0, 2000.0, 500.0, 350.0, 300.0, 800.0, 1400.0, 700.0, 450.0, 500.0, 1200.0, 700.0, 600.0, 350.0, 500.0, 800.0, 1200.0, 300.0, 500.0, 450.0, 600.0, 600.0, 600.0, 400.0, 400.0, 350.0, 800.0, 900.0, 200.0, 2000.0, 1700.0, 650.0, 450.0, 500.0, 500.0, 200.0, 400.0, 500.0, 700.0, 600.0, 500.0, 1500.0, 350.0, 300.0, 1000.0, 500.0, 650.0, 1400.0, 1400.0, 700.0, 200.0, 400.0, 700.0, 300.0, 400.0, 450.0, 300.0, 500.0, 750.0, 500.0, 450.0, 750.0, 1200.0, 200.0, 1800.0, 800.0, 200.0, 200.0, 400.0, 1000.0, 700.0, 400.0, 200.0, 1100.0, 1500.0, 800.0, 300.0, 650.0, 400.0, 400.0, 300.0, 350.0, 450.0, 600.0, 1000.0, 600.0, 1200.0, 400.0, 800.0, 300.0, 1000.0, 500.0, 1500.0, 400.0, 700.0, 150.0, 350.0, 1400.0, 600.0, 400.0, 500.0, 1900.0, 400.0, 500.0, 1700.0, 1400.0, 650.0, 450.0, 500.0, 600.0, 1600.0, 250.0, 300.0, 800.0, 1700.0, 500.0, 450.0, 400.0, 150.0, 500.0, 450.0, 700.0, 500.0, 250.0, 1100.0, 400.0, 150.0, 200.0, 500.0, 500.0, 500.0, 500.0, 850.0, 500.0, 1600.0, 600.0, 600.0, 200.0, 1200.0, 800.0, 400.0, 600.0, 800.0, 900.0, 400.0, 1000.0, 500.0, 550.0, 500.0, 150.0, 500.0, 800.0, 700.0, 300.0, 400.0, 800.0, 400.0, 300.0, 400.0, 300.0, 400.0, 300.0, 200.0, 800.0, 400.0, 400.0, 300.0, 300.0, 400.0, 800.0, 800.0, 500.0, 300.0, 500.0, 750.0, 150.0, 500.0, 450.0, 500.0, 400.0, 300.0, 400.0, 200.0, 1100.0, 200.0, 200.0, 200.0, 650.0, 300.0, 250.0, 500.0, 600.0, 400.0, 300.0, 500.0, 200.0, 250.0, 300.0, 200.0, 400.0, 450.0, 300.0, 2000.0, 700.0, 400.0, 800.0, 1200.0, 700.0, 200.0, 200.0, 2500.0, 1600.0, 1500.0, 1000.0, 800.0, 1500.0, 2000.0, 1400.0, 1800.0, 1200.0, 1200.0, 1500.0, 1500.0, 1600.0, 1200.0, 1300.0, 900.0, 2100.0, 2500.0, 1500.0, 1400.0, 1000.0, 1300.0, 800.0, 1300.0, 900.0, 1200.0, 1700.0, 800.0, 1500.0, 1400.0, 1400.0, 1100.0, 1100.0, 1600.0, 1000.0, 1200.0, 600.0, 800.0, 1000.0, 1500.0, 1000.0, 850.0, 1300.0, 1200.0, 600.0, 1200.0, 800.0, 750.0, 1500.0, 1000.0, 1000.0, 1300.0, 1500.0, 800.0, 1200.0, 1000.0, 600.0, 1200.0, 800.0, 200.0, 1000.0, 1200.0, 750.0, 1600.0, 1100.0, 500.0, 1500.0, 1200.0, 900.0, 1000.0, 800.0, 1500.0, 900.0, 1200.0, 1700.0, 650.0, 1400.0, 700.0, 1300.0, 1500.0, 1100.0, 900.0, 800.0, 800.0, 600.0, 900.0, 1000.0, 1100.0, 1500.0, 1100.0, 900.0, 1000.0, 700.0, 700.0, 500.0, 600.0, 1500.0, 800.0, 700.0, 650.0, 650.0, 500.0, 500.0, 950.0, 1400.0, 750.0, 800.0, 800.0, 400.0, 1200.0, 800.0, 450.0, 500.0, 1200.0, 500.0, 750.0, 1700.0, 850.0, 800.0, 1600.0, 500.0, 1800.0, 1200.0, 600.0, 800.0, 850.0, 800.0, 350.0, 800.0, 1500.0, 800.0, 650.0, 850.0, 700.0, 1000.0, 1100.0, 650.0, 450.0, 800.0, 250.0, 600.0, 650.0, 650.0, 550.0, 500.0, 1100.0, 500.0, 650.0, 700.0, 1200.0, 1500.0, 700.0, 400.0, 1100.0, 500.0, 600.0, 700.0, 650.0, 600.0, 600.0, 700.0, 650.0, 600.0, 450.0, 500.0, 1000.0, 700.0, 550.0, 600.0, 300.0, 500.0, 150.0, 450.0, 350.0, 300.0, 400.0, 600.0, 150.0, 800.0, 200.0, 300.0, 200.0, 600.0, 300.0, 300.0, 400.0, 500.0, 650.0, 800.0, 150.0, 200.0, 350.0, 350.0, 500.0, 200.0, 500.0, 200.0, 600.0, 40.0, 400.0, 500.0, 600.0, 500.0, 400.0, 200.0, 400.0, 350.0, 400.0, 700.0, 400.0, 200.0, 350.0, 250.0, 250.0, 400.0, 600.0, 200.0, 400.0, 200.0, 400.0, 500.0, 500.0, 350.0, 300.0, 300.0, 1600.0, 600.0, 1700.0, 1500.0, 750.0, 600.0, 600.0, 1800.0, 850.0, 1700.0, 750.0, 600.0, 1000.0, 800.0, 500.0, 500.0, 500.0, 700.0, 500.0, 550.0, 600.0, 600.0, 500.0, 1800.0, 1300.0, 400.0, 450.0, 700.0, 250.0, 1100.0, 600.0, 500.0, 500.0, 500.0, 450.0, 300.0, 150.0, 400.0, 350.0, 150.0, 300.0, 250.0, 200.0, 150.0, 450.0, 350.0, 450.0, 300.0, 250.0, 200.0, 450.0, 500.0, 500.0, 150.0, 500.0, 350.0, 450.0, 300.0, 250.0, 350.0, 400.0, 200.0, 400.0, 500.0, 600.0, 1800.0, 2800.0, 3500.0, 3000.0, 2100.0, 2800.0, 4000.0, 1000.0, 1000.0, 1700.0, 2200.0, 2500.0, 3000.0, 1000.0, 1400.0, 1000.0, 2500.0, 3500.0, 2000.0, 550.0, 600.0, 3000.0, 2400.0, 1500.0, 6000.0, 3000.0, 2800.0, 1200.0, 1000.0, 1500.0, 1800.0, 3000.0, 2000.0, 700.0, 2000.0, 700.0, 450.0, 400.0, 150.0, 3000.0, 2500.0, 3000.0, 250.0, 3000.0, 400.0, 550.0, 150.0, 1200.0, 3000.0, 400.0, 1400.0, 2400.0, 700.0, 1900.0, 1000.0, 450.0, 500.0, 500.0, 400.0, 300.0, 700.0, 2500.0, 800.0, 1300.0, 1500.0, 1400.0, 1500.0, 2000.0, 1500.0, 2100.0, 1400.0, 1300.0, 1300.0, 1400.0, 1000.0, 1500.0, 1500.0, 1400.0, 1200.0, 1100.0, 1000.0, 1200.0, 1400.0, 1300.0, 1500.0, 1100.0, 1500.0, 1400.0, 750.0, 1700.0, 1600.0, 1800.0, 1500.0, 1000.0, 1200.0, 1000.0, 1600.0, 1700.0, 1300.0, 1800.0, 1000.0, 1000.0, 1800.0, 2400.0, 1500.0, 2800.0, 3000.0, 3000.0, 3000.0, 1200.0, 1400.0, 2400.0, 1400.0, 1300.0, 1000.0, 2000.0, 1200.0, 1500.0, 1500.0, 2500.0, 1400.0, 1300.0, 1300.0, 1400.0, 1100.0, 1500.0, 1500.0, 800.0, 1200.0, 1100.0, 1000.0, 1200.0, 1300.0, 1500.0, 1100.0, 900.0, 1500.0, 1400.0, 750.0, 1700.0, 1000.0, 1200.0, 1000.0, 1700.0, 1700.0, 1300.0, 1800.0, 1000.0, 1000.0, 1400.0, 1000.0, 1800.0, 1500.0, 1200.0, 1800.0, 3000.0, 1200.0, 1400.0, 1100.0, 1000.0, 950.0, 1000.0, 1500.0, 750.0, 600.0, 550.0, 1350.0, 1200.0, 1600.0, 900.0, 1600.0, 1200.0, 1000.0, 800.0, 1100.0, 1000.0, 800.0, 600.0, 800.0, 900.0, 1000.0, 950.0, 800.0, 800.0, 800.0, 800.0, 500.0, 400.0, 800.0, 800.0, 850.0, 700.0, 800.0, 400.0, 650.0, 700.0, 750.0, 400.0, 300.0, 150.0, 400.0, 650.0, 550.0, 650.0, 400.0, 450.0, 400.0, 600.0, 600.0, 600.0, 1000.0, 600.0, 600.0, 500.0, 600.0, 600.0, 650.0, 400.0, 550.0, 400.0, 700.0, 500.0, 600.0, 700.0, 600.0, 650.0, 600.0, 400.0, 500.0, 500.0, 700.0, 500.0, 500.0, 250.0, 300.0, 200.0, 300.0, 400.0, 400.0, 450.0, 900.0, 400.0, 450.0, 400.0, 400.0, 150.0, 500.0, 300.0, 500.0, 150.0, 800.0, 600.0, 600.0, 200.0, 500.0, 550.0, 250.0, 300.0, 400.0, 400.0, 200.0, 300.0, 500.0, 200.0, 450.0, 600.0, 800.0, 250.0, 500.0, 400.0, 400.0, 200.0, 400.0, 250.0, 300.0, 700.0, 400.0, 400.0, 200.0, 600.0, 600.0, 800.0, 600.0, 500.0, 300.0, 400.0, 700.0, 150.0, 550.0, 150.0, 300.0, 100.0, 300.0, 800.0, 300.0, 300.0, 350.0, 400.0, 400.0, 500.0, 800.0, 750.0, 600.0, 500.0, 350.0, 400.0, 300.0, 400.0, 700.0, 500.0, 100.0, 200.0, 600.0, 500.0, 450.0, 250.0, 800.0, 300.0, 300.0, 750.0, 650.0, 200.0, 800.0, 1000.0, 300.0, 250.0, 500.0, 500.0, 300.0, 600.0, 350.0, 650.0, 600.0, 200.0, 650.0, 400.0, 1200.0, 300.0, 700.0, 200.0, 250.0, 400.0, 400.0, 300.0, 400.0, 1000.0, 100.0, 600.0, 800.0, 1000.0, 400.0, 1200.0, 600.0, 500.0, 800.0, 500.0, 400.0, 200.0, 500.0, 600.0, 900.0, 400.0, 450.0, 650.0, 400.0, 450.0, 800.0, 600.0, 200.0, 400.0, 300.0, 1600.0, 500.0, 400.0, 650.0, 800.0, 500.0, 600.0, 300.0, 600.0, 500.0, 800.0, 800.0, 250.0, 500.0, 1500.0, 800.0, 350.0, 300.0, 1600.0, 400.0, 500.0, 600.0, 250.0, 500.0, 250.0, 300.0, 400.0, 400.0, 200.0, 600.0, 250.0, 200.0, 500.0, 350.0, 800.0, 300.0, 1200.0, 1200.0, 450.0, 300.0, 600.0, 800.0, 500.0, 400.0, 400.0, 400.0, 600.0, 1000.0, 600.0, 700.0, 600.0, 600.0, 400.0, 350.0, 450.0, 200.0, 500.0, 200.0, 1000.0, 600.0, 500.0, 500.0, 800.0, 900.0, 400.0, 150.0, 400.0, 500.0, 800.0, 800.0, 200.0, 750.0, 500.0, 450.0, 700.0, 230.0, 600.0, 650.0, 1500.0, 1500.0, 200.0, 700.0, 800.0, 500.0, 500.0, 200.0, 500.0, 300.0, 250.0, 1600.0, 200.0, 600.0, 700.0, 300.0, 300.0, 450.0, 200.0, 300.0, 200.0, 900.0, 400.0, 600.0, 450.0, 1100.0, 500.0, 400.0, 300.0, 1000.0, 700.0, 300.0, 600.0, 400.0, 150.0, 500.0, 1200.0, 200.0, 1200.0, 300.0, 400.0, 200.0, 750.0, 650.0, 300.0, 550.0, 400.0, 800.0, 650.0, 600.0, 700.0, 500.0, 1200.0, 600.0, 700.0, 800.0, 600.0, 700.0, 300.0, 500.0, 800.0, 150.0, 250.0, 250.0, 100.0, 1200.0, 200.0, 500.0, 900.0, 350.0, 100.0, 1200.0, 800.0, 1500.0, 300.0, 300.0, 500.0, 350.0, 500.0, 250.0, 600.0, 450.0, 400.0, 1500.0, 500.0, 300.0, 800.0, 1000.0, 500.0, 750.0, 200.0, 200.0, 800.0, 1300.0, 700.0, 300.0, 1500.0, 400.0, 200.0, 600.0, 1000.0, 400.0, 600.0, 450.0, 450.0, 1100.0, 300.0, 500.0, 300.0, 700.0, 1000.0, 400.0, 400.0, 650.0, 800.0, 500.0, 400.0, 400.0, 600.0, 1300.0, 300.0, 700.0, 600.0, 300.0, 300.0, 400.0, 600.0, 800.0, 650.0, 650.0, 600.0, 1200.0, 300.0, 200.0, 800.0, 500.0, 500.0, 750.0, 1000.0, 1100.0, 400.0, 400.0, 200.0, 800.0, 300.0, 600.0, 650.0, 600.0, 100.0, 400.0, 300.0, 400.0, 800.0, 450.0, 400.0, 900.0, 400.0, 350.0, 400.0, 1200.0, 1100.0, 600.0, 800.0, 400.0, 600.0, 750.0, 400.0, 700.0, 250.0, 350.0, 400.0, 400.0, 700.0, 400.0, 500.0, 750.0, 800.0, 400.0, 300.0, 600.0, 950.0, 550.0, 900.0, 400.0, 1400.0, 500.0, 300.0, 750.0, 700.0, 300.0, 550.0, 450.0, 300.0, 1000.0, 700.0, 600.0, 900.0, 600.0, 600.0, 500.0, 600.0, 1000.0, 500.0, 600.0, 300.0, 600.0, 1500.0, 650.0, 250.0, 1100.0, 750.0, 400.0, 600.0, 800.0, 500.0, 600.0, 150.0, 700.0, 1500.0, 300.0, 750.0, 750.0, 600.0, 500.0, 800.0, 500.0, 150.0, 700.0, 1000.0, 1200.0, 350.0, 600.0, 150.0, 350.0, 400.0, 800.0, 800.0, 350.0, 300.0, 400.0, 1000.0, 400.0, 550.0, 600.0, 300.0, 700.0, 900.0, 600.0, 800.0, 850.0, 100.0, 400.0, 700.0, 600.0, 300.0, 550.0, 400.0, 700.0, 1500.0, 1400.0, 800.0, 1350.0, 800.0, 1200.0, 1350.0, 550.0, 650.0, 750.0, 800.0, 600.0, 600.0, 400.0, 1100.0, 1300.0, 900.0, 250.0, 500.0, 900.0, 700.0, 150.0, 700.0, 1500.0, 400.0, 300.0, 800.0, 1300.0, 700.0, 900.0, 1000.0, 1000.0, 300.0, 300.0, 1000.0, 500.0, 600.0, 1000.0, 800.0, 450.0, 800.0, 400.0, 600.0, 600.0, 650.0, 550.0, 1200.0, 600.0, 1200.0, 800.0, 550.0, 700.0, 450.0, 900.0, 500.0, 300.0, 500.0, 500.0, 450.0, 550.0, 550.0, 600.0, 600.0, 450.0, 1000.0, 600.0, 1000.0, 1300.0, 600.0, 200.0, 300.0, 550.0, 900.0, 100.0, 700.0, 200.0, 350.0, 400.0, 600.0, 600.0, 650.0, 1200.0, 800.0, 650.0, 1200.0, 800.0, 300.0, 400.0, 200.0, 600.0, 800.0, 800.0, 450.0, 200.0, 650.0, 700.0, 350.0, 250.0, 600.0, 650.0, 200.0, 300.0, 300.0, 150.0, 450.0, 400.0, 600.0, 650.0, 500.0, 900.0, 400.0, 350.0, 500.0, 400.0, 750.0, 400.0, 800.0, 400.0, 800.0, 200.0, 200.0, 200.0, 400.0, 500.0, 800.0, 400.0, 250.0, 400.0, 400.0, 400.0, 200.0, 600.0, 400.0, 350.0, 500.0, 700.0, 400.0, 400.0, 300.0, 400.0, 300.0, 150.0, 300.0, 250.0, 300.0, 200.0, 400.0, 400.0, 400.0, 400.0, 300.0, 700.0, 600.0, 150.0, 600.0, 500.0, 150.0, 500.0, 150.0, 500.0, 600.0, 400.0, 400.0, 230.0, 550.0, 400.0, 100.0, 400.0, 700.0, 500.0, 500.0, 700.0, 200.0, 400.0, 250.0, 600.0, 300.0, 200.0, 200.0, 800.0, 500.0, 400.0, 300.0, 800.0, 1100.0, 700.0, 1000.0, 600.0, 1200.0, 950.0, 800.0, 1000.0, 1500.0, 800.0, 650.0, 350.0, 800.0, 800.0, 1000.0, 1700.0, 700.0, 1000.0, 500.0, 1500.0, 400.0, 750.0, 550.0, 900.0, 600.0, 750.0, 1200.0, 800.0, 800.0, 800.0, 600.0, 650.0, 1200.0, 1200.0, 250.0, 600.0, 850.0, 700.0, 1000.0, 800.0, 400.0, 1000.0, 900.0, 600.0, 800.0, 800.0, 500.0, 700.0, 350.0, 900.0, 700.0, 750.0, 400.0, 800.0, 600.0, 450.0, 800.0, 400.0, 550.0, 750.0, 1350.0, 600.0, 450.0, 750.0, 750.0, 1000.0, 400.0, 900.0, 500.0, 300.0, 550.0, 550.0, 700.0, 600.0, 500.0, 400.0, 100.0, 1350.0, 650.0, 400.0, 1200.0, 650.0, 450.0, 700.0, 300.0, 800.0, 900.0, 850.0, 400.0, 400.0, 200.0, 200.0, 500.0, 1200.0, 400.0, 150.0, 200.0, 100.0, 400.0, 600.0, 400.0, 200.0, 500.0, 600.0, 400.0, 100.0, 400.0, 500.0, 200.0, 200.0, 400.0, 300.0, 400.0, 200.0, 400.0, 250.0, 300.0, 200.0, 400.0, 150.0, 250.0, 500.0, 350.0, 200.0, 350.0, 650.0, 300.0, 600.0, 400.0, 550.0, 1500.0, 1600.0, 1600.0, 1200.0, 1600.0, 1200.0, 1500.0, 1500.0, 1300.0, 800.0, 600.0, 1000.0, 800.0, 800.0, 1200.0, 800.0, 600.0, 1000.0, 800.0, 800.0, 1000.0, 800.0, 1000.0, 800.0, 1200.0, 1100.0, 1500.0, 800.0, 900.0, 600.0, 600.0, 600.0, 1000.0, 700.0, 700.0, 800.0, 300.0, 1300.0, 1300.0, 600.0, 1000.0, 1000.0, 800.0, 600.0, 500.0, 500.0, 600.0, 500.0, 300.0, 650.0, 1100.0, 750.0, 150.0, 400.0, 300.0, 650.0, 650.0, 400.0, 300.0, 650.0, 200.0, 1000.0, 550.0, 600.0, 250.0, 450.0, 800.0, 900.0, 900.0, 400.0, 400.0, 350.0, 1000.0, 850.0, 300.0, 100.0, 500.0, 500.0, 700.0, 650.0, 750.0, 400.0, 1100.0, 400.0, 300.0, 600.0, 300.0, 600.0, 450.0, 450.0, 500.0, 150.0, 150.0, 700.0, 400.0, 1100.0, 250.0, 200.0, 600.0, 600.0, 700.0, 400.0, 500.0, 400.0, 500.0, 600.0, 600.0, 400.0, 650.0, 600.0, 400.0, 950.0, 400.0, 300.0, 300.0, 400.0, 500.0, 600.0, 600.0, 100.0, 300.0, 300.0, 350.0, 650.0, 300.0, 200.0, 400.0, 500.0, 250.0, 650.0, 600.0, 600.0, 400.0, 600.0, 600.0, 350.0, 300.0, 300.0, 150.0, 200.0, 550.0, 400.0, 450.0, 450.0, 250.0, 300.0, 800.0, 500.0, 600.0, 300.0, 800.0, 400.0, 300.0, 300.0, 300.0, 300.0, 300.0, 150.0, 450.0, 400.0, 400.0, 200.0, 400.0, 650.0, 500.0, 500.0, 400.0, 500.0, 300.0, 700.0, 250.0, 250.0, 500.0, 1000.0, 1300.0, 1200.0, 1500.0, 1200.0, 1350.0, 1000.0, 1500.0, 1500.0, 900.0, 1600.0, 1200.0, 1100.0, 1200.0, 1100.0, 1500.0, 1000.0, 1300.0, 1100.0, 1100.0, 800.0, 1100.0, 1600.0, 1200.0, 1000.0, 800.0, 1000.0, 600.0, 1000.0, 800.0, 900.0, 1000.0, 950.0, 900.0, 1000.0, 1600.0, 1000.0, 1100.0, 600.0, 1200.0, 1350.0, 800.0, 600.0, 600.0, 1000.0, 600.0, 600.0, 700.0, 800.0, 550.0, 650.0, 600.0, 400.0, 600.0, 450.0, 550.0, 700.0, 400.0, 500.0, 500.0, 400.0, 500.0, 600.0, 800.0, 500.0, 850.0, 500.0, 650.0, 500.0, 300.0, 400.0, 750.0, 400.0, 550.0, 650.0, 600.0, 400.0, 400.0, 700.0, 500.0, 250.0, 300.0, 450.0, 600.0, 900.0, 800.0, 400.0, 300.0, 500.0, 400.0, 500.0, 400.0, 200.0, 200.0, 400.0, 600.0, 300.0, 700.0, 400.0, 250.0, 400.0, 600.0, 250.0, 300.0, 400.0, 450.0, 300.0, 250.0, 300.0, 200.0, 400.0, 350.0, 800.0, 250.0, 200.0, 300.0, 150.0, 400.0, 600.0, 350.0, 300.0, 600.0, 300.0, 550.0, 100.0, 750.0, 300.0, 300.0, 500.0, 200.0, 300.0, 700.0, 500.0, 400.0, 400.0, 400.0, 650.0, 800.0, 300.0, 500.0, 400.0, 500.0, 600.0, 750.0, 800.0, 400.0, 250.0, 350.0, 600.0, 500.0, 200.0, 400.0, 200.0, 300.0, 250.0, 600.0, 500.0, 250.0, 1000.0, 500.0, 700.0, 600.0, 1200.0, 300.0, 400.0, 400.0, 650.0, 700.0, 400.0, 400.0, 200.0, 400.0, 600.0, 400.0, 400.0, 100.0, 750.0, 400.0, 250.0, 1200.0, 1000.0, 900.0, 400.0, 600.0, 800.0, 900.0, 400.0, 400.0, 450.0, 400.0, 700.0, 300.0, 650.0, 350.0, 300.0, 400.0, 300.0, 800.0, 600.0, 300.0, 500.0, 300.0, 300.0, 500.0, 700.0, 400.0, 500.0, 1600.0, 600.0, 500.0, 600.0, 200.0, 250.0, 1500.0, 500.0, 300.0, 600.0, 400.0, 400.0, 350.0, 500.0, 1200.0, 650.0, 600.0, 500.0, 400.0, 500.0, 600.0, 350.0, 1200.0, 200.0, 200.0, 500.0, 450.0, 600.0, 400.0, 800.0, 400.0, 600.0, 750.0, 1000.0, 800.0, 450.0, 500.0, 400.0, 450.0, 250.0, 250.0, 700.0, 750.0, 230.0, 500.0, 100.0, 250.0, 500.0, 750.0, 300.0, 250.0, 300.0, 600.0, 300.0, 400.0, 600.0, 400.0, 1100.0, 700.0, 1200.0, 1200.0, 750.0, 400.0, 500.0, 1000.0, 800.0, 600.0, 200.0, 800.0, 200.0, 600.0, 700.0, 800.0, 100.0, 150.0, 500.0, 450.0, 300.0, 600.0, 400.0, 1000.0, 200.0, 350.0, 600.0, 700.0, 500.0, 400.0, 250.0, 400.0, 800.0, 500.0, 250.0, 1500.0, 400.0, 500.0, 300.0, 700.0, 500.0, 1300.0, 300.0, 300.0, 300.0, 300.0, 450.0, 650.0, 800.0, 400.0, 800.0, 500.0, 600.0, 1200.0, 300.0, 650.0, 400.0, 400.0, 800.0, 700.0, 1100.0, 400.0, 400.0, 650.0, 900.0, 1200.0, 650.0, 300.0, 650.0, 800.0, 350.0, 300.0, 400.0, 1300.0, 400.0, 1200.0, 700.0, 350.0, 650.0, 800.0, 1100.0, 550.0, 400.0, 500.0, 750.0, 400.0, 900.0, 300.0, 700.0, 450.0, 650.0, 500.0, 300.0, 1200.0, 400.0, 400.0, 300.0, 1000.0, 200.0, 200.0, 400.0, 500.0, 200.0, 800.0, 750.0, 500.0, 900.0, 300.0, 700.0, 700.0, 500.0, 600.0, 350.0, 150.0, 800.0, 750.0, 1000.0, 500.0, 600.0, 800.0, 600.0, 600.0, 800.0, 700.0, 250.0, 700.0, 400.0, 800.0, 350.0, 600.0, 1700.0, 300.0, 400.0, 600.0, 400.0, 700.0, 500.0, 200.0, 700.0, 600.0, 600.0, 1000.0, 450.0, 650.0, 600.0, 600.0, 550.0, 900.0, 300.0, 300.0, 500.0, 400.0, 1200.0, 450.0, 650.0, 800.0, 800.0, 400.0, 600.0, 1100.0, 750.0, 500.0, 800.0, 500.0, 600.0, 150.0, 700.0, 100.0, 500.0, 900.0, 1000.0, 800.0, 400.0, 1000.0, 1700.0, 1000.0, 800.0, 550.0, 500.0, 600.0, 1200.0, 600.0, 600.0, 450.0, 350.0, 800.0, 550.0, 500.0, 650.0, 800.0, 450.0, 1350.0, 1000.0, 600.0, 550.0, 500.0, 600.0, 1000.0, 300.0, 550.0, 600.0, 450.0, 650.0, 500.0, 600.0, 1350.0, 300.0, 500.0, 200.0, 800.0, 500.0, 400.0, 200.0, 500.0, 450.0, 400.0, 550.0, 300.0, 750.0, 900.0, 250.0, 400.0, 500.0, 500.0, 900.0, 700.0, 600.0, 500.0, 300.0, 400.0, 600.0, 500.0, 400.0, 500.0, 400.0, 550.0, 200.0, 200.0, 200.0, 250.0, 600.0, 500.0, 500.0, 400.0, 600.0, 250.0, 800.0, 400.0, 100.0, 500.0, 300.0, 400.0, 200.0, 400.0, 400.0, 400.0, 800.0, 400.0, 500.0, 400.0, 600.0, 300.0, 400.0, 700.0, 150.0, 300.0, 500.0, 400.0, 300.0, 250.0, 200.0, 400.0, 400.0, 300.0, 230.0, 300.0, 1200.0, 1500.0, 1200.0, 1600.0, 1200.0, 1600.0, 1000.0, 1500.0, 1300.0, 1200.0, 1200.0, 800.0, 1300.0, 800.0, 1000.0, 800.0, 1500.0, 800.0, 600.0, 750.0, 1200.0, 700.0, 800.0, 1100.0, 900.0, 800.0, 550.0, 1300.0, 1100.0, 600.0, 1000.0, 800.0, 1200.0, 1300.0, 1100.0, 600.0, 1000.0, 600.0, 750.0, 1000.0, 1000.0, 800.0, 500.0, 600.0, 750.0, 700.0, 700.0, 600.0, 300.0, 400.0, 700.0, 700.0, 500.0, 350.0, 500.0, 950.0, 400.0, 450.0, 300.0, 800.0, 650.0, 450.0, 400.0, 650.0, 900.0, 550.0, 600.0, 850.0, 600.0, 500.0, 400.0, 400.0, 1000.0, 400.0, 600.0, 1100.0, 650.0, 1000.0, 500.0, 450.0, 950.0, 600.0, 650.0, 500.0, 700.0, 550.0, 750.0, 450.0, 400.0, 750.0, 750.0, 500.0, 800.0, 650.0, 800.0, 600.0, 700.0, 750.0, 300.0, 500.0, 500.0, 300.0, 300.0, 400.0, 700.0, 300.0, 400.0, 300.0, 400.0, 100.0, 450.0, 500.0, 500.0, 400.0, 400.0, 500.0, 200.0, 500.0, 450.0, 100.0, 250.0, 400.0, 250.0, 200.0, 400.0, 600.0, 300.0, 300.0, 200.0, 600.0, 350.0, 200.0, 150.0, 300.0, 800.0, 300.0, 200.0, 400.0, 300.0, 900.0, 1200.0, 1500.0, 1200.0, 1000.0, 800.0, 1000.0, 1000.0, 550.0, 800.0, 1000.0, 800.0, 800.0, 500.0, 600.0, 400.0, 500.0, 500.0, 600.0, 500.0, 450.0, 1000.0, 600.0, 650.0, 600.0, 800.0, 800.0, 750.0, 250.0, 400.0, 400.0, 250.0, 350.0, 600.0, 400.0, 600.0, 600.0, 1100.0, 400.0, 300.0, 300.0, 250.0, 1600.0, 450.0, 1100.0, 800.0, 1000.0, 1100.0, 1000.0, 800.0, 800.0, 500.0, 800.0, 650.0, 1000.0, 1700.0, 250.0, 1200.0, 550.0, 800.0, 850.0, 600.0, 600.0, 350.0, 500.0, 500.0, 600.0, 900.0, 400.0, 500.0, 500.0, 650.0, 600.0, 700.0, 550.0, 400.0, 1350.0, 1200.0, 500.0, 300.0, 250.0, 750.0, 300.0, 400.0, 750.0, 1000.0, 200.0, 100.0, 300.0, 400.0, 700.0, 500.0, 200.0, 300.0, 400.0, 150.0, 500.0, 450.0, 700.0, 300.0, 300.0, 500.0, 600.0, 200.0, 400.0, 500.0, 500.0, 500.0, 400.0, 400.0, 800.0, 300.0, 350.0, 300.0, 200.0, 500.0, 400.0, 550.0, 550.0, 650.0, 600.0, 400.0, 500.0, 400.0, 350.0, 250.0, 450.0, 550.0, 250.0, 300.0, 300.0, 300.0, 1350.0, 900.0, 400.0, 400.0, 400.0, 300.0, 700.0, 650.0, 250.0, 1000.0, 1300.0, 1500.0, 1200.0, 1600.0, 1200.0, 1500.0, 1200.0, 1200.0, 1300.0, 1100.0, 1100.0, 1000.0, 1100.0, 900.0, 1200.0, 1100.0, 1350.0, 1400.0, 1400.0, 1600.0, 800.0, 600.0, 750.0, 1500.0, 800.0, 1000.0, 1400.0, 750.0, 800.0, 900.0, 1200.0, 700.0, 700.0, 500.0, 700.0, 600.0, 700.0, 900.0, 700.0, 500.0, 650.0, 650.0, 350.0, 600.0, 700.0, 800.0, 1000.0, 800.0, 650.0, 500.0, 500.0, 500.0, 550.0, 500.0, 400.0, 450.0, 350.0, 300.0, 400.0, 800.0, 400.0, 800.0, 600.0, 400.0, 300.0, 350.0, 450.0, 600.0, 200.0, 300.0, 300.0, 400.0, 600.0, 600.0, 650.0, 100.0, 400.0, 450.0, 600.0, 300.0, 500.0, 400.0, 500.0, 750.0, 650.0, 400.0, 400.0, 450.0, 400.0, 300.0, 600.0, 500.0, 600.0, 550.0, 400.0, 500.0, 700.0, 1500.0, 600.0, 550.0, 300.0, 500.0, 500.0, 450.0, 700.0, 500.0, 700.0, 600.0, 600.0, 500.0, 400.0, 150.0, 600.0, 400.0, 500.0, 400.0, 400.0, 800.0, 1300.0, 750.0, 400.0, 250.0, 900.0, 1400.0, 500.0, 450.0, 500.0, 400.0, 450.0, 300.0, 800.0, 500.0, 500.0, 650.0, 400.0, 450.0, 500.0, 1200.0, 600.0, 650.0, 500.0, 200.0, 350.0, 1200.0, 400.0, 500.0, 350.0, 800.0, 300.0, 400.0, 400.0, 700.0, 500.0, 600.0, 1050.0, 500.0, 750.0, 600.0, 800.0, 750.0, 500.0, 600.0, 1400.0, 200.0, 800.0, 400.0, 400.0, 900.0, 300.0, 700.0, 1500.0, 300.0, 700.0, 550.0, 300.0, 500.0, 650.0, 800.0, 300.0, 750.0, 500.0, 500.0, 350.0, 400.0, 1000.0, 400.0, 600.0, 600.0, 400.0, 600.0, 750.0, 1400.0, 250.0, 250.0, 800.0, 150.0, 800.0, 250.0, 1100.0, 200.0, 550.0, 500.0, 600.0, 900.0, 450.0, 400.0, 700.0, 500.0, 750.0, 600.0, 750.0, 700.0, 150.0, 700.0, 750.0, 500.0, 300.0, 550.0, 500.0, 300.0, 1400.0, 800.0, 800.0, 650.0, 750.0, 1200.0, 600.0, 1800.0, 700.0, 500.0, 400.0, 600.0, 400.0, 900.0, 400.0, 700.0, 1100.0, 550.0, 650.0, 1000.0, 1500.0, 500.0, 1000.0, 600.0, 1000.0, 700.0, 400.0, 600.0, 350.0, 500.0, 700.0, 1000.0, 500.0, 600.0, 500.0, 800.0, 1400.0, 700.0, 800.0, 500.0, 1300.0, 650.0, 600.0, 400.0, 1500.0, 450.0, 400.0, 650.0, 1000.0, 550.0, 800.0, 500.0, 700.0, 600.0, 800.0, 1000.0, 600.0, 300.0, 600.0, 800.0, 450.0, 600.0, 450.0, 300.0, 1200.0, 500.0, 250.0, 300.0, 650.0, 600.0, 700.0, 350.0, 500.0, 250.0, 300.0, 300.0, 400.0, 300.0, 1200.0, 250.0, 700.0, 250.0, 400.0, 700.0, 400.0, 300.0, 200.0, 400.0, 500.0, 500.0, 600.0, 700.0, 500.0, 300.0, 300.0, 600.0, 650.0, 1000.0, 400.0, 400.0, 800.0, 350.0, 400.0, 300.0, 150.0, 500.0, 650.0, 450.0, 150.0, 1400.0, 1800.0, 1200.0, 1400.0, 1400.0, 1400.0, 1600.0, 900.0, 1100.0, 800.0, 800.0, 600.0, 800.0, 1200.0, 800.0, 750.0, 1000.0, 700.0, 800.0, 1400.0, 1300.0, 1500.0, 700.0, 600.0, 750.0, 750.0, 1500.0, 1300.0, 650.0, 1400.0, 800.0, 1200.0, 600.0, 600.0, 800.0, 1100.0, 700.0, 500.0, 700.0, 1200.0, 900.0, 1000.0, 1300.0, 700.0, 600.0, 700.0, 500.0, 600.0, 1000.0, 400.0, 600.0, 400.0, 800.0, 600.0, 900.0, 600.0, 700.0, 800.0, 400.0, 500.0, 750.0, 650.0, 500.0, 650.0, 500.0, 750.0, 800.0, 700.0, 600.0, 600.0, 1000.0, 350.0, 500.0, 750.0, 700.0, 250.0, 500.0, 500.0, 350.0, 400.0, 400.0, 250.0, 300.0, 500.0, 300.0, 600.0, 450.0, 300.0, 200.0, 500.0, 650.0, 350.0, 200.0, 150.0, 200.0, 400.0, 600.0, 800.0, 600.0, 1500.0, 450.0, 800.0, 1200.0, 1500.0, 600.0, 600.0, 1400.0, 800.0, 700.0, 300.0, 450.0, 650.0, 550.0, 400.0, 650.0, 800.0, 1400.0, 700.0, 750.0, 700.0, 650.0, 750.0, 600.0, 1000.0, 800.0, 600.0, 700.0, 700.0, 500.0, 700.0, 550.0, 450.0, 300.0, 400.0, 400.0, 600.0, 250.0, 300.0, 600.0, 450.0, 500.0, 350.0, 300.0, 450.0, 500.0, 550.0, 400.0, 300.0, 250.0, 300.0, 550.0, 400.0, 300.0, 500.0, 450.0, 350.0, 750.0, 450.0, 650.0, 1100.0, 700.0, 1000.0, 600.0, 500.0, 500.0, 300.0, 300.0, 600.0, 1050.0, 200.0, 250.0, 600.0, 500.0, 600.0, 600.0, 500.0, 200.0, 600.0, 400.0, 400.0, 1200.0, 500.0, 400.0, 250.0, 600.0, 550.0, 500.0, 500.0, 300.0, 300.0, 400.0, 400.0, 400.0, 1400.0, 1800.0, 1400.0, 1200.0, 1300.0, 1500.0, 1200.0, 1200.0, 1300.0, 1500.0, 500.0, 1100.0, 1200.0, 800.0, 600.0, 800.0, 1000.0, 800.0, 900.0, 1200.0, 700.0, 700.0, 500.0, 700.0, 700.0, 500.0, 600.0, 700.0, 500.0, 900.0, 700.0, 500.0, 650.0, 450.0, 550.0, 350.0, 650.0, 700.0, 500.0, 400.0, 450.0, 350.0, 350.0, 600.0, 500.0, 400.0, 300.0, 750.0, 300.0, 250.0, 400.0, 600.0, 300.0, 800.0, 800.0, 450.0, 300.0, 400.0, 400.0, 500.0, 650.0, 500.0, 400.0, 600.0, 300.0, 400.0, 450.0, 300.0, 750.0, 100.0, 600.0, 200.0, 600.0, 300.0, 400.0, 400.0, 450.0, 400.0, 400.0, 400.0, 500.0, 750.0, 650.0, 750.0, 500.0, 400.0, 700.0, 300.0, 1500.0, 1400.0, 500.0, 400.0, 150.0, 350.0, 700.0, 700.0, 500.0, 450.0, 400.0, 700.0, 500.0, 600.0, 200.0, 400.0, 600.0, 800.0, 450.0, 500.0, 500.0, 400.0, 600.0, 300.0, 600.0, 500.0, 600.0, 1300.0, 300.0, 800.0, 150.0, 650.0, 400.0, 250.0, 650.0, 750.0, 500.0, 600.0, 1200.0, 650.0, 500.0, 550.0, 300.0, 450.0, 600.0, 400.0, 1400.0, 350.0, 600.0, 700.0, 400.0, 1400.0, 700.0, 700.0, 500.0, 450.0, 1000.0, 500.0, 400.0, 550.0, 500.0, 200.0, 600.0, 800.0, 750.0, 400.0, 450.0, 400.0, 650.0, 1000.0, 800.0, 700.0, 500.0, 500.0, 300.0, 600.0, 500.0, 300.0, 400.0, 1300.0, 300.0, 600.0, 700.0, 450.0, 200.0, 750.0, 650.0, 500.0, 1500.0, 500.0, 350.0, 450.0, 500.0, 750.0, 800.0, 600.0, 300.0, 400.0, 400.0, 900.0, 900.0, 450.0, 600.0, 1000.0, 150.0, 1000.0, 550.0, 600.0, 750.0, 500.0, 350.0, 600.0, 500.0, 550.0, 800.0, 600.0, 300.0, 400.0, 800.0, 600.0, 250.0, 400.0, 600.0, 700.0, 350.0, 800.0, 600.0, 450.0, 500.0, 500.0, 250.0, 600.0, 300.0, 1100.0, 500.0, 500.0, 700.0, 550.0, 250.0, 400.0, 700.0, 800.0, 500.0, 600.0, 600.0, 500.0, 400.0, 900.0, 500.0, 800.0, 1050.0, 650.0, 700.0, 400.0, 750.0, 1500.0, 400.0, 1000.0, 400.0, 400.0, 600.0, 800.0, 700.0, 700.0, 800.0, 450.0, 1200.0, 1100.0, 800.0, 300.0, 500.0, 800.0, 1400.0, 850.0, 800.0, 300.0, 1400.0, 500.0, 500.0, 400.0, 550.0, 1000.0, 200.0, 1200.0, 300.0, 600.0, 200.0, 1800.0, 800.0, 900.0, 1200.0, 750.0, 500.0, 600.0, 500.0, 200.0, 500.0, 700.0, 400.0, 100.0, 350.0, 300.0, 650.0, 700.0, 300.0, 600.0, 400.0, 650.0, 1000.0, 300.0, 250.0, 700.0, 1200.0, 800.0, 400.0, 350.0, 400.0, 150.0, 400.0, 700.0, 400.0, 400.0, 300.0, 200.0, 400.0, 500.0, 500.0, 600.0, 700.0, 400.0, 450.0, 300.0, 500.0, 300.0, 300.0, 300.0, 150.0, 600.0, 650.0, 1000.0, 650.0, 500.0, 100.0, 500.0, 600.0, 800.0, 600.0, 1500.0, 450.0, 800.0, 1200.0, 600.0, 800.0, 1400.0, 300.0, 450.0, 650.0, 550.0, 400.0, 800.0, 550.0, 1400.0, 700.0, 750.0, 700.0, 750.0, 800.0, 600.0, 700.0, 700.0, 500.0, 700.0, 600.0, 550.0, 450.0, 300.0, 250.0, 400.0, 400.0, 600.0, 250.0, 300.0, 450.0, 600.0, 500.0, 350.0, 450.0, 500.0, 600.0, 400.0, 300.0, 300.0, 550.0, 400.0, 300.0, 500.0, 450.0, 1400.0, 1400.0, 1800.0, 2000.0, 1600.0, 900.0, 1100.0, 800.0, 800.0, 800.0, 1200.0, 800.0, 1200.0, 350.0, 800.0, 750.0, 1000.0, 700.0, 400.0, 800.0, 1400.0, 1400.0, 750.0, 1500.0, 1300.0, 700.0, 600.0, 450.0, 750.0, 750.0, 1500.0, 1500.0, 600.0, 1300.0, 200.0, 650.0, 700.0, 1400.0, 800.0, 1100.0, 1200.0, 700.0, 1000.0, 600.0, 600.0, 800.0, 800.0, 1100.0, 650.0, 700.0, 500.0, 600.0, 700.0, 1200.0, 500.0, 900.0, 650.0, 500.0, 1000.0, 1300.0, 600.0, 600.0, 600.0, 500.0, 600.0, 1000.0, 600.0, 400.0, 600.0, 800.0, 500.0, 600.0, 900.0, 600.0, 700.0, 1050.0, 800.0, 1300.0, 400.0, 500.0, 600.0, 600.0, 600.0, 750.0, 500.0, 600.0, 650.0, 1200.0, 500.0, 400.0, 500.0, 450.0, 650.0, 500.0, 750.0, 800.0, 600.0, 700.0, 500.0, 550.0, 600.0, 1000.0, 350.0, 500.0, 750.0, 700.0, 250.0, 500.0, 300.0, 500.0, 400.0, 200.0, 250.0, 400.0, 250.0, 200.0, 300.0, 500.0, 450.0, 300.0, 300.0, 500.0, 200.0, 600.0, 300.0, 400.0, 450.0, 300.0, 200.0, 400.0, 250.0, 500.0, 650.0, 500.0, 500.0, 400.0, 300.0, 200.0, 300.0, 400.0, 150.0, 400.0, 400.0, 500.0, 300.0, 700.0, 400.0, 1400.0, 1800.0, 2000.0, 500.0, 1200.0, 1500.0, 1300.0, 1500.0, 1100.0, 1200.0, 1200.0, 1300.0, 1200.0, 1300.0, 1500.0, 1400.0, 600.0, 1000.0, 1700.0, 1500.0, 2000.0, 1200.0, 1000.0, 1500.0, 1600.0, 1500.0, 1300.0, 1500.0, 1500.0, 2000.0, 1500.0, 750.0, 900.0, 1100.0, 1100.0, 600.0, 1000.0, 1400.0, 700.0, 800.0, 2000.0, 1000.0, 900.0, 1000.0, 3000.0, 1000.0, 1200.0, 1500.0, 800.0, 400.0, 600.0, 800.0, 1100.0, 1000.0, 800.0, 600.0, 600.0, 800.0, 600.0, 850.0, 700.0, 700.0, 700.0, 650.0, 650.0, 500.0, 300.0, 450.0, 900.0, 800.0, 1300.0, 500.0, 400.0, 600.0, 600.0, 600.0, 900.0, 500.0, 1000.0, 600.0, 900.0, 800.0, 800.0, 900.0, 1000.0, 800.0, 700.0, 550.0, 700.0, 600.0, 800.0, 700.0, 800.0, 300.0, 700.0, 900.0, 600.0, 1200.0, 600.0, 650.0, 800.0, 200.0, 1200.0, 900.0, 650.0, 700.0, 600.0, 700.0, 450.0, 350.0, 500.0, 400.0, 800.0, 600.0, 600.0, 600.0, 600.0, 600.0, 800.0, 500.0, 450.0, 600.0, 250.0, 700.0, 600.0, 1600.0, 750.0, 900.0, 700.0, 800.0, 450.0, 600.0, 600.0, 500.0, 500.0, 300.0, 250.0, 800.0, 450.0, 400.0, 900.0, 500.0, 800.0, 100.0, 600.0, 800.0, 200.0, 400.0, 450.0, 500.0, 300.0, 250.0, 400.0, 500.0, 500.0, 200.0, 600.0, 200.0, 650.0, 600.0, 400.0, 250.0, 150.0, 600.0, 300.0, 400.0, 400.0, 300.0, 400.0, 250.0, 250.0, 300.0, 550.0, 400.0, 300.0, 600.0, 400.0, 750.0, 250.0, 450.0, 600.0, 400.0, 500.0, 600.0, 400.0, 700.0, 400.0, 150.0, 750.0, 300.0, 250.0, 400.0, 350.0, 300.0, 400.0, 400.0, 650.0, 300.0, 800.0, 600.0, 200.0, 550.0, 500.0, 500.0, 400.0, 300.0, 450.0, 650.0, 300.0, 400.0, 150.0, 800.0, 500.0, 500.0, 150.0, 200.0, 750.0, 250.0, 350.0, 500.0, 350.0, 600.0, 500.0, 600.0, 200.0, 650.0, 300.0, 300.0, 300.0, 500.0, 800.0, 500.0, 300.0, 100.0, 750.0, 600.0, 500.0, 300.0, 300.0, 300.0, 500.0, 600.0, 800.0, 400.0, 400.0, 250.0, 200.0, 300.0, 300.0, 700.0, 700.0, 1000.0, 400.0, 400.0, 500.0, 450.0, 300.0, 400.0, 700.0, 400.0, 450.0, 550.0, 400.0, 600.0, 600.0, 600.0, 400.0, 400.0, 300.0, 600.0, 450.0, 300.0, 450.0, 300.0, 400.0, 650.0, 400.0, 300.0, 1000.0, 450.0, 600.0, 200.0, 700.0, 300.0, 600.0, 800.0, 600.0, 400.0, 800.0, 400.0, 1200.0, 700.0, 800.0, 500.0, 200.0, 500.0, 500.0, 1200.0, 750.0, 400.0, 350.0, 300.0, 550.0, 750.0, 300.0, 800.0, 250.0, 1500.0, 500.0, 400.0, 350.0, 250.0, 400.0, 400.0, 600.0, 200.0, 600.0, 800.0, 1000.0, 600.0, 650.0, 600.0, 1000.0, 250.0, 750.0, 400.0, 400.0, 600.0, 150.0, 800.0, 350.0, 600.0, 600.0, 500.0, 600.0, 800.0, 300.0, 450.0, 500.0, 450.0, 600.0, 400.0, 400.0, 450.0, 1000.0, 600.0, 900.0, 1200.0, 300.0, 800.0, 750.0, 400.0, 550.0, 550.0, 200.0, 300.0, 600.0, 600.0, 750.0, 500.0, 500.0, 600.0, 400.0, 400.0, 350.0, 500.0, 600.0, 450.0, 400.0, 400.0, 250.0, 800.0, 300.0, 1300.0, 150.0, 500.0, 600.0, 900.0, 500.0, 200.0, 500.0, 1500.0, 300.0, 500.0, 200.0, 500.0, 500.0, 230.0, 400.0, 500.0, 300.0, 250.0, 1500.0, 300.0, 750.0, 300.0, 200.0, 700.0, 900.0, 400.0, 1600.0, 300.0, 900.0, 500.0, 200.0, 500.0, 500.0, 600.0, 1200.0, 300.0, 600.0, 400.0, 500.0, 700.0, 150.0, 300.0, 1000.0, 700.0, 200.0, 700.0, 180.0, 450.0, 400.0, 40.0, 200.0, 200.0, 600.0, 700.0, 600.0, 650.0, 650.0, 700.0, 1000.0, 300.0, 600.0, 200.0, 550.0, 1800.0, 250.0, 800.0, 950.0, 850.0, 750.0, 250.0, 900.0, 650.0, 1000.0, 1500.0, 1500.0, 300.0, 500.0, 600.0, 300.0, 250.0, 1000.0, 1400.0, 400.0, 1200.0, 800.0, 600.0, 1200.0, 700.0, 1400.0, 300.0, 1000.0, 500.0, 700.0, 250.0, 750.0, 800.0, 350.0, 800.0, 400.0, 500.0, 200.0, 300.0, 400.0, 300.0, 650.0, 1500.0, 350.0, 700.0, 1300.0, 1500.0, 500.0, 700.0, 500.0, 500.0, 800.0, 650.0, 300.0, 600.0, 1000.0, 500.0, 300.0, 350.0, 850.0, 300.0, 1300.0, 500.0, 700.0, 600.0, 600.0, 1100.0, 450.0, 600.0, 600.0, 600.0, 600.0, 700.0, 600.0, 250.0, 700.0, 800.0, 600.0, 400.0, 400.0, 700.0, 450.0, 1200.0, 500.0, 150.0, 1000.0, 900.0, 600.0, 800.0, 500.0, 800.0, 700.0, 350.0, 1000.0, 1400.0, 400.0, 700.0, 800.0, 400.0, 1100.0, 350.0, 250.0, 400.0, 400.0, 900.0, 650.0, 250.0, 400.0, 400.0, 200.0, 500.0, 700.0, 600.0, 500.0, 1000.0, 200.0, 1500.0, 900.0, 1200.0, 450.0, 450.0, 600.0, 400.0, 450.0, 400.0, 300.0, 750.0, 400.0, 600.0, 250.0, 600.0, 1200.0, 800.0, 600.0, 400.0, 500.0, 500.0, 400.0, 600.0, 750.0, 500.0, 600.0, 400.0, 1200.0, 400.0, 400.0, 700.0, 300.0, 600.0, 1000.0, 550.0, 800.0, 400.0, 350.0, 350.0, 1500.0, 600.0, 1000.0, 400.0, 400.0, 400.0, 450.0, 800.0, 800.0, 500.0, 1200.0, 650.0, 500.0, 750.0, 900.0, 300.0, 600.0, 600.0, 1000.0, 900.0, 300.0, 700.0, 1000.0, 800.0, 300.0, 900.0, 250.0, 600.0, 250.0, 1000.0, 600.0, 600.0, 550.0, 900.0, 600.0, 1500.0, 300.0, 800.0, 350.0, 250.0, 650.0, 500.0, 800.0, 1400.0, 450.0, 700.0, 750.0, 600.0, 700.0, 400.0, 400.0, 400.0, 800.0, 450.0, 1300.0, 400.0, 800.0, 350.0, 700.0, 1300.0, 700.0, 550.0, 500.0, 500.0, 500.0, 1100.0, 300.0, 500.0, 800.0, 600.0, 900.0, 2500.0, 500.0, 400.0, 1700.0, 350.0, 700.0, 150.0, 300.0, 600.0, 400.0, 900.0, 400.0, 400.0, 500.0, 600.0, 450.0, 350.0, 800.0, 650.0, 1100.0, 150.0, 500.0, 300.0, 500.0, 450.0, 600.0, 800.0, 400.0, 600.0, 600.0, 500.0, 400.0, 300.0, 700.0, 600.0, 800.0, 300.0, 1100.0, 200.0, 1300.0, 500.0, 1000.0, 1200.0, 1000.0, 800.0, 600.0, 650.0, 1000.0, 1600.0, 2000.0, 1400.0, 900.0, 600.0, 400.0, 800.0, 1300.0, 600.0, 200.0, 1400.0, 400.0, 500.0, 350.0, 800.0, 900.0, 700.0, 400.0, 650.0, 150.0, 650.0, 1200.0, 300.0, 200.0, 350.0, 200.0, 200.0, 400.0, 500.0, 250.0, 200.0, 150.0, 500.0, 250.0, 350.0, 150.0, 1000.0, 1100.0, 200.0, 400.0, 500.0, 600.0, 550.0, 500.0, 300.0, 200.0, 400.0, 650.0, 300.0, 800.0, 350.0, 500.0, 250.0, 900.0, 200.0, 350.0, 800.0, 900.0, 400.0, 500.0, 550.0, 1500.0, 700.0, 450.0, 450.0, 2000.0, 350.0, 1300.0, 600.0, 500.0, 600.0, 600.0, 400.0, 500.0, 800.0, 1100.0, 550.0, 1100.0, 400.0, 400.0, 400.0, 450.0, 650.0, 500.0, 300.0, 400.0, 500.0, 650.0, 200.0, 400.0, 900.0, 400.0, 400.0, 250.0, 400.0, 1200.0, 500.0, 350.0, 200.0, 250.0, 500.0, 700.0, 200.0, 400.0, 500.0, 300.0, 700.0, 800.0, 150.0, 350.0, 200.0, 200.0, 400.0, 500.0, 200.0, 400.0, 250.0, 400.0, 500.0, 600.0, 450.0, 500.0, 150.0, 200.0, 350.0, 250.0, 500.0, 200.0, 300.0, 400.0, 300.0, 400.0, 500.0, 800.0, 200.0, 400.0, 400.0, 200.0, 350.0, 500.0, 150.0, 350.0, 1000.0, 1200.0, 2100.0, 600.0, 1800.0, 600.0, 1400.0, 1200.0, 800.0, 1200.0, 1400.0, 1300.0, 1300.0, 600.0, 1000.0, 800.0, 850.0, 650.0, 1500.0, 750.0, 800.0, 800.0, 700.0, 1700.0, 750.0, 1000.0, 700.0, 750.0, 700.0, 1500.0, 800.0, 1200.0, 600.0, 650.0, 1500.0, 650.0, 500.0, 450.0, 1300.0, 1000.0, 250.0, 250.0, 800.0, 450.0, 600.0, 450.0, 400.0, 500.0, 400.0, 400.0, 400.0, 600.0, 600.0, 400.0, 1400.0, 900.0, 2000.0, 1500.0, 2000.0, 1000.0, 1100.0, 1500.0, 1200.0, 1300.0, 1400.0, 900.0, 1300.0, 1600.0, 1600.0, 700.0, 750.0, 800.0, 1000.0, 1000.0, 1500.0, 1600.0, 1500.0, 1500.0, 1200.0, 1800.0, 600.0, 1300.0, 600.0, 1500.0, 1400.0, 1300.0, 1500.0, 1000.0, 600.0, 1500.0, 1200.0, 800.0, 500.0, 1000.0, 1000.0, 1400.0, 400.0, 600.0, 1400.0, 1200.0, 1400.0, 600.0, 2500.0, 650.0, 2000.0, 1100.0, 1500.0, 600.0, 900.0, 750.0, 1200.0, 1000.0, 500.0, 1000.0, 1000.0, 900.0, 600.0, 1200.0, 1500.0, 800.0, 600.0, 1200.0, 800.0, 800.0, 800.0, 900.0, 1000.0, 1000.0, 750.0, 700.0, 550.0, 1100.0, 550.0, 900.0, 1100.0, 700.0, 500.0, 1100.0, 650.0, 650.0, 600.0, 600.0, 1200.0, 600.0, 800.0, 1000.0, 500.0, 700.0, 650.0, 750.0, 1200.0, 800.0, 800.0, 850.0, 800.0, 1400.0, 1000.0, 700.0, 700.0, 900.0, 600.0, 650.0, 600.0, 750.0, 1200.0, 800.0, 600.0, 900.0, 650.0, 1500.0, 800.0, 1000.0, 750.0, 1000.0, 800.0, 500.0, 500.0, 800.0, 200.0, 1100.0, 1000.0, 750.0, 1200.0, 650.0, 700.0, 600.0, 1400.0, 1400.0, 700.0, 1300.0, 750.0, 500.0, 800.0, 700.0, 650.0, 700.0, 1200.0, 600.0, 750.0, 650.0, 1700.0, 2000.0, 700.0, 600.0, 450.0, 150.0, 250.0, 1000.0, 700.0, 350.0, 800.0, 500.0, 900.0, 250.0, 800.0, 550.0, 600.0, 600.0, 500.0, 800.0, 1000.0, 500.0, 1300.0, 250.0, 600.0, 1000.0, 600.0, 600.0, 750.0, 600.0, 600.0, 500.0, 600.0, 500.0, 400.0, 800.0, 600.0, 1000.0, 250.0, 500.0, 500.0, 800.0, 700.0, 450.0, 800.0, 700.0, 650.0, 600.0, 400.0, 1500.0, 600.0, 500.0, 800.0, 500.0, 350.0, 500.0, 900.0, 700.0, 700.0, 500.0, 750.0, 1200.0, 600.0, 600.0, 400.0, 600.0, 400.0, 500.0, 400.0, 200.0, 350.0, 350.0, 550.0, 300.0, 450.0, 250.0, 400.0, 300.0, 400.0, 200.0, 200.0, 450.0, 250.0, 500.0, 600.0, 500.0, 200.0, 400.0, 600.0, 500.0, 450.0, 300.0, 250.0, 300.0, 250.0, 200.0, 900.0, 250.0, 300.0, 400.0, 600.0, 500.0, 500.0, 400.0, 300.0, 500.0, 400.0, 300.0, 200.0, 500.0, 200.0, 400.0, 300.0, 200.0, 500.0, 350.0, 400.0, 300.0, 300.0, 200.0, 200.0, 600.0, 600.0, 500.0, 600.0, 500.0, 300.0, 200.0, 250.0, 400.0, 300.0, 400.0, 300.0, 600.0, 400.0, 350.0, 300.0, 300.0, 500.0, 550.0, 200.0, 150.0, 450.0, 300.0, 300.0, 400.0, 450.0, 550.0, 300.0, 200.0, 400.0, 350.0, 300.0, 250.0, 400.0, 250.0, 200.0, 800.0, 100.0, 1200.0, 850.0, 800.0, 1200.0, 1600.0, 3000.0, 1000.0, 750.0, 1200.0, 1200.0, 900.0, 1700.0, 1250.0, 700.0, 800.0, 800.0, 800.0, 600.0, 1500.0, 800.0, 550.0, 650.0, 300.0, 700.0, 1800.0, 600.0, 900.0, 2000.0, 800.0, 800.0, 800.0, 800.0, 450.0, 1300.0, 700.0, 150.0, 400.0, 700.0, 600.0, 1000.0, 200.0, 900.0, 3000.0, 600.0, 550.0, 650.0, 1000.0, 450.0, 400.0, 350.0, 300.0, 600.0, 150.0, 1200.0, 550.0, 350.0, 800.0, 500.0, 400.0, 400.0, 400.0, 900.0, 800.0, 200.0, 500.0, 600.0, 500.0, 600.0, 600.0, 300.0, 1800.0, 1000.0, 500.0, 600.0, 350.0, 600.0, 350.0, 500.0, 300.0, 400.0, 300.0, 1000.0, 1100.0, 300.0, 600.0, 500.0, 250.0, 300.0, 400.0, 650.0, 350.0, 300.0, 500.0, 250.0, 400.0, 400.0, 600.0, 300.0, 700.0, 1400.0, 1200.0, 1200.0, 1800.0, 1200.0, 1400.0, 1300.0, 1500.0, 1200.0, 1500.0, 1300.0, 2000.0, 1500.0, 2000.0, 1000.0, 1100.0, 1600.0, 2100.0, 1600.0, 1000.0, 1000.0, 1500.0, 1800.0, 1400.0, 1000.0, 1200.0, 1000.0, 1200.0, 1400.0, 2000.0, 1200.0, 1200.0, 1000.0, 1400.0, 1000.0, 1500.0, 1000.0, 1400.0, 1400.0, 1300.0, 1200.0, 1700.0, 1300.0, 1500.0, 1200.0, 1200.0, 850.0, 1600.0, 1200.0, 1700.0, 1400.0, 1200.0, 1300.0, 2000.0, 1500.0, 1300.0, 1500.0, 750.0, 1100.0, 1400.0, 700.0, 1000.0, 1000.0, 600.0, 1600.0, 1500.0, 1500.0, 1500.0, 2000.0, 1500.0, 1000.0, 900.0, 1100.0, 600.0, 1700.0, 1500.0, 1000.0, 800.0, 2000.0, 1000.0, 900.0, 1300.0, 800.0, 900.0, 800.0, 1300.0, 600.0, 600.0, 900.0, 500.0, 900.0, 800.0, 800.0, 900.0, 800.0, 600.0, 800.0, 300.0, 1200.0, 650.0, 1200.0, 450.0, 800.0, 600.0, 300.0, 600.0, 800.0, 650.0, 700.0, 600.0, 600.0, 800.0, 500.0, 400.0, 600.0, 1000.0, 600.0, 600.0, 1000.0, 850.0, 1000.0, 700.0, 500.0, 450.0, 800.0, 800.0, 250.0, 300.0, 200.0, 450.0, 400.0, 900.0, 500.0, 250.0, 400.0, 800.0, 400.0, 600.0, 400.0, 500.0, 600.0, 300.0, 600.0, 400.0, 650.0, 500.0, 250.0, 450.0, 300.0, 250.0, 200.0, 450.0, 400.0, 500.0, 300.0, 300.0, 650.0, 150.0, 400.0, 400.0, 200.0, 250.0, 150.0, 250.0, 250.0, 550.0, 400.0, 600.0, 400.0, 400.0, 300.0, 600.0, 400.0, 750.0, 600.0, 300.0, 300.0, 350.0, 400.0, 900.0, 600.0, 700.0, 600.0, 400.0, 400.0, 600.0, 650.0, 250.0, 400.0, 250.0, 150.0, 800.0, 650.0, 300.0, 500.0, 300.0, 400.0, 500.0, 800.0, 300.0, 500.0, 750.0, 300.0, 500.0, 800.0, 600.0, 500.0, 600.0, 400.0, 350.0, 400.0, 650.0, 300.0, 550.0, 500.0, 450.0, 300.0, 600.0, 150.0, 750.0, 300.0, 500.0, 500.0, 650.0, 400.0, 750.0, 200.0, 600.0, 200.0, 600.0, 500.0, 400.0, 200.0, 450.0, 250.0, 400.0, 700.0, 400.0, 600.0, 800.0, 250.0, 400.0, 450.0, 400.0, 800.0, 300.0, 700.0, 100.0, 600.0, 650.0, 600.0, 600.0, 400.0, 600.0, 400.0, 450.0, 400.0, 550.0, 700.0, 500.0, 400.0, 300.0, 400.0, 800.0, 200.0, 600.0, 300.0, 500.0, 500.0, 600.0, 1500.0, 300.0, 550.0, 350.0, 800.0, 600.0, 200.0, 600.0, 600.0, 500.0, 600.0, 1000.0, 600.0, 300.0, 300.0, 200.0, 800.0, 400.0, 1000.0, 450.0, 300.0, 800.0, 400.0, 650.0, 400.0, 300.0, 750.0, 300.0, 600.0, 400.0, 300.0, 300.0, 1200.0, 250.0, 500.0, 300.0, 400.0, 250.0, 400.0, 800.0, 450.0, 800.0, 600.0, 500.0, 600.0, 300.0, 300.0, 250.0, 450.0, 350.0, 500.0, 1200.0, 1300.0, 800.0, 600.0, 500.0, 1000.0, 400.0, 750.0, 300.0, 450.0, 550.0, 900.0, 200.0, 500.0, 1500.0, 400.0, 600.0, 400.0, 600.0, 400.0, 300.0, 450.0, 1200.0, 500.0, 700.0, 200.0, 700.0, 200.0, 1000.0, 1000.0, 300.0, 600.0, 400.0, 600.0, 600.0, 500.0, 300.0, 600.0, 700.0, 500.0, 1000.0, 500.0, 600.0, 350.0, 500.0, 650.0, 700.0, 350.0, 400.0, 400.0, 800.0, 400.0, 600.0, 800.0, 700.0, 800.0, 600.0, 800.0, 1300.0, 700.0, 500.0, 250.0, 1000.0, 1000.0, 500.0, 300.0, 500.0, 400.0, 300.0, 200.0, 750.0, 700.0, 750.0, 600.0, 300.0, 400.0, 900.0, 1400.0, 500.0, 600.0, 200.0, 1000.0, 500.0, 1300.0, 600.0, 450.0, 300.0, 40.0, 900.0, 300.0, 500.0, 650.0, 1200.0, 150.0, 250.0, 1000.0, 450.0, 900.0, 1000.0, 500.0, 600.0, 1000.0, 650.0, 800.0, 600.0, 600.0, 500.0, 300.0, 400.0, 700.0, 450.0, 450.0, 800.0, 700.0, 400.0, 500.0, 500.0, 700.0, 300.0, 200.0, 1000.0, 200.0, 200.0, 300.0, 400.0, 700.0, 1000.0, 500.0, 600.0, 1000.0, 600.0, 900.0, 500.0, 500.0, 350.0, 230.0, 1500.0, 500.0, 1200.0, 1200.0, 1100.0, 650.0, 900.0, 900.0, 250.0, 700.0, 650.0, 2500.0, 300.0, 1500.0, 200.0, 1000.0, 500.0, 1000.0, 450.0, 500.0, 500.0, 400.0, 1300.0, 400.0, 750.0, 800.0, 300.0, 500.0, 1000.0, 700.0, 800.0, 300.0, 400.0, 1100.0, 300.0, 300.0, 700.0, 900.0, 550.0, 600.0, 500.0, 400.0, 400.0, 800.0, 150.0, 300.0, 350.0, 700.0, 650.0, 700.0, 1600.0, 600.0, 1500.0, 400.0, 1500.0, 750.0, 250.0, 400.0, 650.0, 150.0, 750.0, 750.0, 200.0, 250.0, 750.0, 250.0, 1400.0, 900.0, 1200.0, 200.0, 300.0, 600.0, 800.0, 700.0, 600.0, 450.0, 400.0, 900.0, 600.0, 300.0, 1500.0, 500.0, 750.0, 1000.0, 1200.0, 600.0, 400.0, 1000.0, 1000.0, 400.0, 350.0, 350.0, 900.0, 650.0, 1500.0, 600.0, 400.0, 900.0, 1500.0, 600.0, 1200.0, 400.0, 1100.0, 300.0, 1500.0, 400.0, 800.0, 1000.0, 250.0, 600.0, 250.0, 700.0, 450.0, 700.0, 500.0, 150.0, 500.0, 700.0, 400.0, 500.0, 650.0, 600.0, 800.0, 1300.0, 300.0, 300.0, 700.0, 900.0, 1100.0, 250.0, 200.0, 750.0, 750.0, 500.0, 550.0, 1700.0, 500.0, 200.0, 350.0, 800.0, 1400.0, 300.0, 400.0, 150.0, 350.0, 350.0, 1200.0, 1000.0, 400.0, 150.0, 1200.0, 400.0, 900.0, 600.0, 600.0, 500.0, 400.0, 1400.0, 1000.0, 250.0, 300.0, 600.0, 600.0, 250.0, 400.0, 400.0, 1200.0, 400.0, 700.0, 300.0, 350.0, 1100.0, 600.0, 200.0, 500.0, 650.0, 400.0, 500.0, 400.0, 400.0, 500.0, 400.0, 600.0, 600.0, 600.0, 800.0, 800.0, 500.0, 200.0, 350.0, 400.0, 300.0, 500.0, 600.0, 800.0, 650.0, 300.0, 150.0, 450.0, 300.0, 400.0, 200.0, 300.0, 600.0, 400.0, 600.0, 300.0, 500.0, 700.0, 400.0, 800.0, 300.0, 500.0, 800.0, 500.0, 700.0, 200.0, 700.0, 600.0, 1300.0, 500.0, 400.0, 300.0, 550.0, 250.0, 600.0, 350.0, 1400.0, 2000.0, 1100.0, 550.0, 700.0, 600.0, 800.0, 850.0, 650.0, 700.0, 800.0, 800.0, 650.0, 300.0, 200.0, 350.0, 800.0, 600.0, 200.0, 500.0, 500.0, 200.0, 400.0, 500.0, 250.0, 400.0, 200.0, 700.0, 600.0, 450.0, 250.0, 150.0, 500.0, 350.0, 400.0, 600.0, 550.0, 1000.0, 400.0, 400.0, 400.0, 500.0, 600.0, 550.0, 500.0, 300.0, 200.0, 200.0, 650.0, 300.0, 250.0, 800.0, 500.0, 500.0, 200.0, 800.0, 350.0, 900.0, 400.0, 450.0, 1500.0, 200.0, 900.0, 500.0, 400.0, 1300.0, 600.0, 500.0, 400.0, 800.0, 400.0, 400.0, 400.0, 450.0, 500.0, 300.0, 400.0, 650.0, 400.0, 250.0, 400.0, 1200.0, 500.0, 350.0, 500.0, 200.0, 400.0, 350.0, 400.0, 200.0, 200.0, 400.0, 400.0, 200.0, 350.0, 250.0, 200.0, 400.0, 800.0, 2000.0, 600.0, 800.0, 600.0, 500.0, 600.0, 400.0, 550.0, 1100.0, 500.0, 1100.0, 650.0, 450.0, 500.0, 200.0, 300.0, 400.0, 400.0, 900.0, 200.0, 300.0, 300.0, 250.0, 700.0, 500.0, 300.0, 700.0, 800.0, 150.0, 300.0, 500.0, 200.0, 400.0, 250.0, 400.0, 500.0, 600.0, 450.0, 500.0, 150.0, 500.0, 600.0, 450.0, 300.0, 300.0, 400.0, 500.0, 450.0, 200.0, 250.0, 200.0, 700.0, 700.0, 500.0, 400.0, 1200.0, 1300.0, 1200.0, 1400.0, 900.0, 2000.0, 1000.0, 1500.0, 1300.0, 1400.0, 1300.0, 900.0, 2100.0, 1600.0, 700.0, 750.0, 800.0, 1000.0, 1500.0, 1500.0, 1500.0, 1800.0, 1300.0, 600.0, 1400.0, 1000.0, 600.0, 1200.0, 800.0, 1400.0, 600.0, 1400.0, 600.0, 650.0, 900.0, 750.0, 1200.0, 500.0, 1000.0, 900.0, 1200.0, 1500.0, 800.0, 800.0, 1200.0, 600.0, 800.0, 900.0, 800.0, 750.0, 550.0, 1100.0, 650.0, 600.0, 600.0, 500.0, 750.0, 1200.0, 800.0, 850.0, 800.0, 1000.0, 700.0, 600.0, 750.0, 1200.0, 800.0, 650.0, 1500.0, 1000.0, 800.0, 500.0, 500.0, 800.0, 1200.0, 700.0, 1400.0, 700.0, 750.0, 1300.0, 750.0, 700.0, 450.0, 150.0, 350.0, 800.0, 550.0, 800.0, 1000.0, 600.0, 600.0, 500.0, 600.0, 800.0, 600.0, 1000.0, 500.0, 600.0, 650.0, 500.0, 900.0, 700.0, 500.0, 400.0, 200.0, 350.0, 400.0, 200.0, 500.0, 600.0, 200.0, 600.0, 750.0, 500.0, 250.0, 500.0, 300.0, 250.0, 600.0, 200.0, 300.0, 300.0, 450.0, 250.0, 800.0, 2000.0, 1500.0, 1100.0, 600.0, 1600.0, 1800.0, 1200.0, 1000.0, 600.0, 1600.0, 1200.0, 600.0, 1400.0, 1500.0, 1000.0, 1200.0, 800.0, 1500.0, 1200.0, 1500.0, 1400.0, 500.0, 1000.0, 400.0, 1200.0, 1400.0, 1300.0, 2500.0, 2000.0, 1100.0, 1500.0, 600.0, 1300.0, 1000.0, 1000.0, 600.0, 1000.0, 600.0, 800.0, 850.0, 1000.0, 650.0, 1000.0, 700.0, 1500.0, 550.0, 750.0, 800.0, 1100.0, 900.0, 700.0, 800.0, 500.0, 700.0, 650.0, 1100.0, 600.0, 1200.0, 800.0, 1000.0, 700.0, 650.0, 800.0, 1700.0, 1400.0, 750.0, 1000.0, 900.0, 900.0, 650.0, 600.0, 600.0, 700.0, 750.0, 700.0, 900.0, 1500.0, 800.0, 1000.0, 800.0, 200.0, 1200.0, 1100.0, 1000.0, 750.0, 600.0, 650.0, 600.0, 1400.0, 500.0, 500.0, 800.0, 650.0, 650.0, 700.0, 1200.0, 750.0, 600.0, 650.0, 1700.0, 2000.0, 700.0, 600.0, 250.0, 1000.0, 1500.0, 700.0, 500.0, 900.0, 250.0, 600.0, 600.0, 800.0, 500.0, 1000.0, 500.0, 500.0, 1300.0, 250.0, 600.0, 600.0, 750.0, 600.0, 450.0, 1300.0, 500.0, 400.0, 1000.0, 500.0, 250.0, 250.0, 800.0, 800.0, 700.0, 450.0, 800.0, 700.0, 650.0, 400.0, 1500.0, 600.0, 500.0, 800.0, 500.0, 350.0, 700.0, 500.0, 1200.0, 600.0, 450.0, 600.0, 400.0, 600.0, 400.0, 350.0, 550.0, 600.0, 300.0, 450.0, 250.0, 400.0, 300.0, 450.0, 200.0, 450.0, 250.0, 500.0, 400.0, 450.0, 300.0, 250.0, 500.0, 300.0, 200.0, 400.0, 900.0, 300.0, 400.0, 250.0, 600.0, 500.0, 400.0, 500.0, 400.0, 400.0, 300.0, 200.0, 500.0, 200.0, 400.0, 300.0, 200.0, 500.0, 300.0, 350.0, 400.0, 300.0, 300.0, 400.0, 200.0, 600.0, 500.0, 600.0, 500.0, 200.0, 400.0, 400.0, 300.0, 300.0, 400.0, 600.0, 350.0, 300.0, 600.0, 500.0, 550.0, 200.0, 150.0, 600.0, 300.0, 300.0, 400.0, 450.0, 550.0, 300.0, 200.0, 350.0, 300.0, 400.0, 400.0, 250.0, 200.0, 100.0, 1300.0, 800.0, 900.0, 900.0, 800.0, 800.0, 300.0, 700.0, 1100.0, 650.0, 900.0, 800.0, 800.0, 1300.0, 400.0, 600.0, 400.0, 500.0, 800.0, 600.0, 1000.0, 200.0, 500.0, 600.0, 900.0, 1000.0, 400.0, 350.0, 700.0, 150.0, 700.0, 900.0, 800.0, 600.0, 300.0, 200.0, 600.0, 400.0, 500.0, 600.0, 300.0, 200.0, 500.0, 600.0, 250.0, 200.0, 350.0, 500.0, 300.0, 400.0, 300.0, 1000.0, 300.0, 600.0, 500.0, 600.0, 250.0, 300.0, 550.0, 350.0, 400.0, 400.0, 650.0, 300.0, 500.0, 250.0, 400.0, 400.0, 200.0, 500.0, 300.0, 700.0, 200.0, 1500.0, 1800.0, 1000.0, 2000.0, 2100.0, 1600.0, 1000.0, 1400.0, 1000.0, 1200.0, 1200.0, 1000.0, 1500.0, 1000.0, 1400.0, 1300.0, 2000.0, 1500.0, 1100.0, 1600.0, 1800.0, 1200.0, 1000.0, 1400.0, 1200.0, 1200.0, 1400.0, 1000.0, 1200.0, 1400.0, 2000.0, 1300.0, 1200.0, 1000.0, 1400.0, 1500.0, 1200.0, 1400.0, 1200.0, 1700.0, 1500.0, 1300.0, 1300.0, 1500.0, 1200.0, 1100.0, 2100.0, 1000.0, 1000.0, 1400.0, 1000.0, 1500.0, 1300.0, 1400.0, 1500.0, 1800.0, 1200.0, 1500.0, 1200.0, 1000.0, 1200.0, 1000.0, 1300.0, 1100.0, 1600.0, 1800.0, 1200.0, 1200.0, 1500.0, 1200.0, 1200.0, 1400.0, 1000.0, 1200.0, 1400.0, 1300.0, 800.0, 1200.0, 1000.0, 1400.0, 1500.0, 1000.0, 1200.0, 1400.0, 1200.0, 1700.0, 1500.0, 1300.0, 1300.0, 1500.0, 1100.0, 1300.0, 1300.0, 2000.0, 1400.0, 2000.0, 600.0, 1000.0, 900.0, 1500.0, 1200.0, 1500.0, 1300.0, 1000.0, 600.0, 1500.0, 1500.0, 1500.0, 1500.0, 1100.0, 750.0, 900.0, 1700.0, 1000.0, 700.0, 1500.0, 1400.0, 800.0, 1000.0, 2000.0, 1000.0, 1500.0, 800.0, 1100.0, 1000.0, 500.0, 600.0, 600.0, 800.0, 700.0, 700.0, 400.0, 600.0, 600.0, 450.0, 250.0, 900.0, 600.0, 800.0, 600.0, 1300.0, 800.0, 400.0, 600.0, 600.0, 600.0, 1000.0, 800.0, 1000.0, 900.0, 600.0, 500.0, 800.0, 900.0, 800.0, 550.0, 800.0, 900.0, 850.0, 900.0, 300.0, 700.0, 700.0, 600.0, 700.0, 800.0, 800.0, 1200.0, 600.0, 1200.0, 650.0, 700.0, 900.0, 450.0, 200.0, 700.0, 650.0, 600.0, 600.0, 600.0, 800.0, 700.0, 650.0, 350.0, 500.0, 700.0, 300.0, 600.0, 500.0, 700.0, 500.0, 800.0, 600.0, 600.0, 450.0, 900.0, 1600.0, 600.0, 500.0, 500.0, 450.0, 500.0, 450.0, 800.0, 400.0, 800.0, 300.0, 900.0, 200.0, 250.0, 400.0, 250.0, 300.0, 600.0, 400.0, 400.0, 650.0, 500.0, 600.0, 500.0, 600.0, 600.0, 400.0, 800.0, 500.0, 400.0, 300.0, 300.0, 600.0, 200.0, 500.0, 300.0, 150.0, 300.0, 400.0, 600.0, 400.0, 550.0, 750.0, 150.0, 450.0, 650.0, 500.0, 400.0, 400.0, 300.0, 500.0, 400.0, 400.0, 600.0, 600.0, 800.0, 700.0, 250.0, 400.0, 700.0, 250.0, 800.0, 250.0, 250.0, 750.0, 350.0, 600.0, 600.0, 600.0, 200.0, 350.0, 600.0, 1000.0, 400.0, 700.0, 400.0, 300.0, 500.0, 400.0, 500.0, 650.0, 500.0, 300.0, 500.0, 300.0, 500.0, 1000.0, 200.0, 750.0, 400.0, 350.0, 800.0, 400.0, 450.0, 300.0, 500.0, 400.0, 600.0, 550.0, 600.0, 650.0, 300.0, 500.0, 150.0, 300.0, 600.0, 250.0, 500.0, 600.0, 500.0, 800.0, 250.0, 600.0, 600.0, 800.0, 750.0, 300.0, 600.0, 600.0, 450.0, 750.0, 450.0, 500.0, 400.0, 200.0, 250.0, 700.0, 500.0, 300.0, 400.0, 800.0, 600.0, 400.0, 300.0, 400.0, 200.0, 800.0, 1500.0, 800.0, 300.0, 200.0, 450.0, 300.0, 450.0, 500.0, 500.0, 400.0, 400.0, 550.0, 450.0, 1000.0, 600.0, 300.0, 550.0, 300.0, 650.0, 500.0, 500.0, 1200.0, 650.0, 400.0, 200.0, 450.0, 300.0, 500.0, 400.0, 600.0, 500.0, 1600.0, 600.0, 300.0, 800.0, 300.0, 400.0, 40.0, 500.0, 500.0, 600.0, 400.0, 400.0, 300.0, 800.0, 900.0, 600.0, 1800.0, 300.0, 400.0, 800.0, 500.0, 650.0, 300.0, 700.0, 450.0, 300.0, 500.0, 200.0, 800.0, 500.0, 500.0, 300.0, 300.0, 350.0, 600.0, 800.0, 400.0, 350.0, 600.0, 350.0, 200.0, 700.0, 1000.0, 1200.0, 1500.0, 350.0, 1300.0, 600.0, 450.0, 1200.0, 650.0, 400.0, 500.0, 400.0, 400.0, 1000.0, 600.0, 600.0, 400.0, 250.0, 1000.0, 250.0, 300.0, 500.0, 500.0, 600.0, 450.0, 600.0, 1300.0, 400.0, 600.0, 300.0, 800.0, 300.0, 1000.0, 500.0, 300.0, 400.0, 800.0, 600.0, 300.0, 500.0, 1000.0, 600.0, 450.0, 1600.0, 600.0, 400.0, 800.0, 400.0, 1300.0, 650.0, 800.0, 200.0, 300.0, 700.0, 250.0, 600.0, 700.0, 600.0, 500.0, 500.0, 600.0, 700.0, 600.0, 400.0, 1100.0, 750.0, 1500.0, 400.0, 230.0, 800.0, 500.0, 700.0, 1500.0, 400.0, 300.0, 300.0, 2500.0, 600.0, 300.0, 500.0, 1500.0, 900.0, 700.0, 200.0, 600.0, 600.0, 500.0, 900.0, 900.0, 500.0, 400.0, 600.0, 200.0, 500.0, 1000.0, 1200.0, 200.0, 400.0, 500.0, 250.0, 700.0, 500.0, 300.0, 250.0, 600.0, 650.0, 650.0, 500.0, 250.0, 1200.0, 1200.0, 800.0, 400.0, 500.0, 1500.0, 150.0, 700.0, 1000.0, 350.0, 1000.0, 700.0, 900.0, 750.0, 700.0, 300.0, 650.0, 500.0, 700.0, 400.0, 400.0, 500.0, 800.0, 400.0, 1000.0, 1500.0, 300.0, 600.0, 100.0, 1000.0, 800.0, 700.0, 700.0, 400.0, 350.0, 350.0, 450.0, 200.0, 400.0, 900.0, 450.0, 300.0, 300.0, 300.0, 600.0, 1000.0, 1000.0, 550.0, 200.0, 500.0, 1500.0, 1000.0, 400.0, 600.0, 900.0, 150.0, 1400.0, 750.0, 400.0, 900.0, 300.0, 1200.0, 600.0, 400.0, 500.0, 1500.0, 450.0, 450.0, 200.0, 1100.0, 500.0, 1700.0, 600.0, 400.0, 350.0, 250.0, 600.0, 700.0, 600.0, 400.0, 400.0, 600.0, 750.0, 600.0, 250.0, 2000.0, 500.0, 1500.0, 700.0, 1000.0, 700.0, 1300.0, 500.0, 500.0, 800.0, 800.0, 500.0, 600.0, 300.0, 700.0, 450.0, 750.0, 350.0, 150.0, 300.0, 1200.0, 600.0, 1200.0, 400.0, 300.0, 1100.0, 700.0, 300.0, 650.0, 700.0, 300.0, 650.0, 400.0, 1100.0, 900.0, 450.0, 550.0, 400.0, 750.0, 250.0, 1200.0, 350.0, 400.0, 800.0, 1000.0, 400.0, 700.0, 1200.0, 500.0, 1000.0, 750.0, 550.0, 600.0, 150.0, 1400.0, 350.0, 700.0, 300.0, 250.0, 400.0, 250.0, 250.0, 450.0, 200.0, 600.0, 600.0, 1000.0, 200.0, 300.0, 750.0, 250.0, 250.0, 200.0, 600.0, 600.0, 600.0, 600.0, 600.0, 500.0, 150.0, 600.0, 1000.0, 600.0, 200.0, 800.0, 350.0, 350.0, 650.0, 500.0, 400.0, 400.0, 500.0, 550.0, 300.0, 300.0, 500.0, 1300.0, 250.0, 500.0, 600.0, 650.0, 150.0, 900.0, 200.0, 700.0, 550.0, 400.0, 800.0, 450.0, 1400.0, 800.0, 600.0, 150.0, 300.0, 400.0, 200.0, 800.0, 600.0, 300.0, 600.0, 700.0, 250.0, 300.0, 1000.0, 1000.0, 1000.0, 1400.0, 1600.0, 300.0, 700.0, 450.0, 900.0, 1400.0, 800.0, 900.0, 900.0, 1300.0, 800.0, 1400.0, 800.0, 650.0, 1100.0, 400.0, 650.0, 500.0, 800.0, 900.0, 800.0, 850.0, 800.0, 350.0, 1200.0, 400.0, 650.0, 300.0, 650.0, 200.0, 350.0, 400.0, 150.0, 200.0, 500.0, 400.0, 400.0, 500.0, 600.0, 450.0, 250.0, 150.0, 500.0, 600.0, 300.0, 200.0, 1000.0, 1100.0, 400.0, 400.0, 600.0, 500.0, 200.0, 400.0, 650.0, 800.0, 350.0, 700.0, 500.0, 500.0, 250.0, 200.0, 800.0, 350.0, 500.0, 1500.0, 200.0, 400.0, 600.0, 2000.0, 500.0, 600.0, 1100.0, 400.0, 500.0, 250.0, 500.0, 250.0, 300.0, 300.0, 250.0, 400.0, 1300.0, 600.0, 800.0, 600.0, 600.0, 400.0, 500.0, 800.0, 550.0, 450.0, 450.0, 400.0, 400.0, 300.0, 500.0, 500.0, 400.0, 650.0, 400.0, 1200.0, 400.0, 1100.0, 650.0, 300.0, 500.0, 900.0, 350.0, 400.0, 400.0, 300.0, 200.0, 400.0, 250.0, 200.0, 450.0, 300.0, 500.0, 350.0, 200.0, 500.0, 500.0, 200.0, 500.0, 400.0, 400.0, 400.0, 800.0, 700.0, 350.0, 150.0, 200.0, 200.0, 300.0, 400.0, 400.0, 500.0, 400.0, 600.0, 150.0, 700.0, 500.0, 600.0, 200.0, 450.0, 400.0, 400.0, 200.0, 800.0, 450.0, 200.0, 400.0, 200.0, 500.0, 2000.0, 1000.0, 500.0, 2500.0, 1100.0, 2000.0, 600.0, 1100.0, 700.0, 1000.0, 600.0, 650.0, 800.0, 700.0, 1000.0, 600.0, 700.0, 1000.0, 1400.0, 750.0, 1000.0, 250.0, 900.0, 1700.0, 250.0, 250.0, 600.0, 700.0, 800.0, 500.0, 600.0, 250.0, 800.0, 1500.0, 450.0, 1300.0, 400.0, 500.0, 1200.0, 500.0, 750.0, 600.0, 400.0, 600.0, 400.0, 250.0, 300.0, 400.0, 400.0, 200.0, 550.0, 450.0, 400.0, 300.0, 200.0, 400.0, 400.0, 200.0, 600.0, 600.0, 350.0, 200.0, 550.0, 300.0, 400.0, 1400.0, 900.0, 1500.0, 2000.0, 1000.0, 1100.0, 1500.0, 2100.0, 1200.0, 600.0, 1300.0, 1300.0, 1400.0, 800.0, 1800.0, 1600.0, 1200.0, 1600.0, 700.0, 900.0, 1500.0, 750.0, 1300.0, 1500.0, 1000.0, 1000.0, 600.0, 1300.0, 1500.0, 1500.0, 1400.0, 1800.0, 600.0, 1200.0, 1600.0, 1400.0, 600.0, 1400.0, 1000.0, 1200.0, 800.0, 1500.0, 1500.0, 1200.0, 400.0, 1000.0, 1000.0, 1400.0, 600.0, 1400.0, 800.0, 1200.0, 600.0, 1300.0, 1200.0, 600.0, 1300.0, 1500.0, 1400.0, 1200.0, 650.0, 600.0, 550.0, 1000.0, 1100.0, 1000.0, 800.0, 1000.0, 650.0, 900.0, 600.0, 750.0, 500.0, 1500.0, 1500.0, 1200.0, 800.0, 900.0, 800.0, 550.0, 800.0, 900.0, 800.0, 900.0, 1700.0, 600.0, 800.0, 750.0, 850.0, 750.0, 800.0, 1200.0, 1000.0, 1200.0, 900.0, 1000.0, 500.0, 900.0, 750.0, 500.0, 800.0, 700.0, 600.0, 700.0, 1200.0, 800.0, 600.0, 700.0, 800.0, 650.0, 600.0, 800.0, 800.0, 850.0, 750.0, 1200.0, 500.0, 600.0, 1500.0, 750.0, 1100.0, 1200.0, 750.0, 1000.0, 650.0, 1000.0, 700.0, 700.0, 750.0, 1200.0, 800.0, 650.0, 800.0, 1100.0, 650.0, 500.0, 1500.0, 1000.0, 450.0, 500.0, 800.0, 1300.0, 200.0, 750.0, 1200.0, 600.0, 1400.0, 800.0, 600.0, 1000.0, 750.0, 650.0, 700.0, 700.0, 600.0, 650.0, 500.0, 600.0, 600.0, 800.0, 500.0, 1000.0, 600.0, 600.0, 700.0, 2000.0, 600.0, 150.0, 250.0, 500.0, 600.0, 800.0, 1500.0, 700.0, 350.0, 500.0, 800.0, 650.0, 600.0, 550.0, 650.0, 650.0, 700.0, 900.0, 500.0, 600.0, 1000.0, 800.0, 400.0, 450.0, 1000.0, 1300.0, 500.0, 750.0, 700.0, 500.0, 500.0, 700.0, 650.0, 800.0, 1000.0, 600.0, 700.0, 250.0, 800.0, 500.0, 600.0, 500.0, 600.0, 700.0, 350.0, 450.0, 400.0, 500.0, 600.0, 200.0, 450.0, 250.0, 350.0, 300.0, 450.0, 350.0, 500.0, 300.0, 200.0, 600.0, 400.0, 250.0, 450.0, 600.0, 200.0, 500.0, 500.0, 900.0, 500.0, 250.0, 200.0, 500.0, 300.0, 400.0, 400.0, 600.0, 300.0, 300.0, 400.0, 500.0, 400.0, 400.0, 450.0, 200.0, 200.0, 500.0, 400.0, 500.0, 300.0, 500.0, 300.0, 200.0, 300.0, 600.0, 400.0, 500.0, 400.0, 500.0, 350.0, 300.0, 200.0, 400.0, 300.0, 300.0, 600.0, 150.0, 500.0, 300.0, 400.0, 300.0, 450.0, 250.0, 600.0, 300.0, 600.0, 400.0, 550.0, 200.0, 300.0, 300.0, 350.0, 400.0, 250.0, 800.0, 300.0, 250.0, 350.0, 200.0, 100.0, 1200.0, 800.0, 1700.0, 900.0, 1600.0, 800.0, 700.0, 1500.0, 1800.0, 300.0, 800.0, 800.0, 1000.0, 1300.0, 900.0, 400.0, 200.0, 1000.0, 600.0, 600.0, 800.0, 400.0, 500.0, 200.0, 250.0, 400.0, 500.0, 600.0, 200.0, 300.0, 300.0, 300.0, 600.0, 600.0, 1800.0, 400.0, 250.0, 900.0, 350.0, 300.0, 1000.0, 1100.0, 350.0, 600.0, 500.0, 300.0, 400.0, 400.0, 650.0, 500.0, 400.0, 700.0, 400.0, 500.0, 200.0, 300.0, 2100.0, 1100.0, 1300.0, 2000.0, 1000.0, 2000.0, 1000.0, 1400.0, 1700.0, 1500.0, 1200.0, 1500.0, 2000.0, 1000.0, 1800.0, 1600.0, 1200.0, 1600.0, 1000.0, 1000.0, 1500.0, 1400.0, 1800.0, 1400.0, 1200.0, 1200.0, 1000.0, 1400.0, 1200.0, 1200.0, 1300.0, 1400.0, 1200.0, 1200.0, 1500.0, 1000.0, 1000.0, 1200.0, 1500.0, 1300.0, 1200.0, 1400.0, 1500.0, 1300.0, 1200.0, 1700.0, 1600.0, 1400.0, 1200.0, 2000.0, 1500.0, 1500.0, 1500.0, 800.0, 1000.0, 1500.0, 1300.0, 1500.0, 1300.0, 1000.0, 600.0, 1500.0, 2000.0, 600.0, 1100.0, 750.0, 900.0, 1700.0, 1000.0, 700.0, 1100.0, 1500.0, 1000.0, 1400.0, 2000.0, 900.0, 1000.0, 1300.0, 1100.0, 800.0, 1000.0, 800.0, 1000.0, 550.0, 700.0, 600.0, 900.0, 650.0, 700.0, 350.0, 600.0, 650.0, 900.0, 600.0, 800.0, 600.0, 1300.0, 800.0, 500.0, 400.0, 600.0, 600.0, 600.0, 800.0, 1000.0, 900.0, 600.0, 500.0, 800.0, 900.0, 800.0, 900.0, 850.0, 600.0, 900.0, 300.0, 700.0, 800.0, 600.0, 700.0, 800.0, 800.0, 700.0, 1200.0, 1200.0, 650.0, 700.0, 450.0, 200.0, 700.0, 600.0, 600.0, 600.0, 800.0, 650.0, 500.0, 700.0, 400.0, 300.0, 500.0, 600.0, 600.0, 700.0, 500.0, 800.0, 450.0, 250.0, 450.0, 600.0, 900.0, 1000.0, 700.0, 700.0, 600.0, 600.0, 500.0, 600.0, 500.0, 450.0, 500.0, 450.0, 250.0, 800.0, 300.0, 400.0, 400.0, 400.0, 800.0, 900.0, 200.0, 250.0, 300.0, 600.0, 400.0, 400.0, 650.0, 500.0, 250.0, 600.0, 500.0, 600.0, 600.0, 400.0, 800.0, 450.0, 500.0, 400.0, 300.0, 200.0, 500.0, 300.0, 150.0, 300.0, 600.0, 400.0, 550.0, 150.0, 450.0, 500.0, 400.0, 400.0, 500.0, 400.0, 400.0, 400.0, 600.0, 600.0, 800.0, 250.0, 700.0, 250.0, 300.0, 400.0, 900.0, 700.0, 250.0, 450.0, 300.0, 800.0, 250.0, 250.0, 750.0, 350.0, 600.0, 600.0, 600.0, 200.0, 350.0, 600.0, 400.0, 700.0, 500.0, 600.0, 200.0, 400.0, 300.0, 500.0, 650.0, 500.0, 300.0, 500.0, 350.0, 500.0, 600.0, 200.0, 300.0, 750.0, 800.0, 400.0, 350.0, 800.0, 400.0, 450.0, 400.0, 300.0, 300.0, 500.0, 400.0, 600.0, 550.0, 600.0, 650.0, 300.0, 500.0, 150.0, 300.0, 600.0, 250.0, 650.0, 400.0, 800.0, 200.0, 1000.0, 250.0, 600.0, 1200.0, 700.0, 600.0, 800.0, 400.0, 750.0, 400.0, 300.0, 600.0, 450.0, 750.0, 450.0, 500.0, 400.0, 200.0, 100.0, 250.0, 650.0, 500.0, 300.0, 400.0, 500.0, 1200.0, 400.0, 400.0, 200.0, 800.0, 400.0, 1500.0, 800.0, 400.0, 300.0, 200.0, 450.0, 400.0, 400.0, 450.0, 1000.0, 600.0, 700.0, 250.0, 300.0, 200.0, 600.0, 400.0, 650.0, 500.0, 650.0, 650.0, 400.0, 200.0, 450.0, 500.0, 400.0, 600.0, 500.0, 600.0, 300.0, 800.0, 300.0, 400.0, 500.0, 400.0, 600.0, 800.0, 900.0, 600.0, 300.0, 400.0, 800.0, 500.0, 650.0, 300.0, 700.0, 450.0, 300.0, 500.0, 500.0, 200.0, 800.0, 500.0, 300.0, 500.0, 300.0, 600.0, 800.0, 400.0, 350.0, 200.0, 300.0, 700.0, 1000.0, 1200.0, 1500.0, 350.0, 200.0, 1300.0, 600.0, 1000.0, 450.0, 1200.0, 300.0, 350.0, 650.0, 500.0, 400.0, 600.0, 300.0, 600.0, 250.0, 500.0, 800.0, 1000.0, 600.0, 250.0, 300.0, 500.0, 500.0, 500.0, 600.0, 450.0, 600.0, 1300.0, 400.0, 300.0, 400.0, 300.0, 1000.0, 500.0, 800.0, 300.0, 500.0, 200.0, 800.0, 600.0, 300.0, 500.0, 600.0, 450.0, 1600.0, 600.0, 400.0, 400.0, 1300.0, 1000.0, 400.0, 750.0, 700.0, 650.0, 800.0, 1000.0, 300.0, 700.0, 600.0, 600.0, 1500.0, 500.0, 700.0, 400.0, 1100.0, 750.0, 1500.0, 400.0, 230.0, 500.0, 700.0, 400.0, 300.0, 2500.0, 1200.0, 300.0, 250.0, 600.0, 300.0, 900.0, 350.0, 1500.0, 200.0, 900.0, 700.0, 200.0, 600.0, 600.0, 900.0, 900.0, 500.0, 500.0, 400.0, 600.0, 500.0, 500.0, 1200.0, 1000.0, 200.0, 400.0, 500.0, 700.0, 500.0, 180.0, 300.0, 550.0, 400.0, 250.0, 600.0, 650.0, 500.0, 250.0, 300.0, 450.0, 600.0, 1200.0, 800.0, 800.0, 400.0, 500.0, 1500.0, 150.0, 700.0, 1000.0, 1000.0, 700.0, 900.0, 750.0, 700.0, 500.0, 650.0, 500.0, 700.0, 400.0, 150.0, 400.0, 400.0, 400.0, 400.0, 1500.0, 300.0, 600.0, 400.0, 400.0, 100.0, 1200.0, 300.0, 1000.0, 800.0, 700.0, 350.0, 350.0, 450.0, 200.0, 200.0, 400.0, 400.0, 600.0, 300.0, 300.0, 200.0, 300.0, 500.0, 600.0, 1000.0, 1000.0, 550.0, 200.0, 300.0, 500.0, 1500.0, 1000.0, 250.0, 400.0, 600.0, 900.0, 150.0, 1400.0, 750.0, 400.0, 1000.0, 900.0, 300.0, 1200.0, 300.0, 600.0, 400.0, 300.0, 1500.0, 450.0, 450.0, 200.0, 1100.0, 400.0, 800.0, 1700.0, 1500.0, 600.0, 400.0, 600.0, 800.0, 600.0, 400.0, 700.0, 400.0, 1000.0, 600.0, 700.0, 700.0, 750.0, 600.0, 250.0, 400.0, 150.0, 1200.0, 400.0, 700.0, 100.0, 1000.0, 900.0, 700.0, 1300.0, 500.0, 500.0, 800.0, 550.0, 800.0, 500.0, 600.0, 300.0, 700.0, 750.0, 500.0, 350.0, 300.0, 650.0, 600.0, 1200.0, 200.0, 400.0, 1100.0, 700.0, 300.0, 650.0, 700.0, 400.0, 300.0, 650.0, 400.0, 1100.0, 600.0, 900.0, 450.0, 550.0, 350.0, 400.0, 750.0, 250.0, 1200.0, 200.0, 500.0, 350.0, 400.0, 800.0, 500.0, 650.0, 1000.0, 750.0, 400.0, 700.0, 1200.0, 500.0, 500.0, 1000.0, 750.0, 550.0, 600.0, 1400.0, 400.0, 300.0, 1000.0, 350.0, 700.0, 750.0, 200.0, 400.0, 250.0, 250.0, 600.0, 600.0, 650.0, 1000.0, 200.0, 800.0, 300.0, 750.0, 600.0, 600.0, 600.0, 600.0, 600.0, 250.0, 550.0, 400.0, 500.0, 400.0, 150.0, 600.0, 1000.0, 250.0, 600.0, 100.0, 800.0, 450.0, 500.0, 400.0, 650.0, 500.0, 1300.0, 400.0, 600.0, 650.0, 350.0, 150.0, 200.0, 700.0, 550.0, 400.0, 800.0, 600.0, 450.0, 500.0, 800.0, 600.0, 300.0, 400.0, 900.0, 200.0, 200.0, 800.0, 900.0, 600.0, 300.0, 600.0, 700.0, 250.0, 1000.0, 1000.0, 1000.0, 1400.0, 2000.0, 300.0, 450.0, 700.0, 1100.0, 900.0, 1400.0, 1000.0, 800.0, 900.0, 900.0, 1300.0, 800.0, 600.0, 1400.0, 800.0, 650.0, 1100.0, 400.0, 650.0, 500.0, 550.0, 800.0, 900.0, 800.0, 850.0, 800.0, 350.0, 1200.0, 400.0, 650.0, 600.0, 150.0, 700.0, 300.0, 200.0, 800.0, 150.0, 500.0, 200.0, 500.0, 200.0, 500.0, 400.0, 400.0, 500.0, 250.0, 200.0, 700.0, 450.0, 250.0, 350.0, 400.0, 600.0, 500.0, 300.0, 200.0, 550.0, 1000.0, 400.0, 400.0, 400.0, 500.0, 600.0, 550.0, 500.0, 300.0, 200.0, 200.0, 400.0, 650.0, 300.0, 250.0, 800.0, 500.0, 700.0, 500.0, 250.0, 800.0, 500.0, 350.0, 400.0, 500.0, 1500.0, 500.0, 400.0, 550.0, 400.0, 900.0, 400.0, 300.0, 200.0, 450.0, 250.0, 500.0, 500.0, 800.0, 700.0, 150.0, 600.0, 150.0, 400.0, 2000.0, 400.0, 1300.0, 600.0, 800.0, 500.0, 600.0, 600.0, 400.0, 500.0, 800.0, 1100.0, 450.0, 450.0, 400.0, 400.0, 300.0, 500.0, 500.0, 400.0, 400.0, 1200.0, 400.0, 1100.0, 650.0, 500.0, 300.0, 500.0, 350.0, 400.0, 300.0, 400.0, 250.0, 300.0, 500.0, 350.0, 200.0, 200.0, 400.0, 400.0, 350.0, 200.0, 200.0, 300.0, 400.0, 400.0, 500.0, 400.0, 250.0, 500.0, 250.0, 700.0, 500.0, 600.0, 200.0, 450.0, 300.0, 400.0, 300.0, 200.0, 800.0, 450.0, 600.0, 200.0, 200.0, 200.0, 700.0, 400.0, 1600.0, 2100.0, 1500.0, 1500.0, 1100.0, 1500.0, 600.0, 1500.0, 1400.0, 550.0, 900.0, 500.0, 600.0, 750.0, 650.0, 1100.0, 1000.0, 600.0, 650.0, 650.0, 500.0, 800.0, 1000.0, 750.0, 700.0, 800.0, 650.0, 750.0, 800.0, 400.0, 750.0, 700.0, 650.0, 700.0, 650.0, 500.0, 700.0, 450.0, 350.0, 300.0, 450.0, 600.0, 900.0, 200.0, 400.0, 400.0, 200.0, 500.0, 200.0, 450.0, 600.0, 400.0, 500.0, 200.0, 250.0, 400.0, 500.0, 300.0, 400.0, 550.0, 200.0, 300.0, 400.0, 300.0, 600.0, 1400.0, 900.0, 2000.0, 2000.0, 1000.0, 1500.0, 1200.0, 600.0, 1300.0, 1300.0, 1400.0, 800.0, 1200.0, 1800.0, 1600.0, 700.0, 900.0, 1500.0, 750.0, 1300.0, 1500.0, 1000.0, 1000.0, 600.0, 1300.0, 1500.0, 1400.0, 1800.0, 1400.0, 600.0, 1400.0, 1000.0, 1200.0, 800.0, 1000.0, 1500.0, 500.0, 1200.0, 400.0, 1000.0, 1000.0, 1400.0, 600.0, 1400.0, 800.0, 1200.0, 1300.0, 2500.0, 600.0, 1300.0, 1100.0, 1200.0, 650.0, 550.0, 600.0, 2000.0, 600.0, 1100.0, 1000.0, 800.0, 1000.0, 650.0, 900.0, 600.0, 500.0, 1500.0, 1500.0, 800.0, 1200.0, 900.0, 800.0, 800.0, 900.0, 1100.0, 800.0, 900.0, 700.0, 1700.0, 800.0, 1000.0, 600.0, 750.0, 850.0, 750.0, 1200.0, 800.0, 1000.0, 600.0, 1200.0, 900.0, 1000.0, 650.0, 500.0, 750.0, 800.0, 700.0, 700.0, 1200.0, 800.0, 600.0, 700.0, 800.0, 650.0, 600.0, 800.0, 700.0, 800.0, 1000.0, 750.0, 600.0, 1200.0, 500.0, 1500.0, 750.0, 1100.0, 1200.0, 1000.0, 1000.0, 650.0, 700.0, 750.0, 700.0, 1200.0, 800.0, 800.0, 1300.0, 1500.0, 450.0, 500.0, 800.0, 200.0, 750.0, 600.0, 1000.0, 1400.0, 1400.0, 800.0, 1000.0, 750.0, 750.0, 700.0, 700.0, 1000.0, 600.0, 500.0, 250.0, 600.0, 600.0, 700.0, 2000.0, 600.0, 150.0, 250.0, 500.0, 600.0, 800.0, 1500.0, 350.0, 900.0, 600.0, 550.0, 650.0, 1700.0, 250.0, 700.0, 900.0, 250.0, 600.0, 600.0, 1000.0, 700.0, 800.0, 450.0, 500.0, 1000.0, 1300.0, 600.0, 500.0, 250.0, 700.0, 500.0, 500.0, 800.0, 1000.0, 600.0, 250.0, 800.0, 1500.0, 800.0, 450.0, 1300.0, 500.0, 400.0, 500.0, 1200.0, 500.0, 350.0, 450.0, 600.0, 400.0, 600.0, 400.0, 400.0, 500.0, 600.0, 200.0, 200.0, 450.0, 250.0, 350.0, 300.0, 400.0, 500.0, 400.0, 200.0, 600.0, 400.0, 250.0, 200.0, 550.0, 200.0, 500.0, 500.0, 400.0, 250.0, 500.0, 300.0, 400.0, 400.0, 600.0, 300.0, 300.0, 200.0, 200.0, 500.0, 200.0, 300.0, 400.0, 500.0, 400.0, 300.0, 200.0, 600.0, 400.0, 600.0, 300.0, 600.0, 350.0, 300.0, 450.0, 200.0, 600.0, 300.0, 600.0, 550.0, 300.0, 250.0, 800.0, 400.0, 350.0, 200.0, 1600.0, 1300.0, 1200.0, 1100.0, 800.0, 600.0, 1200.0, 900.0, 1000.0, 550.0, 800.0, 900.0, 600.0, 800.0, 600.0, 700.0, 300.0, 800.0, 700.0, 400.0, 800.0, 1100.0, 650.0, 500.0, 1000.0, 550.0, 650.0, 700.0, 600.0, 250.0, 1300.0, 300.0, 600.0, 600.0, 1000.0, 500.0, 900.0, 600.0, 900.0, 800.0, 400.0, 200.0, 1000.0, 400.0, 600.0, 450.0, 600.0, 350.0, 500.0, 1000.0, 500.0, 350.0, 200.0, 400.0, 500.0, 500.0, 1000.0, 700.0, 300.0, 250.0, 500.0, 150.0, 600.0, 500.0, 600.0, 500.0, 300.0, 600.0, 200.0, 300.0, 400.0, 500.0, 300.0, 200.0, 300.0, 300.0, 600.0, 600.0, 600.0, 450.0, 200.0, 400.0, 250.0, 900.0, 500.0, 600.0, 350.0, 300.0, 200.0, 150.0, 250.0, 1000.0, 400.0, 350.0, 600.0, 600.0, 500.0, 300.0, 400.0, 150.0, 300.0, 550.0, 400.0, 300.0, 400.0, 400.0, 650.0, 500.0, 400.0, 700.0, 400.0, 600.0, 500.0, 250.0, 200.0, 300.0, 1000.0, 2000.0, 2100.0, 1500.0, 1100.0, 1600.0, 1400.0, 2000.0, 1800.0, 1200.0, 1600.0, 1000.0, 1000.0, 1500.0, 1400.0, 1800.0, 1400.0, 1200.0, 1000.0, 1200.0, 1000.0, 1400.0, 1200.0, 1300.0, 1100.0, 2000.0, 1200.0, 1200.0, 1000.0, 1500.0, 1000.0, 1000.0, 1200.0, 1500.0, 1300.0, 1400.0, 1400.0, 1500.0, 1700.0, 1300.0, 1500.0, 1300.0, 1200.0, 1100.0, 1200.0, 1100.0, 1000.0, 1000.0, 1600.0, 1100.0, 1000.0, 1500.0, 1400.0, 1000.0, 1400.0, 1500.0, 2100.0, 1300.0, 1400.0, 1800.0, 1200.0, 1500.0, 1000.0, 1800.0, 1200.0, 1000.0, 1200.0, 1400.0, 1200.0, 1300.0, 1100.0, 1000.0, 1500.0, 800.0, 1200.0, 1200.0, 1000.0, 1200.0, 1000.0, 1000.0, 1200.0, 1500.0, 1300.0, 1400.0, 1500.0, 1800.0, 1300.0, 1500.0, 1300.0, 1200.0, 1100.0, 1200.0, 1100.0, 1300.0, 1000.0, 1000.0, 1600.0, 2200.0, 1200.0, 1400.0, 1000.0, 1500.0, 1600.0, 1200.0, 1800.0, 1500.0, 1500.0, 2100.0, 3000.0, 1200.0, 1700.0, 750.0, 3000.0, 1500.0, 500.0, 2500.0, 1500.0, 3400.0, 2000.0, 1200.0, 800.0, 1700.0, 1200.0, 2000.0, 1300.0, 1300.0, 1600.0, 3000.0, 1000.0, 1000.0, 650.0, 1400.0, 1900.0, 800.0, 1000.0, 1000.0, 500.0, 1200.0, 650.0, 2800.0, 1600.0, 4100.0, 3400.0, 1300.0, 1700.0, 1800.0, 1100.0, 750.0, 1200.0, 750.0, 600.0, 1400.0, 1100.0, 1000.0, 1200.0, 1100.0, 800.0, 900.0, 1700.0, 1000.0, 600.0, 2500.0, 650.0, 400.0, 900.0, 700.0, 450.0, 700.0, 800.0, 750.0, 650.0, 500.0, 500.0, 400.0, 650.0, 500.0, 600.0, 800.0, 1000.0, 500.0, 700.0, 800.0, 900.0, 350.0, 1300.0, 1100.0, 750.0, 750.0, 300.0, 1000.0, 750.0, 1000.0, 500.0, 1100.0, 600.0, 2000.0, 500.0, 500.0, 450.0, 400.0, 500.0, 200.0, 550.0, 300.0, 250.0, 500.0, 500.0, 350.0, 650.0, 500.0, 200.0, 750.0, 650.0, 750.0, 400.0, 400.0, 200.0, 800.0, 600.0, 450.0, 400.0, 800.0, 250.0, 500.0, 500.0, 600.0, 400.0, 250.0, 650.0, 1300.0, 1600.0, 1200.0, 500.0, 300.0, 450.0, 750.0, 1300.0, 500.0, 150.0, 200.0, 350.0, 600.0, 500.0, 500.0, 1500.0, 400.0, 400.0, 250.0, 800.0, 900.0, 1600.0, 300.0, 550.0, 1300.0, 400.0, 900.0, 1100.0, 400.0, 400.0, 700.0, 700.0, 200.0, 700.0, 500.0, 300.0, 300.0, 400.0, 600.0, 250.0, 350.0, 400.0, 400.0, 500.0, 3000.0, 700.0, 700.0, 400.0, 1500.0, 450.0, 300.0, 500.0, 800.0, 180.0, 150.0, 500.0, 750.0, 400.0, 700.0, 500.0, 750.0, 1200.0, 1300.0, 1300.0, 300.0, 850.0, 500.0, 600.0, 1000.0, 700.0, 1000.0, 300.0, 800.0, 950.0, 300.0, 800.0, 900.0, 600.0, 800.0, 350.0, 500.0, 1000.0, 500.0, 300.0, 1400.0, 1500.0, 750.0, 550.0, 2000.0, 550.0, 1000.0, 600.0, 250.0, 1400.0, 200.0, 1500.0, 700.0, 400.0, 400.0, 350.0, 200.0, 450.0, 1000.0, 700.0, 300.0, 350.0, 400.0, 250.0, 400.0, 2000.0, 400.0, 750.0, 700.0, 300.0, 700.0, 1200.0, 800.0, 600.0, 1000.0, 500.0, 700.0, 300.0, 600.0, 1200.0, 800.0, 600.0, 650.0, 500.0, 400.0, 2100.0, 400.0, 2000.0, 300.0, 600.0, 600.0, 1000.0, 200.0, 800.0, 600.0, 1000.0, 1500.0, 150.0, 400.0, 400.0, 1200.0, 700.0, 1200.0, 800.0, 650.0, 400.0, 1700.0, 600.0, 1700.0, 800.0, 700.0, 1500.0, 1300.0, 300.0, 2100.0, 600.0, 600.0, 1700.0, 750.0, 2100.0, 700.0, 1500.0, 700.0, 1700.0, 1400.0, 650.0, 800.0, 1000.0, 600.0, 1000.0, 2000.0, 750.0, 1000.0, 1000.0, 1400.0, 1200.0, 850.0, 1500.0, 300.0, 850.0, 1000.0, 1800.0, 550.0, 800.0, 300.0, 500.0, 1800.0, 1300.0, 800.0, 700.0, 400.0, 550.0, 800.0, 1000.0, 550.0, 600.0, 1000.0, 450.0, 500.0, 1300.0, 1000.0, 1200.0, 1300.0, 700.0, 250.0, 500.0, 1300.0, 1000.0, 1000.0, 1500.0, 800.0, 900.0, 1700.0, 1100.0, 1400.0, 550.0, 400.0, 600.0, 750.0, 400.0, 900.0, 500.0, 800.0, 450.0, 800.0, 500.0, 800.0, 150.0, 1200.0, 500.0, 500.0, 650.0, 400.0, 450.0, 500.0, 200.0, 800.0, 500.0, 1100.0, 500.0, 200.0, 500.0, 300.0, 450.0, 350.0, 100.0, 300.0, 250.0, 550.0, 500.0, 400.0, 600.0, 1800.0, 1600.0, 1600.0, 600.0, 1400.0, 300.0, 400.0, 300.0, 400.0, 550.0, 800.0, 800.0, 2000.0, 1000.0, 550.0, 400.0, 1250.0, 400.0, 300.0, 300.0, 700.0, 450.0, 500.0, 1000.0, 500.0, 450.0, 300.0, 350.0, 400.0, 800.0, 400.0, 400.0, 250.0, 450.0, 300.0, 150.0, 150.0, 250.0, 180.0, 400.0, 500.0, 200.0, 300.0, 200.0, 300.0, 300.0, 500.0, 350.0, 600.0, 900.0, 1300.0, 1100.0, 750.0, 700.0, 500.0, 200.0, 300.0, 400.0, 2200.0, 3000.0, 1800.0, 2500.0, 3000.0, 3000.0, 1500.0, 1200.0, 1300.0, 2100.0, 1700.0, 1600.0, 1500.0, 2200.0, 1400.0, 1500.0, 1000.0, 1000.0, 1500.0, 1500.0, 1500.0, 1300.0, 1200.0, 1600.0, 1000.0, 1100.0, 600.0, 1000.0, 1200.0, 1200.0, 1800.0, 2500.0, 2000.0, 600.0, 400.0, 350.0, 500.0, 1700.0, 1800.0, 1500.0, 1500.0, 1500.0, 2000.0, 800.0, 2800.0, 700.0, 1100.0, 1500.0, 2100.0, 1500.0, 2000.0, 3000.0, 2500.0, 3500.0, 1700.0, 1700.0, 1500.0, 1200.0, 1500.0, 1300.0, 1200.0, 700.0, 800.0, 1600.0, 1000.0, 1500.0, 800.0, 2000.0, 1500.0, 2500.0, 2100.0, 1000.0, 1900.0, 1700.0, 2000.0, 1100.0, 1300.0, 600.0, 900.0, 1200.0, 1700.0, 1400.0, 1300.0, 1000.0, 600.0, 2500.0, 1400.0, 200.0, 1500.0, 550.0, 750.0, 1000.0, 1500.0, 3000.0, 1500.0, 3000.0, 1100.0, 650.0, 1200.0, 2500.0, 2000.0, 600.0, 1400.0, 1100.0, 3200.0, 650.0, 750.0, 850.0, 1800.0, 500.0, 2500.0, 1000.0, 1500.0, 1000.0, 1200.0, 3400.0, 2000.0, 1000.0, 1400.0, 3500.0, 700.0, 1600.0, 1200.0, 400.0, 900.0, 1500.0, 1200.0, 800.0, 1500.0, 1200.0, 4000.0, 500.0, 1300.0, 700.0, 4000.0, 4000.0, 1200.0, 800.0, 600.0, 1100.0, 1100.0, 1000.0, 1700.0, 2000.0, 1200.0, 800.0, 2000.0, 3000.0, 2000.0, 800.0, 2000.0, 3500.0, 1000.0, 1300.0, 700.0, 1000.0, 500.0, 800.0, 2800.0, 2500.0, 800.0, 500.0, 3000.0, 750.0, 800.0, 650.0, 1800.0, 950.0, 1500.0, 3000.0, 750.0, 750.0, 1500.0, 1000.0, 1500.0, 550.0, 500.0, 700.0, 500.0, 600.0, 700.0, 800.0, 700.0, 1200.0, 1000.0, 300.0, 700.0, 1300.0, 1000.0, 500.0, 1600.0, 500.0, 1600.0, 3000.0, 900.0, 450.0, 1000.0, 650.0, 550.0, 650.0, 1000.0, 1000.0, 2000.0, 350.0, 400.0, 300.0, 3000.0, 1200.0, 3000.0, 400.0, 500.0, 650.0, 800.0, 2500.0, 700.0, 1400.0, 500.0, 600.0, 500.0, 800.0, 600.0, 850.0, 700.0, 500.0, 1900.0, 800.0, 1000.0, 500.0, 1300.0, 1500.0, 250.0, 1000.0, 1000.0, 700.0, 500.0, 3000.0, 600.0, 500.0, 800.0, 600.0, 500.0, 800.0, 1200.0, 500.0, 550.0, 800.0, 800.0, 1200.0, 800.0, 600.0, 350.0, 800.0, 700.0, 600.0, 2500.0, 800.0, 600.0, 1000.0, 550.0, 250.0, 700.0, 400.0, 300.0, 500.0, 200.0, 300.0, 150.0, 450.0, 300.0, 500.0, 300.0, 300.0, 150.0, 300.0, 450.0, 500.0, 150.0, 300.0, 600.0, 400.0, 250.0, 350.0, 400.0, 200.0, 400.0, 250.0, 400.0, 500.0, 300.0, 400.0, 500.0, 500.0, 400.0, 200.0, 400.0, 350.0, 250.0, 400.0, 500.0, 250.0, 300.0, 300.0, 300.0, 450.0, 300.0, 100.0, 500.0, 1300.0, 2800.0, 3000.0, 2500.0, 1600.0, 1100.0, 1100.0, 4100.0, 1300.0, 3000.0, 600.0, 2000.0, 2000.0, 1000.0, 1300.0, 1100.0, 750.0, 3400.0, 750.0, 1800.0, 3000.0, 1300.0, 700.0, 1500.0, 1700.0, 300.0, 600.0, 1200.0, 2300.0, 1000.0, 750.0, 3000.0, 2000.0, 1000.0, 500.0, 3000.0, 1300.0, 750.0, 850.0, 450.0, 700.0, 1000.0, 600.0, 750.0, 1800.0, 400.0, 650.0, 500.0, 750.0, 400.0, 500.0, 400.0, 450.0, 150.0, 200.0, 2200.0, 200.0, 150.0, 700.0, 2400.0, 350.0, 400.0, 400.0, 1100.0, 600.0, 200.0, 2000.0, 1100.0, 450.0, 600.0, 300.0, 150.0, 750.0, 600.0, 350.0, 1200.0, 1300.0, 1800.0, 1200.0, 2100.0, 1700.0, 1000.0, 1000.0, 1300.0, 1200.0, 1800.0, 1200.0, 2000.0, 1500.0, 2500.0, 1700.0, 1200.0, 1300.0, 1500.0, 2500.0, 1900.0, 1700.0, 1000.0, 1500.0, 1100.0, 1200.0, 1400.0, 1100.0, 1000.0, 1000.0, 1600.0, 1200.0, 1200.0, 1500.0, 4000.0, 1100.0, 1100.0, 1000.0, 1700.0, 2000.0, 2000.0, 2000.0, 3500.0, 1300.0, 1800.0, 1500.0, 1500.0, 600.0, 1000.0, 1000.0, 1000.0, 3000.0, 1200.0, 1300.0, 1500.0, 800.0, 1300.0, 3000.0, 3000.0, 2000.0, 1000.0, 3400.0, 1200.0, 1300.0, 2200.0, 1100.0, 1200.0, 2000.0, 1700.0, 1500.0, 950.0, 1000.0, 1200.0, 2400.0, 800.0, 4100.0, 1500.0, 1400.0, 3000.0, 1200.0, 600.0, 800.0, 600.0, 900.0, 500.0, 600.0, 500.0, 700.0, 700.0, 400.0, 350.0, 500.0, 400.0, 800.0, 1000.0, 400.0, 800.0, 600.0, 650.0, 500.0, 500.0, 650.0, 200.0, 120.0, 350.0, 400.0, 450.0, 400.0, 600.0, 400.0, 750.0, 300.0, 250.0, 500.0, 400.0, 600.0, 500.0, 400.0, 600.0, 400.0, 250.0, 400.0, 450.0, 250.0, 300.0, 300.0, 300.0, 300.0, 700.0, 750.0, 500.0, 400.0, 500.0, 400.0, 300.0, 200.0, 350.0, 600.0, 500.0, 150.0, 250.0, 800.0, 400.0, 500.0, 700.0, 350.0, 150.0, 450.0, 700.0, 750.0, 500.0, 600.0, 300.0, 500.0, 250.0, 100.0, 450.0, 800.0, 600.0, 650.0, 300.0, 550.0, 450.0, 1400.0, 300.0, 250.0, 600.0, 800.0, 500.0, 1200.0, 2000.0, 1100.0, 1200.0, 150.0, 900.0, 700.0, 500.0, 150.0, 500.0, 200.0, 300.0, 800.0, 250.0, 350.0, 650.0, 1000.0, 1300.0, 450.0, 800.0, 900.0, 200.0, 300.0, 700.0, 150.0, 150.0, 300.0, 500.0, 800.0, 300.0, 400.0, 100.0, 300.0, 450.0, 500.0, 400.0, 300.0, 450.0, 500.0, 400.0, 500.0, 500.0, 600.0, 1100.0, 1000.0, 300.0, 400.0, 1500.0, 500.0, 600.0, 400.0, 750.0, 400.0, 800.0, 400.0, 600.0, 300.0, 300.0, 600.0, 300.0, 1000.0, 350.0, 700.0, 300.0, 750.0, 400.0, 800.0, 150.0, 750.0, 400.0, 600.0, 400.0, 500.0, 400.0, 400.0, 400.0, 700.0, 900.0, 300.0, 650.0, 600.0, 200.0, 500.0, 700.0, 400.0, 150.0, 450.0, 600.0, 800.0, 400.0, 1000.0, 1100.0, 1200.0, 200.0, 550.0, 200.0, 500.0, 500.0, 500.0, 350.0, 800.0, 500.0, 650.0, 200.0, 600.0, 300.0, 400.0, 700.0, 500.0, 350.0, 600.0, 450.0, 1700.0, 650.0, 950.0, 400.0, 500.0, 1100.0, 600.0, 600.0, 650.0, 400.0, 150.0, 600.0, 1000.0, 600.0, 450.0, 500.0, 1700.0, 1500.0, 600.0, 100.0, 600.0, 800.0, 1200.0, 500.0, 750.0, 800.0, 900.0, 500.0, 500.0, 1000.0, 700.0, 1000.0, 850.0, 900.0, 300.0, 1100.0, 900.0, 1200.0, 1200.0, 800.0, 1400.0, 600.0, 1000.0, 900.0, 750.0, 750.0, 800.0, 800.0, 1000.0, 300.0, 500.0, 700.0, 1500.0, 1400.0, 650.0, 1800.0, 600.0, 400.0, 400.0, 250.0, 700.0, 200.0, 250.0, 250.0, 300.0, 500.0, 300.0, 400.0, 400.0, 400.0, 100.0, 250.0, 200.0, 450.0, 400.0, 800.0, 400.0, 400.0, 1250.0, 800.0, 200.0, 600.0, 450.0, 500.0, 500.0, 1100.0, 2600.0, 2000.0, 1800.0, 2000.0, 1300.0, 2500.0, 1200.0, 1700.0, 1400.0, 700.0, 1000.0, 1400.0, 1500.0, 800.0, 1000.0, 1400.0, 950.0, 500.0, 600.0, 1100.0, 1000.0, 1500.0, 500.0, 600.0, 1200.0, 100.0, 1500.0, 650.0, 700.0, 500.0, 500.0, 2500.0, 1500.0, 700.0, 1500.0, 600.0, 400.0, 1100.0, 750.0, 1100.0, 600.0, 150.0, 2000.0, 400.0, 500.0, 600.0, 800.0, 600.0, 250.0, 150.0, 250.0, 300.0, 250.0, 300.0, 200.0, 200.0, 350.0, 150.0, 300.0, 400.0, 800.0, 400.0, 300.0, 350.0, 250.0, 600.0, 400.0, 600.0, 200.0, 500.0, 200.0, 250.0, 200.0, 300.0, 500.0, 300.0, 400.0, 300.0, 500.0, 300.0, 100.0, 300.0, 300.0, 550.0, 400.0, 500.0, 800.0, 500.0, 150.0, 500.0, 1200.0, 1200.0, 1200.0, 2400.0, 1000.0, 800.0, 4100.0, 1500.0, 2000.0, 900.0, 5000.0, 800.0, 1400.0, 3000.0, 3000.0, 1500.0, 1000.0, 1000.0, 4000.0, 2200.0, 1800.0, 4000.0, 1200.0, 700.0, 800.0, 700.0, 600.0, 2200.0, 2500.0, 450.0, 650.0, 3700.0, 700.0, 600.0, 750.0, 600.0, 800.0, 300.0, 200.0, 300.0, 200.0, 200.0, 250.0, 1650.0, 1100.0, 1300.0, 400.0, 1200.0, 1200.0, 600.0, 600.0, 800.0, 700.0, 1400.0, 850.0, 300.0, 900.0, 650.0, 1100.0, 800.0, 450.0, 700.0, 400.0, 600.0, 300.0, 600.0, 400.0, 600.0, 900.0, 500.0, 450.0, 450.0, 600.0, 750.0, 300.0, 450.0, 1200.0, 2600.0, 1800.0, 1200.0, 1400.0, 1400.0, 1100.0, 1500.0, 1500.0, 1100.0, 2000.0, 2000.0, 3000.0, 1500.0, 2200.0, 1650.0, 1200.0, 1100.0, 1200.0, 1400.0, 1400.0, 1100.0, 1500.0, 1100.0, 2000.0, 3000.0, 2500.0, 1650.0, 1300.0, 1400.0, 2500.0, 1400.0, 1500.0, 1500.0, 1600.0, 1300.0, 1400.0, 1100.0, 1300.0, 1200.0, 2700.0, 1000.0, 1600.0, 1500.0, 1500.0, 1700.0, 1300.0, 750.0, 1000.0, 1000.0, 1200.0, 600.0, 700.0, 750.0, 1200.0, 600.0, 400.0, 600.0, 700.0, 300.0, 700.0, 400.0, 650.0, 300.0, 600.0, 500.0, 500.0, 600.0, 300.0, 400.0, 700.0, 600.0, 450.0, 450.0, 250.0, 500.0, 700.0, 300.0, 600.0, 850.0, 500.0, 500.0, 650.0, 400.0, 400.0, 500.0, 650.0, 400.0, 800.0, 300.0, 400.0, 400.0, 450.0, 1000.0, 800.0, 500.0, 400.0, 300.0, 250.0, 350.0, 400.0, 400.0, 300.0, 700.0, 150.0, 600.0, 800.0, 250.0, 650.0, 250.0, 500.0, 350.0, 800.0, 200.0, 1400.0, 500.0, 1100.0, 350.0, 650.0, 400.0, 1400.0, 700.0, 300.0, 800.0, 600.0, 900.0, 600.0, 300.0, 450.0, 300.0, 300.0, 800.0, 600.0, 800.0, 400.0, 200.0, 300.0, 1100.0, 450.0, 400.0, 450.0, 400.0, 200.0, 500.0, 200.0, 700.0, 650.0, 600.0, 400.0, 1000.0, 300.0, 400.0, 800.0, 600.0, 800.0, 400.0, 150.0, 200.0, 1000.0, 1000.0, 500.0, 300.0, 600.0, 600.0, 400.0, 500.0, 550.0, 1400.0, 300.0, 300.0, 500.0, 300.0, 350.0, 1300.0, 250.0, 450.0, 400.0, 600.0, 600.0, 400.0, 1000.0, 600.0, 1000.0, 300.0, 300.0, 800.0, 600.0, 400.0, 700.0, 700.0, 400.0, 1400.0, 900.0, 750.0, 750.0, 400.0, 500.0, 500.0, 750.0, 200.0, 800.0, 300.0, 600.0, 300.0, 1500.0, 1500.0, 450.0, 700.0, 1000.0, 500.0, 350.0, 1000.0, 1200.0, 300.0, 600.0, 200.0, 600.0, 400.0, 800.0, 250.0, 150.0, 1000.0, 800.0, 350.0, 250.0, 550.0, 800.0, 400.0, 650.0, 200.0, 400.0, 300.0, 600.0, 600.0, 200.0, 300.0, 1100.0, 500.0, 600.0, 500.0, 400.0, 550.0, 500.0, 400.0, 400.0, 450.0, 300.0, 650.0, 450.0, 800.0, 600.0, 450.0, 800.0, 750.0, 400.0, 750.0, 300.0, 600.0, 650.0, 600.0, 250.0, 800.0, 250.0, 700.0, 250.0, 400.0, 500.0, 1000.0, 350.0, 700.0, 900.0, 300.0, 200.0, 400.0, 350.0, 500.0, 800.0, 500.0, 800.0, 300.0, 700.0, 650.0, 750.0, 150.0, 750.0, 600.0, 500.0, 700.0, 300.0, 300.0, 250.0, 450.0, 1000.0, 300.0, 700.0, 300.0, 400.0, 500.0, 700.0, 800.0, 500.0, 300.0, 750.0, 300.0, 800.0, 200.0, 450.0, 900.0, 600.0, 300.0, 450.0, 650.0, 600.0, 750.0, 500.0, 750.0, 750.0, 500.0, 1200.0, 600.0, 350.0, 400.0, 750.0, 400.0, 600.0, 650.0, 800.0, 500.0, 600.0, 500.0, 200.0, 750.0, 200.0, 250.0, 800.0, 600.0, 1500.0, 150.0, 750.0, 150.0, 500.0, 450.0, 400.0, 750.0, 500.0, 300.0, 450.0, 1000.0, 500.0, 850.0, 800.0, 400.0, 500.0, 250.0, 400.0, 600.0, 1700.0, 400.0, 1000.0, 1000.0, 1100.0, 500.0, 400.0, 1400.0, 400.0, 200.0, 250.0, 500.0, 500.0, 500.0, 300.0, 350.0, 300.0, 300.0, 700.0, 300.0, 400.0, 600.0, 500.0, 400.0, 400.0, 400.0, 550.0, 400.0, 1100.0, 1400.0, 2500.0, 1500.0, 1600.0, 1300.0, 1400.0, 1100.0, 1500.0, 1300.0, 1300.0, 1500.0, 1800.0, 650.0, 1200.0, 2700.0, 800.0, 1600.0, 1000.0, 600.0, 1000.0, 600.0, 1600.0, 1100.0, 900.0, 1000.0, 800.0, 750.0, 800.0, 800.0, 1500.0, 1500.0, 1000.0, 600.0, 2500.0, 1300.0, 500.0, 1400.0, 800.0, 2000.0, 1100.0, 700.0, 1100.0, 850.0, 1700.0, 650.0, 1500.0, 800.0, 750.0, 750.0, 800.0, 800.0, 800.0, 850.0, 800.0, 1000.0, 600.0, 800.0, 650.0, 1300.0, 1000.0, 900.0, 750.0, 400.0, 900.0, 700.0, 700.0, 4500.0, 800.0, 600.0, 1000.0, 800.0, 600.0, 800.0, 400.0, 1100.0, 650.0, 750.0, 450.0, 500.0, 300.0, 500.0, 1000.0, 750.0, 1200.0, 650.0, 650.0, 700.0, 500.0, 500.0, 400.0, 1000.0, 1000.0, 450.0, 750.0, 2500.0, 600.0, 600.0, 800.0, 800.0, 1000.0, 400.0, 550.0, 1000.0, 1200.0, 500.0, 600.0, 400.0, 650.0, 800.0, 700.0, 750.0, 600.0, 700.0, 250.0, 600.0, 1000.0, 800.0, 600.0, 200.0, 450.0, 150.0, 400.0, 450.0, 200.0, 300.0, 300.0, 250.0, 400.0, 300.0, 500.0, 600.0, 400.0, 350.0, 350.0, 600.0, 350.0, 400.0, 300.0, 250.0, 400.0, 300.0, 300.0, 200.0, 500.0, 400.0, 350.0, 400.0, 200.0, 200.0, 250.0, 150.0, 400.0, 450.0, 250.0, 300.0, 700.0, 400.0, 400.0, 500.0, 300.0, 400.0, 150.0, 500.0, 300.0, 500.0, 300.0, 250.0, 200.0, 200.0, 600.0, 500.0, 350.0, 450.0, 400.0, 400.0, 300.0, 300.0, 600.0, 450.0, 1200.0, 1000.0, 700.0, 600.0, 300.0, 750.0, 1500.0, 600.0, 600.0, 800.0, 800.0, 800.0, 700.0, 750.0, 750.0, 800.0, 500.0, 250.0, 300.0, 550.0, 400.0, 600.0, 500.0, 500.0, 400.0, 400.0, 500.0, 500.0, 850.0, 300.0, 600.0, 500.0, 500.0, 600.0, 900.0, 600.0, 400.0, 450.0, 350.0, 400.0, 450.0, 1200.0, 250.0, 750.0, 600.0, 150.0, 350.0, 500.0, 500.0, 500.0, 350.0, 450.0, 550.0, 350.0, 650.0, 300.0, 450.0, 600.0, 500.0, 150.0, 500.0, 250.0, 300.0, 750.0, 300.0, 800.0, 600.0, 1400.0, 1800.0, 4500.0, 1100.0, 1500.0, 1300.0, 1500.0, 1200.0, 1600.0, 1000.0, 1500.0, 1300.0, 1100.0, 1200.0, 2500.0, 1000.0, 1200.0, 1200.0, 1500.0, 1500.0, 1500.0, 2200.0, 2100.0, 3000.0, 3000.0, 1500.0, 1600.0, 3000.0, 800.0, 1800.0, 1200.0, 2800.0, 1700.0, 1400.0, 1600.0, 1500.0, 2500.0, 750.0, 500.0, 1000.0, 1500.0, 3400.0, 2000.0, 1200.0, 800.0, 1700.0, 1600.0, 2000.0, 1300.0, 2200.0, 1200.0, 1000.0, 1200.0, 650.0, 1400.0, 1900.0, 1000.0, 1000.0, 500.0, 1200.0, 650.0, 1300.0, 1700.0, 1200.0, 1300.0, 1000.0, 1100.0, 750.0, 1200.0, 1700.0, 2500.0, 450.0, 500.0, 800.0, 700.0, 1100.0, 800.0, 900.0, 1000.0, 600.0, 600.0, 650.0, 1400.0, 750.0, 700.0, 400.0, 900.0, 700.0, 700.0, 800.0, 750.0, 800.0, 500.0, 1000.0, 1000.0, 400.0, 650.0, 1200.0, 500.0, 500.0, 600.0, 400.0, 1000.0, 500.0, 600.0, 800.0, 350.0, 1300.0, 1100.0, 750.0, 1000.0, 800.0, 650.0, 500.0, 600.0, 1200.0, 500.0, 300.0, 200.0, 500.0, 450.0, 400.0, 600.0, 800.0, 300.0, 500.0, 300.0, 650.0, 600.0, 200.0, 400.0, 400.0, 350.0, 750.0, 500.0, 800.0, 500.0, 300.0, 800.0, 800.0, 1000.0, 500.0, 750.0, 400.0, 550.0, 400.0, 750.0, 950.0, 400.0, 600.0, 400.0, 800.0, 150.0, 1500.0, 450.0, 200.0, 250.0, 300.0, 750.0, 400.0, 800.0, 250.0, 700.0, 150.0, 800.0, 650.0, 400.0, 1200.0, 900.0, 1200.0, 300.0, 1100.0, 400.0, 500.0, 600.0, 1400.0, 650.0, 900.0, 400.0, 1300.0, 500.0, 700.0, 800.0, 300.0, 800.0, 800.0, 750.0, 1500.0, 400.0, 700.0, 350.0, 850.0, 1600.0, 500.0, 400.0, 650.0, 800.0, 1700.0, 500.0, 1200.0, 1300.0, 500.0, 500.0, 700.0, 400.0, 350.0, 400.0, 600.0, 1600.0, 650.0, 700.0, 400.0, 550.0, 500.0, 300.0, 1000.0, 1500.0, 650.0, 1300.0, 600.0, 1200.0, 600.0, 1100.0, 500.0, 1500.0, 400.0, 700.0, 900.0, 400.0, 600.0, 500.0, 400.0, 500.0, 500.0, 800.0, 600.0, 1600.0, 400.0, 250.0, 3000.0, 350.0, 250.0, 250.0, 1700.0, 900.0, 350.0, 400.0, 600.0, 300.0, 200.0, 800.0, 200.0, 300.0, 550.0, 750.0, 600.0, 450.0, 600.0, 100.0, 350.0, 600.0, 1300.0, 180.0, 1700.0, 500.0, 2100.0, 700.0, 300.0, 500.0, 2000.0, 1000.0, 1500.0, 300.0, 150.0, 800.0, 1500.0, 700.0, 750.0, 400.0, 1300.0, 600.0, 400.0, 1000.0, 700.0, 500.0, 800.0, 1300.0, 500.0, 450.0, 500.0, 750.0, 500.0, 400.0, 1300.0, 600.0, 700.0, 500.0, 700.0, 750.0, 500.0, 1000.0, 1200.0, 500.0, 2100.0, 1000.0, 500.0, 1900.0, 400.0, 450.0, 300.0, 1400.0, 300.0, 600.0, 2000.0, 400.0, 1000.0, 650.0, 950.0, 1000.0, 500.0, 300.0, 1400.0, 800.0, 1200.0, 1000.0, 1000.0, 150.0, 700.0, 700.0, 700.0, 750.0, 500.0, 1500.0, 300.0, 700.0, 700.0, 800.0, 450.0, 1200.0, 1800.0, 500.0, 800.0, 200.0, 1500.0, 500.0, 200.0, 700.0, 700.0, 400.0, 500.0, 400.0, 450.0, 1000.0, 400.0, 1400.0, 800.0, 600.0, 700.0, 350.0, 1500.0, 1500.0, 200.0, 500.0, 300.0, 600.0, 400.0, 700.0, 300.0, 1800.0, 800.0, 1800.0, 1000.0, 800.0, 2000.0, 1200.0, 300.0, 500.0, 300.0, 600.0, 1200.0, 1000.0, 700.0, 400.0, 250.0, 200.0, 250.0, 200.0, 1700.0, 300.0, 1000.0, 350.0, 400.0, 650.0, 300.0, 800.0, 1000.0, 800.0, 750.0, 2000.0, 1700.0, 850.0, 1000.0, 850.0, 650.0, 500.0, 600.0, 400.0, 1200.0, 800.0, 350.0, 300.0, 1500.0, 550.0, 300.0, 700.0, 300.0, 700.0, 300.0, 800.0, 750.0, 1000.0, 550.0, 2000.0, 700.0, 300.0, 400.0, 800.0, 550.0, 250.0, 600.0, 300.0, 1700.0, 500.0, 1200.0, 1300.0, 700.0, 1300.0, 1000.0, 1200.0, 1000.0, 1400.0, 800.0, 700.0, 2100.0, 800.0, 900.0, 550.0, 400.0, 750.0, 400.0, 500.0, 900.0, 500.0, 800.0, 500.0, 800.0, 600.0, 800.0, 150.0, 750.0, 600.0, 1200.0, 1300.0, 600.0, 500.0, 650.0, 500.0, 400.0, 500.0, 200.0, 800.0, 350.0, 1000.0, 500.0, 1100.0, 500.0, 500.0, 200.0, 500.0, 300.0, 450.0, 100.0, 600.0, 500.0, 1600.0, 600.0, 1600.0, 450.0, 500.0, 800.0, 900.0, 300.0, 800.0, 2000.0, 1000.0, 600.0, 550.0, 400.0, 1250.0, 400.0, 1400.0, 700.0, 300.0, 300.0, 700.0, 500.0, 300.0, 400.0, 2000.0, 1000.0, 700.0, 400.0, 450.0, 300.0, 350.0, 400.0, 300.0, 400.0, 400.0, 250.0, 450.0, 400.0, 300.0, 150.0, 250.0, 200.0, 180.0, 400.0, 150.0, 500.0, 400.0, 200.0, 300.0, 300.0, 500.0, 350.0, 600.0, 1300.0, 800.0, 200.0, 1100.0, 750.0, 500.0, 2100.0, 1800.0, 1500.0, 1700.0, 2800.0, 2100.0, 3000.0, 1200.0, 1500.0, 1500.0, 1700.0, 200.0, 1500.0, 1000.0, 3000.0, 1500.0, 2500.0, 2000.0, 1500.0, 600.0, 2000.0, 3000.0, 1000.0, 2800.0, 3000.0, 1800.0, 500.0, 1000.0, 1600.0, 3000.0, 3000.0, 3000.0, 2500.0, 800.0, 800.0, 1500.0, 750.0, 350.0, 700.0, 2500.0, 2500.0, 1000.0, 700.0, 450.0, 500.0, 400.0, 500.0, 200.0, 250.0, 1800.0, 1500.0, 1500.0, 2500.0, 2000.0, 3000.0, 2200.0, 3000.0, 800.0, 700.0, 1100.0, 1500.0, 1500.0, 2000.0, 1500.0, 2500.0, 3500.0, 1700.0, 1700.0, 1500.0, 1200.0, 1200.0, 1300.0, 1500.0, 1300.0, 2800.0, 2100.0, 700.0, 1700.0, 1600.0, 1000.0, 3000.0, 800.0, 2000.0, 1500.0, 1000.0, 1900.0, 1700.0, 2000.0, 1100.0, 1300.0, 2200.0, 1400.0, 1500.0, 600.0, 900.0, 1200.0, 2500.0, 1600.0, 1400.0, 1300.0, 1500.0, 1000.0, 1000.0, 600.0, 2500.0, 4000.0, 550.0, 750.0, 1300.0, 1500.0, 3000.0, 500.0, 1000.0, 1100.0, 650.0, 1200.0, 1500.0, 1400.0, 1500.0, 1100.0, 600.0, 1300.0, 1000.0, 1300.0, 650.0, 850.0, 750.0, 1800.0, 1000.0, 1500.0, 750.0, 1000.0, 1200.0, 3400.0, 700.0, 1800.0, 2000.0, 3000.0, 1000.0, 1400.0, 3500.0, 700.0, 1600.0, 400.0, 900.0, 1500.0, 1200.0, 1200.0, 800.0, 1200.0, 4000.0, 500.0, 1300.0, 700.0, 4000.0, 1200.0, 800.0, 600.0, 1200.0, 1100.0, 1100.0, 1000.0, 1700.0, 2000.0, 550.0, 2000.0, 650.0, 3000.0, 1600.0, 800.0, 2000.0, 2000.0, 3500.0, 1300.0, 700.0, 1000.0, 750.0, 800.0, 1800.0, 800.0, 650.0, 800.0, 2000.0, 2200.0, 950.0, 800.0, 3000.0, 750.0, 1500.0, 1000.0, 1100.0, 550.0, 700.0, 500.0, 1000.0, 600.0, 700.0, 800.0, 2000.0, 700.0, 1200.0, 300.0, 700.0, 500.0, 1000.0, 1000.0, 450.0, 1000.0, 650.0, 550.0, 650.0, 1200.0, 1200.0, 1000.0, 2000.0, 1500.0, 350.0, 300.0, 400.0, 400.0, 1800.0, 500.0, 500.0, 2500.0, 650.0, 800.0, 1400.0, 500.0, 600.0, 500.0, 800.0, 600.0, 850.0, 700.0, 400.0, 2400.0, 1400.0, 1900.0, 1000.0, 500.0, 1300.0, 250.0, 1000.0, 600.0, 700.0, 500.0, 3000.0, 600.0, 500.0, 800.0, 600.0, 500.0, 800.0, 1200.0, 500.0, 800.0, 1200.0, 800.0, 600.0, 800.0, 2000.0, 600.0, 800.0, 600.0, 600.0, 550.0, 400.0, 250.0, 400.0, 300.0, 500.0, 200.0, 150.0, 300.0, 300.0, 500.0, 300.0, 300.0, 150.0, 250.0, 200.0, 450.0, 150.0, 300.0, 600.0, 400.0, 350.0, 200.0, 250.0, 400.0, 250.0, 400.0, 300.0, 400.0, 500.0, 500.0, 500.0, 400.0, 500.0, 350.0, 400.0, 500.0, 300.0, 300.0, 300.0, 300.0, 450.0, 300.0, 100.0, 500.0, 1300.0, 800.0, 1600.0, 2500.0, 1100.0, 1100.0, 750.0, 700.0, 1300.0, 1700.0, 600.0, 1000.0, 1200.0, 550.0, 600.0, 500.0, 800.0, 650.0, 200.0, 700.0, 650.0, 200.0, 750.0, 1300.0, 500.0, 200.0, 1000.0, 650.0, 300.0, 400.0, 500.0, 500.0, 300.0, 300.0, 500.0, 300.0, 250.0, 700.0, 400.0, 350.0, 300.0, 1100.0, 500.0, 400.0, 250.0, 800.0, 600.0, 700.0, 600.0, 300.0, 1300.0, 2000.0, 2000.0, 1700.0, 1500.0, 1000.0, 1500.0, 2800.0, 3000.0, 1000.0, 3000.0, 1500.0, 1500.0, 2500.0, 2000.0, 3000.0, 3000.0, 1500.0, 1500.0, 1500.0, 2500.0, 1700.0, 1700.0, 1200.0, 1300.0, 1300.0, 1700.0, 2000.0, 1500.0, 1900.0, 1300.0, 1000.0, 1300.0, 1500.0, 3000.0, 1100.0, 1200.0, 1400.0, 1100.0, 1000.0, 1000.0, 1600.0, 1200.0, 1200.0, 1100.0, 1100.0, 1000.0, 2000.0, 2000.0, 1500.0, 1100.0, 600.0, 1000.0, 1000.0, 2000.0, 1500.0, 2500.0, 2400.0, 1400.0, 1300.0, 2500.0, 1200.0, 1300.0, 1300.0, 1200.0, 1500.0, 1000.0, 1500.0, 2000.0, 1800.0, 1000.0, 3000.0, 1500.0, 2000.0, 1500.0, 2500.0, 1700.0, 1200.0, 1200.0, 1300.0, 2100.0, 1700.0, 1900.0, 1700.0, 1000.0, 1500.0, 1300.0, 1000.0, 1100.0, 1200.0, 1400.0, 1100.0, 1300.0, 1000.0, 1000.0, 1000.0, 1600.0, 1200.0, 1200.0, 4000.0, 1200.0, 1100.0, 1200.0, 1100.0, 1000.0, 1700.0, 2000.0, 2000.0, 3500.0, 1300.0, 1800.0, 1100.0, 600.0, 1000.0, 1200.0, 1000.0, 1800.0, 1400.0, 1300.0, 800.0, 1300.0, 2500.0, 1400.0, 1100.0, 1800.0, 900.0, 900.0, 1200.0, 700.0, 650.0, 800.0, 600.0, 600.0, 800.0, 1000.0, 500.0, 900.0, 800.0, 1100.0, 700.0, 900.0, 700.0, 250.0, 400.0, 600.0, 500.0, 650.0, 650.0, 300.0, 350.0, 400.0, 300.0, 450.0, 400.0, 800.0, 500.0, 600.0, 300.0, 600.0, 1400.0, 500.0, 600.0, 500.0, 400.0, 850.0, 500.0, 800.0, 250.0, 300.0, 300.0, 500.0, 400.0, 300.0, 500.0, 100.0, 600.0, 700.0, 750.0, 400.0, 750.0, 450.0, 500.0, 400.0, 600.0, 1700.0, 800.0, 200.0, 300.0, 500.0, 600.0, 300.0, 700.0, 400.0, 650.0, 500.0, 500.0, 300.0, 1200.0, 700.0, 250.0, 400.0, 300.0, 200.0, 900.0, 350.0, 450.0, 700.0, 500.0, 650.0, 700.0, 800.0, 150.0, 400.0, 500.0, 800.0, 700.0, 300.0, 650.0, 300.0, 450.0, 400.0, 400.0, 500.0, 500.0, 600.0, 1000.0, 400.0, 900.0, 1250.0, 650.0, 500.0, 300.0, 600.0, 600.0, 800.0, 1000.0, 600.0, 400.0, 400.0, 1100.0, 800.0, 800.0, 400.0, 600.0, 300.0, 700.0, 700.0, 700.0, 100.0, 700.0, 1100.0, 400.0, 900.0, 900.0, 400.0, 350.0, 500.0, 400.0, 200.0, 600.0, 150.0, 800.0, 350.0, 200.0, 1100.0, 1400.0, 450.0, 450.0, 400.0, 700.0, 800.0, 250.0, 600.0, 650.0, 400.0, 700.0, 400.0, 400.0, 300.0, 600.0, 500.0, 600.0, 900.0, 700.0, 400.0, 500.0, 400.0, 300.0, 200.0, 400.0, 500.0, 400.0, 300.0, 400.0, 200.0, 500.0, 350.0, 1400.0, 900.0, 1200.0, 1400.0, 1200.0, 600.0, 500.0, 1000.0, 800.0, 700.0, 800.0, 1000.0, 700.0, 700.0, 650.0, 1100.0, 500.0, 500.0, 400.0, 800.0, 600.0, 700.0, 400.0, 600.0, 400.0, 800.0, 800.0, 1400.0, 600.0, 750.0, 600.0, 700.0, 650.0, 1400.0, 800.0, 1000.0, 500.0, 1100.0, 900.0, 700.0, 300.0, 650.0, 800.0, 1100.0, 750.0, 1800.0, 850.0, 700.0, 800.0, 900.0, 700.0, 400.0, 900.0, 700.0, 650.0, 700.0, 250.0, 650.0, 400.0, 600.0, 400.0, 600.0, 700.0, 300.0, 350.0, 500.0, 400.0, 400.0, 500.0, 300.0, 600.0, 500.0, 300.0, 300.0, 500.0, 500.0, 450.0, 350.0, 300.0, 400.0, 400.0, 400.0, 250.0, 400.0, 400.0, 400.0, 600.0, 200.0, 400.0, 300.0, 300.0, 350.0, 400.0, 400.0, 300.0, 350.0, 1400.0, 1200.0, 1400.0, 1200.0, 1400.0, 1100.0, 1200.0, 1400.0, 1400.0, 1200.0, 1000.0, 1400.0, 1100.0, 1800.0, 1200.0, 3000.0, 3500.0, 2200.0, 1400.0, 1500.0, 1600.0, 1900.0, 1400.0, 1700.0, 1500.0, 1200.0, 1300.0, 600.0, 750.0, 800.0, 1000.0, 1200.0, 1200.0, 1500.0, 1700.0, 1000.0, 1100.0, 700.0, 450.0, 700.0, 500.0, 800.0, 900.0, 1000.0, 1000.0, 1600.0, 200.0, 700.0, 500.0, 1000.0, 700.0, 800.0, 650.0, 400.0, 400.0, 700.0, 700.0, 450.0, 800.0, 500.0, 800.0, 750.0, 600.0, 700.0, 500.0, 500.0, 200.0, 600.0, 500.0, 500.0, 600.0, 500.0, 500.0, 300.0, 200.0, 800.0, 450.0, 450.0, 300.0, 400.0, 400.0, 150.0, 200.0, 400.0, 600.0, 300.0, 750.0, 600.0, 250.0, 400.0, 200.0, 300.0, 400.0, 400.0, 300.0, 600.0, 700.0, 250.0, 700.0, 400.0, 500.0, 400.0, 650.0, 350.0, 1000.0, 300.0, 450.0, 400.0, 600.0, 1000.0, 500.0, 500.0, 800.0, 1000.0, 350.0, 800.0, 800.0, 1000.0, 600.0, 400.0, 500.0, 800.0, 400.0, 650.0, 850.0, 700.0, 300.0, 300.0, 950.0, 800.0, 500.0, 350.0, 600.0, 350.0, 600.0, 250.0, 800.0, 600.0, 400.0, 1500.0, 600.0, 200.0, 600.0, 600.0, 300.0, 300.0, 500.0, 200.0, 700.0, 800.0, 600.0, 300.0, 250.0, 600.0, 700.0, 750.0, 800.0, 300.0, 500.0, 500.0, 500.0, 1200.0, 750.0, 300.0, 300.0, 500.0, 1200.0, 400.0, 1200.0, 300.0, 800.0, 1200.0, 1600.0, 1100.0, 400.0, 250.0, 500.0, 650.0, 600.0, 400.0, 900.0, 500.0, 100.0, 700.0, 500.0, 400.0, 300.0, 500.0, 600.0, 1700.0, 500.0, 600.0, 400.0, 800.0, 1200.0, 800.0, 1500.0, 600.0, 1300.0, 400.0, 750.0, 350.0, 450.0, 500.0, 500.0, 1500.0, 500.0, 650.0, 150.0, 800.0, 1400.0, 500.0, 350.0, 350.0, 400.0, 600.0, 500.0, 300.0, 650.0, 400.0, 550.0, 450.0, 600.0, 400.0, 500.0, 300.0, 1200.0, 1500.0, 1800.0, 800.0, 400.0, 200.0, 800.0, 900.0, 1100.0, 600.0, 500.0, 500.0, 500.0, 450.0, 800.0, 250.0, 600.0, 1600.0, 600.0, 300.0, 350.0, 400.0, 800.0, 800.0, 550.0, 550.0, 900.0, 350.0, 400.0, 600.0, 400.0, 450.0, 200.0, 200.0, 300.0, 1500.0, 550.0, 200.0, 750.0, 450.0, 600.0, 500.0, 650.0, 300.0, 300.0, 600.0, 800.0, 1400.0, 600.0, 200.0, 500.0, 500.0, 800.0, 600.0, 1000.0, 600.0, 400.0, 350.0, 350.0, 700.0, 400.0, 500.0, 400.0, 500.0, 700.0, 300.0, 800.0, 500.0, 1200.0, 250.0, 500.0, 400.0, 400.0, 300.0, 600.0, 700.0, 1200.0, 450.0, 200.0, 600.0, 1000.0, 300.0, 500.0, 150.0, 700.0, 250.0, 1500.0, 700.0, 300.0, 1000.0, 450.0, 200.0, 500.0, 750.0, 500.0, 450.0, 500.0, 1400.0, 1200.0, 400.0, 300.0, 550.0, 500.0, 500.0, 150.0, 400.0, 450.0, 450.0, 400.0, 300.0, 1200.0, 750.0, 300.0, 300.0, 1000.0, 450.0, 250.0, 200.0, 300.0, 250.0, 1900.0, 750.0, 400.0, 200.0, 500.0, 1200.0, 150.0, 1500.0, 900.0, 400.0, 800.0, 700.0, 700.0, 600.0, 800.0, 2000.0, 500.0, 350.0, 700.0, 800.0, 300.0, 400.0, 400.0, 200.0, 200.0, 600.0, 500.0, 500.0, 1700.0, 1500.0, 1600.0, 400.0, 1400.0, 900.0, 700.0, 800.0, 800.0, 900.0, 1500.0, 650.0, 700.0, 500.0, 800.0, 300.0, 600.0, 350.0, 600.0, 400.0, 200.0, 700.0, 150.0, 500.0, 400.0, 700.0, 400.0, 450.0, 250.0, 1100.0, 400.0, 300.0, 200.0, 500.0, 500.0, 300.0, 500.0, 500.0, 500.0, 500.0, 1500.0, 600.0, 600.0, 500.0, 400.0, 400.0, 1200.0, 700.0, 200.0, 400.0, 200.0, 250.0, 300.0, 200.0, 1200.0, 400.0, 800.0, 900.0, 1000.0, 200.0, 700.0, 400.0, 300.0, 400.0, 400.0, 400.0, 300.0, 300.0, 450.0, 800.0, 400.0, 500.0, 400.0, 400.0, 400.0, 800.0, 800.0, 750.0, 300.0, 500.0, 300.0, 600.0, 350.0, 400.0, 300.0, 200.0, 300.0, 200.0, 200.0, 300.0, 500.0, 450.0, 600.0, 1800.0, 3500.0, 4000.0, 1000.0, 1000.0, 2200.0, 1400.0, 2000.0, 700.0, 6000.0, 3500.0, 2400.0, 900.0, 1500.0, 700.0, 450.0, 800.0, 300.0, 600.0, 550.0, 400.0, 750.0, 1900.0, 3000.0, 500.0, 200.0, 400.0, 250.0, 400.0, 350.0, 150.0, 300.0, 400.0, 400.0, 700.0, 500.0, 500.0, 400.0, 400.0, 500.0, 400.0, 450.0, 250.0, 600.0, 600.0, 850.0, 700.0, 500.0, 750.0, 500.0, 800.0, 500.0, 600.0, 750.0, 650.0, 600.0, 500.0, 400.0, 700.0, 500.0, 500.0, 600.0, 500.0, 500.0, 800.0, 400.0, 350.0, 300.0, 150.0, 250.0, 200.0, 150.0, 200.0, 550.0, 250.0, 450.0, 300.0, 500.0, 350.0, 150.0, 450.0, 350.0, 450.0, 500.0, 400.0, 200.0, 250.0, 400.0, 350.0, 1600.0, 1000.0, 800.0, 1500.0, 1800.0, 1400.0, 2000.0, 1200.0, 1500.0, 1900.0, 1500.0, 1500.0, 1200.0, 1600.0, 1400.0, 1500.0, 2500.0, 1300.0, 1000.0, 1400.0, 1700.0, 1700.0, 900.0, 1500.0, 1500.0, 1200.0, 1300.0, 1400.0, 700.0, 1300.0, 1600.0, 1000.0, 1000.0, 1200.0, 1100.0, 1000.0, 3000.0, 1500.0, 600.0, 2000.0, 800.0, 1700.0, 750.0, 1200.0, 600.0, 800.0, 800.0, 1200.0, 1600.0, 800.0, 200.0, 1000.0, 1100.0, 900.0, 700.0, 1500.0, 700.0, 1100.0, 1300.0, 1500.0, 1500.0, 450.0, 650.0, 500.0, 1000.0, 1000.0, 1800.0, 1500.0, 700.0, 800.0, 650.0, 1100.0, 1200.0, 1200.0, 1500.0, 800.0, 500.0, 1400.0, 1800.0, 1500.0, 700.0, 1800.0, 800.0, 500.0, 1200.0, 1700.0, 2000.0, 1300.0, 1600.0, 800.0, 500.0, 450.0, 300.0, 1000.0, 800.0, 300.0, 800.0, 600.0, 800.0, 300.0, 600.0, 3000.0, 1000.0, 600.0, 400.0, 350.0, 300.0, 400.0, 700.0, 400.0, 400.0, 200.0, 300.0, 700.0, 150.0, 600.0, 600.0, 300.0, 600.0, 400.0, 500.0, 250.0, 1800.0, 1300.0, 350.0, 400.0, 500.0, 350.0, 600.0, 300.0, 500.0, 450.0, 500.0, 250.0, 1100.0, 600.0, 1200.0, 500.0, 500.0, 300.0, 250.0, 500.0, 200.0, 600.0, 1500.0, 1800.0, 1000.0, 1800.0, 2400.0, 3000.0, 1400.0, 2000.0, 1900.0, 1500.0, 1400.0, 1300.0, 1400.0, 1300.0, 1300.0, 1400.0, 1000.0, 1500.0, 2000.0, 1700.0, 1600.0, 1100.0, 1100.0, 1500.0, 1500.0, 1800.0, 1500.0, 1100.0, 1400.0, 1800.0, 1200.0, 1300.0, 1600.0, 1000.0, 1300.0, 1300.0, 1000.0, 1800.0, 1000.0, 1400.0, 1800.0, 900.0, 1000.0, 1400.0, 2000.0, 1200.0, 1500.0, 1500.0, 2500.0, 1300.0, 1500.0, 1300.0, 1400.0, 1700.0, 800.0, 1100.0, 1100.0, 1500.0, 1500.0, 1800.0, 1100.0, 1400.0, 1500.0, 1200.0, 1700.0, 2000.0, 1300.0, 1000.0, 1300.0, 1200.0, 1600.0, 800.0, 1800.0, 750.0, 1000.0, 600.0, 900.0, 600.0, 2000.0, 1200.0, 1700.0, 1500.0, 1100.0, 1000.0, 1000.0, 600.0, 600.0, 500.0, 600.0, 500.0, 700.0, 500.0, 700.0, 350.0, 500.0, 400.0, 500.0, 450.0, 500.0, 450.0, 400.0, 750.0, 400.0, 400.0, 300.0, 850.0, 700.0, 250.0, 400.0, 500.0, 450.0, 1100.0, 250.0, 1000.0, 350.0, 600.0, 300.0, 250.0, 400.0, 400.0, 800.0, 250.0, 500.0, 400.0, 150.0, 650.0, 500.0, 200.0, 600.0, 350.0, 750.0, 450.0, 450.0, 500.0, 800.0, 300.0, 600.0, 500.0, 400.0, 600.0, 800.0, 600.0, 600.0, 1400.0, 700.0, 2000.0, 1700.0, 1200.0, 350.0, 500.0, 600.0, 600.0, 1100.0, 600.0, 450.0, 400.0, 300.0, 800.0, 600.0, 400.0, 1000.0, 650.0, 600.0, 800.0, 700.0, 500.0, 400.0, 150.0, 250.0, 200.0, 350.0, 400.0, 1000.0, 300.0, 450.0, 500.0, 1100.0, 500.0, 1500.0, 300.0, 1200.0, 500.0, 500.0, 300.0, 400.0, 250.0, 300.0, 300.0, 500.0, 900.0, 350.0, 600.0, 800.0, 1100.0, 300.0, 400.0, 600.0, 700.0, 800.0, 800.0, 1400.0, 600.0, 120.0, 1000.0, 400.0, 250.0, 400.0, 400.0, 150.0, 100.0, 800.0, 900.0, 500.0, 150.0, 1000.0, 400.0, 750.0, 150.0, 150.0, 200.0, 350.0, 600.0, 300.0, 150.0, 900.0, 300.0, 100.0, 350.0, 600.0, 600.0, 1500.0, 500.0, 1100.0, 200.0, 400.0, 600.0, 750.0, 800.0, 250.0, 500.0, 500.0, 600.0, 200.0, 500.0, 400.0, 500.0, 600.0, 250.0, 200.0, 500.0, 100.0, 500.0, 600.0, 350.0, 250.0, 200.0, 500.0, 400.0, 700.0, 250.0, 250.0, 300.0, 100.0, 250.0, 200.0, 450.0, 300.0, 400.0, 1650.0, 1100.0, 1600.0, 400.0, 600.0, 800.0, 700.0, 1800.0, 700.0, 750.0, 900.0, 1100.0, 450.0, 800.0, 900.0, 800.0, 1000.0, 600.0, 700.0, 700.0, 600.0, 350.0, 500.0, 900.0, 1000.0, 600.0, 600.0, 1200.0, 400.0, 300.0, 400.0, 400.0, 400.0, 350.0, 600.0, 450.0, 300.0, 300.0, 450.0, 750.0, 450.0, 800.0, 600.0, 600.0, 350.0, 300.0, 500.0, 500.0, 1200.0, 800.0, 750.0, 750.0, 600.0, 500.0, 800.0, 250.0, 400.0, 400.0, 500.0, 600.0, 200.0, 400.0, 2600.0, 2000.0, 1800.0, 2000.0, 1200.0, 1300.0, 2500.0, 1700.0, 1400.0, 1000.0, 1000.0, 1500.0, 1400.0, 800.0, 150.0, 1400.0, 1400.0, 1200.0, 1200.0, 600.0, 500.0, 1500.0, 1100.0, 1500.0, 1500.0, 250.0, 1100.0, 650.0, 1000.0, 700.0, 500.0, 100.0, 500.0, 600.0, 500.0, 300.0, 1100.0, 850.0, 2500.0, 250.0, 600.0, 1500.0, 150.0, 700.0, 1100.0, 200.0, 600.0, 350.0, 450.0, 200.0, 150.0, 600.0, 600.0, 200.0, 250.0, 300.0, 300.0, 400.0, 350.0, 2000.0, 200.0, 250.0, 400.0, 600.0, 1000.0, 200.0, 500.0, 400.0, 250.0, 500.0, 200.0, 300.0, 500.0, 200.0, 300.0, 300.0, 300.0, 400.0, 400.0, 500.0, 450.0, 800.0, 550.0, 500.0, 150.0, 300.0, 500.0, 1200.0, 1650.0, 1000.0, 2600.0, 1800.0, 1400.0, 1400.0, 1200.0, 1500.0, 1500.0, 1100.0, 1100.0, 800.0, 2000.0, 1200.0, 1650.0, 1100.0, 1800.0, 800.0, 900.0, 1200.0, 800.0, 1400.0, 1400.0, 1400.0, 1200.0, 1500.0, 1100.0, 1100.0, 800.0, 2000.0, 1200.0, 1500.0, 500.0, 3400.0, 2000.0, 1900.0, 1800.0, 1500.0, 2200.0, 2100.0, 3000.0, 1200.0, 1700.0, 1400.0, 2500.0, 750.0, 3000.0, 1500.0, 1000.0, 1500.0, 1500.0, 2000.0, 1200.0, 800.0, 1200.0, 1700.0, 1600.0, 1300.0, 1600.0, 3000.0, 1000.0, 1200.0, 1000.0, 650.0, 1400.0, 800.0, 1000.0, 1000.0, 500.0, 1200.0, 650.0, 2800.0, 1600.0, 1300.0, 1700.0, 1300.0, 1800.0, 1600.0, 1000.0, 1100.0, 750.0, 1200.0, 800.0, 400.0, 400.0, 600.0, 1100.0, 900.0, 1700.0, 1000.0, 600.0, 600.0, 2500.0, 650.0, 1400.0, 700.0, 900.0, 450.0, 700.0, 800.0, 750.0, 650.0, 500.0, 500.0, 1000.0, 1200.0, 650.0, 500.0, 800.0, 1000.0, 500.0, 700.0, 800.0, 350.0, 1300.0, 750.0, 1100.0, 750.0, 1000.0, 750.0, 1000.0, 600.0, 500.0, 450.0, 300.0, 500.0, 500.0, 650.0, 200.0, 350.0, 500.0, 500.0, 200.0, 650.0, 300.0, 400.0, 600.0, 750.0, 500.0, 550.0, 500.0, 1200.0, 150.0, 250.0, 600.0, 600.0, 800.0, 750.0, 400.0, 450.0, 300.0, 400.0, 800.0, 650.0, 900.0, 500.0, 600.0, 1300.0, 400.0, 800.0, 400.0, 550.0, 750.0, 1400.0, 1600.0, 400.0, 400.0, 350.0, 500.0, 1500.0, 300.0, 1300.0, 400.0, 600.0, 600.0, 300.0, 1100.0, 1300.0, 250.0, 850.0, 300.0, 500.0, 400.0, 400.0, 1700.0, 1200.0, 1500.0, 200.0, 400.0, 1600.0, 800.0, 700.0, 1200.0, 300.0, 300.0, 500.0, 250.0, 450.0, 700.0, 600.0, 400.0, 700.0, 700.0, 600.0, 400.0, 500.0, 450.0, 550.0, 500.0, 1000.0, 400.0, 1000.0, 700.0, 400.0, 750.0, 700.0, 400.0, 300.0, 800.0, 1300.0, 650.0, 400.0, 750.0, 1500.0, 350.0, 800.0, 1000.0, 1400.0, 500.0, 800.0, 500.0, 1300.0, 700.0, 600.0, 600.0, 450.0, 500.0, 1500.0, 800.0, 180.0, 2100.0, 400.0, 300.0, 400.0, 1700.0, 400.0, 150.0, 1000.0, 3000.0, 200.0, 1700.0, 1000.0, 200.0, 1000.0, 300.0, 600.0, 1300.0, 2000.0, 1300.0, 650.0, 950.0, 200.0, 300.0, 700.0, 800.0, 300.0, 400.0, 600.0, 500.0, 1400.0, 400.0, 700.0, 300.0, 400.0, 500.0, 600.0, 700.0, 250.0, 200.0, 700.0, 1500.0, 750.0, 800.0, 900.0, 700.0, 2000.0, 1500.0, 1500.0, 700.0, 1000.0, 500.0, 350.0, 1000.0, 1000.0, 1000.0, 250.0, 1000.0, 700.0, 1900.0, 800.0, 550.0, 2100.0, 600.0, 750.0, 1400.0, 1000.0, 1200.0, 300.0, 350.0, 300.0, 2000.0, 300.0, 500.0, 400.0, 1200.0, 750.0, 700.0, 800.0, 2000.0, 1800.0, 850.0, 1500.0, 200.0, 600.0, 400.0, 800.0, 300.0, 600.0, 1800.0, 850.0, 1800.0, 800.0, 500.0, 1000.0, 750.0, 1200.0, 650.0, 700.0, 800.0, 100.0, 800.0, 600.0, 1000.0, 650.0, 500.0, 1300.0, 700.0, 400.0, 200.0, 1000.0, 800.0, 300.0, 500.0, 1700.0, 250.0, 1200.0, 400.0, 1200.0, 1000.0, 1500.0, 1600.0, 700.0, 2100.0, 800.0, 900.0, 1700.0, 1400.0, 600.0, 400.0, 750.0, 500.0, 900.0, 450.0, 500.0, 150.0, 450.0, 600.0, 1200.0, 500.0, 500.0, 550.0, 400.0, 450.0, 500.0, 200.0, 800.0, 800.0, 800.0, 1000.0, 500.0, 1100.0, 200.0, 800.0, 500.0, 550.0, 300.0, 450.0, 350.0, 300.0, 250.0, 1300.0, 600.0, 500.0, 400.0, 600.0, 1600.0, 1300.0, 550.0, 800.0, 2000.0, 400.0, 400.0, 150.0, 400.0, 500.0, 500.0, 350.0, 600.0, 800.0, 1000.0, 600.0, 550.0, 1250.0, 400.0, 1400.0, 300.0, 700.0, 450.0, 300.0, 500.0, 1000.0, 500.0, 450.0, 300.0, 400.0, 300.0, 800.0, 250.0, 450.0, 400.0, 900.0, 150.0, 250.0, 180.0, 400.0, 500.0, 200.0, 300.0, 300.0, 300.0, 1300.0, 750.0, 1100.0, 300.0, 2000.0, 700.0, 350.0, 400.0, 300.0, 300.0, 400.0, 2000.0, 1500.0, 800.0, 3500.0, 1700.0, 800.0, 2000.0, 600.0, 1200.0, 1400.0, 550.0, 3000.0, 500.0, 400.0, 3400.0, 1000.0, 800.0, 4000.0, 1000.0, 2000.0, 3500.0, 1000.0, 800.0, 550.0, 700.0, 1000.0, 2000.0, 600.0, 1900.0, 250.0, 500.0, 600.0, 300.0, 200.0, 500.0, 400.0, 500.0, 100.0, 500.0, 1700.0, 1800.0, 1500.0, 1500.0, 2500.0, 2000.0, 3000.0, 2200.0, 3000.0, 2800.0, 700.0, 1500.0, 1100.0, 2100.0, 1500.0, 1500.0, 2000.0, 3000.0, 2500.0, 1700.0, 1500.0, 1200.0, 1200.0, 1300.0, 1500.0, 1300.0, 2100.0, 1200.0, 1600.0, 800.0, 1700.0, 1600.0, 1000.0, 3000.0, 1500.0, 1500.0, 700.0, 1500.0, 2500.0, 1000.0, 2100.0, 1900.0, 1100.0, 1300.0, 1700.0, 2200.0, 1400.0, 1500.0, 900.0, 1700.0, 1300.0, 1000.0, 1000.0, 600.0, 2500.0, 1400.0, 200.0, 1500.0, 4000.0, 750.0, 1500.0, 3000.0, 1500.0, 1000.0, 1100.0, 650.0, 1200.0, 2500.0, 1500.0, 1500.0, 2000.0, 1000.0, 1400.0, 1500.0, 1100.0, 1300.0, 650.0, 750.0, 850.0, 1800.0, 1000.0, 1500.0, 1000.0, 1200.0, 2000.0, 1400.0, 3500.0, 700.0, 1600.0, 1500.0, 1200.0, 1200.0, 1500.0, 1200.0, 4000.0, 700.0, 1300.0, 1200.0, 800.0, 600.0, 1100.0, 1100.0, 900.0, 2000.0, 1200.0, 1700.0, 1600.0, 800.0, 2000.0, 3000.0, 2000.0, 1200.0, 1000.0, 700.0, 800.0, 500.0, 2800.0, 1800.0, 650.0, 3000.0, 750.0, 650.0, 1800.0, 950.0, 3000.0, 750.0, 500.0, 750.0, 1500.0, 1000.0, 1100.0, 500.0, 600.0, 800.0, 1200.0, 1000.0, 700.0, 300.0, 1300.0, 1000.0, 500.0, 1600.0, 500.0, 3000.0, 1000.0, 1000.0, 400.0, 550.0, 1200.0, 650.0, 1200.0, 1000.0, 350.0, 400.0, 3000.0, 1200.0, 3000.0, 400.0, 500.0, 1800.0, 2500.0, 650.0, 800.0, 2500.0, 700.0, 1400.0, 800.0, 500.0, 800.0, 600.0, 850.0, 700.0, 500.0, 800.0, 1000.0, 500.0, 1300.0, 1500.0, 1000.0, 700.0, 500.0, 3000.0, 600.0, 800.0, 600.0, 500.0, 800.0, 1200.0, 500.0, 550.0, 800.0, 800.0, 1200.0, 350.0, 650.0, 800.0, 2000.0, 700.0, 600.0, 2500.0, 800.0, 600.0, 1000.0, 600.0, 550.0, 400.0, 250.0, 700.0, 400.0, 500.0, 200.0, 300.0, 150.0, 450.0, 300.0, 500.0, 300.0, 300.0, 150.0, 300.0, 450.0, 500.0, 300.0, 400.0, 250.0, 400.0, 250.0, 350.0, 300.0, 400.0, 500.0, 500.0, 400.0, 200.0, 500.0, 400.0, 350.0, 250.0, 250.0, 300.0, 300.0, 450.0, 600.0, 1300.0, 2800.0, 2500.0, 1600.0, 1100.0, 1300.0, 600.0, 600.0, 1300.0, 1000.0, 750.0, 1100.0, 1800.0, 3000.0, 750.0, 1300.0, 1700.0, 500.0, 600.0, 1200.0, 1000.0, 2000.0, 750.0, 3000.0, 1300.0, 750.0, 800.0, 2000.0, 850.0, 700.0, 700.0, 600.0, 750.0, 700.0, 1800.0, 300.0, 1600.0, 150.0, 900.0, 450.0, 1000.0, 400.0, 450.0, 300.0, 150.0, 2200.0, 200.0, 200.0, 500.0, 1000.0, 2400.0, 150.0, 350.0, 400.0, 400.0, 400.0, 1000.0, 600.0, 450.0, 1100.0, 450.0, 300.0, 800.0, 150.0, 300.0, 300.0, 600.0, 2000.0, 1700.0, 1500.0, 1500.0, 1700.0, 1200.0, 3000.0, 1000.0, 1000.0, 1000.0, 2000.0, 2500.0, 3000.0, 3000.0, 1500.0, 1500.0, 2000.0, 1500.0, 2500.0, 1700.0, 1200.0, 1300.0, 1300.0, 1700.0, 1500.0, 1500.0, 2500.0, 1900.0, 1300.0, 1300.0, 1000.0, 1500.0, 1100.0, 1200.0, 1000.0, 1400.0, 1100.0, 1000.0, 1600.0, 1200.0, 1200.0, 1500.0, 1100.0, 1100.0, 2000.0, 2000.0, 1200.0, 2800.0, 3000.0, 1500.0, 1100.0, 600.0, 1000.0, 1000.0, 3000.0, 1200.0, 2500.0, 1500.0, 1300.0, 1300.0, 1000.0, 2200.0, 2400.0, 1500.0, 2000.0, 1400.0, 1600.0, 1300.0, 1800.0, 1100.0, 1500.0, 1500.0, 500.0, 700.0, 1900.0, 1000.0, 1400.0, 1500.0, 1200.0, 2500.0, 1500.0, 1500.0, 1100.0, 1500.0, 1000.0, 700.0, 800.0, 500.0, 600.0, 800.0, 600.0, 500.0, 200.0, 600.0, 800.0, 400.0, 600.0, 500.0, 1000.0, 500.0, 400.0, 650.0, 500.0, 450.0, 200.0, 450.0, 400.0, 300.0, 400.0, 500.0, 200.0, 500.0, 500.0, 400.0, 400.0, 400.0, 600.0, 300.0, 600.0, 250.0, 400.0, 650.0, 450.0, 600.0, 400.0, 950.0, 650.0, 500.0, 200.0, 400.0, 200.0, 600.0, 350.0, 600.0, 1200.0, 800.0, 150.0, 500.0, 1500.0, 300.0, 500.0, 400.0, 700.0, 800.0, 400.0, 400.0, 100.0, 800.0, 600.0, 300.0, 100.0, 600.0, 500.0, 400.0, 500.0, 450.0, 1200.0, 600.0, 700.0, 800.0, 200.0, 600.0, 500.0, 250.0, 200.0, 450.0, 450.0, 500.0, 400.0, 800.0, 800.0, 1400.0, 600.0, 300.0, 500.0, 200.0, 400.0, 250.0, 900.0, 300.0, 200.0, 500.0, 750.0, 600.0, 400.0, 500.0, 300.0, 350.0, 400.0, 350.0, 450.0, 200.0, 700.0, 400.0, 800.0, 900.0, 750.0, 400.0, 600.0, 700.0, 650.0, 1000.0, 500.0, 300.0, 200.0, 500.0, 300.0, 800.0, 800.0, 150.0, 500.0, 400.0, 300.0, 600.0, 300.0, 600.0, 750.0, 300.0, 500.0, 400.0, 750.0, 450.0, 400.0, 800.0, 450.0, 750.0, 600.0, 1300.0, 400.0, 1400.0, 1200.0, 800.0, 1300.0, 1600.0, 1800.0, 500.0, 450.0, 400.0, 600.0, 600.0, 1500.0, 700.0, 600.0, 800.0, 1500.0, 600.0, 250.0, 1500.0, 800.0, 850.0, 500.0, 1800.0, 1000.0, 1100.0, 500.0, 900.0, 1500.0, 600.0, 500.0, 1000.0, 1500.0, 500.0, 700.0, 250.0, 500.0, 1000.0, 700.0, 550.0, 1100.0, 1200.0, 600.0, 600.0, 500.0, 1500.0, 1700.0, 900.0, 600.0, 400.0, 1200.0, 800.0, 1400.0, 1400.0, 800.0, 300.0, 400.0, 1400.0, 1700.0, 500.0, 1000.0, 1500.0, 1000.0, 550.0, 200.0, 700.0, 300.0, 400.0, 500.0, 600.0, 500.0, 700.0, 500.0, 1500.0, 500.0, 500.0, 400.0, 800.0, 300.0, 400.0, 500.0, 250.0, 600.0, 800.0, 750.0, 500.0, 300.0, 700.0, 500.0, 400.0, 200.0, 800.0, 500.0, 700.0, 450.0, 150.0, 800.0, 550.0, 600.0, 550.0, 300.0, 600.0, 300.0, 100.0, 150.0, 600.0, 330.0, 600.0, 600.0, 400.0, 400.0, 500.0, 400.0, 750.0, 600.0, 200.0, 500.0, 300.0, 200.0, 800.0, 300.0, 500.0, 400.0, 400.0, 350.0, 400.0, 500.0, 500.0, 300.0, 200.0, 500.0, 250.0, 500.0, 600.0, 600.0, 900.0, 300.0, 1400.0, 1500.0, 1500.0, 1600.0, 1400.0, 1500.0, 1900.0, 1600.0, 1400.0, 1300.0, 1300.0, 1800.0, 1400.0, 600.0, 1100.0, 1500.0, 1500.0, 1500.0, 2000.0, 600.0, 700.0, 700.0, 800.0, 800.0, 500.0, 500.0, 850.0, 800.0, 1200.0, 900.0, 700.0, 800.0, 1000.0, 600.0, 800.0, 600.0, 700.0, 400.0, 200.0, 800.0, 900.0, 600.0, 600.0, 800.0, 700.0, 500.0, 400.0, 1000.0, 1200.0, 1900.0, 550.0, 500.0, 550.0, 600.0, 500.0, 450.0, 800.0, 300.0, 150.0, 500.0, 500.0, 400.0, 450.0, 200.0, 600.0, 100.0, 250.0, 300.0, 400.0, 500.0, 250.0, 300.0, 200.0, 350.0, 400.0, 400.0, 500.0, 250.0, 600.0, 300.0, 500.0, 400.0, 750.0, 300.0, 300.0, 1000.0, 1800.0, 1700.0, 1800.0, 1400.0, 1500.0, 750.0, 1200.0, 800.0, 2000.0, 1200.0, 950.0, 2000.0, 600.0, 2500.0, 400.0, 700.0, 600.0, 750.0, 1500.0, 1500.0, 1100.0, 1200.0, 600.0, 900.0, 400.0, 500.0, 650.0, 500.0, 1500.0, 800.0, 1800.0, 450.0, 1400.0, 600.0, 500.0, 200.0, 800.0, 300.0, 500.0, 300.0, 550.0, 400.0, 800.0, 500.0, 200.0, 1000.0, 400.0, 250.0, 500.0, 300.0, 400.0, 600.0, 2500.0, 200.0, 500.0, 450.0, 800.0, 350.0, 200.0, 700.0, 330.0, 200.0, 400.0, 600.0, 250.0, 400.0, 200.0, 500.0, 450.0, 500.0, 400.0, 800.0, 550.0, 400.0, 400.0, 600.0, 1000.0, 450.0, 400.0, 800.0, 1500.0, 1400.0, 1400.0, 1600.0, 1400.0, 1500.0, 1900.0, 1500.0, 1300.0, 1500.0, 1200.0, 900.0, 1000.0, 1700.0, 1500.0, 1500.0, 1800.0, 1400.0, 2500.0, 1500.0, 1400.0, 1800.0, 1400.0, 1400.0, 1500.0, 1900.0, 1300.0, 1800.0, 1200.0, 900.0, 1700.0, 1800.0, 1400.0, 1500.0, 1100.0, 700.0, 900.0, 550.0, 600.0, 1400.0, 500.0, 900.0, 1100.0, 700.0, 2000.0, 600.0, 600.0, 1000.0, 900.0, 700.0, 350.0, 400.0, 650.0, 400.0, 400.0, 700.0, 1000.0, 800.0, 500.0, 300.0, 400.0, 750.0, 600.0, 250.0, 400.0, 700.0, 600.0, 400.0, 400.0, 400.0, 200.0, 300.0, 400.0, 250.0, 500.0, 500.0, 700.0, 500.0, 400.0, 300.0, 600.0, 800.0, 450.0, 800.0, 350.0, 450.0, 750.0, 550.0, 200.0, 800.0, 600.0, 750.0, 450.0, 400.0, 300.0, 500.0, 400.0, 800.0, 650.0, 1000.0, 600.0, 500.0, 400.0, 500.0, 500.0, 300.0, 350.0, 600.0, 550.0, 600.0, 1100.0, 900.0, 300.0, 250.0, 350.0, 150.0, 800.0, 200.0, 400.0, 400.0, 200.0, 750.0, 450.0, 200.0, 900.0, 550.0, 500.0, 300.0, 500.0, 250.0, 600.0, 900.0, 1000.0, 1700.0, 1200.0, 2000.0, 400.0, 400.0, 400.0, 1400.0, 450.0, 300.0, 600.0, 400.0, 600.0, 500.0, 650.0, 300.0, 600.0, 500.0, 300.0, 500.0, 300.0, 300.0, 450.0, 1000.0, 850.0, 2000.0, 300.0, 700.0, 300.0, 750.0, 500.0, 400.0, 400.0, 300.0, 250.0, 400.0, 300.0, 500.0, 400.0, 1500.0, 300.0, 400.0, 700.0, 400.0, 500.0, 1500.0, 400.0, 1400.0, 400.0, 500.0, 500.0, 1800.0, 450.0, 400.0, 1500.0, 1600.0, 1500.0, 1500.0, 900.0, 500.0, 200.0, 600.0, 500.0, 400.0, 1600.0, 1000.0, 550.0, 250.0, 600.0, 500.0, 550.0, 500.0, 1400.0, 800.0, 300.0, 600.0, 1200.0, 400.0, 600.0, 400.0, 500.0, 1500.0, 500.0, 450.0, 800.0, 150.0, 1000.0, 600.0, 300.0, 650.0, 300.0, 200.0, 500.0, 700.0, 300.0, 450.0, 1500.0, 400.0, 150.0, 300.0, 800.0, 700.0, 700.0, 900.0, 200.0, 350.0, 900.0, 1200.0, 750.0, 700.0, 700.0, 500.0, 200.0, 600.0, 2000.0, 700.0, 800.0, 200.0, 300.0, 1200.0, 400.0, 500.0, 750.0, 1000.0, 800.0, 1400.0, 300.0, 800.0, 800.0, 800.0, 350.0, 500.0, 350.0, 400.0, 400.0, 350.0, 1000.0, 1400.0, 750.0, 1100.0, 800.0, 600.0, 350.0, 1100.0, 750.0, 900.0, 400.0, 700.0, 1700.0, 600.0, 600.0, 1200.0, 800.0, 350.0, 1000.0, 300.0, 500.0, 700.0, 500.0, 650.0, 700.0, 300.0, 300.0, 500.0, 600.0, 400.0, 400.0, 400.0, 450.0, 450.0, 1500.0, 1200.0, 800.0, 400.0, 500.0, 1100.0, 500.0, 800.0, 800.0, 600.0, 400.0, 600.0, 300.0, 750.0, 800.0, 500.0, 900.0, 700.0, 600.0, 700.0, 1000.0, 500.0, 1700.0, 500.0, 1000.0, 450.0, 800.0, 900.0, 550.0, 600.0, 400.0, 400.0, 500.0, 700.0, 150.0, 500.0, 400.0, 600.0, 1500.0, 450.0, 500.0, 450.0, 400.0, 1000.0, 200.0, 300.0, 300.0, 150.0, 800.0, 250.0, 500.0, 1500.0, 400.0, 600.0, 400.0, 400.0, 200.0, 250.0, 300.0, 300.0, 500.0, 1000.0, 2000.0, 2500.0, 2400.0, 2500.0, 1600.0, 1600.0, 1400.0, 1600.0, 1700.0, 1700.0, 1700.0, 1100.0, 2000.0, 1000.0, 1500.0, 1900.0, 1500.0, 1600.0, 1800.0, 1800.0, 1700.0, 1200.0, 1500.0, 2000.0, 1000.0, 1500.0, 900.0, 550.0, 1600.0, 2500.0, 650.0, 800.0, 800.0, 800.0, 1700.0, 1400.0, 1000.0, 1800.0, 2000.0, 1400.0, 800.0, 750.0, 1500.0, 2000.0, 700.0, 1000.0, 850.0, 1200.0, 900.0, 1400.0, 700.0, 800.0, 1200.0, 1500.0, 750.0, 1700.0, 2000.0, 800.0, 550.0, 1400.0, 2000.0, 1500.0, 900.0, 1100.0, 700.0, 2500.0, 1100.0, 900.0, 400.0, 1000.0, 3000.0, 1000.0, 700.0, 800.0, 1450.0, 300.0, 2000.0, 800.0, 1000.0, 1400.0, 700.0, 600.0, 750.0, 1500.0, 1500.0, 1500.0, 1000.0, 700.0, 2000.0, 900.0, 2500.0, 800.0, 600.0, 900.0, 2100.0, 800.0, 400.0, 1200.0, 600.0, 1200.0, 800.0, 700.0, 1000.0, 1500.0, 600.0, 3000.0, 300.0, 300.0, 350.0, 400.0, 500.0, 800.0, 800.0, 700.0, 1700.0, 750.0, 400.0, 1200.0, 500.0, 2000.0, 350.0, 1500.0, 600.0, 750.0, 2000.0, 400.0, 3000.0, 650.0, 500.0, 800.0, 1900.0, 450.0, 1200.0, 750.0, 1000.0, 800.0, 2000.0, 700.0, 1200.0, 600.0, 700.0, 400.0, 700.0, 1800.0, 700.0, 700.0, 250.0, 700.0, 600.0, 600.0, 800.0, 150.0, 650.0, 550.0, 1100.0, 1600.0, 900.0, 500.0, 350.0, 450.0, 500.0, 600.0, 700.0, 600.0, 500.0, 200.0, 600.0, 350.0, 400.0, 300.0, 350.0, 600.0, 400.0, 500.0, 300.0, 350.0, 400.0, 300.0, 400.0, 450.0, 250.0, 500.0, 300.0, 400.0, 500.0, 400.0, 200.0, 200.0, 400.0, 400.0, 300.0, 300.0, 600.0, 400.0, 350.0, 400.0, 400.0, 350.0, 400.0, 400.0, 400.0, 600.0, 450.0, 300.0, 300.0, 400.0, 200.0, 300.0, 550.0, 350.0, 500.0, 600.0, 550.0, 400.0, 450.0, 500.0, 300.0, 400.0, 400.0, 450.0, 500.0, 500.0, 600.0, 300.0, 500.0, 400.0, 400.0, 450.0, 400.0, 400.0, 350.0, 700.0, 500.0, 500.0, 300.0, 400.0, 1500.0, 2500.0, 1000.0, 800.0, 500.0, 500.0, 300.0, 500.0, 600.0, 1800.0, 400.0, 300.0, 1700.0, 1200.0, 1600.0, 2400.0, 2500.0, 1700.0, 1000.0, 1900.0, 1500.0, 1000.0, 1500.0, 1600.0, 1700.0, 1800.0, 1200.0, 1500.0, 1400.0, 1450.0, 1500.0, 1500.0, 2100.0, 1700.0, 1200.0, 2000.0, 1800.0, 800.0, 2500.0, 1600.0, 1900.0, 1700.0, 2400.0, 2500.0, 1700.0, 1100.0, 1000.0, 1500.0, 1800.0, 1000.0, 1200.0, 1500.0, 1600.0, 1700.0, 1800.0, 1200.0, 1200.0, 1500.0, 1400.0, 1450.0, 1500.0, 1500.0, 1200.0, 2000.0, 1200.0, 800.0, 2500.0]}],\n",
              "                        {\"height\": 800, \"template\": {\"data\": {\"bar\": [{\"error_x\": {\"color\": \"#2a3f5f\"}, \"error_y\": {\"color\": \"#2a3f5f\"}, \"marker\": {\"line\": {\"color\": \"#E5ECF6\", \"width\": 0.5}}, \"type\": \"bar\"}], \"barpolar\": [{\"marker\": {\"line\": {\"color\": \"#E5ECF6\", \"width\": 0.5}}, \"type\": \"barpolar\"}], \"carpet\": [{\"aaxis\": {\"endlinecolor\": \"#2a3f5f\", \"gridcolor\": \"white\", \"linecolor\": \"white\", \"minorgridcolor\": \"white\", \"startlinecolor\": \"#2a3f5f\"}, \"baxis\": {\"endlinecolor\": \"#2a3f5f\", \"gridcolor\": \"white\", \"linecolor\": \"white\", \"minorgridcolor\": \"white\", \"startlinecolor\": \"#2a3f5f\"}, \"type\": \"carpet\"}], \"choropleth\": [{\"colorbar\": {\"outlinewidth\": 0, \"ticks\": \"\"}, \"type\": \"choropleth\"}], \"contour\": [{\"colorbar\": {\"outlinewidth\": 0, \"ticks\": \"\"}, \"colorscale\": [[0.0, \"#0d0887\"], [0.1111111111111111, \"#46039f\"], [0.2222222222222222, \"#7201a8\"], [0.3333333333333333, \"#9c179e\"], [0.4444444444444444, \"#bd3786\"], [0.5555555555555556, \"#d8576b\"], [0.6666666666666666, \"#ed7953\"], [0.7777777777777778, \"#fb9f3a\"], [0.8888888888888888, \"#fdca26\"], [1.0, \"#f0f921\"]], \"type\": \"contour\"}], \"contourcarpet\": [{\"colorbar\": {\"outlinewidth\": 0, \"ticks\": \"\"}, \"type\": \"contourcarpet\"}], \"heatmap\": [{\"colorbar\": {\"outlinewidth\": 0, \"ticks\": \"\"}, \"colorscale\": [[0.0, \"#0d0887\"], [0.1111111111111111, \"#46039f\"], [0.2222222222222222, \"#7201a8\"], [0.3333333333333333, \"#9c179e\"], [0.4444444444444444, \"#bd3786\"], [0.5555555555555556, \"#d8576b\"], [0.6666666666666666, \"#ed7953\"], [0.7777777777777778, \"#fb9f3a\"], [0.8888888888888888, \"#fdca26\"], [1.0, \"#f0f921\"]], \"type\": \"heatmap\"}], \"heatmapgl\": [{\"colorbar\": {\"outlinewidth\": 0, \"ticks\": \"\"}, \"colorscale\": [[0.0, \"#0d0887\"], [0.1111111111111111, \"#46039f\"], [0.2222222222222222, \"#7201a8\"], [0.3333333333333333, \"#9c179e\"], [0.4444444444444444, \"#bd3786\"], [0.5555555555555556, \"#d8576b\"], [0.6666666666666666, \"#ed7953\"], [0.7777777777777778, \"#fb9f3a\"], [0.8888888888888888, \"#fdca26\"], [1.0, \"#f0f921\"]], \"type\": \"heatmapgl\"}], \"histogram\": [{\"marker\": {\"colorbar\": {\"outlinewidth\": 0, \"ticks\": \"\"}}, \"type\": \"histogram\"}], \"histogram2d\": [{\"colorbar\": {\"outlinewidth\": 0, \"ticks\": \"\"}, \"colorscale\": [[0.0, \"#0d0887\"], [0.1111111111111111, \"#46039f\"], [0.2222222222222222, \"#7201a8\"], [0.3333333333333333, \"#9c179e\"], [0.4444444444444444, \"#bd3786\"], [0.5555555555555556, \"#d8576b\"], [0.6666666666666666, \"#ed7953\"], [0.7777777777777778, \"#fb9f3a\"], [0.8888888888888888, \"#fdca26\"], [1.0, \"#f0f921\"]], \"type\": \"histogram2d\"}], \"histogram2dcontour\": [{\"colorbar\": {\"outlinewidth\": 0, \"ticks\": \"\"}, \"colorscale\": [[0.0, \"#0d0887\"], [0.1111111111111111, \"#46039f\"], [0.2222222222222222, \"#7201a8\"], [0.3333333333333333, \"#9c179e\"], [0.4444444444444444, \"#bd3786\"], [0.5555555555555556, \"#d8576b\"], [0.6666666666666666, \"#ed7953\"], [0.7777777777777778, \"#fb9f3a\"], [0.8888888888888888, \"#fdca26\"], [1.0, \"#f0f921\"]], \"type\": \"histogram2dcontour\"}], \"mesh3d\": [{\"colorbar\": {\"outlinewidth\": 0, \"ticks\": \"\"}, \"type\": \"mesh3d\"}], \"parcoords\": [{\"line\": {\"colorbar\": {\"outlinewidth\": 0, \"ticks\": \"\"}}, \"type\": \"parcoords\"}], \"pie\": [{\"automargin\": true, \"type\": \"pie\"}], \"scatter\": [{\"marker\": {\"colorbar\": {\"outlinewidth\": 0, \"ticks\": \"\"}}, \"type\": \"scatter\"}], \"scatter3d\": [{\"line\": {\"colorbar\": {\"outlinewidth\": 0, \"ticks\": \"\"}}, \"marker\": {\"colorbar\": {\"outlinewidth\": 0, \"ticks\": \"\"}}, \"type\": \"scatter3d\"}], \"scattercarpet\": [{\"marker\": {\"colorbar\": {\"outlinewidth\": 0, \"ticks\": \"\"}}, \"type\": \"scattercarpet\"}], \"scattergeo\": [{\"marker\": {\"colorbar\": {\"outlinewidth\": 0, \"ticks\": \"\"}}, \"type\": \"scattergeo\"}], \"scattergl\": [{\"marker\": {\"colorbar\": {\"outlinewidth\": 0, \"ticks\": \"\"}}, \"type\": \"scattergl\"}], \"scattermapbox\": [{\"marker\": {\"colorbar\": {\"outlinewidth\": 0, \"ticks\": \"\"}}, \"type\": \"scattermapbox\"}], \"scatterpolar\": [{\"marker\": {\"colorbar\": {\"outlinewidth\": 0, \"ticks\": \"\"}}, \"type\": \"scatterpolar\"}], \"scatterpolargl\": [{\"marker\": {\"colorbar\": {\"outlinewidth\": 0, \"ticks\": \"\"}}, \"type\": \"scatterpolargl\"}], \"scatterternary\": [{\"marker\": {\"colorbar\": {\"outlinewidth\": 0, \"ticks\": \"\"}}, \"type\": \"scatterternary\"}], \"surface\": [{\"colorbar\": {\"outlinewidth\": 0, \"ticks\": \"\"}, \"colorscale\": [[0.0, \"#0d0887\"], [0.1111111111111111, \"#46039f\"], [0.2222222222222222, \"#7201a8\"], [0.3333333333333333, \"#9c179e\"], [0.4444444444444444, \"#bd3786\"], [0.5555555555555556, \"#d8576b\"], [0.6666666666666666, \"#ed7953\"], [0.7777777777777778, \"#fb9f3a\"], [0.8888888888888888, \"#fdca26\"], [1.0, \"#f0f921\"]], \"type\": \"surface\"}], \"table\": [{\"cells\": {\"fill\": {\"color\": \"#EBF0F8\"}, \"line\": {\"color\": \"white\"}}, \"header\": {\"fill\": {\"color\": \"#C8D4E3\"}, \"line\": {\"color\": \"white\"}}, \"type\": \"table\"}]}, \"layout\": {\"annotationdefaults\": {\"arrowcolor\": \"#2a3f5f\", \"arrowhead\": 0, \"arrowwidth\": 1}, \"coloraxis\": {\"colorbar\": {\"outlinewidth\": 0, \"ticks\": \"\"}}, \"colorscale\": {\"diverging\": [[0, \"#8e0152\"], [0.1, \"#c51b7d\"], [0.2, \"#de77ae\"], [0.3, \"#f1b6da\"], [0.4, \"#fde0ef\"], [0.5, \"#f7f7f7\"], [0.6, \"#e6f5d0\"], [0.7, \"#b8e186\"], [0.8, \"#7fbc41\"], [0.9, \"#4d9221\"], [1, \"#276419\"]], \"sequential\": [[0.0, \"#0d0887\"], [0.1111111111111111, \"#46039f\"], [0.2222222222222222, \"#7201a8\"], [0.3333333333333333, \"#9c179e\"], [0.4444444444444444, \"#bd3786\"], [0.5555555555555556, \"#d8576b\"], [0.6666666666666666, \"#ed7953\"], [0.7777777777777778, \"#fb9f3a\"], [0.8888888888888888, \"#fdca26\"], [1.0, \"#f0f921\"]], \"sequentialminus\": [[0.0, \"#0d0887\"], [0.1111111111111111, \"#46039f\"], [0.2222222222222222, \"#7201a8\"], [0.3333333333333333, \"#9c179e\"], [0.4444444444444444, \"#bd3786\"], [0.5555555555555556, \"#d8576b\"], [0.6666666666666666, \"#ed7953\"], [0.7777777777777778, \"#fb9f3a\"], [0.8888888888888888, \"#fdca26\"], [1.0, \"#f0f921\"]]}, \"colorway\": [\"#636efa\", \"#EF553B\", \"#00cc96\", \"#ab63fa\", \"#FFA15A\", \"#19d3f3\", \"#FF6692\", \"#B6E880\", \"#FF97FF\", \"#FECB52\"], \"font\": {\"color\": \"#2a3f5f\"}, \"geo\": {\"bgcolor\": \"white\", \"lakecolor\": \"white\", \"landcolor\": \"#E5ECF6\", \"showlakes\": true, \"showland\": true, \"subunitcolor\": \"white\"}, \"hoverlabel\": {\"align\": \"left\"}, \"hovermode\": \"closest\", \"mapbox\": {\"style\": \"light\"}, \"paper_bgcolor\": \"white\", \"plot_bgcolor\": \"#E5ECF6\", \"polar\": {\"angularaxis\": {\"gridcolor\": \"white\", \"linecolor\": \"white\", \"ticks\": \"\"}, \"bgcolor\": \"#E5ECF6\", \"radialaxis\": {\"gridcolor\": \"white\", \"linecolor\": \"white\", \"ticks\": \"\"}}, \"scene\": {\"xaxis\": {\"backgroundcolor\": \"#E5ECF6\", \"gridcolor\": \"white\", \"gridwidth\": 2, \"linecolor\": \"white\", \"showbackground\": true, \"ticks\": \"\", \"zerolinecolor\": \"white\"}, \"yaxis\": {\"backgroundcolor\": \"#E5ECF6\", \"gridcolor\": \"white\", \"gridwidth\": 2, \"linecolor\": \"white\", \"showbackground\": true, \"ticks\": \"\", \"zerolinecolor\": \"white\"}, \"zaxis\": {\"backgroundcolor\": \"#E5ECF6\", \"gridcolor\": \"white\", \"gridwidth\": 2, \"linecolor\": \"white\", \"showbackground\": true, \"ticks\": \"\", \"zerolinecolor\": \"white\"}}, \"shapedefaults\": {\"line\": {\"color\": \"#2a3f5f\"}}, \"ternary\": {\"aaxis\": {\"gridcolor\": \"white\", \"linecolor\": \"white\", \"ticks\": \"\"}, \"baxis\": {\"gridcolor\": \"white\", \"linecolor\": \"white\", \"ticks\": \"\"}, \"bgcolor\": \"#E5ECF6\", \"caxis\": {\"gridcolor\": \"white\", \"linecolor\": \"white\", \"ticks\": \"\"}}, \"title\": {\"x\": 0.05}, \"xaxis\": {\"automargin\": true, \"gridcolor\": \"white\", \"linecolor\": \"white\", \"ticks\": \"\", \"title\": {\"standoff\": 15}, \"zerolinecolor\": \"white\", \"zerolinewidth\": 2}, \"yaxis\": {\"automargin\": true, \"gridcolor\": \"white\", \"linecolor\": \"white\", \"ticks\": \"\", \"title\": {\"standoff\": 15}, \"zerolinecolor\": \"white\", \"zerolinewidth\": 2}}}, \"title\": {\"text\": \"Box plot of approximate cost\"}, \"width\": 800, \"yaxis\": {\"title\": {\"text\": \"Price\"}}},\n",
              "                        {\"responsive\": true}\n",
              "                    ).then(function(){\n",
              "                            \n",
              "var gd = document.getElementById('d1256214-3c7e-4d5e-8146-99c0ce66b1bf');\n",
              "var x = new MutationObserver(function (mutations, observer) {{\n",
              "        var display = window.getComputedStyle(gd).display;\n",
              "        if (!display || display === 'none') {{\n",
              "            console.log([gd, 'removed!']);\n",
              "            Plotly.purge(gd);\n",
              "            observer.disconnect();\n",
              "        }}\n",
              "}});\n",
              "\n",
              "// Listen for the removal of the full notebook cells\n",
              "var notebookContainer = gd.closest('#notebook-container');\n",
              "if (notebookContainer) {{\n",
              "    x.observe(notebookContainer, {childList: true});\n",
              "}}\n",
              "\n",
              "// Listen for the clearing of the current output cell\n",
              "var outputEl = gd.closest('.output');\n",
              "if (outputEl) {{\n",
              "    x.observe(outputEl, {childList: true});\n",
              "}}\n",
              "\n",
              "                        })\n",
              "                };\n",
              "                \n",
              "            </script>\n",
              "        </div>\n",
              "</body>\n",
              "</html>"
            ]
          },
          "metadata": {
            "tags": []
          },
          "output_type": "display_data"
        }
      ],
      "source": [
        "trace0=go.Box(y=df['cost'],name=\"accepting online orders\",\n",
        "              marker = dict(\n",
        "        color = 'rgb(113, 10, 100)',\n",
        "    ))\n",
        "data=[trace0]\n",
        "layout=go.Layout(title=\"Box plot of approximate cost\",width=800,height=800,yaxis=dict(title=\"Price\"))\n",
        "fig=go.Figure(data=data,layout=layout)\n",
        "py.iplot(fig)"
      ]
    },
    {
      "cell_type": "markdown",
      "metadata": {
        "colab_type": "text",
        "id": "c4zJWhCbLk6w"
      },
      "source": [
        "**Distribution of charges**"
      ]
    },
    {
      "cell_type": "code",
      "execution_count": null,
      "metadata": {
        "colab": {
          "base_uri": "https://localhost:8080/",
          "height": 496
        },
        "colab_type": "code",
        "id": "QP8phgpqNjdG",
        "outputId": "3a9b150b-1263-49c6-8b6a-e752b85a7674"
      },
      "outputs": [
        {
          "data": {
            "image/png": "[encoded data removed]",
            "text/plain": [
              "<Figure size 576x576 with 1 Axes>"
            ]
          },
          "metadata": {
            "needs_background": "light",
            "tags": []
          },
          "output_type": "display_data"
        }
      ],
      "source": [
        "plt.figure(figsize=(8,8))\n",
        "sns.distplot(df['cost'])\n",
        "plt.show()"
      ]
    },
    {
      "cell_type": "markdown",
      "metadata": {
        "colab_type": "text",
        "id": "08lkpOlGVMwe"
      },
      "source": [
        "## **Most Liked Dishes**"
      ]
    },
    {
      "cell_type": "code",
      "execution_count": null,
      "metadata": {
        "colab": {},
        "colab_type": "code",
        "id": "vpEEWZkeUYWr"
      },
      "outputs": [],
      "source": [
        "#re=regular expression (use for splitting words)\n",
        "\n",
        "import re\n",
        "\n",
        "df.index=range(df.shape[0])\n",
        "likes=[]\n",
        "for i in range(df.shape[0]):\n",
        "    array_split=re.split(',',df['dish_liked'][i])\n",
        "    for item in array_split:\n",
        "        likes.append(item)"
      ]
    },
    {
      "cell_type": "code",
      "execution_count": null,
      "metadata": {
        "colab": {},
        "colab_type": "code",
        "id": "orPvuZjiW0MD"
      },
      "outputs": [],
      "source": [
        "df.index=range(df.shape[0])"
      ]
    },
    {
      "cell_type": "code",
      "execution_count": null,
      "metadata": {
        "colab": {},
        "colab_type": "code",
        "id": "pD-uQwFCW1UY"
      },
      "outputs": [],
      "source": [
        "df.index"
      ]
    },
    {
      "cell_type": "code",
      "execution_count": null,
      "metadata": {
        "colab": {
          "base_uri": "https://localhost:8080/",
          "height": 561
        },
        "colab_type": "code",
        "id": "qILhSkOXW5tb",
        "outputId": "fd15a0df-ca70-4345-90ba-ae5ea7ec0f6d"
      },
      "outputs": [
        {
          "name": "stdout",
          "output_type": "stream",
          "text": [
            "Count of Most liked dishes in Bangalore\n"
          ]
        },
        {
          "data": {
            "text/plain": [
              " Pasta              2692\n",
              " Pizza              1915\n",
              " Cocktails          1880\n",
              " Burgers            1736\n",
              " Mocktails          1623\n",
              " Biryani            1307\n",
              " Sandwiches         1287\n",
              "Burgers             1256\n",
              " Coffee             1184\n",
              " Nachos             1170\n",
              " Fish               1116\n",
              " Paratha            1107\n",
              " Salads             1055\n",
              " Chicken Biryani    1004\n",
              "Cocktails            891\n",
              " Fries               876\n",
              " Noodles             854\n",
              " Beer                835\n",
              " Mutton Biryani      832\n",
              " Tea                 819\n",
              "Coffee               801\n",
              " Sandwich            788\n",
              " Butter Chicken      782\n",
              " Thali               770\n",
              "Biryani              749\n",
              "Pizza                747\n",
              " Roti                729\n",
              " Brownie             726\n",
              " Salad               677\n",
              " Hot Chocolate       672\n",
              "dtype: int64"
            ]
          },
          "execution_count": 48,
          "metadata": {
            "tags": []
          },
          "output_type": "execute_result"
        }
      ],
      "source": [
        "print(\"Count of Most liked dishes in Bangalore\")\n",
        "favourite_food = pd.Series(likes).value_counts()\n",
        "favourite_food.head(30)"
      ]
    },
    {
      "cell_type": "code",
      "execution_count": null,
      "metadata": {
        "colab": {
          "base_uri": "https://localhost:8080/",
          "height": 615
        },
        "colab_type": "code",
        "id": "b5QGQc9OX5h_",
        "outputId": "0ae4c09e-6382-4c2f-9d32-af0954adc264"
      },
      "outputs": [
        {
          "data": {
            "image/png": "[encoded data removed]",
            "text/plain": [
              "<Figure size 1296x720 with 1 Axes>"
            ]
          },
          "metadata": {
            "needs_background": "light",
            "tags": []
          },
          "output_type": "display_data"
        }
      ],
      "source": [
        "ax = favourite_food.nlargest(n=20, keep='first').plot(kind='bar',figsize=(18,10),title = 'Top 30 Favourite Food counts ')\n",
        "\n",
        "for i in ax.patches:\n",
        "    ax.annotate(str(i.get_height()), (i.get_x() * 1.005, i.get_height() * 1.005))"
      ]
    },
    {
      "cell_type": "markdown",
      "metadata": {
        "colab_type": "text",
        "id": "AhyDpY0Xa_q9"
      },
      "source": [
        "We can infer from the analysis that the 5 most liked dishes are **Pasta**,**Pizza**,**Cocktails**,**Burgers**,and **Mocktails**"
      ]
    },
    {
      "cell_type": "code",
      "execution_count": null,
      "metadata": {
        "colab": {},
        "colab_type": "code",
        "id": "JL-g9fNIZ-jx"
      },
      "outputs": [],
      "source": []
    },
    {
      "cell_type": "markdown",
      "metadata": {
        "colab_type": "text",
        "id": "L-m_6KrvawN0"
      },
      "source": [
        "**Restaurant and their counts**"
      ]
    },
    {
      "cell_type": "code",
      "execution_count": null,
      "metadata": {
        "colab": {
          "base_uri": "https://localhost:8080/",
          "height": 462
        },
        "colab_type": "code",
        "id": "WtnKfb9faw7k",
        "outputId": "41868af0-aac6-44cf-9472-91a60a62cb54"
      },
      "outputs": [
        {
          "data": {
            "text/plain": [
              "Text(0.5, 0, 'count')"
            ]
          },
          "execution_count": 50,
          "metadata": {
            "tags": []
          },
          "output_type": "execute_result"
        },
        {
          "data": {
            "image/png": "[encoded data removed]",
            "text/plain": [
              "<Figure size 1080x504 with 1 Axes>"
            ]
          },
          "metadata": {
            "needs_background": "light",
            "tags": []
          },
          "output_type": "display_data"
        }
      ],
      "source": [
        "plt.figure(figsize=(15,7))\n",
        "rest=df['rest_type'].value_counts()[:20]\n",
        "sns.barplot(rest,rest.index)\n",
        "plt.title(\"Restaurant types\")\n",
        "plt.xlabel(\"count\")"
      ]
    },
    {
      "cell_type": "markdown",
      "metadata": {
        "colab_type": "text",
        "id": "jvmd2eXobbTG"
      },
      "source": [
        "**Casual Dining**, **Quick Bites** and **Cafe** are the 3 most common types of Restaurants in Banglore"
      ]
    },
    {
      "cell_type": "code",
      "execution_count": null,
      "metadata": {
        "colab": {},
        "colab_type": "code",
        "id": "Aa-QOQJCoOn1"
      },
      "outputs": [],
      "source": []
    },
    {
      "cell_type": "markdown",
      "metadata": {
        "colab_type": "text",
        "id": "DQeN9B0OsI86"
      },
      "source": [
        "<br>\n",
        "<br>\n",
        "\n",
        "## **Most famous Restaurants**"
      ]
    },
    {
      "cell_type": "code",
      "execution_count": null,
      "metadata": {
        "colab": {},
        "colab_type": "code",
        "id": "JDfmtqYmsBLC"
      },
      "outputs": [],
      "source": [
        "# plt.figure(figsize=(15,7))\n",
        "# chains=df['name'].value_counts()[:20]\n",
        "# sns.barplot(x=chains,y=chains.index,palette='Set1')\n",
        "# plt.title(\"Most famous restaurant chains in Bangaluru\",size=20,pad=20)\n",
        "# plt.xlabel(\"Number of outlets\",size=15)"
      ]
    },
    {
      "cell_type": "markdown",
      "metadata": {
        "colab_type": "text",
        "id": "psfFRH6ihoFr"
      },
      "source": [
        "<br>\n",
        "<br>\n",
        "<br>"
      ]
    },
    {
      "cell_type": "markdown",
      "metadata": {
        "colab_type": "text",
        "id": "Vbke_FH9hs48"
      },
      "source": [
        "# **Building Our Model**"
      ]
    },
    {
      "cell_type": "code",
      "execution_count": null,
      "metadata": {
        "colab": {
          "base_uri": "https://localhost:8080/",
          "height": 547
        },
        "colab_type": "code",
        "id": "js-tSAfOh12Y",
        "outputId": "ac5ebe79-7050-45c2-8977-6c5f5d1e75d0"
      },
      "outputs": [
        {
          "data": {
            "text/html": [
              "<div>\n",
              "<style scoped>\n",
              "    .dataframe tbody tr th:only-of-type {\n",
              "        vertical-align: middle;\n",
              "    }\n",
              "\n",
              "    .dataframe tbody tr th {\n",
              "        vertical-align: top;\n",
              "    }\n",
              "\n",
              "    .dataframe thead th {\n",
              "        text-align: right;\n",
              "    }\n",
              "</style>\n",
              "<table border=\"1\" class=\"dataframe\">\n",
              "  <thead>\n",
              "    <tr style=\"text-align: right;\">\n",
              "      <th></th>\n",
              "      <th>address</th>\n",
              "      <th>name</th>\n",
              "      <th>online_order</th>\n",
              "      <th>book_table</th>\n",
              "      <th>rate</th>\n",
              "      <th>votes</th>\n",
              "      <th>location</th>\n",
              "      <th>rest_type</th>\n",
              "      <th>dish_liked</th>\n",
              "      <th>cuisines</th>\n",
              "      <th>cost</th>\n",
              "      <th>reviews_list</th>\n",
              "      <th>menu_item</th>\n",
              "      <th>type</th>\n",
              "      <th>city</th>\n",
              "    </tr>\n",
              "  </thead>\n",
              "  <tbody>\n",
              "    <tr>\n",
              "      <th>0</th>\n",
              "      <td>942, 21st Main Road, 2nd Stage, Banashankari, ...</td>\n",
              "      <td>Jalsa</td>\n",
              "      <td>Yes</td>\n",
              "      <td>Yes</td>\n",
              "      <td>4.1</td>\n",
              "      <td>775</td>\n",
              "      <td>Banashankari</td>\n",
              "      <td>Casual Dining</td>\n",
              "      <td>Pasta, Lunch Buffet, Masala Papad, Paneer Laja...</td>\n",
              "      <td>North Indian, Mughlai, Chinese</td>\n",
              "      <td>800.0</td>\n",
              "      <td>[('Rated 4.0', 'RATED\\n  A beautiful place to ...</td>\n",
              "      <td>[]</td>\n",
              "      <td>Buffet</td>\n",
              "      <td>Banashankari</td>\n",
              "    </tr>\n",
              "    <tr>\n",
              "      <th>1</th>\n",
              "      <td>2nd Floor, 80 Feet Road, Near Big Bazaar, 6th ...</td>\n",
              "      <td>Spice Elephant</td>\n",
              "      <td>Yes</td>\n",
              "      <td>No</td>\n",
              "      <td>4.1</td>\n",
              "      <td>787</td>\n",
              "      <td>Banashankari</td>\n",
              "      <td>Casual Dining</td>\n",
              "      <td>Momos, Lunch Buffet, Chocolate Nirvana, Thai G...</td>\n",
              "      <td>Chinese, North Indian, Thai</td>\n",
              "      <td>800.0</td>\n",
              "      <td>[('Rated 4.0', 'RATED\\n  Had been here for din...</td>\n",
              "      <td>[]</td>\n",
              "      <td>Buffet</td>\n",
              "      <td>Banashankari</td>\n",
              "    </tr>\n",
              "    <tr>\n",
              "      <th>2</th>\n",
              "      <td>1112, Next to KIMS Medical College, 17th Cross...</td>\n",
              "      <td>San Churro Cafe</td>\n",
              "      <td>Yes</td>\n",
              "      <td>No</td>\n",
              "      <td>3.8</td>\n",
              "      <td>918</td>\n",
              "      <td>Banashankari</td>\n",
              "      <td>Cafe, Casual Dining</td>\n",
              "      <td>Churros, Cannelloni, Minestrone Soup, Hot Choc...</td>\n",
              "      <td>Cafe, Mexican, Italian</td>\n",
              "      <td>800.0</td>\n",
              "      <td>[('Rated 3.0', \"RATED\\n  Ambience is not that ...</td>\n",
              "      <td>[]</td>\n",
              "      <td>Buffet</td>\n",
              "      <td>Banashankari</td>\n",
              "    </tr>\n",
              "    <tr>\n",
              "      <th>3</th>\n",
              "      <td>1st Floor, Annakuteera, 3rd Stage, Banashankar...</td>\n",
              "      <td>Addhuri Udupi Bhojana</td>\n",
              "      <td>No</td>\n",
              "      <td>No</td>\n",
              "      <td>3.7</td>\n",
              "      <td>88</td>\n",
              "      <td>Banashankari</td>\n",
              "      <td>Quick Bites</td>\n",
              "      <td>Masala Dosa</td>\n",
              "      <td>South Indian, North Indian</td>\n",
              "      <td>300.0</td>\n",
              "      <td>[('Rated 4.0', \"RATED\\n  Great food and proper...</td>\n",
              "      <td>[]</td>\n",
              "      <td>Buffet</td>\n",
              "      <td>Banashankari</td>\n",
              "    </tr>\n",
              "    <tr>\n",
              "      <th>4</th>\n",
              "      <td>10, 3rd Floor, Lakshmi Associates, Gandhi Baza...</td>\n",
              "      <td>Grand Village</td>\n",
              "      <td>No</td>\n",
              "      <td>No</td>\n",
              "      <td>3.8</td>\n",
              "      <td>166</td>\n",
              "      <td>Basavanagudi</td>\n",
              "      <td>Casual Dining</td>\n",
              "      <td>Panipuri, Gol Gappe</td>\n",
              "      <td>North Indian, Rajasthani</td>\n",
              "      <td>600.0</td>\n",
              "      <td>[('Rated 4.0', 'RATED\\n  Very good restaurant ...</td>\n",
              "      <td>[]</td>\n",
              "      <td>Buffet</td>\n",
              "      <td>Banashankari</td>\n",
              "    </tr>\n",
              "  </tbody>\n",
              "</table>\n",
              "</div>"
            ],
            "text/plain": [
              "                                             address  ...          city\n",
              "0  942, 21st Main Road, 2nd Stage, Banashankari, ...  ...  Banashankari\n",
              "1  2nd Floor, 80 Feet Road, Near Big Bazaar, 6th ...  ...  Banashankari\n",
              "2  1112, Next to KIMS Medical College, 17th Cross...  ...  Banashankari\n",
              "3  1st Floor, Annakuteera, 3rd Stage, Banashankar...  ...  Banashankari\n",
              "4  10, 3rd Floor, Lakshmi Associates, Gandhi Baza...  ...  Banashankari\n",
              "\n",
              "[5 rows x 15 columns]"
            ]
          },
          "execution_count": 52,
          "metadata": {
            "tags": []
          },
          "output_type": "execute_result"
        }
      ],
      "source": [
        "df.head()"
      ]
    },
    {
      "cell_type": "code",
      "execution_count": null,
      "metadata": {
        "colab": {},
        "colab_type": "code",
        "id": "UaQkfi6WsEcX"
      },
      "outputs": [],
      "source": []
    },
    {
      "cell_type": "markdown",
      "metadata": {
        "colab_type": "text",
        "id": "rS7W-Gy-Dyc7"
      },
      "source": [
        "## **Convert the online categorical variables into a numeric format**"
      ]
    },
    {
      "cell_type": "code",
      "execution_count": null,
      "metadata": {
        "colab": {},
        "colab_type": "code",
        "id": "VW8c_k09mTvV"
      },
      "outputs": [],
      "source": [
        "df.online_order[df.online_order == 'Yes'] = 1 \n",
        "df.online_order[df.online_order == 'No'] = 0"
      ]
    },
    {
      "cell_type": "code",
      "execution_count": null,
      "metadata": {
        "colab": {
          "base_uri": "https://localhost:8080/",
          "height": 68
        },
        "colab_type": "code",
        "id": "GcfGQuLYmZHg",
        "outputId": "68bee3f1-8b42-42b2-a2c5-66dd4a5a8445"
      },
      "outputs": [
        {
          "data": {
            "text/plain": [
              "1    16378\n",
              "0     6870\n",
              "Name: online_order, dtype: int64"
            ]
          },
          "execution_count": 54,
          "metadata": {
            "tags": []
          },
          "output_type": "execute_result"
        }
      ],
      "source": [
        "df.online_order.value_counts()"
      ]
    },
    {
      "cell_type": "code",
      "execution_count": null,
      "metadata": {
        "colab": {},
        "colab_type": "code",
        "id": "ATELEaVpsTeM"
      },
      "outputs": [],
      "source": [
        "df.online_order = pd.to_numeric(df.online_order)"
      ]
    },
    {
      "cell_type": "markdown",
      "metadata": {
        "colab_type": "text",
        "id": "W2zp3vVTOMrM"
      },
      "source": [
        "\n",
        "**change the string categorical into to a categorical int**\n",
        "---\n",
        "\n"
      ]
    },
    {
      "cell_type": "markdown",
      "metadata": {
        "colab_type": "text",
        "id": "2sNVEq1Ntl_c"
      },
      "source": []
    },
    {
      "cell_type": "code",
      "execution_count": null,
      "metadata": {
        "colab": {},
        "colab_type": "code",
        "id": "v1Nrkx23toBe"
      },
      "outputs": [],
      "source": [
        "df.book_table[df.book_table == 'Yes'] = 1 \n",
        "df.book_table[df.book_table == 'No'] = 0"
      ]
    },
    {
      "cell_type": "code",
      "execution_count": null,
      "metadata": {
        "colab": {},
        "colab_type": "code",
        "id": "Me29fG_Ytkd6"
      },
      "outputs": [],
      "source": [
        "df.book_table = pd.to_numeric(df.book_table)"
      ]
    },
    {
      "cell_type": "code",
      "execution_count": null,
      "metadata": {
        "colab": {
          "base_uri": "https://localhost:8080/",
          "height": 68
        },
        "colab_type": "code",
        "id": "h8W23xdOtxmq",
        "outputId": "b78cdab8-ab69-47f2-ab57-7b285e70c871"
      },
      "outputs": [
        {
          "data": {
            "text/plain": [
              "0    17191\n",
              "1     6057\n",
              "Name: book_table, dtype: int64"
            ]
          },
          "execution_count": 58,
          "metadata": {
            "tags": []
          },
          "output_type": "execute_result"
        }
      ],
      "source": [
        "df.book_table.value_counts()"
      ]
    },
    {
      "cell_type": "code",
      "execution_count": null,
      "metadata": {
        "colab": {},
        "colab_type": "code",
        "id": "OipBL6_2uuip"
      },
      "outputs": [],
      "source": []
    },
    {
      "cell_type": "markdown",
      "metadata": {
        "colab_type": "text",
        "id": "8yujdjvRPBn1"
      },
      "source": [
        "Label encode the categorical variables to make it easier to build algorithm"
      ]
    },
    {
      "cell_type": "code",
      "execution_count": null,
      "metadata": {
        "colab": {},
        "colab_type": "code",
        "id": "hiJX-TQavmZJ"
      },
      "outputs": [],
      "source": [
        "from sklearn.preprocessing import LabelEncoder\n",
        "le = LabelEncoder()"
      ]
    },
    {
      "cell_type": "code",
      "execution_count": null,
      "metadata": {
        "colab": {},
        "colab_type": "code",
        "id": "HsPP8M8uwZNJ"
      },
      "outputs": [],
      "source": [
        "df.location = le.fit_transform(df.location)\n",
        "df.rest_type = le.fit_transform(df.rest_type)\n",
        "df.cuisines = le.fit_transform(df.cuisines)\n",
        "df.menu_item = le.fit_transform(df.menu_item)"
      ]
    },
    {
      "cell_type": "code",
      "execution_count": null,
      "metadata": {
        "colab": {
          "base_uri": "https://localhost:8080/",
          "height": 547
        },
        "colab_type": "code",
        "id": "FQal-5eiw8Pi",
        "outputId": "4524b771-44ed-4139-8b3d-c943721154c0"
      },
      "outputs": [
        {
          "data": {
            "text/html": [
              "<div>\n",
              "<style scoped>\n",
              "    .dataframe tbody tr th:only-of-type {\n",
              "        vertical-align: middle;\n",
              "    }\n",
              "\n",
              "    .dataframe tbody tr th {\n",
              "        vertical-align: top;\n",
              "    }\n",
              "\n",
              "    .dataframe thead th {\n",
              "        text-align: right;\n",
              "    }\n",
              "</style>\n",
              "<table border=\"1\" class=\"dataframe\">\n",
              "  <thead>\n",
              "    <tr style=\"text-align: right;\">\n",
              "      <th></th>\n",
              "      <th>address</th>\n",
              "      <th>name</th>\n",
              "      <th>online_order</th>\n",
              "      <th>book_table</th>\n",
              "      <th>rate</th>\n",
              "      <th>votes</th>\n",
              "      <th>location</th>\n",
              "      <th>rest_type</th>\n",
              "      <th>dish_liked</th>\n",
              "      <th>cuisines</th>\n",
              "      <th>cost</th>\n",
              "      <th>reviews_list</th>\n",
              "      <th>menu_item</th>\n",
              "      <th>type</th>\n",
              "      <th>city</th>\n",
              "    </tr>\n",
              "  </thead>\n",
              "  <tbody>\n",
              "    <tr>\n",
              "      <th>0</th>\n",
              "      <td>942, 21st Main Road, 2nd Stage, Banashankari, ...</td>\n",
              "      <td>Jalsa</td>\n",
              "      <td>1</td>\n",
              "      <td>1</td>\n",
              "      <td>4.1</td>\n",
              "      <td>775</td>\n",
              "      <td>1</td>\n",
              "      <td>20</td>\n",
              "      <td>Pasta, Lunch Buffet, Masala Papad, Paneer Laja...</td>\n",
              "      <td>1386</td>\n",
              "      <td>800.0</td>\n",
              "      <td>[('Rated 4.0', 'RATED\\n  A beautiful place to ...</td>\n",
              "      <td>5047</td>\n",
              "      <td>Buffet</td>\n",
              "      <td>Banashankari</td>\n",
              "    </tr>\n",
              "    <tr>\n",
              "      <th>1</th>\n",
              "      <td>2nd Floor, 80 Feet Road, Near Big Bazaar, 6th ...</td>\n",
              "      <td>Spice Elephant</td>\n",
              "      <td>1</td>\n",
              "      <td>0</td>\n",
              "      <td>4.1</td>\n",
              "      <td>787</td>\n",
              "      <td>1</td>\n",
              "      <td>20</td>\n",
              "      <td>Momos, Lunch Buffet, Chocolate Nirvana, Thai G...</td>\n",
              "      <td>594</td>\n",
              "      <td>800.0</td>\n",
              "      <td>[('Rated 4.0', 'RATED\\n  Had been here for din...</td>\n",
              "      <td>5047</td>\n",
              "      <td>Buffet</td>\n",
              "      <td>Banashankari</td>\n",
              "    </tr>\n",
              "    <tr>\n",
              "      <th>2</th>\n",
              "      <td>1112, Next to KIMS Medical College, 17th Cross...</td>\n",
              "      <td>San Churro Cafe</td>\n",
              "      <td>1</td>\n",
              "      <td>0</td>\n",
              "      <td>3.8</td>\n",
              "      <td>918</td>\n",
              "      <td>1</td>\n",
              "      <td>16</td>\n",
              "      <td>Churros, Cannelloni, Minestrone Soup, Hot Choc...</td>\n",
              "      <td>484</td>\n",
              "      <td>800.0</td>\n",
              "      <td>[('Rated 3.0', \"RATED\\n  Ambience is not that ...</td>\n",
              "      <td>5047</td>\n",
              "      <td>Buffet</td>\n",
              "      <td>Banashankari</td>\n",
              "    </tr>\n",
              "    <tr>\n",
              "      <th>3</th>\n",
              "      <td>1st Floor, Annakuteera, 3rd Stage, Banashankar...</td>\n",
              "      <td>Addhuri Udupi Bhojana</td>\n",
              "      <td>0</td>\n",
              "      <td>0</td>\n",
              "      <td>3.7</td>\n",
              "      <td>88</td>\n",
              "      <td>1</td>\n",
              "      <td>62</td>\n",
              "      <td>Masala Dosa</td>\n",
              "      <td>1587</td>\n",
              "      <td>300.0</td>\n",
              "      <td>[('Rated 4.0', \"RATED\\n  Great food and proper...</td>\n",
              "      <td>5047</td>\n",
              "      <td>Buffet</td>\n",
              "      <td>Banashankari</td>\n",
              "    </tr>\n",
              "    <tr>\n",
              "      <th>4</th>\n",
              "      <td>10, 3rd Floor, Lakshmi Associates, Gandhi Baza...</td>\n",
              "      <td>Grand Village</td>\n",
              "      <td>0</td>\n",
              "      <td>0</td>\n",
              "      <td>3.8</td>\n",
              "      <td>166</td>\n",
              "      <td>4</td>\n",
              "      <td>20</td>\n",
              "      <td>Panipuri, Gol Gappe</td>\n",
              "      <td>1406</td>\n",
              "      <td>600.0</td>\n",
              "      <td>[('Rated 4.0', 'RATED\\n  Very good restaurant ...</td>\n",
              "      <td>5047</td>\n",
              "      <td>Buffet</td>\n",
              "      <td>Banashankari</td>\n",
              "    </tr>\n",
              "  </tbody>\n",
              "</table>\n",
              "</div>"
            ],
            "text/plain": [
              "                                             address  ...          city\n",
              "0  942, 21st Main Road, 2nd Stage, Banashankari, ...  ...  Banashankari\n",
              "1  2nd Floor, 80 Feet Road, Near Big Bazaar, 6th ...  ...  Banashankari\n",
              "2  1112, Next to KIMS Medical College, 17th Cross...  ...  Banashankari\n",
              "3  1st Floor, Annakuteera, 3rd Stage, Banashankar...  ...  Banashankari\n",
              "4  10, 3rd Floor, Lakshmi Associates, Gandhi Baza...  ...  Banashankari\n",
              "\n",
              "[5 rows x 15 columns]"
            ]
          },
          "execution_count": 62,
          "metadata": {
            "tags": []
          },
          "output_type": "execute_result"
        }
      ],
      "source": [
        "df.head()"
      ]
    },
    {
      "cell_type": "code",
      "execution_count": null,
      "metadata": {
        "colab": {},
        "colab_type": "code",
        "id": "nyPgoO5LxASF"
      },
      "outputs": [],
      "source": [
        "my_data=df.iloc[:,[2,3,4,5,6,7,9,10,12]]\n",
        "my_data.to_csv('Zomato_df.csv') "
      ]
    },
    {
      "cell_type": "code",
      "execution_count": null,
      "metadata": {
        "colab": {
          "base_uri": "https://localhost:8080/",
          "height": 204
        },
        "colab_type": "code",
        "id": "nGWMrb0RxkP6",
        "outputId": "24152a6f-7651-4da4-94fc-d012c7e42710"
      },
      "outputs": [
        {
          "data": {
            "text/html": [
              "<div>\n",
              "<style scoped>\n",
              "    .dataframe tbody tr th:only-of-type {\n",
              "        vertical-align: middle;\n",
              "    }\n",
              "\n",
              "    .dataframe tbody tr th {\n",
              "        vertical-align: top;\n",
              "    }\n",
              "\n",
              "    .dataframe thead th {\n",
              "        text-align: right;\n",
              "    }\n",
              "</style>\n",
              "<table border=\"1\" class=\"dataframe\">\n",
              "  <thead>\n",
              "    <tr style=\"text-align: right;\">\n",
              "      <th></th>\n",
              "      <th>online_order</th>\n",
              "      <th>book_table</th>\n",
              "      <th>votes</th>\n",
              "      <th>location</th>\n",
              "      <th>rest_type</th>\n",
              "      <th>cuisines</th>\n",
              "      <th>cost</th>\n",
              "      <th>menu_item</th>\n",
              "    </tr>\n",
              "  </thead>\n",
              "  <tbody>\n",
              "    <tr>\n",
              "      <th>0</th>\n",
              "      <td>1</td>\n",
              "      <td>1</td>\n",
              "      <td>775</td>\n",
              "      <td>1</td>\n",
              "      <td>20</td>\n",
              "      <td>1386</td>\n",
              "      <td>800.0</td>\n",
              "      <td>5047</td>\n",
              "    </tr>\n",
              "    <tr>\n",
              "      <th>1</th>\n",
              "      <td>1</td>\n",
              "      <td>0</td>\n",
              "      <td>787</td>\n",
              "      <td>1</td>\n",
              "      <td>20</td>\n",
              "      <td>594</td>\n",
              "      <td>800.0</td>\n",
              "      <td>5047</td>\n",
              "    </tr>\n",
              "    <tr>\n",
              "      <th>2</th>\n",
              "      <td>1</td>\n",
              "      <td>0</td>\n",
              "      <td>918</td>\n",
              "      <td>1</td>\n",
              "      <td>16</td>\n",
              "      <td>484</td>\n",
              "      <td>800.0</td>\n",
              "      <td>5047</td>\n",
              "    </tr>\n",
              "    <tr>\n",
              "      <th>3</th>\n",
              "      <td>0</td>\n",
              "      <td>0</td>\n",
              "      <td>88</td>\n",
              "      <td>1</td>\n",
              "      <td>62</td>\n",
              "      <td>1587</td>\n",
              "      <td>300.0</td>\n",
              "      <td>5047</td>\n",
              "    </tr>\n",
              "    <tr>\n",
              "      <th>4</th>\n",
              "      <td>0</td>\n",
              "      <td>0</td>\n",
              "      <td>166</td>\n",
              "      <td>4</td>\n",
              "      <td>20</td>\n",
              "      <td>1406</td>\n",
              "      <td>600.0</td>\n",
              "      <td>5047</td>\n",
              "    </tr>\n",
              "  </tbody>\n",
              "</table>\n",
              "</div>"
            ],
            "text/plain": [
              "   online_order  book_table  votes  ...  cuisines   cost  menu_item\n",
              "0             1           1    775  ...      1386  800.0       5047\n",
              "1             1           0    787  ...       594  800.0       5047\n",
              "2             1           0    918  ...       484  800.0       5047\n",
              "3             0           0     88  ...      1587  300.0       5047\n",
              "4             0           0    166  ...      1406  600.0       5047\n",
              "\n",
              "[5 rows x 8 columns]"
            ]
          },
          "execution_count": 64,
          "metadata": {
            "tags": []
          },
          "output_type": "execute_result"
        }
      ],
      "source": [
        "x = df.iloc[:,[2,3,5,6,7,9,10,12]]\n",
        "x.head()"
      ]
    },
    {
      "cell_type": "markdown",
      "metadata": {
        "colab_type": "text",
        "id": "51Tp_D3Qz884"
      },
      "source": []
    },
    {
      "cell_type": "code",
      "execution_count": null,
      "metadata": {
        "colab": {
          "base_uri": "https://localhost:8080/",
          "height": 221
        },
        "colab_type": "code",
        "id": "VtmZmc8YxnER",
        "outputId": "8e1ad0a2-34f4-4444-e045-10a798d994eb"
      },
      "outputs": [
        {
          "data": {
            "text/plain": [
              "0        4.1\n",
              "1        4.1\n",
              "2        3.8\n",
              "3        3.7\n",
              "4        3.8\n",
              "        ... \n",
              "23243    3.8\n",
              "23244    3.9\n",
              "23245    2.8\n",
              "23246    2.5\n",
              "23247    4.3\n",
              "Name: rate, Length: 23248, dtype: float64"
            ]
          },
          "execution_count": 65,
          "metadata": {
            "tags": []
          },
          "output_type": "execute_result"
        }
      ],
      "source": [
        "y = df['rate']\n",
        "y"
      ]
    },
    {
      "cell_type": "code",
      "execution_count": null,
      "metadata": {
        "colab": {},
        "colab_type": "code",
        "id": "EYshGo2k0IQu"
      },
      "outputs": [],
      "source": [
        "x_train,x_test,y_train,y_test=train_test_split(x,y,test_size=.3,random_state=10)\n"
      ]
    },
    {
      "cell_type": "markdown",
      "metadata": {
        "colab_type": "text",
        "id": "W05zNBKdz4CZ"
      },
      "source": [
        "<br>\n",
        "<br>\n",
        "\n",
        "## **Linear Regression**"
      ]
    },
    {
      "cell_type": "code",
      "execution_count": null,
      "metadata": {
        "colab": {
          "base_uri": "https://localhost:8080/",
          "height": 34
        },
        "colab_type": "code",
        "id": "BXa3h0c_ykwu",
        "outputId": "9d8f609b-1474-4ddd-de98-e5e612740bb4"
      },
      "outputs": [
        {
          "data": {
            "text/plain": [
              "LinearRegression(copy_X=True, fit_intercept=True, n_jobs=None, normalize=False)"
            ]
          },
          "execution_count": 67,
          "metadata": {
            "tags": []
          },
          "output_type": "execute_result"
        }
      ],
      "source": [
        "lr_model=LinearRegression()\n",
        "lr_model.fit(x_train,y_train)"
      ]
    },
    {
      "cell_type": "code",
      "execution_count": null,
      "metadata": {
        "colab": {
          "base_uri": "https://localhost:8080/",
          "height": 34
        },
        "colab_type": "code",
        "id": "CHYDVDdp0CQ0",
        "outputId": "f4e30110-c73d-4ead-aa25-6136059cb604"
      },
      "outputs": [
        {
          "data": {
            "text/plain": [
              "0.2281882852296705"
            ]
          },
          "execution_count": 68,
          "metadata": {
            "tags": []
          },
          "output_type": "execute_result"
        }
      ],
      "source": [
        "from sklearn.metrics import r2_score\n",
        "y_pred=lr_model.predict(x_test)\n",
        "r2_score(y_test,y_pred)"
      ]
    },
    {
      "cell_type": "markdown",
      "metadata": {
        "colab_type": "text",
        "id": "kjQpqvsJ0_s3"
      },
      "source": [
        "<br>\n",
        "<br>\n",
        "\n",
        "## **Random Forest**"
      ]
    },
    {
      "cell_type": "code",
      "execution_count": null,
      "metadata": {
        "colab": {},
        "colab_type": "code",
        "id": "z8mOXzV30gdE"
      },
      "outputs": [],
      "source": [
        "#from sklearn.tree import DecisionTreeRegressor"
      ]
    },
    {
      "cell_type": "code",
      "execution_count": null,
      "metadata": {
        "colab": {
          "base_uri": "https://localhost:8080/",
          "height": 34
        },
        "colab_type": "code",
        "id": "hCd87Z7e1G4p",
        "outputId": "359164c4-fec5-4fdf-a7cb-e101d64031a9"
      },
      "outputs": [
        {
          "data": {
            "text/plain": [
              "0.8812525999137639"
            ]
          },
          "execution_count": 70,
          "metadata": {
            "tags": []
          },
          "output_type": "execute_result"
        }
      ],
      "source": [
        "from sklearn.ensemble import RandomForestRegressor\n",
        "RF_Model=RandomForestRegressor(n_estimators=650,random_state=245,min_samples_leaf=.0001)\n",
        "RF_Model.fit(x_train,y_train)\n",
        "y_predict=RF_Model.predict(x_test)\n",
        "r2_score(y_test,y_predict)"
      ]
    },
    {
      "cell_type": "markdown",
      "metadata": {
        "colab_type": "text",
        "id": "j2_3HIv62jEF"
      },
      "source": [
        "<br>\n",
        "<br>\n",
        "\n",
        "## **ExtraTree Regressor**"
      ]
    },
    {
      "cell_type": "code",
      "execution_count": null,
      "metadata": {
        "colab": {
          "base_uri": "https://localhost:8080/",
          "height": 34
        },
        "colab_type": "code",
        "id": "yI3dFTX52LhS",
        "outputId": "4cc44ed3-df61-4622-d5bd-c40fa47d0f1b"
      },
      "outputs": [
        {
          "data": {
            "text/plain": [
              "0.9326010735721576"
            ]
          },
          "execution_count": 71,
          "metadata": {
            "tags": []
          },
          "output_type": "execute_result"
        }
      ],
      "source": [
        "#Preparing Extra Tree Regression\n",
        "from sklearn.ensemble import  ExtraTreesRegressor\n",
        "ET_Model=ExtraTreesRegressor(n_estimators = 120)\n",
        "ET_Model.fit(x_train,y_train)\n",
        "y_predict=ET_Model.predict(x_test)\n",
        "\n",
        "\n",
        "from sklearn.metrics import r2_score\n",
        "r2_score(y_test,y_predict)"
      ]
    },
    {
      "cell_type": "markdown",
      "metadata": {
        "colab_type": "text",
        "id": "r2m8oVS63GnX"
      },
      "source": [
        "Extra Tree Regressor gives us the best model"
      ]
    },
    {
      "cell_type": "markdown",
      "metadata": {
        "colab_type": "text",
        "id": "Tr64VI0Q4PY7"
      },
      "source": [
        "Pickle: https://bit.ly/38MGdgn"
      ]
    },
    {
      "cell_type": "code",
      "execution_count": null,
      "metadata": {
        "colab": {},
        "colab_type": "code",
        "id": "2VA6NmwL23ST"
      },
      "outputs": [],
      "source": [
        "Use pickle to save our model so that we can use it later\n",
        "\n",
        "import pickle \n",
        "# Saving model to disk\n",
        "pickle.dump(ET_Model, open('model.pkl','wb'))\n",
        "model=pickle.load(open('model.pkl','rb'))"
      ]
    },
    {
      "cell_type": "code",
      "execution_count": null,
      "metadata": {
        "colab": {},
        "colab_type": "code",
        "id": "RYJcpvFN5Jvo"
      },
      "outputs": [],
      "source": []
    }
  ],
  "metadata": {
    "colab": {
      "collapsed_sections": [],
      "name": "End-To-End Deployment of Zomato Restaurant Ratings",
      "provenance": [],
      "toc_visible": true
    },
    "kernelspec": {
      "display_name": "Python 3",
      "name": "python3"
    },
    "language_info": {
      "codemirror_mode": {
        "name": "ipython",
        "version": 3
      },
      "file_extension": ".py",
      "mimetype": "text/x-python",
      "name": "python",
      "nbconvert_exporter": "python",
      "pygments_lexer": "ipython3",
      "version": "3.12.0"
    }
  },
  "nbformat": 4,
  "nbformat_minor": 0
}
